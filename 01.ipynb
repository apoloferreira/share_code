{
 "cells": [
  {
   "cell_type": "code",
   "execution_count": null,
   "metadata": {},
   "outputs": [],
   "source": []
  },
  {
   "cell_type": "raw",
   "metadata": {
    "vscode": {
     "languageId": "raw"
    }
   },
   "source": [
    "TESTADO:\n",
    "- pandas\n",
    "- cudf\n",
    "- awswrangler\n",
    "- polars\n",
    "- duckdb\n",
    "- pyarrow\n",
    "- modin\n",
    "- dask\n",
    "- daft\n",
    "- ibis\n",
    "- ray\n",
    "- fugue"
   ]
  },
  {
   "cell_type": "markdown",
   "metadata": {},
   "source": [
    "## Preparacao"
   ]
  },
  {
   "cell_type": "code",
   "execution_count": 1,
   "metadata": {},
   "outputs": [],
   "source": [
    "import os\n",
    "import sys\n",
    "import boto3"
   ]
  },
  {
   "cell_type": "code",
   "execution_count": 2,
   "metadata": {},
   "outputs": [],
   "source": [
    "boto3.setup_default_session(profile_name=\"default\", region_name=\"us-east-1\")"
   ]
  },
  {
   "cell_type": "markdown",
   "metadata": {},
   "source": [
    "## Informacoes do sistema"
   ]
  },
  {
   "cell_type": "code",
   "execution_count": 3,
   "metadata": {},
   "outputs": [
    {
     "name": "stdout",
     "output_type": "stream",
     "text": [
      "Numero de cores: 16\n"
     ]
    }
   ],
   "source": [
    "print(\"Numero de cores:\", os.cpu_count())"
   ]
  },
  {
   "cell_type": "code",
   "execution_count": 4,
   "metadata": {},
   "outputs": [
    {
     "name": "stdout",
     "output_type": "stream",
     "text": [
      "Modelo:                               141\n",
      "Nome do modelo:                       11th Gen Intel(R) Core(TM) i7-11800H @ 2.30GHz\n"
     ]
    }
   ],
   "source": [
    "!lscpu | grep -iE \"Modelo\""
   ]
  },
  {
   "cell_type": "code",
   "execution_count": 5,
   "metadata": {},
   "outputs": [
    {
     "name": "stdout",
     "output_type": "stream",
     "text": [
      "Sat Nov 16 17:09:45 2024       \n",
      "+---------------------------------------------------------------------------------------+\n",
      "| NVIDIA-SMI 545.23.08              Driver Version: 545.23.08    CUDA Version: 12.3     |\n",
      "|-----------------------------------------+----------------------+----------------------+\n",
      "| GPU  Name                 Persistence-M | Bus-Id        Disp.A | Volatile Uncorr. ECC |\n",
      "| Fan  Temp   Perf          Pwr:Usage/Cap |         Memory-Usage | GPU-Util  Compute M. |\n",
      "|                                         |                      |               MIG M. |\n",
      "|=========================================+======================+======================|\n",
      "|   0  NVIDIA GeForce RTX 3060 ...    On  | 00000000:01:00.0  On |                  N/A |\n",
      "| N/A   49C    P5              13W / 115W |    126MiB /  6144MiB |     31%      Default |\n",
      "|                                         |                      |                  N/A |\n",
      "+-----------------------------------------+----------------------+----------------------+\n",
      "                                                                                         \n",
      "+---------------------------------------------------------------------------------------+\n",
      "| Processes:                                                                            |\n",
      "|  GPU   GI   CI        PID   Type   Process name                            GPU Memory |\n",
      "|        ID   ID                                                             Usage      |\n",
      "|=======================================================================================|\n",
      "|    0   N/A  N/A      2025      G   /usr/lib/xorg/Xorg                            4MiB |\n",
      "|    0   N/A  N/A      2791      G   /usr/lib/xorg/Xorg                          103MiB |\n",
      "+---------------------------------------------------------------------------------------+\n"
     ]
    }
   ],
   "source": [
    "!nvidia-smi"
   ]
  },
  {
   "cell_type": "markdown",
   "metadata": {},
   "source": [
    "## Definicoes"
   ]
  },
  {
   "cell_type": "code",
   "execution_count": null,
   "metadata": {},
   "outputs": [],
   "source": [
    "# size_memory = round(sys.getsizeof(df) / (1024 * 1024), 2)\n",
    "# print(\"Tamanho em memoria com sys:    \", size_memory)\n",
    "# print(\"Tamanho em memoria com pandas: \", round(df.memory_usage(index=True, deep=True).sum() / (1024 * 1024), 2))\n",
    "\n",
    "# dict_resp = wr.s3.size_objects(s3_file)\n",
    "# size_s3 = dict_resp[s3_file] / (1024 * 1024)"
   ]
  },
  {
   "cell_type": "code",
   "execution_count": 3,
   "metadata": {},
   "outputs": [],
   "source": [
    "def calculate_size(obj):\n",
    "    size_memory = round(sys.getsizeof(obj) / (1024 * 1024), 2)\n",
    "    print(\"Tamanho em memoria com sys:\", size_memory, \"MB\")\n",
    "    return size_memory"
   ]
  },
  {
   "cell_type": "code",
   "execution_count": 4,
   "metadata": {},
   "outputs": [],
   "source": [
    "s3_file = \"s3://data-us-east-1-891377318910/datasets/loan/part-loan-2018.parquet\""
   ]
  },
  {
   "cell_type": "markdown",
   "metadata": {},
   "source": [
    "# Pandas"
   ]
  },
  {
   "cell_type": "code",
   "execution_count": null,
   "metadata": {},
   "outputs": [],
   "source": [
    "# https://pandas.pydata.org/docs/reference/api/pandas.read_parquet.html#pandas.read_parquet"
   ]
  },
  {
   "cell_type": "code",
   "execution_count": null,
   "metadata": {},
   "outputs": [],
   "source": [
    "import pandas as pd"
   ]
  },
  {
   "cell_type": "markdown",
   "metadata": {},
   "source": [
    "<ul>\n",
    "<li>engines: <em>(default: auto)</em>\n",
    "    <ul>\n",
    "        <li>auto</li>\n",
    "        <li>pyarrow</li>\n",
    "        <li>fastparquet</li>\n",
    "    </ul>\n",
    "</li>\n",
    "<br>\n",
    "\n",
    "<li>dtype_backend: <em>(default: numpy_nullable)</em>\n",
    "    <ul>\n",
    "        <li>numpy_nullable</li>\n",
    "        <li>pyarrow</li>\n",
    "    </ul>\n",
    "</li>\n",
    "</ul>"
   ]
  },
  {
   "cell_type": "code",
   "execution_count": 30,
   "metadata": {},
   "outputs": [],
   "source": [
    "df = pd.read_parquet(path=s3_file, engine=\"pyarrow\", dtype_backend=\"pyarrow\")"
   ]
  },
  {
   "cell_type": "code",
   "execution_count": 40,
   "metadata": {},
   "outputs": [
    {
     "name": "stdout",
     "output_type": "stream",
     "text": [
      "Tamanho em memoria com sys:  541.87  MB\n"
     ]
    }
   ],
   "source": [
    "size_memory = calculate_size(df)"
   ]
  },
  {
   "cell_type": "markdown",
   "metadata": {},
   "source": [
    "|   lib  | tamanho arquivo | tamanho memoria | tempo de carregamento | engine | dtype_backend |\n",
    "|--------|-----------------|-----------------|-----------------------|--------|---------------|\n",
    "| pandas | 60.5 MB | 1381.94 MB | 01:39 s    | pyarrow | numpy_nullable |\n",
    "| pandas | 60.5 MB | 541.87 MB | 01:03 s    | pyarrow | pyarrow |\n",
    "| pandas | 60.5 MB |  1381.94 MB | 00:11 s    | fastparquet | none |"
   ]
  },
  {
   "cell_type": "markdown",
   "metadata": {},
   "source": [
    "# CuDF"
   ]
  },
  {
   "cell_type": "code",
   "execution_count": null,
   "metadata": {},
   "outputs": [],
   "source": [
    "# https://rapids.ai/#quick-start\n",
    "# https://docs.rapids.ai/api/cudf/stable/user_guide/api_docs/"
   ]
  },
  {
   "cell_type": "code",
   "execution_count": null,
   "metadata": {},
   "outputs": [],
   "source": [
    "# pip install --extra-index-url=https://pypi.nvidia.com cudf-cu12\n",
    "\n",
    "# pip install \\\n",
    "#   --extra-index-url=https://pypi.nvidia.com \\\n",
    "#   cudf-cu12==24.10.* \\\n",
    "#   dask-cudf-cu12==24.10.* \\\n",
    "#   cuml-cu12==24.10.* \\\n",
    "#   cugraph-cu12==24.10.*"
   ]
  },
  {
   "cell_type": "code",
   "execution_count": 137,
   "metadata": {},
   "outputs": [
    {
     "name": "stdout",
     "output_type": "stream",
     "text": [
      "The cudf.pandas extension is already loaded. To reload it, use:\n",
      "  %reload_ext cudf.pandas\n"
     ]
    }
   ],
   "source": [
    "## load cudf.pandas kernel\n",
    "%load_ext cudf.pandas"
   ]
  },
  {
   "cell_type": "code",
   "execution_count": null,
   "metadata": {},
   "outputs": [],
   "source": [
    "import rmm\n",
    "import cudf\n",
    "import pandas as pd"
   ]
  },
  {
   "cell_type": "code",
   "execution_count": 144,
   "metadata": {},
   "outputs": [],
   "source": [
    "# cudf.describe_option()"
   ]
  },
  {
   "cell_type": "code",
   "execution_count": 47,
   "metadata": {},
   "outputs": [],
   "source": [
    "stats_mr = rmm.mr.StatisticsResourceAdaptor(rmm.mr.get_current_device_resource())\n",
    "rmm.mr.set_current_device_resource(stats_mr)"
   ]
  },
  {
   "cell_type": "code",
   "execution_count": 36,
   "metadata": {},
   "outputs": [
    {
     "data": {
      "text/plain": [
       "<module 'pandas' (ModuleAccelerator(fast=cudf, slow=pandas))>"
      ]
     },
     "execution_count": 36,
     "metadata": {},
     "output_type": "execute_result"
    }
   ],
   "source": [
    "pd"
   ]
  },
  {
   "cell_type": "code",
   "execution_count": null,
   "metadata": {},
   "outputs": [],
   "source": [
    "df = pd.read_parquet(path=s3_file, engine=\"pyarrow\", dtype_backend=\"pyarrow\")"
   ]
  },
  {
   "cell_type": "code",
   "execution_count": 44,
   "metadata": {},
   "outputs": [
    {
     "name": "stdout",
     "output_type": "stream",
     "text": [
      "Tamanho em memoria com pandas:  1917.08\n"
     ]
    }
   ],
   "source": [
    "print(\"Tamanho em memoria com pandas: \", round(df.memory_usage(index=True, deep=True).sum() / (1024 * 1024), 2))"
   ]
  },
  {
   "cell_type": "code",
   "execution_count": 50,
   "metadata": {},
   "outputs": [
    {
     "name": "stdout",
     "output_type": "stream",
     "text": [
      "Total memory usage 0.0 MB\n",
      "Peak memory usage 0.0 MB\n"
     ]
    }
   ],
   "source": [
    "print(f\"Total memory usage: {round(stats_mr.allocation_counts.current_bytes/(1024**2), 0)} MB\")\n",
    "print(f\"Peak memory usage:  {round(stats_mr.allocation_counts.peak_bytes/(1024**2), 0)} MB\")"
   ]
  },
  {
   "cell_type": "markdown",
   "metadata": {},
   "source": [
    "|   lib  | tamanho arquivo | tamanho memoria | tempo de carregamento | engine  | dtype_backend  |\n",
    "|--------|-----------------|-----------------|-----------------------|---------|----------------|\n",
    "| cudf   | 60.5 MB         | 541.87 MB       | 00:48 s               | pyarrow | pyarrow        |\n",
    "| cudf   | 60.5 MB         | 1917.08 MB      | 01:50 s               | pyarrow | numpy_nullable |\n",
    "| cudf   | 60.5 MB         | 1917.08 MB      | 01:40 s               | fastparquet | None       |"
   ]
  },
  {
   "cell_type": "markdown",
   "metadata": {},
   "source": [
    "# awswrangler(sdk for pandas)"
   ]
  },
  {
   "cell_type": "code",
   "execution_count": 6,
   "metadata": {},
   "outputs": [
    {
     "name": "stderr",
     "output_type": "stream",
     "text": [
      "2024-11-16 14:50:52,545\tINFO util.py:154 -- Missing packages: ['ipywidgets']. Run `pip install -U ipywidgets`, then restart the notebook server for rich notebook output.\n",
      "2024-11-16 14:50:52,696\tINFO util.py:154 -- Missing packages: ['ipywidgets']. Run `pip install -U ipywidgets`, then restart the notebook server for rich notebook output.\n"
     ]
    }
   ],
   "source": [
    "import pandas as pd\n",
    "import awswrangler as wr"
   ]
  },
  {
   "cell_type": "code",
   "execution_count": null,
   "metadata": {},
   "outputs": [],
   "source": [
    "# Opcoes: python, ray\n",
    "wr.engine.set(\"python\")\n",
    "# wr._distributed.Engine.set(\"python\")"
   ]
  },
  {
   "cell_type": "code",
   "execution_count": 20,
   "metadata": {},
   "outputs": [],
   "source": [
    "# Opcoes: pandas, modin\n",
    "wr.memory_format.set(\"pandas\")"
   ]
  },
  {
   "cell_type": "code",
   "execution_count": 21,
   "metadata": {},
   "outputs": [
    {
     "name": "stdout",
     "output_type": "stream",
     "text": [
      "Execution Engine: EngineEnum.PYTHON\n",
      "Memory Format:    MemoryFormatEnum.PANDAS\n"
     ]
    }
   ],
   "source": [
    "print(f\"Execution Engine: {wr.engine.get()}\")\n",
    "print(f\"Memory Format:    {wr.memory_format.get()}\")"
   ]
  },
  {
   "cell_type": "markdown",
   "metadata": {},
   "source": [
    "### s3 - pandas"
   ]
  },
  {
   "cell_type": "code",
   "execution_count": null,
   "metadata": {},
   "outputs": [],
   "source": [
    "# https://aws-sdk-pandas.readthedocs.io/en/stable/stubs/awswrangler.s3.read_parquet.html#awswrangler.s3.read_parquet\n",
    "# https://aws-sdk-pandas.readthedocs.io/en/stable/stubs/awswrangler.s3.select_query.html"
   ]
  },
  {
   "cell_type": "code",
   "execution_count": 22,
   "metadata": {},
   "outputs": [
    {
     "name": "stdout",
     "output_type": "stream",
     "text": [
      "Execution Engine: EngineEnum.PYTHON\n",
      "Memory Format:    MemoryFormatEnum.PANDAS\n"
     ]
    }
   ],
   "source": [
    "wr.engine.set(\"python\")\n",
    "wr.memory_format.set(\"pandas\")\n",
    "\n",
    "print(f\"Execution Engine: {wr.engine.get()}\")\n",
    "print(f\"Memory Format:    {wr.memory_format.get()}\")"
   ]
  },
  {
   "cell_type": "code",
   "execution_count": null,
   "metadata": {},
   "outputs": [],
   "source": [
    "df = wr.s3.read_parquet(path=s3_file, dtype_backend=\"pyarrow\", use_threads=True)"
   ]
  },
  {
   "cell_type": "code",
   "execution_count": 54,
   "metadata": {},
   "outputs": [
    {
     "name": "stdout",
     "output_type": "stream",
     "text": [
      "Tamanho em memoria com sys: 541.87 MB\n"
     ]
    }
   ],
   "source": [
    "size_memory = calculate_size(df)"
   ]
  },
  {
   "cell_type": "markdown",
   "metadata": {},
   "source": [
    "### s3 - modin"
   ]
  },
  {
   "cell_type": "code",
   "execution_count": 23,
   "metadata": {},
   "outputs": [
    {
     "name": "stdout",
     "output_type": "stream",
     "text": [
      "Execution Engine: EngineEnum.RAY\n",
      "Memory Format:    MemoryFormatEnum.MODIN\n"
     ]
    }
   ],
   "source": [
    "wr.engine.set(\"ray\")\n",
    "wr.memory_format.set(\"modin\")\n",
    "\n",
    "print(f\"Execution Engine: {wr.engine.get()}\")\n",
    "print(f\"Memory Format:    {wr.memory_format.get()}\")"
   ]
  },
  {
   "cell_type": "code",
   "execution_count": 10,
   "metadata": {},
   "outputs": [
    {
     "name": "stderr",
     "output_type": "stream",
     "text": [
      "2024-11-16 14:51:58,963\tINFO worker.py:1819 -- Started a local Ray instance.\n"
     ]
    },
    {
     "name": "stdout",
     "output_type": "stream",
     "text": [
      "[dataset]: Run `pip install tqdm` to enable progress reporting.\n"
     ]
    },
    {
     "name": "stderr",
     "output_type": "stream",
     "text": [
      "2024-11-16 14:53:58,669\tINFO streaming_executor.py:108 -- Starting execution of Dataset. Full logs are in /tmp/ray/session_2024-11-16_14-51-57_754054_144510/logs/ray-data\n",
      "2024-11-16 14:53:58,669\tINFO streaming_executor.py:109 -- Execution plan of Dataset: InputDataBuffer[Input] -> TaskPoolMapOperator[ReadParquet]\n"
     ]
    }
   ],
   "source": [
    "df = wr.s3.read_parquet(path=s3_file)"
   ]
  },
  {
   "cell_type": "code",
   "execution_count": 12,
   "metadata": {},
   "outputs": [
    {
     "data": {
      "text/plain": [
       "modin.pandas.dataframe.DataFrame"
      ]
     },
     "execution_count": 12,
     "metadata": {},
     "output_type": "execute_result"
    }
   ],
   "source": [
    "type(df)"
   ]
  },
  {
   "cell_type": "code",
   "execution_count": null,
   "metadata": {},
   "outputs": [],
   "source": [
    "size_memory = calculate_size(df)"
   ]
  },
  {
   "cell_type": "markdown",
   "metadata": {},
   "source": [
    "|     lib     | tamanho arquivo | tamanho memoria |  api  | tempo de carregamento  | dtype_backend | threads |\n",
    "|-------------|-----------------|-----------------|-------|------------------------|---------------|---------|\n",
    "| awswrangler | 60.5 MB         | 541.87 MB       |  s3   | 00:27 s                | pyarrow | False |\n",
    "| awswrangler | 60.5 MB         | 541.87 MB       |  s3   | 00:13 s                | pyarrow | True  |\n",
    "| awswrangler | 60.5 MB         | 1907.16 MB      |  s3   | 00:11 s                | numpy_nullable | False |\n",
    "| awswrangler | 60.5 MB         | 1907.16 MB      |  s3   | 00:06 s                | numpy_nullable | True  |"
   ]
  },
  {
   "cell_type": "markdown",
   "metadata": {},
   "source": [
    "### athena"
   ]
  },
  {
   "cell_type": "code",
   "execution_count": null,
   "metadata": {},
   "outputs": [],
   "source": [
    "# https://aws-sdk-pandas.readthedocs.io/en/stable/stubs/awswrangler.athena.read_sql_table.html\n",
    "# https://aws-sdk-pandas.readthedocs.io/en/stable/stubs/awswrangler.athena.read_sql_query.html"
   ]
  },
  {
   "cell_type": "code",
   "execution_count": 87,
   "metadata": {},
   "outputs": [],
   "source": [
    "df = wr.athena.read_sql_table(table=\"part_loan_2018_parquet\", database=\"base\")"
   ]
  },
  {
   "cell_type": "code",
   "execution_count": 91,
   "metadata": {},
   "outputs": [
    {
     "data": {
      "text/html": [
       "<div>\n",
       "<style scoped>\n",
       "    .dataframe tbody tr th:only-of-type {\n",
       "        vertical-align: middle;\n",
       "    }\n",
       "\n",
       "    .dataframe tbody tr th {\n",
       "        vertical-align: top;\n",
       "    }\n",
       "\n",
       "    .dataframe thead th {\n",
       "        text-align: right;\n",
       "    }\n",
       "</style>\n",
       "<table border=\"1\" class=\"dataframe\">\n",
       "  <thead>\n",
       "    <tr style=\"text-align: right;\">\n",
       "      <th></th>\n",
       "      <th>id</th>\n",
       "      <th>member_id</th>\n",
       "      <th>loan_amnt</th>\n",
       "      <th>funded_amnt</th>\n",
       "      <th>funded_amnt_inv</th>\n",
       "      <th>term</th>\n",
       "      <th>int_rate</th>\n",
       "      <th>installment</th>\n",
       "      <th>grade</th>\n",
       "      <th>sub_grade</th>\n",
       "      <th>...</th>\n",
       "      <th>hardship_last_payment_amount</th>\n",
       "      <th>disbursement_method</th>\n",
       "      <th>debt_settlement_flag</th>\n",
       "      <th>debt_settlement_flag_date</th>\n",
       "      <th>settlement_status</th>\n",
       "      <th>settlement_date</th>\n",
       "      <th>settlement_amount</th>\n",
       "      <th>settlement_percentage</th>\n",
       "      <th>settlement_term</th>\n",
       "      <th>year</th>\n",
       "    </tr>\n",
       "  </thead>\n",
       "  <tbody>\n",
       "  </tbody>\n",
       "</table>\n",
       "<p>0 rows × 146 columns</p>\n",
       "</div>"
      ],
      "text/plain": [
       "Empty DataFrame\n",
       "Columns: [id, member_id, loan_amnt, funded_amnt, funded_amnt_inv, term, int_rate, installment, grade, sub_grade, emp_title, emp_length, home_ownership, annual_inc, verification_status, issue_d, loan_status, pymnt_plan, url, desc, purpose, title, zip_code, addr_state, dti, delinq_2yrs, earliest_cr_line, inq_last_6mths, mths_since_last_delinq, mths_since_last_record, open_acc, pub_rec, revol_bal, revol_util, total_acc, initial_list_status, out_prncp, out_prncp_inv, total_pymnt, total_pymnt_inv, total_rec_prncp, total_rec_int, total_rec_late_fee, recoveries, collection_recovery_fee, last_pymnt_d, last_pymnt_amnt, next_pymnt_d, last_credit_pull_d, collections_12_mths_ex_med, mths_since_last_major_derog, policy_code, application_type, annual_inc_joint, dti_joint, verification_status_joint, acc_now_delinq, tot_coll_amt, tot_cur_bal, open_acc_6m, open_act_il, open_il_12m, open_il_24m, mths_since_rcnt_il, total_bal_il, il_util, open_rv_12m, open_rv_24m, max_bal_bc, all_util, total_rev_hi_lim, inq_fi, total_cu_tl, inq_last_12m, acc_open_past_24mths, avg_cur_bal, bc_open_to_buy, bc_util, chargeoff_within_12_mths, delinq_amnt, mo_sin_old_il_acct, mo_sin_old_rev_tl_op, mo_sin_rcnt_rev_tl_op, mo_sin_rcnt_tl, mort_acc, mths_since_recent_bc, mths_since_recent_bc_dlq, mths_since_recent_inq, mths_since_recent_revol_delinq, num_accts_ever_120_pd, num_actv_bc_tl, num_actv_rev_tl, num_bc_sats, num_bc_tl, num_il_tl, num_op_rev_tl, num_rev_accts, num_rev_tl_bal_gt_0, num_sats, num_tl_120dpd_2m, ...]\n",
       "Index: []\n",
       "\n",
       "[0 rows x 146 columns]"
      ]
     },
     "execution_count": 91,
     "metadata": {},
     "output_type": "execute_result"
    }
   ],
   "source": [
    "df"
   ]
  },
  {
   "cell_type": "markdown",
   "metadata": {},
   "source": [
    "|     lib     | tamanho arquivo | tamanho memoria |  api      | tempo de carregamento  | dtype_backend | threads |\n",
    "|-------------|-----------------|-----------------|-----------|------------------------|---------------|---------|\n",
    "| awswrangler | 60.5 MB         | 000.00 MB       |  athena   | 00:00 s                | pyarrow | False |\n",
    "| awswrangler | 60.5 MB         | 000.00 MB       |  athena   | 00:00 s                | pyarrow | True  |\n",
    "| awswrangler | 60.5 MB         | 000.00 MB       |  athena   | 00:00 s                | numpy_nullable | False |\n",
    "| awswrangler | 60.5 MB         | 000.00 MB       |  athena   | 00:00 s                | numpy_nullable | True  |"
   ]
  },
  {
   "cell_type": "markdown",
   "metadata": {},
   "source": [
    "# Polars"
   ]
  },
  {
   "cell_type": "code",
   "execution_count": null,
   "metadata": {},
   "outputs": [],
   "source": [
    "# https://docs.pola.rs/api/python/stable/reference/api/polars.read_parquet.html\n",
    "# https://docs.pola.rs/api/python/stable/reference/api/polars.scan_parquet.html"
   ]
  },
  {
   "cell_type": "code",
   "execution_count": 5,
   "metadata": {},
   "outputs": [],
   "source": [
    "import polars as pl"
   ]
  },
  {
   "cell_type": "code",
   "execution_count": 6,
   "metadata": {},
   "outputs": [],
   "source": [
    "creds = pl.CredentialProviderAWS(profile_name=\"default\")"
   ]
  },
  {
   "cell_type": "markdown",
   "metadata": {},
   "source": [
    "<ul>\n",
    "<li>parallel: <em>(default: auto)</em>\n",
    "    <ul>\n",
    "        <li>auto</li>\n",
    "        <li>columns</li>\n",
    "        <li>row_groups</li>\n",
    "        <li>none</li>\n",
    "    </ul>\n",
    "</li>\n",
    "<br>"
   ]
  },
  {
   "cell_type": "code",
   "execution_count": null,
   "metadata": {},
   "outputs": [],
   "source": [
    "df = pl.read_parquet(\n",
    "    source=s3_file,\n",
    "    parallel=\"auto\",\n",
    "    use_statistics=True,\n",
    "    use_pyarrow=True,\n",
    "    memory_map=True\n",
    ").lazy()"
   ]
  },
  {
   "cell_type": "code",
   "execution_count": 74,
   "metadata": {},
   "outputs": [
    {
     "name": "stdout",
     "output_type": "stream",
     "text": [
      "Tamanho estimado em memoria: 441.77 MB\n"
     ]
    }
   ],
   "source": [
    "size_memory = round(df.estimated_size() / (1024 * 1024), 2)\n",
    "print(\"Tamanho estimado em memoria:\", size_memory, \"MB\")"
   ]
  },
  {
   "cell_type": "markdown",
   "metadata": {},
   "source": [
    "|   lib  | tamanho arquivo | tamanho memoria | tempo de carregamento  | parallel | use_pyarrow | memory_map |\n",
    "|--------|-----------------|-----------------|------------------------|----------|-------------|------------|\n",
    "| polars | 60.5 MB         | 450.70 MB       | 04:44 s                | auto     | False       | none       |\n",
    "| polars | 60.5 MB         | 441.77 MB       | 05:45 s                | auto     | True        | False      |\n",
    "| polars | 60.5 MB         | 441.77 MB       | 00:47 s                | auto     | True        | True       |"
   ]
  },
  {
   "cell_type": "markdown",
   "metadata": {},
   "source": [
    "### scan"
   ]
  },
  {
   "cell_type": "code",
   "execution_count": 77,
   "metadata": {},
   "outputs": [],
   "source": [
    "df = pl.scan_parquet(source=s3_file, parallel=\"auto\", use_statistics=True, low_memory=True)"
   ]
  },
  {
   "cell_type": "code",
   "execution_count": 78,
   "metadata": {},
   "outputs": [],
   "source": [
    "df = df.collect()"
   ]
  },
  {
   "cell_type": "code",
   "execution_count": 79,
   "metadata": {},
   "outputs": [
    {
     "name": "stdout",
     "output_type": "stream",
     "text": [
      "Tamanho estimado em memoria: 450.7 MB\n"
     ]
    }
   ],
   "source": [
    "size_memory = round(df.estimated_size() / (1024 * 1024), 2)\n",
    "print(\"Tamanho estimado em memoria:\", size_memory, \"MB\")"
   ]
  },
  {
   "cell_type": "markdown",
   "metadata": {},
   "source": [
    "|   lib  | tamanho arquivo | tamanho memoria | tempo de carregamento  | parallel | low_memory |\n",
    "|--------|-----------------|-----------------|------------------------|----------|------------|\n",
    "| polars | 60.5 MB         | 450.70 MB       | 05:28 s                | auto     | True       |\n",
    "| polars | 60.5 MB         | 000.00 MB       | 00:00 s                | auto     | True       |\n",
    "| polars | 60.5 MB         | 000.00 MB       | 00:00 s                | auto     | True       |"
   ]
  },
  {
   "cell_type": "markdown",
   "metadata": {},
   "source": [
    "# Polars on gpu"
   ]
  },
  {
   "cell_type": "code",
   "execution_count": null,
   "metadata": {},
   "outputs": [],
   "source": [
    "# pip install -U polars\n",
    "# pip install polars[gpu] --extra-index-url=https://pypi.nvidia.com"
   ]
  },
  {
   "cell_type": "code",
   "execution_count": 7,
   "metadata": {},
   "outputs": [],
   "source": [
    "import rmm\n",
    "import polars as pl"
   ]
  },
  {
   "cell_type": "code",
   "execution_count": 10,
   "metadata": {},
   "outputs": [],
   "source": [
    "stats_mr = rmm.mr.StatisticsResourceAdaptor(rmm.mr.get_current_device_resource())\n",
    "\n",
    "# gpu_config = pl.lazyframe.engine_config.GPUEngine(device=0, memory_resource=stats_mr, raise_on_fail=True)\n",
    "gpu_engine = pl.GPUEngine(device=0, memory_resource=stats_mr, raise_on_fail=True)"
   ]
  },
  {
   "cell_type": "code",
   "execution_count": 23,
   "metadata": {},
   "outputs": [],
   "source": [
    "df = pl.scan_parquet(source=s3_file, parallel=\"auto\", use_statistics=True, low_memory=True)"
   ]
  },
  {
   "cell_type": "code",
   "execution_count": 24,
   "metadata": {},
   "outputs": [],
   "source": [
    "# df = df.collect(engine=gpu_engine)\n",
    "df = df.collect(engine=\"gpu\")"
   ]
  },
  {
   "cell_type": "code",
   "execution_count": 19,
   "metadata": {},
   "outputs": [
    {
     "name": "stdout",
     "output_type": "stream",
     "text": [
      "Tamanho estimado em memoria: 450.7 MB\n"
     ]
    }
   ],
   "source": [
    "size_memory = round(df.estimated_size() / (1024 * 1024), 2)\n",
    "print(\"Tamanho estimado em memoria:\", size_memory, \"MB\")"
   ]
  },
  {
   "cell_type": "code",
   "execution_count": 20,
   "metadata": {},
   "outputs": [
    {
     "name": "stdout",
     "output_type": "stream",
     "text": [
      "Total memory usage: 0.0 MB\n",
      "Peak memory usage:  0.0 MB\n"
     ]
    }
   ],
   "source": [
    "print(f\"Total memory usage: {round(stats_mr.allocation_counts.current_bytes/(1024**2), 0)} MB\")\n",
    "print(f\"Peak memory usage:  {round(stats_mr.allocation_counts.peak_bytes/(1024**2), 0)} MB\")"
   ]
  },
  {
   "cell_type": "markdown",
   "metadata": {},
   "source": [
    "|   lib  | tamanho arquivo | tamanho memoria | tempo de carregamento  | parallel | low_memory |\n",
    "|--------|-----------------|-----------------|------------------------|----------|------------|\n",
    "| polars | 60.5 MB         | 441.8 MB        | 00:24 s                | auto     | True       |\n",
    "| polars | 60.5 MB         | 000.00 MB       | 00:00 s                | auto     | True       |\n",
    "| polars | 60.5 MB         | 000.00 MB       | 00:00 s                | auto     | True       |"
   ]
  },
  {
   "cell_type": "markdown",
   "metadata": {},
   "source": [
    "# Pyarrow"
   ]
  },
  {
   "cell_type": "code",
   "execution_count": null,
   "metadata": {},
   "outputs": [],
   "source": [
    "import pyarrow as pa\n",
    "import pyarrow.parquet as pq\n",
    "import pyarrow.dataset as ds"
   ]
  },
  {
   "cell_type": "code",
   "execution_count": null,
   "metadata": {},
   "outputs": [],
   "source": [
    "dataset = ds.dataset(source=s3_file, format=\"parquet\")"
   ]
  },
  {
   "cell_type": "code",
   "execution_count": null,
   "metadata": {},
   "outputs": [],
   "source": []
  },
  {
   "cell_type": "code",
   "execution_count": null,
   "metadata": {},
   "outputs": [],
   "source": []
  },
  {
   "cell_type": "code",
   "execution_count": null,
   "metadata": {},
   "outputs": [],
   "source": []
  },
  {
   "cell_type": "markdown",
   "metadata": {},
   "source": [
    "# Duckdb"
   ]
  },
  {
   "cell_type": "code",
   "execution_count": null,
   "metadata": {},
   "outputs": [],
   "source": [
    "# https://duckdb.org/docs/data/parquet/overview.html\n",
    "# https://duckdb.org/docs/guides/python/export_pandas.html\n",
    "# https://duckdb.org/docs/guides/python/execute_sql.html\n",
    "# https://duckdb.org/docs/guides/python/sql_on_pandas.html"
   ]
  },
  {
   "cell_type": "code",
   "execution_count": null,
   "metadata": {},
   "outputs": [],
   "source": [
    "# pip install duckdb\n",
    "# pip install 'polars[pyarrow]'"
   ]
  },
  {
   "cell_type": "code",
   "execution_count": 56,
   "metadata": {},
   "outputs": [],
   "source": [
    "import duckdb"
   ]
  },
  {
   "cell_type": "code",
   "execution_count": 57,
   "metadata": {},
   "outputs": [],
   "source": [
    "duckdb.sql(\"INSTALL httpfs;\")\n",
    "duckdb.sql(\"INSTALL aws;\")"
   ]
  },
  {
   "cell_type": "code",
   "execution_count": 58,
   "metadata": {},
   "outputs": [],
   "source": [
    "duckdb.sql(\"LOAD httpfs;\")\n",
    "duckdb.sql(\"LOAD aws;\")\n",
    "# duckdb.sql(\"CALL load_aws_credentials('default');\")\n",
    "duckdb.sql(\"SET s3_region='us-east-1';\")"
   ]
  },
  {
   "cell_type": "code",
   "execution_count": 59,
   "metadata": {},
   "outputs": [
    {
     "data": {
      "text/plain": [
       "┌─────────┐\n",
       "│ Success │\n",
       "│ boolean │\n",
       "├─────────┤\n",
       "│ true    │\n",
       "└─────────┘"
      ]
     },
     "execution_count": 59,
     "metadata": {},
     "output_type": "execute_result"
    }
   ],
   "source": [
    "# REGION 'us-west-2'\n",
    "# PROFILE '<name_of_your_profile>'\n",
    "duckdb.sql(\"\"\"\n",
    "CREATE SECRET (\n",
    "    TYPE S3,\n",
    "    PROVIDER CREDENTIAL_CHAIN\n",
    ");\n",
    "\"\"\")"
   ]
  },
  {
   "cell_type": "code",
   "execution_count": 12,
   "metadata": {},
   "outputs": [
    {
     "data": {
      "text/plain": [
       "<duckdb.duckdb.DuckDBPyConnection at 0x7f1b81a5c0b0>"
      ]
     },
     "execution_count": 12,
     "metadata": {},
     "output_type": "execute_result"
    }
   ],
   "source": [
    "conn = duckdb.connect(database=\":memory:\", read_only=False)\n",
    "conn.execute(\"INSTALL httpfs;\")\n",
    "conn.execute(\"LOAD httpfs;\")\n",
    "conn.execute(\"SET s3_region='us-east-1';\")\n",
    "conn.execute(\"\"\"\n",
    "CREATE SECRET (\n",
    "    TYPE S3,\n",
    "    PROVIDER CREDENTIAL_CHAIN\n",
    ");\n",
    "\"\"\")"
   ]
  },
  {
   "cell_type": "code",
   "execution_count": 31,
   "metadata": {},
   "outputs": [
    {
     "data": {
      "application/vnd.jupyter.widget-view+json": {
       "model_id": "473a48bdd5c54f6bab3a7a3d2c6a5894",
       "version_major": 2,
       "version_minor": 0
      },
      "text/plain": [
       "FloatProgress(value=0.0, layout=Layout(width='auto'), style=ProgressStyle(bar_color='black'))"
      ]
     },
     "metadata": {},
     "output_type": "display_data"
    }
   ],
   "source": [
    "# df = conn.execute(f\"SELECT * FROM read_parquet('{s3_file}');\").fetchdf() # 40 seg\n",
    "# df = conn.execute(f\"SELECT * FROM read_parquet('{s3_file}');\").fetch_df() # 12 seg\n",
    "# df = conn.execute(f\"SELECT * FROM read_parquet('{s3_file}');\").fetch_df_chunk(vectors_per_chunk=1000) # 12 seg\n",
    "df = conn.execute(f\"SELECT * FROM read_parquet('{s3_file}');\").fetch_arrow_table() # 10 seg"
   ]
  },
  {
   "cell_type": "code",
   "execution_count": 32,
   "metadata": {},
   "outputs": [
    {
     "data": {
      "text/plain": [
       "pyarrow.lib.Table"
      ]
     },
     "execution_count": 32,
     "metadata": {},
     "output_type": "execute_result"
    }
   ],
   "source": [
    "type(df)"
   ]
  },
  {
   "cell_type": "code",
   "execution_count": 34,
   "metadata": {},
   "outputs": [
    {
     "data": {
      "text/plain": [
       "(495242, 146)"
      ]
     },
     "execution_count": 34,
     "metadata": {},
     "output_type": "execute_result"
    }
   ],
   "source": [
    "df.shape"
   ]
  },
  {
   "cell_type": "code",
   "execution_count": null,
   "metadata": {},
   "outputs": [],
   "source": [
    "# conn.close()"
   ]
  },
  {
   "cell_type": "code",
   "execution_count": 93,
   "metadata": {},
   "outputs": [
    {
     "data": {
      "application/vnd.jupyter.widget-view+json": {
       "model_id": "cf0e854ab6124d10852b9c4f42c4247f",
       "version_major": 2,
       "version_minor": 0
      },
      "text/plain": [
       "FloatProgress(value=0.0, layout=Layout(width='auto'), style=ProgressStyle(bar_color='black'))"
      ]
     },
     "metadata": {},
     "output_type": "display_data"
    }
   ],
   "source": [
    "# df = duckdb.sql(f\"SELECT * FROM read_parquet('{s3_file}');\").df()\n",
    "df = duckdb.query(f\"SELECT * FROM read_parquet('{s3_file}');\").df()\n",
    "# df = duckdb.sql(f\"SELECT * FROM read_parquet('{s3_file}');\").to_df()\n",
    "# df = duckdb.query(f\"SELECT * FROM read_parquet('{s3_file}');\").to_df()"
   ]
  },
  {
   "cell_type": "code",
   "execution_count": 100,
   "metadata": {},
   "outputs": [
    {
     "data": {
      "application/vnd.jupyter.widget-view+json": {
       "model_id": "ab96ecb369b54d7c8017465afe3af78d",
       "version_major": 2,
       "version_minor": 0
      },
      "text/plain": [
       "FloatProgress(value=0.0, layout=Layout(width='auto'), style=ProgressStyle(bar_color='black'))"
      ]
     },
     "metadata": {},
     "output_type": "display_data"
    }
   ],
   "source": [
    "df = duckdb.sql(f\"SELECT * FROM read_parquet('{s3_file}');\").pl()\n",
    "# df = duckdb.query(f\"SELECT * FROM read_parquet('{s3_file}');\").pl()"
   ]
  },
  {
   "cell_type": "code",
   "execution_count": 101,
   "metadata": {},
   "outputs": [
    {
     "data": {
      "text/plain": [
       "polars.dataframe.frame.DataFrame"
      ]
     },
     "execution_count": 101,
     "metadata": {},
     "output_type": "execute_result"
    }
   ],
   "source": [
    "type(df)"
   ]
  },
  {
   "cell_type": "code",
   "execution_count": 102,
   "metadata": {},
   "outputs": [
    {
     "name": "stdout",
     "output_type": "stream",
     "text": [
      "Tamanho estimado em memoria: 441.8 MB\n"
     ]
    }
   ],
   "source": [
    "# size_memory = round(df.memory_usage(index=True, deep=True).sum() / (1024 * 1024), 2)\n",
    "size_memory = round(df.estimated_size() / (1024 * 1024), 2)\n",
    "print(\"Tamanho estimado em memoria:\", size_memory, \"MB\")"
   ]
  },
  {
   "cell_type": "code",
   "execution_count": null,
   "metadata": {},
   "outputs": [],
   "source": [
    "duckdb.sql(f\"\"\"\n",
    "CREATE OR REPLACE TABLE temp_df AS\n",
    "SELECT * FROM read_parquet('{s3_file}');\n",
    "\"\"\")"
   ]
  },
  {
   "cell_type": "code",
   "execution_count": 106,
   "metadata": {},
   "outputs": [
    {
     "data": {
      "text/plain": [
       "┌─────────┬───────────┬───────────┬─────────────┬─────────────────┬────────────┬──────────┬─────────────┬─────────┬───────────┬────────────────┬────────────┬────────────────┬────────────┬─────────────────────┬──────────┬─────────────┬────────────┬─────────┬─────────┬────────────────────┬────────────────────┬──────────┬────────────┬────────┬─────────────┬──────────────────┬────────────────┬────────────────────────┬────────────────────────┬──────────┬─────────┬───────────┬────────────┬───────────┬─────────────────────┬───────────┬───────────────┬─────────────┬─────────────────┬─────────────────┬───────────────┬────────────────────┬────────────┬─────────────────────────┬──────────────┬─────────────────┬──────────────┬────────────────────┬────────────────────────────┬─────────────────────────────┬─────────────┬──────────────────┬──────────────────┬───────────┬───────────────────────────┬────────────────┬──────────────┬─────────────┬─────────────┬─────────────┬─────────────┬─────────────┬────────────────────┬──────────────┬─────────┬─────────────┬─────────────┬────────────┬──────────┬──────────────────┬────────┬─────────────┬──────────────┬──────────────────────┬─────────────┬────────────────┬─────────┬──────────────────────────┬─────────────┬────────────────────┬──────────────────────┬───────────────────────┬────────────────┬──────────┬──────────────────────┬──────────────────────────┬───────────────────────┬────────────────────────────────┬───────────────────────┬────────────────┬─────────────────┬─────────────┬───────────┬───────────┬───────────────┬───────────────┬─────────────────────┬──────────┬──────────────────┬──────────────┬────────────────────┬────────────────────┬────────────────┬──────────────────┬──────────────────────┬───────────┬─────────────────┬───────────────────┬────────────────┬────────────────────────────┬─────────────────┬──────────────────────────┬────────────────────────┬──────────────────┬──────────────────┬────────────────────┬─────────────────────┬───────────────────────┬──────────────────────────────────┬────────────────────────────────────┬─────────────────────────────────────┬───────────────┬───────────────┬─────────────────┬─────────────────┬───────────────┬─────────────────┬─────────────────────┬───────────────────┬─────────────────────────┬─────────────────┬──────────────┬──────────────────────┬────────────────────────────────────────────┬────────────────────────────────┬──────────────────────────────┬─────────────────────┬──────────────────────┬───────────────────────────┬───────────────────┬─────────────────┬───────────────────┬───────────────────────┬─────────────────┬─────────┐\n",
       "│   id    │ member_id │ loan_amnt │ funded_amnt │ funded_amnt_inv │    term    │ int_rate │ installment │  grade  │ sub_grade │   emp_title    │ emp_length │ home_ownership │ annual_inc │ verification_status │ issue_d  │ loan_status │ pymnt_plan │   url   │  desc   │      purpose       │       title        │ zip_code │ addr_state │  dti   │ delinq_2yrs │ earliest_cr_line │ inq_last_6mths │ mths_since_last_delinq │ mths_since_last_record │ open_acc │ pub_rec │ revol_bal │ revol_util │ total_acc │ initial_list_status │ out_prncp │ out_prncp_inv │ total_pymnt │ total_pymnt_inv │ total_rec_prncp │ total_rec_int │ total_rec_late_fee │ recoveries │ collection_recovery_fee │ last_pymnt_d │ last_pymnt_amnt │ next_pymnt_d │ last_credit_pull_d │ collections_12_mths_ex_med │ mths_since_last_major_derog │ policy_code │ application_type │ annual_inc_joint │ dti_joint │ verification_status_joint │ acc_now_delinq │ tot_coll_amt │ tot_cur_bal │ open_acc_6m │ open_act_il │ open_il_12m │ open_il_24m │ mths_since_rcnt_il │ total_bal_il │ il_util │ open_rv_12m │ open_rv_24m │ max_bal_bc │ all_util │ total_rev_hi_lim │ inq_fi │ total_cu_tl │ inq_last_12m │ acc_open_past_24mths │ avg_cur_bal │ bc_open_to_buy │ bc_util │ chargeoff_within_12_mths │ delinq_amnt │ mo_sin_old_il_acct │ mo_sin_old_rev_tl_op │ mo_sin_rcnt_rev_tl_op │ mo_sin_rcnt_tl │ mort_acc │ mths_since_recent_bc │ mths_since_recent_bc_dlq │ mths_since_recent_inq │ mths_since_recent_revol_delinq │ num_accts_ever_120_pd │ num_actv_bc_tl │ num_actv_rev_tl │ num_bc_sats │ num_bc_tl │ num_il_tl │ num_op_rev_tl │ num_rev_accts │ num_rev_tl_bal_gt_0 │ num_sats │ num_tl_120dpd_2m │ num_tl_30dpd │ num_tl_90g_dpd_24m │ num_tl_op_past_12m │ pct_tl_nvr_dlq │ percent_bc_gt_75 │ pub_rec_bankruptcies │ tax_liens │ tot_hi_cred_lim │ total_bal_ex_mort │ total_bc_limit │ total_il_high_credit_limit │ revol_bal_joint │ sec_app_earliest_cr_line │ sec_app_inq_last_6mths │ sec_app_mort_acc │ sec_app_open_acc │ sec_app_revol_util │ sec_app_open_act_il │ sec_app_num_rev_accts │ sec_app_chargeoff_within_12_mths │ sec_app_collections_12_mths_ex_med │ sec_app_mths_since_last_major_derog │ hardship_flag │ hardship_type │ hardship_reason │ hardship_status │ deferral_term │ hardship_amount │ hardship_start_date │ hardship_end_date │ payment_plan_start_date │ hardship_length │ hardship_dpd │ hardship_loan_status │ orig_projected_additional_accrued_interest │ hardship_payoff_balance_amount │ hardship_last_payment_amount │ disbursement_method │ debt_settlement_flag │ debt_settlement_flag_date │ settlement_status │ settlement_date │ settlement_amount │ settlement_percentage │ settlement_term │  year   │\n",
       "│ varchar │  varchar  │   int64   │    int64    │      int64      │  varchar   │  double  │   double    │ varchar │  varchar  │    varchar     │  varchar   │    varchar     │   double   │       varchar       │ varchar  │   varchar   │  varchar   │ varchar │ varchar │      varchar       │      varchar       │ varchar  │  varchar   │ double │    int64    │     varchar      │     int64      │         int64          │         int64          │  int64   │  int64  │   int64   │   double   │   int64   │       varchar       │  double   │    double     │   double    │     double      │     double      │    double     │       double       │   double   │         double          │   varchar    │     double      │   varchar    │      varchar       │           int64            │            int64            │    int64    │     varchar      │      double      │  double   │          varchar          │     int64      │    int64     │    int64    │    int64    │    int64    │    int64    │    int64    │       int64        │    int64     │  int64  │    int64    │    int64    │   int64    │  int64   │      int64       │ int64  │    int64    │    int64     │        int64         │    int64    │     int64      │ double  │          int64           │    int64    │       int64        │        int64         │         int64         │     int64      │  int64   │        int64         │          int64           │         int64         │             int64              │         int64         │     int64      │      int64      │    int64    │   int64   │   int64   │     int64     │     int64     │        int64        │  int64   │      int64       │    int64     │       int64        │       int64        │     double     │      double      │        int64         │   int64   │      int64      │       int64       │     int64      │           int64            │      int64      │         varchar          │         int64          │      int64       │      int64       │       double       │        int64        │         int64         │              int64               │               int64                │                int64                │    varchar    │    varchar    │     varchar     │     varchar     │    varchar    │     varchar     │       varchar       │      varchar      │         varchar         │     varchar     │   varchar    │       varchar        │                  varchar                   │            varchar             │           varchar            │       varchar       │       varchar        │          varchar          │      varchar      │     varchar     │      varchar      │        varchar        │     varchar     │ varchar │\n",
       "├─────────┼───────────┼───────────┼─────────────┼─────────────────┼────────────┼──────────┼─────────────┼─────────┼───────────┼────────────────┼────────────┼────────────────┼────────────┼─────────────────────┼──────────┼─────────────┼────────────┼─────────┼─────────┼────────────────────┼────────────────────┼──────────┼────────────┼────────┼─────────────┼──────────────────┼────────────────┼────────────────────────┼────────────────────────┼──────────┼─────────┼───────────┼────────────┼───────────┼─────────────────────┼───────────┼───────────────┼─────────────┼─────────────────┼─────────────────┼───────────────┼────────────────────┼────────────┼─────────────────────────┼──────────────┼─────────────────┼──────────────┼────────────────────┼────────────────────────────┼─────────────────────────────┼─────────────┼──────────────────┼──────────────────┼───────────┼───────────────────────────┼────────────────┼──────────────┼─────────────┼─────────────┼─────────────┼─────────────┼─────────────┼────────────────────┼──────────────┼─────────┼─────────────┼─────────────┼────────────┼──────────┼──────────────────┼────────┼─────────────┼──────────────┼──────────────────────┼─────────────┼────────────────┼─────────┼──────────────────────────┼─────────────┼────────────────────┼──────────────────────┼───────────────────────┼────────────────┼──────────┼──────────────────────┼──────────────────────────┼───────────────────────┼────────────────────────────────┼───────────────────────┼────────────────┼─────────────────┼─────────────┼───────────┼───────────┼───────────────┼───────────────┼─────────────────────┼──────────┼──────────────────┼──────────────┼────────────────────┼────────────────────┼────────────────┼──────────────────┼──────────────────────┼───────────┼─────────────────┼───────────────────┼────────────────┼────────────────────────────┼─────────────────┼──────────────────────────┼────────────────────────┼──────────────────┼──────────────────┼────────────────────┼─────────────────────┼───────────────────────┼──────────────────────────────────┼────────────────────────────────────┼─────────────────────────────────────┼───────────────┼───────────────┼─────────────────┼─────────────────┼───────────────┼─────────────────┼─────────────────────┼───────────────────┼─────────────────────────┼─────────────────┼──────────────┼──────────────────────┼────────────────────────────────────────────┼────────────────────────────────┼──────────────────────────────┼─────────────────────┼──────────────────────┼───────────────────────────┼───────────────────┼─────────────────┼───────────────────┼───────────────────────┼─────────────────┼─────────┤\n",
       "│ NULL    │ NULL      │      2500 │        2500 │            2500 │  36 months │    13.56 │       84.92 │ C       │ C1        │ Chef           │ 10+ years  │ RENT           │    55000.0 │ Not Verified        │ Dec-2018 │ Current     │ n          │ NULL    │ NULL    │ debt_consolidation │ Debt consolidation │ 109xx    │ NY         │  18.24 │           0 │ Apr-2001         │              1 │                   NULL │                     45 │        9 │       1 │      4341 │       10.3 │        34 │ w                   │   2386.02 │       2386.02 │      167.02 │          167.02 │          113.98 │         53.04 │                0.0 │        0.0 │                     0.0 │ Feb-2019     │           84.92 │ Mar-2019     │ Feb-2019           │                          0 │                        NULL │           1 │ Individual       │             NULL │      NULL │ NULL                      │              0 │            0 │       16901 │           2 │           2 │           1 │           2 │                  2 │        12560 │      69 │           2 │           7 │       2137 │       28 │            42000 │      1 │          11 │            2 │                    9 │        1878 │          34360 │     5.9 │                        0 │           0 │                140 │                  212 │                     1 │              1 │        0 │                    1 │                     NULL │                     2 │                           NULL │                     0 │              2 │               5 │           3 │         3 │        16 │             7 │            18 │                   5 │        9 │                0 │            0 │                  0 │                  3 │          100.0 │              0.0 │                    1 │         0 │           60124 │             16901 │          36500 │                      18124 │            NULL │ NULL                     │                   NULL │             NULL │             NULL │               NULL │                NULL │                  NULL │                             NULL │                               NULL │                                NULL │ N             │ NULL          │ NULL            │ NULL            │ NULL          │ NULL            │ NULL                │ NULL              │ NULL                    │ NULL            │ NULL         │ NULL                 │ NULL                                       │ NULL                           │ NULL                         │ Cash                │ N                    │ NULL                      │ NULL              │ NULL            │ NULL              │ NULL                  │ NULL            │ 2018    │\n",
       "│ NULL    │ NULL      │     30000 │       30000 │           30000 │  60 months │    18.94 │      777.23 │ D       │ D2        │ Postmaster     │ 10+ years  │ MORTGAGE       │    90000.0 │ Source Verified     │ Dec-2018 │ Current     │ n          │ NULL    │ NULL    │ debt_consolidation │ Debt consolidation │ 713xx    │ LA         │  26.52 │           0 │ Jun-1987         │              0 │                     71 │                     75 │       13 │       1 │     12315 │       24.2 │        44 │ w                   │  29387.75 │      29387.75 │     1507.11 │         1507.11 │          612.25 │        894.86 │                0.0 │        0.0 │                     0.0 │ Feb-2019     │          777.23 │ Mar-2019     │ Feb-2019           │                          0 │                        NULL │           1 │ Individual       │             NULL │      NULL │ NULL                      │              0 │         1208 │      321915 │           4 │           4 │           2 │           3 │                  3 │        87153 │      88 │           4 │           5 │        998 │       57 │            50800 │      2 │          15 │            2 │                   10 │       24763 │          13761 │     8.3 │                        0 │           0 │                163 │                  378 │                     4 │              3 │        3 │                    4 │                     NULL │                     4 │                           NULL │                     0 │              2 │               4 │           4 │         9 │        27 │             8 │            14 │                   4 │       13 │                0 │            0 │                  0 │                  6 │           95.0 │              0.0 │                    1 │         0 │          372872 │             99468 │          15000 │                      94072 │            NULL │ NULL                     │                   NULL │             NULL │             NULL │               NULL │                NULL │                  NULL │                             NULL │                               NULL │                                NULL │ N             │ NULL          │ NULL            │ NULL            │ NULL          │ NULL            │ NULL                │ NULL              │ NULL                    │ NULL            │ NULL         │ NULL                 │ NULL                                       │ NULL                           │ NULL                         │ Cash                │ N                    │ NULL                      │ NULL              │ NULL            │ NULL              │ NULL                  │ NULL            │ 2018    │\n",
       "│ NULL    │ NULL      │      5000 │        5000 │            5000 │  36 months │    17.97 │      180.69 │ D       │ D1        │ Administrative │ 6 years    │ MORTGAGE       │    59280.0 │ Source Verified     │ Dec-2018 │ Current     │ n          │ NULL    │ NULL    │ debt_consolidation │ Debt consolidation │ 490xx    │ MI         │  10.51 │           0 │ Apr-2011         │              0 │                   NULL │                   NULL │        8 │       0 │      4599 │       19.1 │        13 │ w                   │   4787.21 │       4787.21 │      353.89 │          353.89 │          212.79 │         141.1 │                0.0 │        0.0 │                     0.0 │ Feb-2019     │          180.69 │ Mar-2019     │ Feb-2019           │                          0 │                        NULL │           1 │ Individual       │             NULL │      NULL │ NULL                      │              0 │            0 │      110299 │           0 │           1 │           0 │           2 │                 14 │         7150 │      72 │           0 │           2 │          0 │       35 │            24100 │      1 │           5 │            0 │                    4 │       18383 │          13800 │     0.0 │                        0 │           0 │                 87 │                   92 │                    15 │             14 │        2 │                   77 │                     NULL │                    14 │                           NULL │                     0 │              0 │               3 │           3 │         3 │         4 │             6 │             7 │                   3 │        8 │                0 │            0 │                  0 │                  0 │          100.0 │              0.0 │                    0 │         0 │          136927 │             11749 │          13800 │                      10000 │            NULL │ NULL                     │                   NULL │             NULL │             NULL │               NULL │                NULL │                  NULL │                             NULL │                               NULL │                                NULL │ N             │ NULL          │ NULL            │ NULL            │ NULL          │ NULL            │ NULL                │ NULL              │ NULL                    │ NULL            │ NULL         │ NULL                 │ NULL                                       │ NULL                           │ NULL                         │ Cash                │ N                    │ NULL                      │ NULL              │ NULL            │ NULL              │ NULL                  │ NULL            │ 2018    │\n",
       "│ NULL    │ NULL      │      4000 │        4000 │            4000 │  36 months │    18.94 │      146.51 │ D       │ D2        │ IT Supervisor  │ 10+ years  │ MORTGAGE       │    92000.0 │ Source Verified     │ Dec-2018 │ Current     │ n          │ NULL    │ NULL    │ debt_consolidation │ Debt consolidation │ 985xx    │ WA         │  16.74 │           0 │ Feb-2006         │              0 │                   NULL │                   NULL │       10 │       0 │      5468 │       78.1 │        13 │ w                   │   3831.93 │       3831.93 │      286.71 │          286.71 │          168.07 │        118.64 │                0.0 │        0.0 │                     0.0 │ Feb-2019     │          146.51 │ Mar-2019     │ Feb-2019           │                          0 │                        NULL │           1 │ Individual       │             NULL │      NULL │ NULL                      │              0 │          686 │      305049 │           1 │           5 │           3 │           5 │                  5 │        30683 │      68 │           0 │           0 │       3761 │       70 │             7000 │      2 │           4 │            3 │                    5 │       30505 │           1239 │    75.2 │                        0 │           0 │                 62 │                  154 │                    64 │              5 │        3 │                   64 │                     NULL │                     5 │                           NULL │                     0 │              1 │               2 │           1 │         2 │         7 │             2 │             3 │                   2 │       10 │                0 │            0 │                  0 │                  3 │          100.0 │            100.0 │                    0 │         0 │          385183 │             36151 │           5000 │                      44984 │            NULL │ NULL                     │                   NULL │             NULL │             NULL │               NULL │                NULL │                  NULL │                             NULL │                               NULL │                                NULL │ N             │ NULL          │ NULL            │ NULL            │ NULL          │ NULL            │ NULL                │ NULL              │ NULL                    │ NULL            │ NULL         │ NULL                 │ NULL                                       │ NULL                           │ NULL                         │ Cash                │ N                    │ NULL                      │ NULL              │ NULL            │ NULL              │ NULL                  │ NULL            │ 2018    │\n",
       "│ NULL    │ NULL      │     30000 │       30000 │           30000 │  60 months │    16.14 │      731.78 │ C       │ C4        │ Mechanic       │ 10+ years  │ MORTGAGE       │    57250.0 │ Not Verified        │ Dec-2018 │ Current     │ n          │ NULL    │ NULL    │ debt_consolidation │ Debt consolidation │ 212xx    │ MD         │  26.35 │           0 │ Dec-2000         │              0 │                   NULL │                   NULL │       12 │       0 │       829 │        3.6 │        26 │ w                   │  29339.02 │      29339.02 │     1423.21 │         1423.21 │          660.98 │        762.23 │                0.0 │        0.0 │                     0.0 │ Feb-2019     │          731.78 │ Mar-2019     │ Feb-2019           │                          0 │                        NULL │           1 │ Individual       │             NULL │      NULL │ NULL                      │              0 │            0 │      116007 │           3 │           5 │           3 │           5 │                  4 │        28845 │      89 │           2 │           4 │        516 │       54 │            23100 │      1 │           0 │            0 │                    9 │        9667 │           8471 │     8.9 │                        0 │           0 │                 53 │                  216 │                     2 │              2 │        2 │                    2 │                     NULL │                    13 │                           NULL │                     0 │              2 │               2 │           3 │         8 │         9 │             6 │            15 │                   2 │       12 │                0 │            0 │                  0 │                  5 │           92.3 │              0.0 │                    0 │         0 │          157548 │             29674 │           9300 │                      32332 │            NULL │ NULL                     │                   NULL │             NULL │             NULL │               NULL │                NULL │                  NULL │                             NULL │                               NULL │                                NULL │ N             │ NULL          │ NULL            │ NULL            │ NULL          │ NULL            │ NULL                │ NULL              │ NULL                    │ NULL            │ NULL         │ NULL                 │ NULL                                       │ NULL                           │ NULL                         │ Cash                │ N                    │ NULL                      │ NULL              │ NULL            │ NULL              │ NULL                  │ NULL            │ 2018    │\n",
       "└─────────┴───────────┴───────────┴─────────────┴─────────────────┴────────────┴──────────┴─────────────┴─────────┴───────────┴────────────────┴────────────┴────────────────┴────────────┴─────────────────────┴──────────┴─────────────┴────────────┴─────────┴─────────┴────────────────────┴────────────────────┴──────────┴────────────┴────────┴─────────────┴──────────────────┴────────────────┴────────────────────────┴────────────────────────┴──────────┴─────────┴───────────┴────────────┴───────────┴─────────────────────┴───────────┴───────────────┴─────────────┴─────────────────┴─────────────────┴───────────────┴────────────────────┴────────────┴─────────────────────────┴──────────────┴─────────────────┴──────────────┴────────────────────┴────────────────────────────┴─────────────────────────────┴─────────────┴──────────────────┴──────────────────┴───────────┴───────────────────────────┴────────────────┴──────────────┴─────────────┴─────────────┴─────────────┴─────────────┴─────────────┴────────────────────┴──────────────┴─────────┴─────────────┴─────────────┴────────────┴──────────┴──────────────────┴────────┴─────────────┴──────────────┴──────────────────────┴─────────────┴────────────────┴─────────┴──────────────────────────┴─────────────┴────────────────────┴──────────────────────┴───────────────────────┴────────────────┴──────────┴──────────────────────┴──────────────────────────┴───────────────────────┴────────────────────────────────┴───────────────────────┴────────────────┴─────────────────┴─────────────┴───────────┴───────────┴───────────────┴───────────────┴─────────────────────┴──────────┴──────────────────┴──────────────┴────────────────────┴────────────────────┴────────────────┴──────────────────┴──────────────────────┴───────────┴─────────────────┴───────────────────┴────────────────┴────────────────────────────┴─────────────────┴──────────────────────────┴────────────────────────┴──────────────────┴──────────────────┴────────────────────┴─────────────────────┴───────────────────────┴──────────────────────────────────┴────────────────────────────────────┴─────────────────────────────────────┴───────────────┴───────────────┴─────────────────┴─────────────────┴───────────────┴─────────────────┴─────────────────────┴───────────────────┴─────────────────────────┴─────────────────┴──────────────┴──────────────────────┴────────────────────────────────────────────┴────────────────────────────────┴──────────────────────────────┴─────────────────────┴──────────────────────┴───────────────────────────┴───────────────────┴─────────────────┴───────────────────┴───────────────────────┴─────────────────┴─────────┘"
      ]
     },
     "execution_count": 106,
     "metadata": {},
     "output_type": "execute_result"
    }
   ],
   "source": [
    "duckdb.sql(\"\"\"\n",
    "SELECT * FROM temp_df LIMIT 5;\n",
    "\"\"\")"
   ]
  },
  {
   "cell_type": "code",
   "execution_count": 119,
   "metadata": {},
   "outputs": [],
   "source": [
    "df = duckdb.read_parquet(s3_file)"
   ]
  },
  {
   "cell_type": "code",
   "execution_count": 120,
   "metadata": {},
   "outputs": [
    {
     "data": {
      "text/plain": [
       "duckdb.duckdb.DuckDBPyRelation"
      ]
     },
     "execution_count": 120,
     "metadata": {},
     "output_type": "execute_result"
    }
   ],
   "source": [
    "type(df)"
   ]
  },
  {
   "cell_type": "code",
   "execution_count": 121,
   "metadata": {},
   "outputs": [
    {
     "data": {
      "application/vnd.jupyter.widget-view+json": {
       "model_id": "74b028cf005f45d7a70476f95217d2c1",
       "version_major": 2,
       "version_minor": 0
      },
      "text/plain": [
       "FloatProgress(value=0.0, layout=Layout(width='auto'), style=ProgressStyle(bar_color='black'))"
      ]
     },
     "metadata": {},
     "output_type": "display_data"
    },
    {
     "data": {
      "text/plain": [
       "┌─────────┬───────────┬───────────┬─────────────┬─────────────────┬────────────┬──────────┬─────────────┬─────────┬───────────┬────────────────┬────────────┬────────────────┬────────────┬─────────────────────┬──────────┬─────────────┬────────────┬─────────┬─────────┬────────────────────┬────────────────────┬──────────┬────────────┬────────┬─────────────┬──────────────────┬────────────────┬────────────────────────┬────────────────────────┬──────────┬─────────┬───────────┬────────────┬───────────┬─────────────────────┬───────────┬───────────────┬─────────────┬─────────────────┬─────────────────┬───────────────┬────────────────────┬────────────┬─────────────────────────┬──────────────┬─────────────────┬──────────────┬────────────────────┬────────────────────────────┬─────────────────────────────┬─────────────┬──────────────────┬──────────────────┬───────────┬───────────────────────────┬────────────────┬──────────────┬─────────────┬─────────────┬─────────────┬─────────────┬─────────────┬────────────────────┬──────────────┬─────────┬─────────────┬─────────────┬────────────┬──────────┬──────────────────┬────────┬─────────────┬──────────────┬──────────────────────┬─────────────┬────────────────┬─────────┬──────────────────────────┬─────────────┬────────────────────┬──────────────────────┬───────────────────────┬────────────────┬──────────┬──────────────────────┬──────────────────────────┬───────────────────────┬────────────────────────────────┬───────────────────────┬────────────────┬─────────────────┬─────────────┬───────────┬───────────┬───────────────┬───────────────┬─────────────────────┬──────────┬──────────────────┬──────────────┬────────────────────┬────────────────────┬────────────────┬──────────────────┬──────────────────────┬───────────┬─────────────────┬───────────────────┬────────────────┬────────────────────────────┬─────────────────┬──────────────────────────┬────────────────────────┬──────────────────┬──────────────────┬────────────────────┬─────────────────────┬───────────────────────┬──────────────────────────────────┬────────────────────────────────────┬─────────────────────────────────────┬───────────────┬───────────────┬─────────────────┬─────────────────┬───────────────┬─────────────────┬─────────────────────┬───────────────────┬─────────────────────────┬─────────────────┬──────────────┬──────────────────────┬────────────────────────────────────────────┬────────────────────────────────┬──────────────────────────────┬─────────────────────┬──────────────────────┬───────────────────────────┬───────────────────┬─────────────────┬───────────────────┬───────────────────────┬─────────────────┬─────────┐\n",
       "│   id    │ member_id │ loan_amnt │ funded_amnt │ funded_amnt_inv │    term    │ int_rate │ installment │  grade  │ sub_grade │   emp_title    │ emp_length │ home_ownership │ annual_inc │ verification_status │ issue_d  │ loan_status │ pymnt_plan │   url   │  desc   │      purpose       │       title        │ zip_code │ addr_state │  dti   │ delinq_2yrs │ earliest_cr_line │ inq_last_6mths │ mths_since_last_delinq │ mths_since_last_record │ open_acc │ pub_rec │ revol_bal │ revol_util │ total_acc │ initial_list_status │ out_prncp │ out_prncp_inv │ total_pymnt │ total_pymnt_inv │ total_rec_prncp │ total_rec_int │ total_rec_late_fee │ recoveries │ collection_recovery_fee │ last_pymnt_d │ last_pymnt_amnt │ next_pymnt_d │ last_credit_pull_d │ collections_12_mths_ex_med │ mths_since_last_major_derog │ policy_code │ application_type │ annual_inc_joint │ dti_joint │ verification_status_joint │ acc_now_delinq │ tot_coll_amt │ tot_cur_bal │ open_acc_6m │ open_act_il │ open_il_12m │ open_il_24m │ mths_since_rcnt_il │ total_bal_il │ il_util │ open_rv_12m │ open_rv_24m │ max_bal_bc │ all_util │ total_rev_hi_lim │ inq_fi │ total_cu_tl │ inq_last_12m │ acc_open_past_24mths │ avg_cur_bal │ bc_open_to_buy │ bc_util │ chargeoff_within_12_mths │ delinq_amnt │ mo_sin_old_il_acct │ mo_sin_old_rev_tl_op │ mo_sin_rcnt_rev_tl_op │ mo_sin_rcnt_tl │ mort_acc │ mths_since_recent_bc │ mths_since_recent_bc_dlq │ mths_since_recent_inq │ mths_since_recent_revol_delinq │ num_accts_ever_120_pd │ num_actv_bc_tl │ num_actv_rev_tl │ num_bc_sats │ num_bc_tl │ num_il_tl │ num_op_rev_tl │ num_rev_accts │ num_rev_tl_bal_gt_0 │ num_sats │ num_tl_120dpd_2m │ num_tl_30dpd │ num_tl_90g_dpd_24m │ num_tl_op_past_12m │ pct_tl_nvr_dlq │ percent_bc_gt_75 │ pub_rec_bankruptcies │ tax_liens │ tot_hi_cred_lim │ total_bal_ex_mort │ total_bc_limit │ total_il_high_credit_limit │ revol_bal_joint │ sec_app_earliest_cr_line │ sec_app_inq_last_6mths │ sec_app_mort_acc │ sec_app_open_acc │ sec_app_revol_util │ sec_app_open_act_il │ sec_app_num_rev_accts │ sec_app_chargeoff_within_12_mths │ sec_app_collections_12_mths_ex_med │ sec_app_mths_since_last_major_derog │ hardship_flag │ hardship_type │ hardship_reason │ hardship_status │ deferral_term │ hardship_amount │ hardship_start_date │ hardship_end_date │ payment_plan_start_date │ hardship_length │ hardship_dpd │ hardship_loan_status │ orig_projected_additional_accrued_interest │ hardship_payoff_balance_amount │ hardship_last_payment_amount │ disbursement_method │ debt_settlement_flag │ debt_settlement_flag_date │ settlement_status │ settlement_date │ settlement_amount │ settlement_percentage │ settlement_term │  year   │\n",
       "│ varchar │  varchar  │   int64   │    int64    │      int64      │  varchar   │  double  │   double    │ varchar │  varchar  │    varchar     │  varchar   │    varchar     │   double   │       varchar       │ varchar  │   varchar   │  varchar   │ varchar │ varchar │      varchar       │      varchar       │ varchar  │  varchar   │ double │    int64    │     varchar      │     int64      │         int64          │         int64          │  int64   │  int64  │   int64   │   double   │   int64   │       varchar       │  double   │    double     │   double    │     double      │     double      │    double     │       double       │   double   │         double          │   varchar    │     double      │   varchar    │      varchar       │           int64            │            int64            │    int64    │     varchar      │      double      │  double   │          varchar          │     int64      │    int64     │    int64    │    int64    │    int64    │    int64    │    int64    │       int64        │    int64     │  int64  │    int64    │    int64    │   int64    │  int64   │      int64       │ int64  │    int64    │    int64     │        int64         │    int64    │     int64      │ double  │          int64           │    int64    │       int64        │        int64         │         int64         │     int64      │  int64   │        int64         │          int64           │         int64         │             int64              │         int64         │     int64      │      int64      │    int64    │   int64   │   int64   │     int64     │     int64     │        int64        │  int64   │      int64       │    int64     │       int64        │       int64        │     double     │      double      │        int64         │   int64   │      int64      │       int64       │     int64      │           int64            │      int64      │         varchar          │         int64          │      int64       │      int64       │       double       │        int64        │         int64         │              int64               │               int64                │                int64                │    varchar    │    varchar    │     varchar     │     varchar     │    varchar    │     varchar     │       varchar       │      varchar      │         varchar         │     varchar     │   varchar    │       varchar        │                  varchar                   │            varchar             │           varchar            │       varchar       │       varchar        │          varchar          │      varchar      │     varchar     │      varchar      │        varchar        │     varchar     │ varchar │\n",
       "├─────────┼───────────┼───────────┼─────────────┼─────────────────┼────────────┼──────────┼─────────────┼─────────┼───────────┼────────────────┼────────────┼────────────────┼────────────┼─────────────────────┼──────────┼─────────────┼────────────┼─────────┼─────────┼────────────────────┼────────────────────┼──────────┼────────────┼────────┼─────────────┼──────────────────┼────────────────┼────────────────────────┼────────────────────────┼──────────┼─────────┼───────────┼────────────┼───────────┼─────────────────────┼───────────┼───────────────┼─────────────┼─────────────────┼─────────────────┼───────────────┼────────────────────┼────────────┼─────────────────────────┼──────────────┼─────────────────┼──────────────┼────────────────────┼────────────────────────────┼─────────────────────────────┼─────────────┼──────────────────┼──────────────────┼───────────┼───────────────────────────┼────────────────┼──────────────┼─────────────┼─────────────┼─────────────┼─────────────┼─────────────┼────────────────────┼──────────────┼─────────┼─────────────┼─────────────┼────────────┼──────────┼──────────────────┼────────┼─────────────┼──────────────┼──────────────────────┼─────────────┼────────────────┼─────────┼──────────────────────────┼─────────────┼────────────────────┼──────────────────────┼───────────────────────┼────────────────┼──────────┼──────────────────────┼──────────────────────────┼───────────────────────┼────────────────────────────────┼───────────────────────┼────────────────┼─────────────────┼─────────────┼───────────┼───────────┼───────────────┼───────────────┼─────────────────────┼──────────┼──────────────────┼──────────────┼────────────────────┼────────────────────┼────────────────┼──────────────────┼──────────────────────┼───────────┼─────────────────┼───────────────────┼────────────────┼────────────────────────────┼─────────────────┼──────────────────────────┼────────────────────────┼──────────────────┼──────────────────┼────────────────────┼─────────────────────┼───────────────────────┼──────────────────────────────────┼────────────────────────────────────┼─────────────────────────────────────┼───────────────┼───────────────┼─────────────────┼─────────────────┼───────────────┼─────────────────┼─────────────────────┼───────────────────┼─────────────────────────┼─────────────────┼──────────────┼──────────────────────┼────────────────────────────────────────────┼────────────────────────────────┼──────────────────────────────┼─────────────────────┼──────────────────────┼───────────────────────────┼───────────────────┼─────────────────┼───────────────────┼───────────────────────┼─────────────────┼─────────┤\n",
       "│ NULL    │ NULL      │      2500 │        2500 │            2500 │  36 months │    13.56 │       84.92 │ C       │ C1        │ Chef           │ 10+ years  │ RENT           │    55000.0 │ Not Verified        │ Dec-2018 │ Current     │ n          │ NULL    │ NULL    │ debt_consolidation │ Debt consolidation │ 109xx    │ NY         │  18.24 │           0 │ Apr-2001         │              1 │                   NULL │                     45 │        9 │       1 │      4341 │       10.3 │        34 │ w                   │   2386.02 │       2386.02 │      167.02 │          167.02 │          113.98 │         53.04 │                0.0 │        0.0 │                     0.0 │ Feb-2019     │           84.92 │ Mar-2019     │ Feb-2019           │                          0 │                        NULL │           1 │ Individual       │             NULL │      NULL │ NULL                      │              0 │            0 │       16901 │           2 │           2 │           1 │           2 │                  2 │        12560 │      69 │           2 │           7 │       2137 │       28 │            42000 │      1 │          11 │            2 │                    9 │        1878 │          34360 │     5.9 │                        0 │           0 │                140 │                  212 │                     1 │              1 │        0 │                    1 │                     NULL │                     2 │                           NULL │                     0 │              2 │               5 │           3 │         3 │        16 │             7 │            18 │                   5 │        9 │                0 │            0 │                  0 │                  3 │          100.0 │              0.0 │                    1 │         0 │           60124 │             16901 │          36500 │                      18124 │            NULL │ NULL                     │                   NULL │             NULL │             NULL │               NULL │                NULL │                  NULL │                             NULL │                               NULL │                                NULL │ N             │ NULL          │ NULL            │ NULL            │ NULL          │ NULL            │ NULL                │ NULL              │ NULL                    │ NULL            │ NULL         │ NULL                 │ NULL                                       │ NULL                           │ NULL                         │ Cash                │ N                    │ NULL                      │ NULL              │ NULL            │ NULL              │ NULL                  │ NULL            │ 2018    │\n",
       "│ NULL    │ NULL      │     30000 │       30000 │           30000 │  60 months │    18.94 │      777.23 │ D       │ D2        │ Postmaster     │ 10+ years  │ MORTGAGE       │    90000.0 │ Source Verified     │ Dec-2018 │ Current     │ n          │ NULL    │ NULL    │ debt_consolidation │ Debt consolidation │ 713xx    │ LA         │  26.52 │           0 │ Jun-1987         │              0 │                     71 │                     75 │       13 │       1 │     12315 │       24.2 │        44 │ w                   │  29387.75 │      29387.75 │     1507.11 │         1507.11 │          612.25 │        894.86 │                0.0 │        0.0 │                     0.0 │ Feb-2019     │          777.23 │ Mar-2019     │ Feb-2019           │                          0 │                        NULL │           1 │ Individual       │             NULL │      NULL │ NULL                      │              0 │         1208 │      321915 │           4 │           4 │           2 │           3 │                  3 │        87153 │      88 │           4 │           5 │        998 │       57 │            50800 │      2 │          15 │            2 │                   10 │       24763 │          13761 │     8.3 │                        0 │           0 │                163 │                  378 │                     4 │              3 │        3 │                    4 │                     NULL │                     4 │                           NULL │                     0 │              2 │               4 │           4 │         9 │        27 │             8 │            14 │                   4 │       13 │                0 │            0 │                  0 │                  6 │           95.0 │              0.0 │                    1 │         0 │          372872 │             99468 │          15000 │                      94072 │            NULL │ NULL                     │                   NULL │             NULL │             NULL │               NULL │                NULL │                  NULL │                             NULL │                               NULL │                                NULL │ N             │ NULL          │ NULL            │ NULL            │ NULL          │ NULL            │ NULL                │ NULL              │ NULL                    │ NULL            │ NULL         │ NULL                 │ NULL                                       │ NULL                           │ NULL                         │ Cash                │ N                    │ NULL                      │ NULL              │ NULL            │ NULL              │ NULL                  │ NULL            │ 2018    │\n",
       "│ NULL    │ NULL      │      5000 │        5000 │            5000 │  36 months │    17.97 │      180.69 │ D       │ D1        │ Administrative │ 6 years    │ MORTGAGE       │    59280.0 │ Source Verified     │ Dec-2018 │ Current     │ n          │ NULL    │ NULL    │ debt_consolidation │ Debt consolidation │ 490xx    │ MI         │  10.51 │           0 │ Apr-2011         │              0 │                   NULL │                   NULL │        8 │       0 │      4599 │       19.1 │        13 │ w                   │   4787.21 │       4787.21 │      353.89 │          353.89 │          212.79 │         141.1 │                0.0 │        0.0 │                     0.0 │ Feb-2019     │          180.69 │ Mar-2019     │ Feb-2019           │                          0 │                        NULL │           1 │ Individual       │             NULL │      NULL │ NULL                      │              0 │            0 │      110299 │           0 │           1 │           0 │           2 │                 14 │         7150 │      72 │           0 │           2 │          0 │       35 │            24100 │      1 │           5 │            0 │                    4 │       18383 │          13800 │     0.0 │                        0 │           0 │                 87 │                   92 │                    15 │             14 │        2 │                   77 │                     NULL │                    14 │                           NULL │                     0 │              0 │               3 │           3 │         3 │         4 │             6 │             7 │                   3 │        8 │                0 │            0 │                  0 │                  0 │          100.0 │              0.0 │                    0 │         0 │          136927 │             11749 │          13800 │                      10000 │            NULL │ NULL                     │                   NULL │             NULL │             NULL │               NULL │                NULL │                  NULL │                             NULL │                               NULL │                                NULL │ N             │ NULL          │ NULL            │ NULL            │ NULL          │ NULL            │ NULL                │ NULL              │ NULL                    │ NULL            │ NULL         │ NULL                 │ NULL                                       │ NULL                           │ NULL                         │ Cash                │ N                    │ NULL                      │ NULL              │ NULL            │ NULL              │ NULL                  │ NULL            │ 2018    │\n",
       "│ NULL    │ NULL      │      4000 │        4000 │            4000 │  36 months │    18.94 │      146.51 │ D       │ D2        │ IT Supervisor  │ 10+ years  │ MORTGAGE       │    92000.0 │ Source Verified     │ Dec-2018 │ Current     │ n          │ NULL    │ NULL    │ debt_consolidation │ Debt consolidation │ 985xx    │ WA         │  16.74 │           0 │ Feb-2006         │              0 │                   NULL │                   NULL │       10 │       0 │      5468 │       78.1 │        13 │ w                   │   3831.93 │       3831.93 │      286.71 │          286.71 │          168.07 │        118.64 │                0.0 │        0.0 │                     0.0 │ Feb-2019     │          146.51 │ Mar-2019     │ Feb-2019           │                          0 │                        NULL │           1 │ Individual       │             NULL │      NULL │ NULL                      │              0 │          686 │      305049 │           1 │           5 │           3 │           5 │                  5 │        30683 │      68 │           0 │           0 │       3761 │       70 │             7000 │      2 │           4 │            3 │                    5 │       30505 │           1239 │    75.2 │                        0 │           0 │                 62 │                  154 │                    64 │              5 │        3 │                   64 │                     NULL │                     5 │                           NULL │                     0 │              1 │               2 │           1 │         2 │         7 │             2 │             3 │                   2 │       10 │                0 │            0 │                  0 │                  3 │          100.0 │            100.0 │                    0 │         0 │          385183 │             36151 │           5000 │                      44984 │            NULL │ NULL                     │                   NULL │             NULL │             NULL │               NULL │                NULL │                  NULL │                             NULL │                               NULL │                                NULL │ N             │ NULL          │ NULL            │ NULL            │ NULL          │ NULL            │ NULL                │ NULL              │ NULL                    │ NULL            │ NULL         │ NULL                 │ NULL                                       │ NULL                           │ NULL                         │ Cash                │ N                    │ NULL                      │ NULL              │ NULL            │ NULL              │ NULL                  │ NULL            │ 2018    │\n",
       "│ NULL    │ NULL      │     30000 │       30000 │           30000 │  60 months │    16.14 │      731.78 │ C       │ C4        │ Mechanic       │ 10+ years  │ MORTGAGE       │    57250.0 │ Not Verified        │ Dec-2018 │ Current     │ n          │ NULL    │ NULL    │ debt_consolidation │ Debt consolidation │ 212xx    │ MD         │  26.35 │           0 │ Dec-2000         │              0 │                   NULL │                   NULL │       12 │       0 │       829 │        3.6 │        26 │ w                   │  29339.02 │      29339.02 │     1423.21 │         1423.21 │          660.98 │        762.23 │                0.0 │        0.0 │                     0.0 │ Feb-2019     │          731.78 │ Mar-2019     │ Feb-2019           │                          0 │                        NULL │           1 │ Individual       │             NULL │      NULL │ NULL                      │              0 │            0 │      116007 │           3 │           5 │           3 │           5 │                  4 │        28845 │      89 │           2 │           4 │        516 │       54 │            23100 │      1 │           0 │            0 │                    9 │        9667 │           8471 │     8.9 │                        0 │           0 │                 53 │                  216 │                     2 │              2 │        2 │                    2 │                     NULL │                    13 │                           NULL │                     0 │              2 │               2 │           3 │         8 │         9 │             6 │            15 │                   2 │       12 │                0 │            0 │                  0 │                  5 │           92.3 │              0.0 │                    0 │         0 │          157548 │             29674 │           9300 │                      32332 │            NULL │ NULL                     │                   NULL │             NULL │             NULL │               NULL │                NULL │                  NULL │                             NULL │                               NULL │                                NULL │ N             │ NULL          │ NULL            │ NULL            │ NULL          │ NULL            │ NULL                │ NULL              │ NULL                    │ NULL            │ NULL         │ NULL                 │ NULL                                       │ NULL                           │ NULL                         │ Cash                │ N                    │ NULL                      │ NULL              │ NULL            │ NULL              │ NULL                  │ NULL            │ 2018    │\n",
       "└─────────┴───────────┴───────────┴─────────────┴─────────────────┴────────────┴──────────┴─────────────┴─────────┴───────────┴────────────────┴────────────┴────────────────┴────────────┴─────────────────────┴──────────┴─────────────┴────────────┴─────────┴─────────┴────────────────────┴────────────────────┴──────────┴────────────┴────────┴─────────────┴──────────────────┴────────────────┴────────────────────────┴────────────────────────┴──────────┴─────────┴───────────┴────────────┴───────────┴─────────────────────┴───────────┴───────────────┴─────────────┴─────────────────┴─────────────────┴───────────────┴────────────────────┴────────────┴─────────────────────────┴──────────────┴─────────────────┴──────────────┴────────────────────┴────────────────────────────┴─────────────────────────────┴─────────────┴──────────────────┴──────────────────┴───────────┴───────────────────────────┴────────────────┴──────────────┴─────────────┴─────────────┴─────────────┴─────────────┴─────────────┴────────────────────┴──────────────┴─────────┴─────────────┴─────────────┴────────────┴──────────┴──────────────────┴────────┴─────────────┴──────────────┴──────────────────────┴─────────────┴────────────────┴─────────┴──────────────────────────┴─────────────┴────────────────────┴──────────────────────┴───────────────────────┴────────────────┴──────────┴──────────────────────┴──────────────────────────┴───────────────────────┴────────────────────────────────┴───────────────────────┴────────────────┴─────────────────┴─────────────┴───────────┴───────────┴───────────────┴───────────────┴─────────────────────┴──────────┴──────────────────┴──────────────┴────────────────────┴────────────────────┴────────────────┴──────────────────┴──────────────────────┴───────────┴─────────────────┴───────────────────┴────────────────┴────────────────────────────┴─────────────────┴──────────────────────────┴────────────────────────┴──────────────────┴──────────────────┴────────────────────┴─────────────────────┴───────────────────────┴──────────────────────────────────┴────────────────────────────────────┴─────────────────────────────────────┴───────────────┴───────────────┴─────────────────┴─────────────────┴───────────────┴─────────────────┴─────────────────────┴───────────────────┴─────────────────────────┴─────────────────┴──────────────┴──────────────────────┴────────────────────────────────────────────┴────────────────────────────────┴──────────────────────────────┴─────────────────────┴──────────────────────┴───────────────────────────┴───────────────────┴─────────────────┴───────────────────┴───────────────────────┴─────────────────┴─────────┘"
      ]
     },
     "execution_count": 121,
     "metadata": {},
     "output_type": "execute_result"
    }
   ],
   "source": [
    "# df.show(max_rows=5)\n",
    "duckdb.sql(\"SELECT * FROM df LIMIT 5\")"
   ]
  },
  {
   "cell_type": "markdown",
   "metadata": {},
   "source": [
    "|   lib  | tamanho arquivo | tamanho memoria | tempo de carregamento  | metodo |\n",
    "|--------|-----------------|-----------------|------------------------|--------|\n",
    "| duckdb | 60.5 MB         |  536.2 MB       | 01:35 s                | sql, df     |\n",
    "| duckdb | 60.5 MB         |  536.2 MB       | 00:27 s                | query, df   |\n",
    "| duckdb | 60.5 MB         |  536.2 MB       | 00:33 s                | sql, to_df   |\n",
    "| duckdb | 60.5 MB         |  536.2 MB       | 00:41 s                | query, to_df |\n",
    "| duckdb | 60.5 MB         | 000.00 MB       | 00:29 s                | create table |\n",
    "| duckdb | 60.5 MB         |  441.8 MB       | 00:14 s                | sql, pl     |\n",
    "| duckdb | 60.5 MB         |  441.8 MB       | 00:26 s                | query, pl   |\n",
    "| duckdb | 60.5 MB         | 000.00 MB       | 01:00 s                | read_parquet |"
   ]
  },
  {
   "cell_type": "markdown",
   "metadata": {},
   "source": [
    "# Dask"
   ]
  },
  {
   "cell_type": "code",
   "execution_count": null,
   "metadata": {},
   "outputs": [],
   "source": [
    "# DOCS\n",
    "# https://docs.dask.org/en/stable/\n",
    "# https://docs.dask.org/en/latest/dataframe-create.html\n",
    "# https://docs.dask.org/en/stable/dataframe-api.html\n",
    "# https://examples.dask.org/machine-learning/scale-scikit-learn.html\n",
    "\n",
    "# INSTALL\n",
    "# pip install dask\n",
    "# pip install \"dask[complete]\"\n",
    "# pip install \"dask[array]\"       # Install requirements for dask array\n",
    "# pip install \"dask[dataframe]\"   # Install requirements for dask dataframe\n",
    "# pip install \"dask[diagnostics]\" # Install requirements for dask diagnostics\n",
    "# pip install \"dask[distributed]\" # Install requirements for distributed dask"
   ]
  },
  {
   "cell_type": "code",
   "execution_count": 8,
   "metadata": {},
   "outputs": [],
   "source": [
    "import pandas as pd\n",
    "import dask\n",
    "import dask.dataframe as dd\n",
    "from dask.distributed import LocalCluster\n",
    "from dask.distributed import Client"
   ]
  },
  {
   "cell_type": "code",
   "execution_count": 9,
   "metadata": {},
   "outputs": [],
   "source": [
    "# cluster = LocalCluster()\n",
    "# client = cluster.get_client()\n",
    "\n",
    "client = Client(n_workers=2, threads_per_worker=4, processes=True, memory_limit='8GB')"
   ]
  },
  {
   "cell_type": "code",
   "execution_count": null,
   "metadata": {},
   "outputs": [],
   "source": [
    "# df = pd.read_parquet(path=s3_file)\n",
    "# ddf = dd.from_pandas(df, npartitions=10)\n",
    "\n",
    "# df = dd.read_sql_query(sql=\"\", con=conn, npartitions=4)"
   ]
  },
  {
   "cell_type": "code",
   "execution_count": 43,
   "metadata": {},
   "outputs": [],
   "source": [
    "df = dd.read_parquet(path=s3_file, engine='pyarrow', dtype_backend=None, arrow_to_pandas=None)"
   ]
  },
  {
   "cell_type": "code",
   "execution_count": 45,
   "metadata": {},
   "outputs": [
    {
     "data": {
      "text/html": [
       "<div>\n",
       "<style scoped>\n",
       "    .dataframe tbody tr th:only-of-type {\n",
       "        vertical-align: middle;\n",
       "    }\n",
       "\n",
       "    .dataframe tbody tr th {\n",
       "        vertical-align: top;\n",
       "    }\n",
       "\n",
       "    .dataframe thead th {\n",
       "        text-align: right;\n",
       "    }\n",
       "</style>\n",
       "<table border=\"1\" class=\"dataframe\">\n",
       "  <thead>\n",
       "    <tr style=\"text-align: right;\">\n",
       "      <th></th>\n",
       "      <th>id</th>\n",
       "      <th>member_id</th>\n",
       "      <th>loan_amnt</th>\n",
       "      <th>funded_amnt</th>\n",
       "      <th>funded_amnt_inv</th>\n",
       "      <th>term</th>\n",
       "      <th>int_rate</th>\n",
       "      <th>installment</th>\n",
       "      <th>grade</th>\n",
       "      <th>sub_grade</th>\n",
       "      <th>...</th>\n",
       "      <th>hardship_last_payment_amount</th>\n",
       "      <th>disbursement_method</th>\n",
       "      <th>debt_settlement_flag</th>\n",
       "      <th>debt_settlement_flag_date</th>\n",
       "      <th>settlement_status</th>\n",
       "      <th>settlement_date</th>\n",
       "      <th>settlement_amount</th>\n",
       "      <th>settlement_percentage</th>\n",
       "      <th>settlement_term</th>\n",
       "      <th>year</th>\n",
       "    </tr>\n",
       "  </thead>\n",
       "  <tbody>\n",
       "    <tr>\n",
       "      <th>0</th>\n",
       "      <td>&lt;NA&gt;</td>\n",
       "      <td>&lt;NA&gt;</td>\n",
       "      <td>2500</td>\n",
       "      <td>2500</td>\n",
       "      <td>2500</td>\n",
       "      <td>36 months</td>\n",
       "      <td>13.56</td>\n",
       "      <td>84.92</td>\n",
       "      <td>C</td>\n",
       "      <td>C1</td>\n",
       "      <td>...</td>\n",
       "      <td>&lt;NA&gt;</td>\n",
       "      <td>Cash</td>\n",
       "      <td>N</td>\n",
       "      <td>&lt;NA&gt;</td>\n",
       "      <td>&lt;NA&gt;</td>\n",
       "      <td>&lt;NA&gt;</td>\n",
       "      <td>&lt;NA&gt;</td>\n",
       "      <td>&lt;NA&gt;</td>\n",
       "      <td>&lt;NA&gt;</td>\n",
       "      <td>2018</td>\n",
       "    </tr>\n",
       "    <tr>\n",
       "      <th>1</th>\n",
       "      <td>&lt;NA&gt;</td>\n",
       "      <td>&lt;NA&gt;</td>\n",
       "      <td>30000</td>\n",
       "      <td>30000</td>\n",
       "      <td>30000</td>\n",
       "      <td>60 months</td>\n",
       "      <td>18.94</td>\n",
       "      <td>777.23</td>\n",
       "      <td>D</td>\n",
       "      <td>D2</td>\n",
       "      <td>...</td>\n",
       "      <td>&lt;NA&gt;</td>\n",
       "      <td>Cash</td>\n",
       "      <td>N</td>\n",
       "      <td>&lt;NA&gt;</td>\n",
       "      <td>&lt;NA&gt;</td>\n",
       "      <td>&lt;NA&gt;</td>\n",
       "      <td>&lt;NA&gt;</td>\n",
       "      <td>&lt;NA&gt;</td>\n",
       "      <td>&lt;NA&gt;</td>\n",
       "      <td>2018</td>\n",
       "    </tr>\n",
       "    <tr>\n",
       "      <th>2</th>\n",
       "      <td>&lt;NA&gt;</td>\n",
       "      <td>&lt;NA&gt;</td>\n",
       "      <td>5000</td>\n",
       "      <td>5000</td>\n",
       "      <td>5000</td>\n",
       "      <td>36 months</td>\n",
       "      <td>17.97</td>\n",
       "      <td>180.69</td>\n",
       "      <td>D</td>\n",
       "      <td>D1</td>\n",
       "      <td>...</td>\n",
       "      <td>&lt;NA&gt;</td>\n",
       "      <td>Cash</td>\n",
       "      <td>N</td>\n",
       "      <td>&lt;NA&gt;</td>\n",
       "      <td>&lt;NA&gt;</td>\n",
       "      <td>&lt;NA&gt;</td>\n",
       "      <td>&lt;NA&gt;</td>\n",
       "      <td>&lt;NA&gt;</td>\n",
       "      <td>&lt;NA&gt;</td>\n",
       "      <td>2018</td>\n",
       "    </tr>\n",
       "    <tr>\n",
       "      <th>3</th>\n",
       "      <td>&lt;NA&gt;</td>\n",
       "      <td>&lt;NA&gt;</td>\n",
       "      <td>4000</td>\n",
       "      <td>4000</td>\n",
       "      <td>4000</td>\n",
       "      <td>36 months</td>\n",
       "      <td>18.94</td>\n",
       "      <td>146.51</td>\n",
       "      <td>D</td>\n",
       "      <td>D2</td>\n",
       "      <td>...</td>\n",
       "      <td>&lt;NA&gt;</td>\n",
       "      <td>Cash</td>\n",
       "      <td>N</td>\n",
       "      <td>&lt;NA&gt;</td>\n",
       "      <td>&lt;NA&gt;</td>\n",
       "      <td>&lt;NA&gt;</td>\n",
       "      <td>&lt;NA&gt;</td>\n",
       "      <td>&lt;NA&gt;</td>\n",
       "      <td>&lt;NA&gt;</td>\n",
       "      <td>2018</td>\n",
       "    </tr>\n",
       "    <tr>\n",
       "      <th>4</th>\n",
       "      <td>&lt;NA&gt;</td>\n",
       "      <td>&lt;NA&gt;</td>\n",
       "      <td>30000</td>\n",
       "      <td>30000</td>\n",
       "      <td>30000</td>\n",
       "      <td>60 months</td>\n",
       "      <td>16.14</td>\n",
       "      <td>731.78</td>\n",
       "      <td>C</td>\n",
       "      <td>C4</td>\n",
       "      <td>...</td>\n",
       "      <td>&lt;NA&gt;</td>\n",
       "      <td>Cash</td>\n",
       "      <td>N</td>\n",
       "      <td>&lt;NA&gt;</td>\n",
       "      <td>&lt;NA&gt;</td>\n",
       "      <td>&lt;NA&gt;</td>\n",
       "      <td>&lt;NA&gt;</td>\n",
       "      <td>&lt;NA&gt;</td>\n",
       "      <td>&lt;NA&gt;</td>\n",
       "      <td>2018</td>\n",
       "    </tr>\n",
       "  </tbody>\n",
       "</table>\n",
       "<p>5 rows × 146 columns</p>\n",
       "</div>"
      ],
      "text/plain": [
       "     id member_id  loan_amnt  funded_amnt  funded_amnt_inv        term  \\\n",
       "0  <NA>      <NA>       2500         2500             2500   36 months   \n",
       "1  <NA>      <NA>      30000        30000            30000   60 months   \n",
       "2  <NA>      <NA>       5000         5000             5000   36 months   \n",
       "3  <NA>      <NA>       4000         4000             4000   36 months   \n",
       "4  <NA>      <NA>      30000        30000            30000   60 months   \n",
       "\n",
       "   int_rate  installment grade sub_grade  ... hardship_last_payment_amount  \\\n",
       "0     13.56        84.92     C        C1  ...                         <NA>   \n",
       "1     18.94       777.23     D        D2  ...                         <NA>   \n",
       "2     17.97       180.69     D        D1  ...                         <NA>   \n",
       "3     18.94       146.51     D        D2  ...                         <NA>   \n",
       "4     16.14       731.78     C        C4  ...                         <NA>   \n",
       "\n",
       "  disbursement_method debt_settlement_flag  debt_settlement_flag_date  \\\n",
       "0                Cash                    N                       <NA>   \n",
       "1                Cash                    N                       <NA>   \n",
       "2                Cash                    N                       <NA>   \n",
       "3                Cash                    N                       <NA>   \n",
       "4                Cash                    N                       <NA>   \n",
       "\n",
       "  settlement_status settlement_date settlement_amount settlement_percentage  \\\n",
       "0              <NA>            <NA>              <NA>                  <NA>   \n",
       "1              <NA>            <NA>              <NA>                  <NA>   \n",
       "2              <NA>            <NA>              <NA>                  <NA>   \n",
       "3              <NA>            <NA>              <NA>                  <NA>   \n",
       "4              <NA>            <NA>              <NA>                  <NA>   \n",
       "\n",
       "  settlement_term  year  \n",
       "0            <NA>  2018  \n",
       "1            <NA>  2018  \n",
       "2            <NA>  2018  \n",
       "3            <NA>  2018  \n",
       "4            <NA>  2018  \n",
       "\n",
       "[5 rows x 146 columns]"
      ]
     },
     "execution_count": 45,
     "metadata": {},
     "output_type": "execute_result"
    }
   ],
   "source": [
    "df.head(5)"
   ]
  },
  {
   "cell_type": "code",
   "execution_count": 37,
   "metadata": {},
   "outputs": [
    {
     "data": {
      "text/plain": [
       "1"
      ]
     },
     "execution_count": 37,
     "metadata": {},
     "output_type": "execute_result"
    }
   ],
   "source": [
    "df.npartitions"
   ]
  },
  {
   "cell_type": "code",
   "execution_count": 42,
   "metadata": {},
   "outputs": [
    {
     "data": {
      "text/plain": [
       "10"
      ]
     },
     "execution_count": 42,
     "metadata": {},
     "output_type": "execute_result"
    }
   ],
   "source": [
    "df = df.repartition(npartitions=10)\n",
    "df.npartitions"
   ]
  },
  {
   "cell_type": "code",
   "execution_count": 34,
   "metadata": {},
   "outputs": [],
   "source": [
    "# size_memory = df.memory_usage(index=True, deep=True).sum()\n",
    "# print(\"Tamanho estimado em memoria:\", size_memory, \"MB\")"
   ]
  },
  {
   "cell_type": "markdown",
   "metadata": {},
   "source": [
    "|   lib  | tamanho arquivo | tamanho memoria | tempo de carregamento | engine | dtype_backend |\n",
    "|--------|-----------------|-----------------|-----------------------|--------|---------------|\n",
    "| pandas | 60.5 MB         | 000.00 MB       | 00:00 s               | none   | none |\n",
    "| pandas | 60.5 MB         | 000.00 MB       | 00:00 s               | pyarrow   | none |\n",
    "| pandas | 60.5 MB         | 000.00 MB       | 00:00 s               | none   | none |"
   ]
  },
  {
   "cell_type": "markdown",
   "metadata": {},
   "source": [
    "# Daft"
   ]
  },
  {
   "cell_type": "code",
   "execution_count": null,
   "metadata": {},
   "outputs": [],
   "source": [
    "# DOCS\n",
    "# https://www.getdaft.io/projects/docs/en/latest/index.html\n",
    "# https://www.getdaft.io/projects/docs/en/latest/api_docs/index.html\n",
    "# https://www.getdaft.io/projects/docs/en/latest/api_docs/doc_gen/io_functions/daft.read_parquet.html\n",
    "# https://www.getdaft.io/projects/docs/en/latest/api_docs/dataframe.html\n",
    "\n",
    "# INSTALL\n",
    "# pip install getdaft\n",
    "# pip install getdaft[aws]\n",
    "# pip install getdaft[ray]\n",
    "# pip install getdaft[all]"
   ]
  },
  {
   "cell_type": "code",
   "execution_count": 46,
   "metadata": {},
   "outputs": [],
   "source": [
    "import daft\n",
    "from daft import DataType, udf"
   ]
  },
  {
   "cell_type": "code",
   "execution_count": null,
   "metadata": {},
   "outputs": [],
   "source": [
    "df = daft.read_parquet(path=s3_file, use_native_downloader=True)"
   ]
  },
  {
   "cell_type": "code",
   "execution_count": 48,
   "metadata": {},
   "outputs": [
    {
     "data": {
      "text/html": [
       "<div>\n",
       "<table class=\"dataframe\">\n",
       "<thead><tr><th style=\"text-wrap: nowrap; max-width:192px; overflow:auto; text-align:left\">id<br />Utf8</th><th style=\"text-wrap: nowrap; max-width:192px; overflow:auto; text-align:left\">member_id<br />Utf8</th><th style=\"text-wrap: nowrap; max-width:192px; overflow:auto; text-align:left\">loan_amnt<br />Int64</th><th style=\"text-wrap: nowrap; max-width:192px; overflow:auto; text-align:left\">funded_amnt<br />Int64</th><th style=\"text-wrap: nowrap; max-width:192px; overflow:auto; text-align:left\">funded_amnt_inv<br />Int64</th><th style=\"text-wrap: nowrap; max-width:192px; overflow:auto; text-align:left\">term<br />Utf8</th><th style=\"text-wrap: nowrap; max-width:192px; overflow:auto; text-align:left\">int_rate<br />Float64</th><th style=\"text-wrap: nowrap; max-width:192px; overflow:auto; text-align:left\">installment<br />Float64</th><th style=\"text-wrap: nowrap; max-width:192px; overflow:auto; text-align:left\">grade<br />Utf8</th><th style=\"text-wrap: nowrap; max-width:192px; overflow:auto; text-align:left\">sub_grade<br />Utf8</th><th style=\"text-wrap: nowrap; max-width:192px; overflow:auto; text-align:left\">emp_title<br />Utf8</th><th style=\"text-wrap: nowrap; max-width:192px; overflow:auto; text-align:left\">emp_length<br />Utf8</th><th style=\"text-wrap: nowrap; max-width:192px; overflow:auto; text-align:left\">home_ownership<br />Utf8</th><th style=\"text-wrap: nowrap; max-width:192px; overflow:auto; text-align:left\">annual_inc<br />Float64</th><th style=\"text-wrap: nowrap; max-width:192px; overflow:auto; text-align:left\">verification_status<br />Utf8</th><th style=\"text-wrap: nowrap; max-width:192px; overflow:auto; text-align:left\">issue_d<br />Utf8</th><th style=\"text-wrap: nowrap; max-width:192px; overflow:auto; text-align:left\">loan_status<br />Utf8</th><th style=\"text-wrap: nowrap; max-width:192px; overflow:auto; text-align:left\">pymnt_plan<br />Utf8</th><th style=\"text-wrap: nowrap; max-width:192px; overflow:auto; text-align:left\">url<br />Utf8</th><th style=\"text-wrap: nowrap; max-width:192px; overflow:auto; text-align:left\">desc<br />Utf8</th><th style=\"text-wrap: nowrap; max-width:192px; overflow:auto; text-align:left\">purpose<br />Utf8</th><th style=\"text-wrap: nowrap; max-width:192px; overflow:auto; text-align:left\">title<br />Utf8</th><th style=\"text-wrap: nowrap; max-width:192px; overflow:auto; text-align:left\">zip_code<br />Utf8</th><th style=\"text-wrap: nowrap; max-width:192px; overflow:auto; text-align:left\">addr_state<br />Utf8</th><th style=\"text-wrap: nowrap; max-width:192px; overflow:auto; text-align:left\">dti<br />Float64</th><th style=\"text-wrap: nowrap; max-width:192px; overflow:auto; text-align:left\">delinq_2yrs<br />Int64</th><th style=\"text-wrap: nowrap; max-width:192px; overflow:auto; text-align:left\">earliest_cr_line<br />Utf8</th><th style=\"text-wrap: nowrap; max-width:192px; overflow:auto; text-align:left\">inq_last_6mths<br />Int64</th><th style=\"text-wrap: nowrap; max-width:192px; overflow:auto; text-align:left\">mths_since_last_delinq<br />Int64</th><th style=\"text-wrap: nowrap; max-width:192px; overflow:auto; text-align:left\">mths_since_last_record<br />Int64</th><th style=\"text-wrap: nowrap; max-width:192px; overflow:auto; text-align:left\">open_acc<br />Int64</th><th style=\"text-wrap: nowrap; max-width:192px; overflow:auto; text-align:left\">pub_rec<br />Int64</th><th style=\"text-wrap: nowrap; max-width:192px; overflow:auto; text-align:left\">revol_bal<br />Int64</th><th style=\"text-wrap: nowrap; max-width:192px; overflow:auto; text-align:left\">revol_util<br />Float64</th><th style=\"text-wrap: nowrap; max-width:192px; overflow:auto; text-align:left\">total_acc<br />Int64</th><th style=\"text-wrap: nowrap; max-width:192px; overflow:auto; text-align:left\">initial_list_status<br />Utf8</th><th style=\"text-wrap: nowrap; max-width:192px; overflow:auto; text-align:left\">out_prncp<br />Float64</th><th style=\"text-wrap: nowrap; max-width:192px; overflow:auto; text-align:left\">out_prncp_inv<br />Float64</th><th style=\"text-wrap: nowrap; max-width:192px; overflow:auto; text-align:left\">total_pymnt<br />Float64</th><th style=\"text-wrap: nowrap; max-width:192px; overflow:auto; text-align:left\">total_pymnt_inv<br />Float64</th><th style=\"text-wrap: nowrap; max-width:192px; overflow:auto; text-align:left\">total_rec_prncp<br />Float64</th><th style=\"text-wrap: nowrap; max-width:192px; overflow:auto; text-align:left\">total_rec_int<br />Float64</th><th style=\"text-wrap: nowrap; max-width:192px; overflow:auto; text-align:left\">total_rec_late_fee<br />Float64</th><th style=\"text-wrap: nowrap; max-width:192px; overflow:auto; text-align:left\">recoveries<br />Float64</th><th style=\"text-wrap: nowrap; max-width:192px; overflow:auto; text-align:left\">collection_recovery_fee<br />Float64</th><th style=\"text-wrap: nowrap; max-width:192px; overflow:auto; text-align:left\">last_pymnt_d<br />Utf8</th><th style=\"text-wrap: nowrap; max-width:192px; overflow:auto; text-align:left\">last_pymnt_amnt<br />Float64</th><th style=\"text-wrap: nowrap; max-width:192px; overflow:auto; text-align:left\">next_pymnt_d<br />Utf8</th><th style=\"text-wrap: nowrap; max-width:192px; overflow:auto; text-align:left\">last_credit_pull_d<br />Utf8</th><th style=\"text-wrap: nowrap; max-width:192px; overflow:auto; text-align:left\">collections_12_mths_ex_med<br />Int64</th><th style=\"text-wrap: nowrap; max-width:192px; overflow:auto; text-align:left\">mths_since_last_major_derog<br />Int64</th><th style=\"text-wrap: nowrap; max-width:192px; overflow:auto; text-align:left\">policy_code<br />Int64</th><th style=\"text-wrap: nowrap; max-width:192px; overflow:auto; text-align:left\">application_type<br />Utf8</th><th style=\"text-wrap: nowrap; max-width:192px; overflow:auto; text-align:left\">annual_inc_joint<br />Float64</th><th style=\"text-wrap: nowrap; max-width:192px; overflow:auto; text-align:left\">dti_joint<br />Float64</th><th style=\"text-wrap: nowrap; max-width:192px; overflow:auto; text-align:left\">verification_status_joint<br />Utf8</th><th style=\"text-wrap: nowrap; max-width:192px; overflow:auto; text-align:left\">acc_now_delinq<br />Int64</th><th style=\"text-wrap: nowrap; max-width:192px; overflow:auto; text-align:left\">tot_coll_amt<br />Int64</th><th style=\"text-wrap: nowrap; max-width:192px; overflow:auto; text-align:left\">tot_cur_bal<br />Int64</th><th style=\"text-wrap: nowrap; max-width:192px; overflow:auto; text-align:left\">open_acc_6m<br />Int64</th><th style=\"text-wrap: nowrap; max-width:192px; overflow:auto; text-align:left\">open_act_il<br />Int64</th><th style=\"text-wrap: nowrap; max-width:192px; overflow:auto; text-align:left\">open_il_12m<br />Int64</th><th style=\"text-wrap: nowrap; max-width:192px; overflow:auto; text-align:left\">open_il_24m<br />Int64</th><th style=\"text-wrap: nowrap; max-width:192px; overflow:auto; text-align:left\">mths_since_rcnt_il<br />Int64</th><th style=\"text-wrap: nowrap; max-width:192px; overflow:auto; text-align:left\">total_bal_il<br />Int64</th><th style=\"text-wrap: nowrap; max-width:192px; overflow:auto; text-align:left\">il_util<br />Int64</th><th style=\"text-wrap: nowrap; max-width:192px; overflow:auto; text-align:left\">open_rv_12m<br />Int64</th><th style=\"text-wrap: nowrap; max-width:192px; overflow:auto; text-align:left\">open_rv_24m<br />Int64</th><th style=\"text-wrap: nowrap; max-width:192px; overflow:auto; text-align:left\">max_bal_bc<br />Int64</th><th style=\"text-wrap: nowrap; max-width:192px; overflow:auto; text-align:left\">all_util<br />Int64</th><th style=\"text-wrap: nowrap; max-width:192px; overflow:auto; text-align:left\">total_rev_hi_lim<br />Int64</th><th style=\"text-wrap: nowrap; max-width:192px; overflow:auto; text-align:left\">inq_fi<br />Int64</th><th style=\"text-wrap: nowrap; max-width:192px; overflow:auto; text-align:left\">total_cu_tl<br />Int64</th><th style=\"text-wrap: nowrap; max-width:192px; overflow:auto; text-align:left\">inq_last_12m<br />Int64</th><th style=\"text-wrap: nowrap; max-width:192px; overflow:auto; text-align:left\">acc_open_past_24mths<br />Int64</th><th style=\"text-wrap: nowrap; max-width:192px; overflow:auto; text-align:left\">avg_cur_bal<br />Int64</th><th style=\"text-wrap: nowrap; max-width:192px; overflow:auto; text-align:left\">bc_open_to_buy<br />Int64</th><th style=\"text-wrap: nowrap; max-width:192px; overflow:auto; text-align:left\">bc_util<br />Float64</th><th style=\"text-wrap: nowrap; max-width:192px; overflow:auto; text-align:left\">chargeoff_within_12_mths<br />Int64</th><th style=\"text-wrap: nowrap; max-width:192px; overflow:auto; text-align:left\">delinq_amnt<br />Int64</th><th style=\"text-wrap: nowrap; max-width:192px; overflow:auto; text-align:left\">mo_sin_old_il_acct<br />Int64</th><th style=\"text-wrap: nowrap; max-width:192px; overflow:auto; text-align:left\">mo_sin_old_rev_tl_op<br />Int64</th><th style=\"text-wrap: nowrap; max-width:192px; overflow:auto; text-align:left\">mo_sin_rcnt_rev_tl_op<br />Int64</th><th style=\"text-wrap: nowrap; max-width:192px; overflow:auto; text-align:left\">mo_sin_rcnt_tl<br />Int64</th><th style=\"text-wrap: nowrap; max-width:192px; overflow:auto; text-align:left\">mort_acc<br />Int64</th><th style=\"text-wrap: nowrap; max-width:192px; overflow:auto; text-align:left\">mths_since_recent_bc<br />Int64</th><th style=\"text-wrap: nowrap; max-width:192px; overflow:auto; text-align:left\">mths_since_recent_bc_dlq<br />Int64</th><th style=\"text-wrap: nowrap; max-width:192px; overflow:auto; text-align:left\">mths_since_recent_inq<br />Int64</th><th style=\"text-wrap: nowrap; max-width:192px; overflow:auto; text-align:left\">mths_since_recent_revol_delinq<br />Int64</th><th style=\"text-wrap: nowrap; max-width:192px; overflow:auto; text-align:left\">num_accts_ever_120_pd<br />Int64</th><th style=\"text-wrap: nowrap; max-width:192px; overflow:auto; text-align:left\">num_actv_bc_tl<br />Int64</th><th style=\"text-wrap: nowrap; max-width:192px; overflow:auto; text-align:left\">num_actv_rev_tl<br />Int64</th><th style=\"text-wrap: nowrap; max-width:192px; overflow:auto; text-align:left\">num_bc_sats<br />Int64</th><th style=\"text-wrap: nowrap; max-width:192px; overflow:auto; text-align:left\">num_bc_tl<br />Int64</th><th style=\"text-wrap: nowrap; max-width:192px; overflow:auto; text-align:left\">num_il_tl<br />Int64</th><th style=\"text-wrap: nowrap; max-width:192px; overflow:auto; text-align:left\">num_op_rev_tl<br />Int64</th><th style=\"text-wrap: nowrap; max-width:192px; overflow:auto; text-align:left\">num_rev_accts<br />Int64</th><th style=\"text-wrap: nowrap; max-width:192px; overflow:auto; text-align:left\">num_rev_tl_bal_gt_0<br />Int64</th><th style=\"text-wrap: nowrap; max-width:192px; overflow:auto; text-align:left\">num_sats<br />Int64</th><th style=\"text-wrap: nowrap; max-width:192px; overflow:auto; text-align:left\">num_tl_120dpd_2m<br />Int64</th><th style=\"text-wrap: nowrap; max-width:192px; overflow:auto; text-align:left\">num_tl_30dpd<br />Int64</th><th style=\"text-wrap: nowrap; max-width:192px; overflow:auto; text-align:left\">num_tl_90g_dpd_24m<br />Int64</th><th style=\"text-wrap: nowrap; max-width:192px; overflow:auto; text-align:left\">num_tl_op_past_12m<br />Int64</th><th style=\"text-wrap: nowrap; max-width:192px; overflow:auto; text-align:left\">pct_tl_nvr_dlq<br />Float64</th><th style=\"text-wrap: nowrap; max-width:192px; overflow:auto; text-align:left\">percent_bc_gt_75<br />Float64</th><th style=\"text-wrap: nowrap; max-width:192px; overflow:auto; text-align:left\">pub_rec_bankruptcies<br />Int64</th><th style=\"text-wrap: nowrap; max-width:192px; overflow:auto; text-align:left\">tax_liens<br />Int64</th><th style=\"text-wrap: nowrap; max-width:192px; overflow:auto; text-align:left\">tot_hi_cred_lim<br />Int64</th><th style=\"text-wrap: nowrap; max-width:192px; overflow:auto; text-align:left\">total_bal_ex_mort<br />Int64</th><th style=\"text-wrap: nowrap; max-width:192px; overflow:auto; text-align:left\">total_bc_limit<br />Int64</th><th style=\"text-wrap: nowrap; max-width:192px; overflow:auto; text-align:left\">total_il_high_credit_limit<br />Int64</th><th style=\"text-wrap: nowrap; max-width:192px; overflow:auto; text-align:left\">revol_bal_joint<br />Int64</th><th style=\"text-wrap: nowrap; max-width:192px; overflow:auto; text-align:left\">sec_app_earliest_cr_line<br />Utf8</th><th style=\"text-wrap: nowrap; max-width:192px; overflow:auto; text-align:left\">sec_app_inq_last_6mths<br />Int64</th><th style=\"text-wrap: nowrap; max-width:192px; overflow:auto; text-align:left\">sec_app_mort_acc<br />Int64</th><th style=\"text-wrap: nowrap; max-width:192px; overflow:auto; text-align:left\">sec_app_open_acc<br />Int64</th><th style=\"text-wrap: nowrap; max-width:192px; overflow:auto; text-align:left\">sec_app_revol_util<br />Float64</th><th style=\"text-wrap: nowrap; max-width:192px; overflow:auto; text-align:left\">sec_app_open_act_il<br />Int64</th><th style=\"text-wrap: nowrap; max-width:192px; overflow:auto; text-align:left\">sec_app_num_rev_accts<br />Int64</th><th style=\"text-wrap: nowrap; max-width:192px; overflow:auto; text-align:left\">sec_app_chargeoff_within_12_mths<br />Int64</th><th style=\"text-wrap: nowrap; max-width:192px; overflow:auto; text-align:left\">sec_app_collections_12_mths_ex_med<br />Int64</th><th style=\"text-wrap: nowrap; max-width:192px; overflow:auto; text-align:left\">sec_app_mths_since_last_major_derog<br />Int64</th><th style=\"text-wrap: nowrap; max-width:192px; overflow:auto; text-align:left\">hardship_flag<br />Utf8</th><th style=\"text-wrap: nowrap; max-width:192px; overflow:auto; text-align:left\">hardship_type<br />Utf8</th><th style=\"text-wrap: nowrap; max-width:192px; overflow:auto; text-align:left\">hardship_reason<br />Utf8</th><th style=\"text-wrap: nowrap; max-width:192px; overflow:auto; text-align:left\">hardship_status<br />Utf8</th><th style=\"text-wrap: nowrap; max-width:192px; overflow:auto; text-align:left\">deferral_term<br />Utf8</th><th style=\"text-wrap: nowrap; max-width:192px; overflow:auto; text-align:left\">hardship_amount<br />Utf8</th><th style=\"text-wrap: nowrap; max-width:192px; overflow:auto; text-align:left\">hardship_start_date<br />Utf8</th><th style=\"text-wrap: nowrap; max-width:192px; overflow:auto; text-align:left\">hardship_end_date<br />Utf8</th><th style=\"text-wrap: nowrap; max-width:192px; overflow:auto; text-align:left\">payment_plan_start_date<br />Utf8</th><th style=\"text-wrap: nowrap; max-width:192px; overflow:auto; text-align:left\">hardship_length<br />Utf8</th><th style=\"text-wrap: nowrap; max-width:192px; overflow:auto; text-align:left\">hardship_dpd<br />Utf8</th><th style=\"text-wrap: nowrap; max-width:192px; overflow:auto; text-align:left\">hardship_loan_status<br />Utf8</th><th style=\"text-wrap: nowrap; max-width:192px; overflow:auto; text-align:left\">orig_projected_additional_accrued_interest<br />Utf8</th><th style=\"text-wrap: nowrap; max-width:192px; overflow:auto; text-align:left\">hardship_payoff_balance_amount<br />Utf8</th><th style=\"text-wrap: nowrap; max-width:192px; overflow:auto; text-align:left\">hardship_last_payment_amount<br />Utf8</th><th style=\"text-wrap: nowrap; max-width:192px; overflow:auto; text-align:left\">disbursement_method<br />Utf8</th><th style=\"text-wrap: nowrap; max-width:192px; overflow:auto; text-align:left\">debt_settlement_flag<br />Utf8</th><th style=\"text-wrap: nowrap; max-width:192px; overflow:auto; text-align:left\">debt_settlement_flag_date<br />Utf8</th><th style=\"text-wrap: nowrap; max-width:192px; overflow:auto; text-align:left\">settlement_status<br />Utf8</th><th style=\"text-wrap: nowrap; max-width:192px; overflow:auto; text-align:left\">settlement_date<br />Utf8</th><th style=\"text-wrap: nowrap; max-width:192px; overflow:auto; text-align:left\">settlement_amount<br />Utf8</th><th style=\"text-wrap: nowrap; max-width:192px; overflow:auto; text-align:left\">settlement_percentage<br />Utf8</th><th style=\"text-wrap: nowrap; max-width:192px; overflow:auto; text-align:left\">settlement_term<br />Utf8</th><th style=\"text-wrap: nowrap; max-width:192px; overflow:auto; text-align:left\">year<br />Utf8</th></tr></thead>\n",
       "<tbody>\n",
       "<tr><td><div style=\"text-align:left; max-width:192px; max-height:64px; overflow:auto\">None</div></td><td><div style=\"text-align:left; max-width:192px; max-height:64px; overflow:auto\">None</div></td><td><div style=\"text-align:left; max-width:192px; max-height:64px; overflow:auto\">2500</div></td><td><div style=\"text-align:left; max-width:192px; max-height:64px; overflow:auto\">2500</div></td><td><div style=\"text-align:left; max-width:192px; max-height:64px; overflow:auto\">2500</div></td><td><div style=\"text-align:left; max-width:192px; max-height:64px; overflow:auto\"> 36 months</div></td><td><div style=\"text-align:left; max-width:192px; max-height:64px; overflow:auto\">13.56</div></td><td><div style=\"text-align:left; max-width:192px; max-height:64px; overflow:auto\">84.92</div></td><td><div style=\"text-align:left; max-width:192px; max-height:64px; overflow:auto\">C</div></td><td><div style=\"text-align:left; max-width:192px; max-height:64px; overflow:auto\">C1</div></td><td><div style=\"text-align:left; max-width:192px; max-height:64px; overflow:auto\">Chef</div></td><td><div style=\"text-align:left; max-width:192px; max-height:64px; overflow:auto\">10+ years</div></td><td><div style=\"text-align:left; max-width:192px; max-height:64px; overflow:auto\">RENT</div></td><td><div style=\"text-align:left; max-width:192px; max-height:64px; overflow:auto\">55000</div></td><td><div style=\"text-align:left; max-width:192px; max-height:64px; overflow:auto\">Not Verified</div></td><td><div style=\"text-align:left; max-width:192px; max-height:64px; overflow:auto\">Dec-2018</div></td><td><div style=\"text-align:left; max-width:192px; max-height:64px; overflow:auto\">Current</div></td><td><div style=\"text-align:left; max-width:192px; max-height:64px; overflow:auto\">n</div></td><td><div style=\"text-align:left; max-width:192px; max-height:64px; overflow:auto\">None</div></td><td><div style=\"text-align:left; max-width:192px; max-height:64px; overflow:auto\">None</div></td><td><div style=\"text-align:left; max-width:192px; max-height:64px; overflow:auto\">debt_consolidation</div></td><td><div style=\"text-align:left; max-width:192px; max-height:64px; overflow:auto\">Debt consolidation</div></td><td><div style=\"text-align:left; max-width:192px; max-height:64px; overflow:auto\">109xx</div></td><td><div style=\"text-align:left; max-width:192px; max-height:64px; overflow:auto\">NY</div></td><td><div style=\"text-align:left; max-width:192px; max-height:64px; overflow:auto\">18.24</div></td><td><div style=\"text-align:left; max-width:192px; max-height:64px; overflow:auto\">0</div></td><td><div style=\"text-align:left; max-width:192px; max-height:64px; overflow:auto\">Apr-2001</div></td><td><div style=\"text-align:left; max-width:192px; max-height:64px; overflow:auto\">1</div></td><td><div style=\"text-align:left; max-width:192px; max-height:64px; overflow:auto\">None</div></td><td><div style=\"text-align:left; max-width:192px; max-height:64px; overflow:auto\">45</div></td><td><div style=\"text-align:left; max-width:192px; max-height:64px; overflow:auto\">9</div></td><td><div style=\"text-align:left; max-width:192px; max-height:64px; overflow:auto\">1</div></td><td><div style=\"text-align:left; max-width:192px; max-height:64px; overflow:auto\">4341</div></td><td><div style=\"text-align:left; max-width:192px; max-height:64px; overflow:auto\">10.3</div></td><td><div style=\"text-align:left; max-width:192px; max-height:64px; overflow:auto\">34</div></td><td><div style=\"text-align:left; max-width:192px; max-height:64px; overflow:auto\">w</div></td><td><div style=\"text-align:left; max-width:192px; max-height:64px; overflow:auto\">2386.02</div></td><td><div style=\"text-align:left; max-width:192px; max-height:64px; overflow:auto\">2386.02</div></td><td><div style=\"text-align:left; max-width:192px; max-height:64px; overflow:auto\">167.02</div></td><td><div style=\"text-align:left; max-width:192px; max-height:64px; overflow:auto\">167.02</div></td><td><div style=\"text-align:left; max-width:192px; max-height:64px; overflow:auto\">113.98</div></td><td><div style=\"text-align:left; max-width:192px; max-height:64px; overflow:auto\">53.04</div></td><td><div style=\"text-align:left; max-width:192px; max-height:64px; overflow:auto\">0</div></td><td><div style=\"text-align:left; max-width:192px; max-height:64px; overflow:auto\">0</div></td><td><div style=\"text-align:left; max-width:192px; max-height:64px; overflow:auto\">0</div></td><td><div style=\"text-align:left; max-width:192px; max-height:64px; overflow:auto\">Feb-2019</div></td><td><div style=\"text-align:left; max-width:192px; max-height:64px; overflow:auto\">84.92</div></td><td><div style=\"text-align:left; max-width:192px; max-height:64px; overflow:auto\">Mar-2019</div></td><td><div style=\"text-align:left; max-width:192px; max-height:64px; overflow:auto\">Feb-2019</div></td><td><div style=\"text-align:left; max-width:192px; max-height:64px; overflow:auto\">0</div></td><td><div style=\"text-align:left; max-width:192px; max-height:64px; overflow:auto\">None</div></td><td><div style=\"text-align:left; max-width:192px; max-height:64px; overflow:auto\">1</div></td><td><div style=\"text-align:left; max-width:192px; max-height:64px; overflow:auto\">Individual</div></td><td><div style=\"text-align:left; max-width:192px; max-height:64px; overflow:auto\">None</div></td><td><div style=\"text-align:left; max-width:192px; max-height:64px; overflow:auto\">None</div></td><td><div style=\"text-align:left; max-width:192px; max-height:64px; overflow:auto\">None</div></td><td><div style=\"text-align:left; max-width:192px; max-height:64px; overflow:auto\">0</div></td><td><div style=\"text-align:left; max-width:192px; max-height:64px; overflow:auto\">0</div></td><td><div style=\"text-align:left; max-width:192px; max-height:64px; overflow:auto\">16901</div></td><td><div style=\"text-align:left; max-width:192px; max-height:64px; overflow:auto\">2</div></td><td><div style=\"text-align:left; max-width:192px; max-height:64px; overflow:auto\">2</div></td><td><div style=\"text-align:left; max-width:192px; max-height:64px; overflow:auto\">1</div></td><td><div style=\"text-align:left; max-width:192px; max-height:64px; overflow:auto\">2</div></td><td><div style=\"text-align:left; max-width:192px; max-height:64px; overflow:auto\">2</div></td><td><div style=\"text-align:left; max-width:192px; max-height:64px; overflow:auto\">12560</div></td><td><div style=\"text-align:left; max-width:192px; max-height:64px; overflow:auto\">69</div></td><td><div style=\"text-align:left; max-width:192px; max-height:64px; overflow:auto\">2</div></td><td><div style=\"text-align:left; max-width:192px; max-height:64px; overflow:auto\">7</div></td><td><div style=\"text-align:left; max-width:192px; max-height:64px; overflow:auto\">2137</div></td><td><div style=\"text-align:left; max-width:192px; max-height:64px; overflow:auto\">28</div></td><td><div style=\"text-align:left; max-width:192px; max-height:64px; overflow:auto\">42000</div></td><td><div style=\"text-align:left; max-width:192px; max-height:64px; overflow:auto\">1</div></td><td><div style=\"text-align:left; max-width:192px; max-height:64px; overflow:auto\">11</div></td><td><div style=\"text-align:left; max-width:192px; max-height:64px; overflow:auto\">2</div></td><td><div style=\"text-align:left; max-width:192px; max-height:64px; overflow:auto\">9</div></td><td><div style=\"text-align:left; max-width:192px; max-height:64px; overflow:auto\">1878</div></td><td><div style=\"text-align:left; max-width:192px; max-height:64px; overflow:auto\">34360</div></td><td><div style=\"text-align:left; max-width:192px; max-height:64px; overflow:auto\">5.9</div></td><td><div style=\"text-align:left; max-width:192px; max-height:64px; overflow:auto\">0</div></td><td><div style=\"text-align:left; max-width:192px; max-height:64px; overflow:auto\">0</div></td><td><div style=\"text-align:left; max-width:192px; max-height:64px; overflow:auto\">140</div></td><td><div style=\"text-align:left; max-width:192px; max-height:64px; overflow:auto\">212</div></td><td><div style=\"text-align:left; max-width:192px; max-height:64px; overflow:auto\">1</div></td><td><div style=\"text-align:left; max-width:192px; max-height:64px; overflow:auto\">1</div></td><td><div style=\"text-align:left; max-width:192px; max-height:64px; overflow:auto\">0</div></td><td><div style=\"text-align:left; max-width:192px; max-height:64px; overflow:auto\">1</div></td><td><div style=\"text-align:left; max-width:192px; max-height:64px; overflow:auto\">None</div></td><td><div style=\"text-align:left; max-width:192px; max-height:64px; overflow:auto\">2</div></td><td><div style=\"text-align:left; max-width:192px; max-height:64px; overflow:auto\">None</div></td><td><div style=\"text-align:left; max-width:192px; max-height:64px; overflow:auto\">0</div></td><td><div style=\"text-align:left; max-width:192px; max-height:64px; overflow:auto\">2</div></td><td><div style=\"text-align:left; max-width:192px; max-height:64px; overflow:auto\">5</div></td><td><div style=\"text-align:left; max-width:192px; max-height:64px; overflow:auto\">3</div></td><td><div style=\"text-align:left; max-width:192px; max-height:64px; overflow:auto\">3</div></td><td><div style=\"text-align:left; max-width:192px; max-height:64px; overflow:auto\">16</div></td><td><div style=\"text-align:left; max-width:192px; max-height:64px; overflow:auto\">7</div></td><td><div style=\"text-align:left; max-width:192px; max-height:64px; overflow:auto\">18</div></td><td><div style=\"text-align:left; max-width:192px; max-height:64px; overflow:auto\">5</div></td><td><div style=\"text-align:left; max-width:192px; max-height:64px; overflow:auto\">9</div></td><td><div style=\"text-align:left; max-width:192px; max-height:64px; overflow:auto\">0</div></td><td><div style=\"text-align:left; max-width:192px; max-height:64px; overflow:auto\">0</div></td><td><div style=\"text-align:left; max-width:192px; max-height:64px; overflow:auto\">0</div></td><td><div style=\"text-align:left; max-width:192px; max-height:64px; overflow:auto\">3</div></td><td><div style=\"text-align:left; max-width:192px; max-height:64px; overflow:auto\">100</div></td><td><div style=\"text-align:left; max-width:192px; max-height:64px; overflow:auto\">0</div></td><td><div style=\"text-align:left; max-width:192px; max-height:64px; overflow:auto\">1</div></td><td><div style=\"text-align:left; max-width:192px; max-height:64px; overflow:auto\">0</div></td><td><div style=\"text-align:left; max-width:192px; max-height:64px; overflow:auto\">60124</div></td><td><div style=\"text-align:left; max-width:192px; max-height:64px; overflow:auto\">16901</div></td><td><div style=\"text-align:left; max-width:192px; max-height:64px; overflow:auto\">36500</div></td><td><div style=\"text-align:left; max-width:192px; max-height:64px; overflow:auto\">18124</div></td><td><div style=\"text-align:left; max-width:192px; max-height:64px; overflow:auto\">None</div></td><td><div style=\"text-align:left; max-width:192px; max-height:64px; overflow:auto\">None</div></td><td><div style=\"text-align:left; max-width:192px; max-height:64px; overflow:auto\">None</div></td><td><div style=\"text-align:left; max-width:192px; max-height:64px; overflow:auto\">None</div></td><td><div style=\"text-align:left; max-width:192px; max-height:64px; overflow:auto\">None</div></td><td><div style=\"text-align:left; max-width:192px; max-height:64px; overflow:auto\">None</div></td><td><div style=\"text-align:left; max-width:192px; max-height:64px; overflow:auto\">None</div></td><td><div style=\"text-align:left; max-width:192px; max-height:64px; overflow:auto\">None</div></td><td><div style=\"text-align:left; max-width:192px; max-height:64px; overflow:auto\">None</div></td><td><div style=\"text-align:left; max-width:192px; max-height:64px; overflow:auto\">None</div></td><td><div style=\"text-align:left; max-width:192px; max-height:64px; overflow:auto\">None</div></td><td><div style=\"text-align:left; max-width:192px; max-height:64px; overflow:auto\">N</div></td><td><div style=\"text-align:left; max-width:192px; max-height:64px; overflow:auto\">None</div></td><td><div style=\"text-align:left; max-width:192px; max-height:64px; overflow:auto\">None</div></td><td><div style=\"text-align:left; max-width:192px; max-height:64px; overflow:auto\">None</div></td><td><div style=\"text-align:left; max-width:192px; max-height:64px; overflow:auto\">None</div></td><td><div style=\"text-align:left; max-width:192px; max-height:64px; overflow:auto\">None</div></td><td><div style=\"text-align:left; max-width:192px; max-height:64px; overflow:auto\">None</div></td><td><div style=\"text-align:left; max-width:192px; max-height:64px; overflow:auto\">None</div></td><td><div style=\"text-align:left; max-width:192px; max-height:64px; overflow:auto\">None</div></td><td><div style=\"text-align:left; max-width:192px; max-height:64px; overflow:auto\">None</div></td><td><div style=\"text-align:left; max-width:192px; max-height:64px; overflow:auto\">None</div></td><td><div style=\"text-align:left; max-width:192px; max-height:64px; overflow:auto\">None</div></td><td><div style=\"text-align:left; max-width:192px; max-height:64px; overflow:auto\">None</div></td><td><div style=\"text-align:left; max-width:192px; max-height:64px; overflow:auto\">None</div></td><td><div style=\"text-align:left; max-width:192px; max-height:64px; overflow:auto\">None</div></td><td><div style=\"text-align:left; max-width:192px; max-height:64px; overflow:auto\">Cash</div></td><td><div style=\"text-align:left; max-width:192px; max-height:64px; overflow:auto\">N</div></td><td><div style=\"text-align:left; max-width:192px; max-height:64px; overflow:auto\">None</div></td><td><div style=\"text-align:left; max-width:192px; max-height:64px; overflow:auto\">None</div></td><td><div style=\"text-align:left; max-width:192px; max-height:64px; overflow:auto\">None</div></td><td><div style=\"text-align:left; max-width:192px; max-height:64px; overflow:auto\">None</div></td><td><div style=\"text-align:left; max-width:192px; max-height:64px; overflow:auto\">None</div></td><td><div style=\"text-align:left; max-width:192px; max-height:64px; overflow:auto\">None</div></td><td><div style=\"text-align:left; max-width:192px; max-height:64px; overflow:auto\">2018</div></td></tr>\n",
       "<tr><td><div style=\"text-align:left; max-width:192px; max-height:64px; overflow:auto\">None</div></td><td><div style=\"text-align:left; max-width:192px; max-height:64px; overflow:auto\">None</div></td><td><div style=\"text-align:left; max-width:192px; max-height:64px; overflow:auto\">30000</div></td><td><div style=\"text-align:left; max-width:192px; max-height:64px; overflow:auto\">30000</div></td><td><div style=\"text-align:left; max-width:192px; max-height:64px; overflow:auto\">30000</div></td><td><div style=\"text-align:left; max-width:192px; max-height:64px; overflow:auto\"> 60 months</div></td><td><div style=\"text-align:left; max-width:192px; max-height:64px; overflow:auto\">18.94</div></td><td><div style=\"text-align:left; max-width:192px; max-height:64px; overflow:auto\">777.23</div></td><td><div style=\"text-align:left; max-width:192px; max-height:64px; overflow:auto\">D</div></td><td><div style=\"text-align:left; max-width:192px; max-height:64px; overflow:auto\">D2</div></td><td><div style=\"text-align:left; max-width:192px; max-height:64px; overflow:auto\">Postmaster </div></td><td><div style=\"text-align:left; max-width:192px; max-height:64px; overflow:auto\">10+ years</div></td><td><div style=\"text-align:left; max-width:192px; max-height:64px; overflow:auto\">MORTGAGE</div></td><td><div style=\"text-align:left; max-width:192px; max-height:64px; overflow:auto\">90000</div></td><td><div style=\"text-align:left; max-width:192px; max-height:64px; overflow:auto\">Source Verified</div></td><td><div style=\"text-align:left; max-width:192px; max-height:64px; overflow:auto\">Dec-2018</div></td><td><div style=\"text-align:left; max-width:192px; max-height:64px; overflow:auto\">Current</div></td><td><div style=\"text-align:left; max-width:192px; max-height:64px; overflow:auto\">n</div></td><td><div style=\"text-align:left; max-width:192px; max-height:64px; overflow:auto\">None</div></td><td><div style=\"text-align:left; max-width:192px; max-height:64px; overflow:auto\">None</div></td><td><div style=\"text-align:left; max-width:192px; max-height:64px; overflow:auto\">debt_consolidation</div></td><td><div style=\"text-align:left; max-width:192px; max-height:64px; overflow:auto\">Debt consolidation</div></td><td><div style=\"text-align:left; max-width:192px; max-height:64px; overflow:auto\">713xx</div></td><td><div style=\"text-align:left; max-width:192px; max-height:64px; overflow:auto\">LA</div></td><td><div style=\"text-align:left; max-width:192px; max-height:64px; overflow:auto\">26.52</div></td><td><div style=\"text-align:left; max-width:192px; max-height:64px; overflow:auto\">0</div></td><td><div style=\"text-align:left; max-width:192px; max-height:64px; overflow:auto\">Jun-1987</div></td><td><div style=\"text-align:left; max-width:192px; max-height:64px; overflow:auto\">0</div></td><td><div style=\"text-align:left; max-width:192px; max-height:64px; overflow:auto\">71</div></td><td><div style=\"text-align:left; max-width:192px; max-height:64px; overflow:auto\">75</div></td><td><div style=\"text-align:left; max-width:192px; max-height:64px; overflow:auto\">13</div></td><td><div style=\"text-align:left; max-width:192px; max-height:64px; overflow:auto\">1</div></td><td><div style=\"text-align:left; max-width:192px; max-height:64px; overflow:auto\">12315</div></td><td><div style=\"text-align:left; max-width:192px; max-height:64px; overflow:auto\">24.2</div></td><td><div style=\"text-align:left; max-width:192px; max-height:64px; overflow:auto\">44</div></td><td><div style=\"text-align:left; max-width:192px; max-height:64px; overflow:auto\">w</div></td><td><div style=\"text-align:left; max-width:192px; max-height:64px; overflow:auto\">29387.75</div></td><td><div style=\"text-align:left; max-width:192px; max-height:64px; overflow:auto\">29387.75</div></td><td><div style=\"text-align:left; max-width:192px; max-height:64px; overflow:auto\">1507.11</div></td><td><div style=\"text-align:left; max-width:192px; max-height:64px; overflow:auto\">1507.11</div></td><td><div style=\"text-align:left; max-width:192px; max-height:64px; overflow:auto\">612.25</div></td><td><div style=\"text-align:left; max-width:192px; max-height:64px; overflow:auto\">894.86</div></td><td><div style=\"text-align:left; max-width:192px; max-height:64px; overflow:auto\">0</div></td><td><div style=\"text-align:left; max-width:192px; max-height:64px; overflow:auto\">0</div></td><td><div style=\"text-align:left; max-width:192px; max-height:64px; overflow:auto\">0</div></td><td><div style=\"text-align:left; max-width:192px; max-height:64px; overflow:auto\">Feb-2019</div></td><td><div style=\"text-align:left; max-width:192px; max-height:64px; overflow:auto\">777.23</div></td><td><div style=\"text-align:left; max-width:192px; max-height:64px; overflow:auto\">Mar-2019</div></td><td><div style=\"text-align:left; max-width:192px; max-height:64px; overflow:auto\">Feb-2019</div></td><td><div style=\"text-align:left; max-width:192px; max-height:64px; overflow:auto\">0</div></td><td><div style=\"text-align:left; max-width:192px; max-height:64px; overflow:auto\">None</div></td><td><div style=\"text-align:left; max-width:192px; max-height:64px; overflow:auto\">1</div></td><td><div style=\"text-align:left; max-width:192px; max-height:64px; overflow:auto\">Individual</div></td><td><div style=\"text-align:left; max-width:192px; max-height:64px; overflow:auto\">None</div></td><td><div style=\"text-align:left; max-width:192px; max-height:64px; overflow:auto\">None</div></td><td><div style=\"text-align:left; max-width:192px; max-height:64px; overflow:auto\">None</div></td><td><div style=\"text-align:left; max-width:192px; max-height:64px; overflow:auto\">0</div></td><td><div style=\"text-align:left; max-width:192px; max-height:64px; overflow:auto\">1208</div></td><td><div style=\"text-align:left; max-width:192px; max-height:64px; overflow:auto\">321915</div></td><td><div style=\"text-align:left; max-width:192px; max-height:64px; overflow:auto\">4</div></td><td><div style=\"text-align:left; max-width:192px; max-height:64px; overflow:auto\">4</div></td><td><div style=\"text-align:left; max-width:192px; max-height:64px; overflow:auto\">2</div></td><td><div style=\"text-align:left; max-width:192px; max-height:64px; overflow:auto\">3</div></td><td><div style=\"text-align:left; max-width:192px; max-height:64px; overflow:auto\">3</div></td><td><div style=\"text-align:left; max-width:192px; max-height:64px; overflow:auto\">87153</div></td><td><div style=\"text-align:left; max-width:192px; max-height:64px; overflow:auto\">88</div></td><td><div style=\"text-align:left; max-width:192px; max-height:64px; overflow:auto\">4</div></td><td><div style=\"text-align:left; max-width:192px; max-height:64px; overflow:auto\">5</div></td><td><div style=\"text-align:left; max-width:192px; max-height:64px; overflow:auto\">998</div></td><td><div style=\"text-align:left; max-width:192px; max-height:64px; overflow:auto\">57</div></td><td><div style=\"text-align:left; max-width:192px; max-height:64px; overflow:auto\">50800</div></td><td><div style=\"text-align:left; max-width:192px; max-height:64px; overflow:auto\">2</div></td><td><div style=\"text-align:left; max-width:192px; max-height:64px; overflow:auto\">15</div></td><td><div style=\"text-align:left; max-width:192px; max-height:64px; overflow:auto\">2</div></td><td><div style=\"text-align:left; max-width:192px; max-height:64px; overflow:auto\">10</div></td><td><div style=\"text-align:left; max-width:192px; max-height:64px; overflow:auto\">24763</div></td><td><div style=\"text-align:left; max-width:192px; max-height:64px; overflow:auto\">13761</div></td><td><div style=\"text-align:left; max-width:192px; max-height:64px; overflow:auto\">8.3</div></td><td><div style=\"text-align:left; max-width:192px; max-height:64px; overflow:auto\">0</div></td><td><div style=\"text-align:left; max-width:192px; max-height:64px; overflow:auto\">0</div></td><td><div style=\"text-align:left; max-width:192px; max-height:64px; overflow:auto\">163</div></td><td><div style=\"text-align:left; max-width:192px; max-height:64px; overflow:auto\">378</div></td><td><div style=\"text-align:left; max-width:192px; max-height:64px; overflow:auto\">4</div></td><td><div style=\"text-align:left; max-width:192px; max-height:64px; overflow:auto\">3</div></td><td><div style=\"text-align:left; max-width:192px; max-height:64px; overflow:auto\">3</div></td><td><div style=\"text-align:left; max-width:192px; max-height:64px; overflow:auto\">4</div></td><td><div style=\"text-align:left; max-width:192px; max-height:64px; overflow:auto\">None</div></td><td><div style=\"text-align:left; max-width:192px; max-height:64px; overflow:auto\">4</div></td><td><div style=\"text-align:left; max-width:192px; max-height:64px; overflow:auto\">None</div></td><td><div style=\"text-align:left; max-width:192px; max-height:64px; overflow:auto\">0</div></td><td><div style=\"text-align:left; max-width:192px; max-height:64px; overflow:auto\">2</div></td><td><div style=\"text-align:left; max-width:192px; max-height:64px; overflow:auto\">4</div></td><td><div style=\"text-align:left; max-width:192px; max-height:64px; overflow:auto\">4</div></td><td><div style=\"text-align:left; max-width:192px; max-height:64px; overflow:auto\">9</div></td><td><div style=\"text-align:left; max-width:192px; max-height:64px; overflow:auto\">27</div></td><td><div style=\"text-align:left; max-width:192px; max-height:64px; overflow:auto\">8</div></td><td><div style=\"text-align:left; max-width:192px; max-height:64px; overflow:auto\">14</div></td><td><div style=\"text-align:left; max-width:192px; max-height:64px; overflow:auto\">4</div></td><td><div style=\"text-align:left; max-width:192px; max-height:64px; overflow:auto\">13</div></td><td><div style=\"text-align:left; max-width:192px; max-height:64px; overflow:auto\">0</div></td><td><div style=\"text-align:left; max-width:192px; max-height:64px; overflow:auto\">0</div></td><td><div style=\"text-align:left; max-width:192px; max-height:64px; overflow:auto\">0</div></td><td><div style=\"text-align:left; max-width:192px; max-height:64px; overflow:auto\">6</div></td><td><div style=\"text-align:left; max-width:192px; max-height:64px; overflow:auto\">95</div></td><td><div style=\"text-align:left; max-width:192px; max-height:64px; overflow:auto\">0</div></td><td><div style=\"text-align:left; max-width:192px; max-height:64px; overflow:auto\">1</div></td><td><div style=\"text-align:left; max-width:192px; max-height:64px; overflow:auto\">0</div></td><td><div style=\"text-align:left; max-width:192px; max-height:64px; overflow:auto\">372872</div></td><td><div style=\"text-align:left; max-width:192px; max-height:64px; overflow:auto\">99468</div></td><td><div style=\"text-align:left; max-width:192px; max-height:64px; overflow:auto\">15000</div></td><td><div style=\"text-align:left; max-width:192px; max-height:64px; overflow:auto\">94072</div></td><td><div style=\"text-align:left; max-width:192px; max-height:64px; overflow:auto\">None</div></td><td><div style=\"text-align:left; max-width:192px; max-height:64px; overflow:auto\">None</div></td><td><div style=\"text-align:left; max-width:192px; max-height:64px; overflow:auto\">None</div></td><td><div style=\"text-align:left; max-width:192px; max-height:64px; overflow:auto\">None</div></td><td><div style=\"text-align:left; max-width:192px; max-height:64px; overflow:auto\">None</div></td><td><div style=\"text-align:left; max-width:192px; max-height:64px; overflow:auto\">None</div></td><td><div style=\"text-align:left; max-width:192px; max-height:64px; overflow:auto\">None</div></td><td><div style=\"text-align:left; max-width:192px; max-height:64px; overflow:auto\">None</div></td><td><div style=\"text-align:left; max-width:192px; max-height:64px; overflow:auto\">None</div></td><td><div style=\"text-align:left; max-width:192px; max-height:64px; overflow:auto\">None</div></td><td><div style=\"text-align:left; max-width:192px; max-height:64px; overflow:auto\">None</div></td><td><div style=\"text-align:left; max-width:192px; max-height:64px; overflow:auto\">N</div></td><td><div style=\"text-align:left; max-width:192px; max-height:64px; overflow:auto\">None</div></td><td><div style=\"text-align:left; max-width:192px; max-height:64px; overflow:auto\">None</div></td><td><div style=\"text-align:left; max-width:192px; max-height:64px; overflow:auto\">None</div></td><td><div style=\"text-align:left; max-width:192px; max-height:64px; overflow:auto\">None</div></td><td><div style=\"text-align:left; max-width:192px; max-height:64px; overflow:auto\">None</div></td><td><div style=\"text-align:left; max-width:192px; max-height:64px; overflow:auto\">None</div></td><td><div style=\"text-align:left; max-width:192px; max-height:64px; overflow:auto\">None</div></td><td><div style=\"text-align:left; max-width:192px; max-height:64px; overflow:auto\">None</div></td><td><div style=\"text-align:left; max-width:192px; max-height:64px; overflow:auto\">None</div></td><td><div style=\"text-align:left; max-width:192px; max-height:64px; overflow:auto\">None</div></td><td><div style=\"text-align:left; max-width:192px; max-height:64px; overflow:auto\">None</div></td><td><div style=\"text-align:left; max-width:192px; max-height:64px; overflow:auto\">None</div></td><td><div style=\"text-align:left; max-width:192px; max-height:64px; overflow:auto\">None</div></td><td><div style=\"text-align:left; max-width:192px; max-height:64px; overflow:auto\">None</div></td><td><div style=\"text-align:left; max-width:192px; max-height:64px; overflow:auto\">Cash</div></td><td><div style=\"text-align:left; max-width:192px; max-height:64px; overflow:auto\">N</div></td><td><div style=\"text-align:left; max-width:192px; max-height:64px; overflow:auto\">None</div></td><td><div style=\"text-align:left; max-width:192px; max-height:64px; overflow:auto\">None</div></td><td><div style=\"text-align:left; max-width:192px; max-height:64px; overflow:auto\">None</div></td><td><div style=\"text-align:left; max-width:192px; max-height:64px; overflow:auto\">None</div></td><td><div style=\"text-align:left; max-width:192px; max-height:64px; overflow:auto\">None</div></td><td><div style=\"text-align:left; max-width:192px; max-height:64px; overflow:auto\">None</div></td><td><div style=\"text-align:left; max-width:192px; max-height:64px; overflow:auto\">2018</div></td></tr>\n",
       "<tr><td><div style=\"text-align:left; max-width:192px; max-height:64px; overflow:auto\">None</div></td><td><div style=\"text-align:left; max-width:192px; max-height:64px; overflow:auto\">None</div></td><td><div style=\"text-align:left; max-width:192px; max-height:64px; overflow:auto\">5000</div></td><td><div style=\"text-align:left; max-width:192px; max-height:64px; overflow:auto\">5000</div></td><td><div style=\"text-align:left; max-width:192px; max-height:64px; overflow:auto\">5000</div></td><td><div style=\"text-align:left; max-width:192px; max-height:64px; overflow:auto\"> 36 months</div></td><td><div style=\"text-align:left; max-width:192px; max-height:64px; overflow:auto\">17.97</div></td><td><div style=\"text-align:left; max-width:192px; max-height:64px; overflow:auto\">180.69</div></td><td><div style=\"text-align:left; max-width:192px; max-height:64px; overflow:auto\">D</div></td><td><div style=\"text-align:left; max-width:192px; max-height:64px; overflow:auto\">D1</div></td><td><div style=\"text-align:left; max-width:192px; max-height:64px; overflow:auto\">Administrative</div></td><td><div style=\"text-align:left; max-width:192px; max-height:64px; overflow:auto\">6 years</div></td><td><div style=\"text-align:left; max-width:192px; max-height:64px; overflow:auto\">MORTGAGE</div></td><td><div style=\"text-align:left; max-width:192px; max-height:64px; overflow:auto\">59280</div></td><td><div style=\"text-align:left; max-width:192px; max-height:64px; overflow:auto\">Source Verified</div></td><td><div style=\"text-align:left; max-width:192px; max-height:64px; overflow:auto\">Dec-2018</div></td><td><div style=\"text-align:left; max-width:192px; max-height:64px; overflow:auto\">Current</div></td><td><div style=\"text-align:left; max-width:192px; max-height:64px; overflow:auto\">n</div></td><td><div style=\"text-align:left; max-width:192px; max-height:64px; overflow:auto\">None</div></td><td><div style=\"text-align:left; max-width:192px; max-height:64px; overflow:auto\">None</div></td><td><div style=\"text-align:left; max-width:192px; max-height:64px; overflow:auto\">debt_consolidation</div></td><td><div style=\"text-align:left; max-width:192px; max-height:64px; overflow:auto\">Debt consolidation</div></td><td><div style=\"text-align:left; max-width:192px; max-height:64px; overflow:auto\">490xx</div></td><td><div style=\"text-align:left; max-width:192px; max-height:64px; overflow:auto\">MI</div></td><td><div style=\"text-align:left; max-width:192px; max-height:64px; overflow:auto\">10.51</div></td><td><div style=\"text-align:left; max-width:192px; max-height:64px; overflow:auto\">0</div></td><td><div style=\"text-align:left; max-width:192px; max-height:64px; overflow:auto\">Apr-2011</div></td><td><div style=\"text-align:left; max-width:192px; max-height:64px; overflow:auto\">0</div></td><td><div style=\"text-align:left; max-width:192px; max-height:64px; overflow:auto\">None</div></td><td><div style=\"text-align:left; max-width:192px; max-height:64px; overflow:auto\">None</div></td><td><div style=\"text-align:left; max-width:192px; max-height:64px; overflow:auto\">8</div></td><td><div style=\"text-align:left; max-width:192px; max-height:64px; overflow:auto\">0</div></td><td><div style=\"text-align:left; max-width:192px; max-height:64px; overflow:auto\">4599</div></td><td><div style=\"text-align:left; max-width:192px; max-height:64px; overflow:auto\">19.1</div></td><td><div style=\"text-align:left; max-width:192px; max-height:64px; overflow:auto\">13</div></td><td><div style=\"text-align:left; max-width:192px; max-height:64px; overflow:auto\">w</div></td><td><div style=\"text-align:left; max-width:192px; max-height:64px; overflow:auto\">4787.21</div></td><td><div style=\"text-align:left; max-width:192px; max-height:64px; overflow:auto\">4787.21</div></td><td><div style=\"text-align:left; max-width:192px; max-height:64px; overflow:auto\">353.89</div></td><td><div style=\"text-align:left; max-width:192px; max-height:64px; overflow:auto\">353.89</div></td><td><div style=\"text-align:left; max-width:192px; max-height:64px; overflow:auto\">212.79</div></td><td><div style=\"text-align:left; max-width:192px; max-height:64px; overflow:auto\">141.1</div></td><td><div style=\"text-align:left; max-width:192px; max-height:64px; overflow:auto\">0</div></td><td><div style=\"text-align:left; max-width:192px; max-height:64px; overflow:auto\">0</div></td><td><div style=\"text-align:left; max-width:192px; max-height:64px; overflow:auto\">0</div></td><td><div style=\"text-align:left; max-width:192px; max-height:64px; overflow:auto\">Feb-2019</div></td><td><div style=\"text-align:left; max-width:192px; max-height:64px; overflow:auto\">180.69</div></td><td><div style=\"text-align:left; max-width:192px; max-height:64px; overflow:auto\">Mar-2019</div></td><td><div style=\"text-align:left; max-width:192px; max-height:64px; overflow:auto\">Feb-2019</div></td><td><div style=\"text-align:left; max-width:192px; max-height:64px; overflow:auto\">0</div></td><td><div style=\"text-align:left; max-width:192px; max-height:64px; overflow:auto\">None</div></td><td><div style=\"text-align:left; max-width:192px; max-height:64px; overflow:auto\">1</div></td><td><div style=\"text-align:left; max-width:192px; max-height:64px; overflow:auto\">Individual</div></td><td><div style=\"text-align:left; max-width:192px; max-height:64px; overflow:auto\">None</div></td><td><div style=\"text-align:left; max-width:192px; max-height:64px; overflow:auto\">None</div></td><td><div style=\"text-align:left; max-width:192px; max-height:64px; overflow:auto\">None</div></td><td><div style=\"text-align:left; max-width:192px; max-height:64px; overflow:auto\">0</div></td><td><div style=\"text-align:left; max-width:192px; max-height:64px; overflow:auto\">0</div></td><td><div style=\"text-align:left; max-width:192px; max-height:64px; overflow:auto\">110299</div></td><td><div style=\"text-align:left; max-width:192px; max-height:64px; overflow:auto\">0</div></td><td><div style=\"text-align:left; max-width:192px; max-height:64px; overflow:auto\">1</div></td><td><div style=\"text-align:left; max-width:192px; max-height:64px; overflow:auto\">0</div></td><td><div style=\"text-align:left; max-width:192px; max-height:64px; overflow:auto\">2</div></td><td><div style=\"text-align:left; max-width:192px; max-height:64px; overflow:auto\">14</div></td><td><div style=\"text-align:left; max-width:192px; max-height:64px; overflow:auto\">7150</div></td><td><div style=\"text-align:left; max-width:192px; max-height:64px; overflow:auto\">72</div></td><td><div style=\"text-align:left; max-width:192px; max-height:64px; overflow:auto\">0</div></td><td><div style=\"text-align:left; max-width:192px; max-height:64px; overflow:auto\">2</div></td><td><div style=\"text-align:left; max-width:192px; max-height:64px; overflow:auto\">0</div></td><td><div style=\"text-align:left; max-width:192px; max-height:64px; overflow:auto\">35</div></td><td><div style=\"text-align:left; max-width:192px; max-height:64px; overflow:auto\">24100</div></td><td><div style=\"text-align:left; max-width:192px; max-height:64px; overflow:auto\">1</div></td><td><div style=\"text-align:left; max-width:192px; max-height:64px; overflow:auto\">5</div></td><td><div style=\"text-align:left; max-width:192px; max-height:64px; overflow:auto\">0</div></td><td><div style=\"text-align:left; max-width:192px; max-height:64px; overflow:auto\">4</div></td><td><div style=\"text-align:left; max-width:192px; max-height:64px; overflow:auto\">18383</div></td><td><div style=\"text-align:left; max-width:192px; max-height:64px; overflow:auto\">13800</div></td><td><div style=\"text-align:left; max-width:192px; max-height:64px; overflow:auto\">0</div></td><td><div style=\"text-align:left; max-width:192px; max-height:64px; overflow:auto\">0</div></td><td><div style=\"text-align:left; max-width:192px; max-height:64px; overflow:auto\">0</div></td><td><div style=\"text-align:left; max-width:192px; max-height:64px; overflow:auto\">87</div></td><td><div style=\"text-align:left; max-width:192px; max-height:64px; overflow:auto\">92</div></td><td><div style=\"text-align:left; max-width:192px; max-height:64px; overflow:auto\">15</div></td><td><div style=\"text-align:left; max-width:192px; max-height:64px; overflow:auto\">14</div></td><td><div style=\"text-align:left; max-width:192px; max-height:64px; overflow:auto\">2</div></td><td><div style=\"text-align:left; max-width:192px; max-height:64px; overflow:auto\">77</div></td><td><div style=\"text-align:left; max-width:192px; max-height:64px; overflow:auto\">None</div></td><td><div style=\"text-align:left; max-width:192px; max-height:64px; overflow:auto\">14</div></td><td><div style=\"text-align:left; max-width:192px; max-height:64px; overflow:auto\">None</div></td><td><div style=\"text-align:left; max-width:192px; max-height:64px; overflow:auto\">0</div></td><td><div style=\"text-align:left; max-width:192px; max-height:64px; overflow:auto\">0</div></td><td><div style=\"text-align:left; max-width:192px; max-height:64px; overflow:auto\">3</div></td><td><div style=\"text-align:left; max-width:192px; max-height:64px; overflow:auto\">3</div></td><td><div style=\"text-align:left; max-width:192px; max-height:64px; overflow:auto\">3</div></td><td><div style=\"text-align:left; max-width:192px; max-height:64px; overflow:auto\">4</div></td><td><div style=\"text-align:left; max-width:192px; max-height:64px; overflow:auto\">6</div></td><td><div style=\"text-align:left; max-width:192px; max-height:64px; overflow:auto\">7</div></td><td><div style=\"text-align:left; max-width:192px; max-height:64px; overflow:auto\">3</div></td><td><div style=\"text-align:left; max-width:192px; max-height:64px; overflow:auto\">8</div></td><td><div style=\"text-align:left; max-width:192px; max-height:64px; overflow:auto\">0</div></td><td><div style=\"text-align:left; max-width:192px; max-height:64px; overflow:auto\">0</div></td><td><div style=\"text-align:left; max-width:192px; max-height:64px; overflow:auto\">0</div></td><td><div style=\"text-align:left; max-width:192px; max-height:64px; overflow:auto\">0</div></td><td><div style=\"text-align:left; max-width:192px; max-height:64px; overflow:auto\">100</div></td><td><div style=\"text-align:left; max-width:192px; max-height:64px; overflow:auto\">0</div></td><td><div style=\"text-align:left; max-width:192px; max-height:64px; overflow:auto\">0</div></td><td><div style=\"text-align:left; max-width:192px; max-height:64px; overflow:auto\">0</div></td><td><div style=\"text-align:left; max-width:192px; max-height:64px; overflow:auto\">136927</div></td><td><div style=\"text-align:left; max-width:192px; max-height:64px; overflow:auto\">11749</div></td><td><div style=\"text-align:left; max-width:192px; max-height:64px; overflow:auto\">13800</div></td><td><div style=\"text-align:left; max-width:192px; max-height:64px; overflow:auto\">10000</div></td><td><div style=\"text-align:left; max-width:192px; max-height:64px; overflow:auto\">None</div></td><td><div style=\"text-align:left; max-width:192px; max-height:64px; overflow:auto\">None</div></td><td><div style=\"text-align:left; max-width:192px; max-height:64px; overflow:auto\">None</div></td><td><div style=\"text-align:left; max-width:192px; max-height:64px; overflow:auto\">None</div></td><td><div style=\"text-align:left; max-width:192px; max-height:64px; overflow:auto\">None</div></td><td><div style=\"text-align:left; max-width:192px; max-height:64px; overflow:auto\">None</div></td><td><div style=\"text-align:left; max-width:192px; max-height:64px; overflow:auto\">None</div></td><td><div style=\"text-align:left; max-width:192px; max-height:64px; overflow:auto\">None</div></td><td><div style=\"text-align:left; max-width:192px; max-height:64px; overflow:auto\">None</div></td><td><div style=\"text-align:left; max-width:192px; max-height:64px; overflow:auto\">None</div></td><td><div style=\"text-align:left; max-width:192px; max-height:64px; overflow:auto\">None</div></td><td><div style=\"text-align:left; max-width:192px; max-height:64px; overflow:auto\">N</div></td><td><div style=\"text-align:left; max-width:192px; max-height:64px; overflow:auto\">None</div></td><td><div style=\"text-align:left; max-width:192px; max-height:64px; overflow:auto\">None</div></td><td><div style=\"text-align:left; max-width:192px; max-height:64px; overflow:auto\">None</div></td><td><div style=\"text-align:left; max-width:192px; max-height:64px; overflow:auto\">None</div></td><td><div style=\"text-align:left; max-width:192px; max-height:64px; overflow:auto\">None</div></td><td><div style=\"text-align:left; max-width:192px; max-height:64px; overflow:auto\">None</div></td><td><div style=\"text-align:left; max-width:192px; max-height:64px; overflow:auto\">None</div></td><td><div style=\"text-align:left; max-width:192px; max-height:64px; overflow:auto\">None</div></td><td><div style=\"text-align:left; max-width:192px; max-height:64px; overflow:auto\">None</div></td><td><div style=\"text-align:left; max-width:192px; max-height:64px; overflow:auto\">None</div></td><td><div style=\"text-align:left; max-width:192px; max-height:64px; overflow:auto\">None</div></td><td><div style=\"text-align:left; max-width:192px; max-height:64px; overflow:auto\">None</div></td><td><div style=\"text-align:left; max-width:192px; max-height:64px; overflow:auto\">None</div></td><td><div style=\"text-align:left; max-width:192px; max-height:64px; overflow:auto\">None</div></td><td><div style=\"text-align:left; max-width:192px; max-height:64px; overflow:auto\">Cash</div></td><td><div style=\"text-align:left; max-width:192px; max-height:64px; overflow:auto\">N</div></td><td><div style=\"text-align:left; max-width:192px; max-height:64px; overflow:auto\">None</div></td><td><div style=\"text-align:left; max-width:192px; max-height:64px; overflow:auto\">None</div></td><td><div style=\"text-align:left; max-width:192px; max-height:64px; overflow:auto\">None</div></td><td><div style=\"text-align:left; max-width:192px; max-height:64px; overflow:auto\">None</div></td><td><div style=\"text-align:left; max-width:192px; max-height:64px; overflow:auto\">None</div></td><td><div style=\"text-align:left; max-width:192px; max-height:64px; overflow:auto\">None</div></td><td><div style=\"text-align:left; max-width:192px; max-height:64px; overflow:auto\">2018</div></td></tr>\n",
       "<tr><td><div style=\"text-align:left; max-width:192px; max-height:64px; overflow:auto\">None</div></td><td><div style=\"text-align:left; max-width:192px; max-height:64px; overflow:auto\">None</div></td><td><div style=\"text-align:left; max-width:192px; max-height:64px; overflow:auto\">4000</div></td><td><div style=\"text-align:left; max-width:192px; max-height:64px; overflow:auto\">4000</div></td><td><div style=\"text-align:left; max-width:192px; max-height:64px; overflow:auto\">4000</div></td><td><div style=\"text-align:left; max-width:192px; max-height:64px; overflow:auto\"> 36 months</div></td><td><div style=\"text-align:left; max-width:192px; max-height:64px; overflow:auto\">18.94</div></td><td><div style=\"text-align:left; max-width:192px; max-height:64px; overflow:auto\">146.51</div></td><td><div style=\"text-align:left; max-width:192px; max-height:64px; overflow:auto\">D</div></td><td><div style=\"text-align:left; max-width:192px; max-height:64px; overflow:auto\">D2</div></td><td><div style=\"text-align:left; max-width:192px; max-height:64px; overflow:auto\">IT Supervisor</div></td><td><div style=\"text-align:left; max-width:192px; max-height:64px; overflow:auto\">10+ years</div></td><td><div style=\"text-align:left; max-width:192px; max-height:64px; overflow:auto\">MORTGAGE</div></td><td><div style=\"text-align:left; max-width:192px; max-height:64px; overflow:auto\">92000</div></td><td><div style=\"text-align:left; max-width:192px; max-height:64px; overflow:auto\">Source Verified</div></td><td><div style=\"text-align:left; max-width:192px; max-height:64px; overflow:auto\">Dec-2018</div></td><td><div style=\"text-align:left; max-width:192px; max-height:64px; overflow:auto\">Current</div></td><td><div style=\"text-align:left; max-width:192px; max-height:64px; overflow:auto\">n</div></td><td><div style=\"text-align:left; max-width:192px; max-height:64px; overflow:auto\">None</div></td><td><div style=\"text-align:left; max-width:192px; max-height:64px; overflow:auto\">None</div></td><td><div style=\"text-align:left; max-width:192px; max-height:64px; overflow:auto\">debt_consolidation</div></td><td><div style=\"text-align:left; max-width:192px; max-height:64px; overflow:auto\">Debt consolidation</div></td><td><div style=\"text-align:left; max-width:192px; max-height:64px; overflow:auto\">985xx</div></td><td><div style=\"text-align:left; max-width:192px; max-height:64px; overflow:auto\">WA</div></td><td><div style=\"text-align:left; max-width:192px; max-height:64px; overflow:auto\">16.74</div></td><td><div style=\"text-align:left; max-width:192px; max-height:64px; overflow:auto\">0</div></td><td><div style=\"text-align:left; max-width:192px; max-height:64px; overflow:auto\">Feb-2006</div></td><td><div style=\"text-align:left; max-width:192px; max-height:64px; overflow:auto\">0</div></td><td><div style=\"text-align:left; max-width:192px; max-height:64px; overflow:auto\">None</div></td><td><div style=\"text-align:left; max-width:192px; max-height:64px; overflow:auto\">None</div></td><td><div style=\"text-align:left; max-width:192px; max-height:64px; overflow:auto\">10</div></td><td><div style=\"text-align:left; max-width:192px; max-height:64px; overflow:auto\">0</div></td><td><div style=\"text-align:left; max-width:192px; max-height:64px; overflow:auto\">5468</div></td><td><div style=\"text-align:left; max-width:192px; max-height:64px; overflow:auto\">78.1</div></td><td><div style=\"text-align:left; max-width:192px; max-height:64px; overflow:auto\">13</div></td><td><div style=\"text-align:left; max-width:192px; max-height:64px; overflow:auto\">w</div></td><td><div style=\"text-align:left; max-width:192px; max-height:64px; overflow:auto\">3831.93</div></td><td><div style=\"text-align:left; max-width:192px; max-height:64px; overflow:auto\">3831.93</div></td><td><div style=\"text-align:left; max-width:192px; max-height:64px; overflow:auto\">286.71</div></td><td><div style=\"text-align:left; max-width:192px; max-height:64px; overflow:auto\">286.71</div></td><td><div style=\"text-align:left; max-width:192px; max-height:64px; overflow:auto\">168.07</div></td><td><div style=\"text-align:left; max-width:192px; max-height:64px; overflow:auto\">118.64</div></td><td><div style=\"text-align:left; max-width:192px; max-height:64px; overflow:auto\">0</div></td><td><div style=\"text-align:left; max-width:192px; max-height:64px; overflow:auto\">0</div></td><td><div style=\"text-align:left; max-width:192px; max-height:64px; overflow:auto\">0</div></td><td><div style=\"text-align:left; max-width:192px; max-height:64px; overflow:auto\">Feb-2019</div></td><td><div style=\"text-align:left; max-width:192px; max-height:64px; overflow:auto\">146.51</div></td><td><div style=\"text-align:left; max-width:192px; max-height:64px; overflow:auto\">Mar-2019</div></td><td><div style=\"text-align:left; max-width:192px; max-height:64px; overflow:auto\">Feb-2019</div></td><td><div style=\"text-align:left; max-width:192px; max-height:64px; overflow:auto\">0</div></td><td><div style=\"text-align:left; max-width:192px; max-height:64px; overflow:auto\">None</div></td><td><div style=\"text-align:left; max-width:192px; max-height:64px; overflow:auto\">1</div></td><td><div style=\"text-align:left; max-width:192px; max-height:64px; overflow:auto\">Individual</div></td><td><div style=\"text-align:left; max-width:192px; max-height:64px; overflow:auto\">None</div></td><td><div style=\"text-align:left; max-width:192px; max-height:64px; overflow:auto\">None</div></td><td><div style=\"text-align:left; max-width:192px; max-height:64px; overflow:auto\">None</div></td><td><div style=\"text-align:left; max-width:192px; max-height:64px; overflow:auto\">0</div></td><td><div style=\"text-align:left; max-width:192px; max-height:64px; overflow:auto\">686</div></td><td><div style=\"text-align:left; max-width:192px; max-height:64px; overflow:auto\">305049</div></td><td><div style=\"text-align:left; max-width:192px; max-height:64px; overflow:auto\">1</div></td><td><div style=\"text-align:left; max-width:192px; max-height:64px; overflow:auto\">5</div></td><td><div style=\"text-align:left; max-width:192px; max-height:64px; overflow:auto\">3</div></td><td><div style=\"text-align:left; max-width:192px; max-height:64px; overflow:auto\">5</div></td><td><div style=\"text-align:left; max-width:192px; max-height:64px; overflow:auto\">5</div></td><td><div style=\"text-align:left; max-width:192px; max-height:64px; overflow:auto\">30683</div></td><td><div style=\"text-align:left; max-width:192px; max-height:64px; overflow:auto\">68</div></td><td><div style=\"text-align:left; max-width:192px; max-height:64px; overflow:auto\">0</div></td><td><div style=\"text-align:left; max-width:192px; max-height:64px; overflow:auto\">0</div></td><td><div style=\"text-align:left; max-width:192px; max-height:64px; overflow:auto\">3761</div></td><td><div style=\"text-align:left; max-width:192px; max-height:64px; overflow:auto\">70</div></td><td><div style=\"text-align:left; max-width:192px; max-height:64px; overflow:auto\">7000</div></td><td><div style=\"text-align:left; max-width:192px; max-height:64px; overflow:auto\">2</div></td><td><div style=\"text-align:left; max-width:192px; max-height:64px; overflow:auto\">4</div></td><td><div style=\"text-align:left; max-width:192px; max-height:64px; overflow:auto\">3</div></td><td><div style=\"text-align:left; max-width:192px; max-height:64px; overflow:auto\">5</div></td><td><div style=\"text-align:left; max-width:192px; max-height:64px; overflow:auto\">30505</div></td><td><div style=\"text-align:left; max-width:192px; max-height:64px; overflow:auto\">1239</div></td><td><div style=\"text-align:left; max-width:192px; max-height:64px; overflow:auto\">75.2</div></td><td><div style=\"text-align:left; max-width:192px; max-height:64px; overflow:auto\">0</div></td><td><div style=\"text-align:left; max-width:192px; max-height:64px; overflow:auto\">0</div></td><td><div style=\"text-align:left; max-width:192px; max-height:64px; overflow:auto\">62</div></td><td><div style=\"text-align:left; max-width:192px; max-height:64px; overflow:auto\">154</div></td><td><div style=\"text-align:left; max-width:192px; max-height:64px; overflow:auto\">64</div></td><td><div style=\"text-align:left; max-width:192px; max-height:64px; overflow:auto\">5</div></td><td><div style=\"text-align:left; max-width:192px; max-height:64px; overflow:auto\">3</div></td><td><div style=\"text-align:left; max-width:192px; max-height:64px; overflow:auto\">64</div></td><td><div style=\"text-align:left; max-width:192px; max-height:64px; overflow:auto\">None</div></td><td><div style=\"text-align:left; max-width:192px; max-height:64px; overflow:auto\">5</div></td><td><div style=\"text-align:left; max-width:192px; max-height:64px; overflow:auto\">None</div></td><td><div style=\"text-align:left; max-width:192px; max-height:64px; overflow:auto\">0</div></td><td><div style=\"text-align:left; max-width:192px; max-height:64px; overflow:auto\">1</div></td><td><div style=\"text-align:left; max-width:192px; max-height:64px; overflow:auto\">2</div></td><td><div style=\"text-align:left; max-width:192px; max-height:64px; overflow:auto\">1</div></td><td><div style=\"text-align:left; max-width:192px; max-height:64px; overflow:auto\">2</div></td><td><div style=\"text-align:left; max-width:192px; max-height:64px; overflow:auto\">7</div></td><td><div style=\"text-align:left; max-width:192px; max-height:64px; overflow:auto\">2</div></td><td><div style=\"text-align:left; max-width:192px; max-height:64px; overflow:auto\">3</div></td><td><div style=\"text-align:left; max-width:192px; max-height:64px; overflow:auto\">2</div></td><td><div style=\"text-align:left; max-width:192px; max-height:64px; overflow:auto\">10</div></td><td><div style=\"text-align:left; max-width:192px; max-height:64px; overflow:auto\">0</div></td><td><div style=\"text-align:left; max-width:192px; max-height:64px; overflow:auto\">0</div></td><td><div style=\"text-align:left; max-width:192px; max-height:64px; overflow:auto\">0</div></td><td><div style=\"text-align:left; max-width:192px; max-height:64px; overflow:auto\">3</div></td><td><div style=\"text-align:left; max-width:192px; max-height:64px; overflow:auto\">100</div></td><td><div style=\"text-align:left; max-width:192px; max-height:64px; overflow:auto\">100</div></td><td><div style=\"text-align:left; max-width:192px; max-height:64px; overflow:auto\">0</div></td><td><div style=\"text-align:left; max-width:192px; max-height:64px; overflow:auto\">0</div></td><td><div style=\"text-align:left; max-width:192px; max-height:64px; overflow:auto\">385183</div></td><td><div style=\"text-align:left; max-width:192px; max-height:64px; overflow:auto\">36151</div></td><td><div style=\"text-align:left; max-width:192px; max-height:64px; overflow:auto\">5000</div></td><td><div style=\"text-align:left; max-width:192px; max-height:64px; overflow:auto\">44984</div></td><td><div style=\"text-align:left; max-width:192px; max-height:64px; overflow:auto\">None</div></td><td><div style=\"text-align:left; max-width:192px; max-height:64px; overflow:auto\">None</div></td><td><div style=\"text-align:left; max-width:192px; max-height:64px; overflow:auto\">None</div></td><td><div style=\"text-align:left; max-width:192px; max-height:64px; overflow:auto\">None</div></td><td><div style=\"text-align:left; max-width:192px; max-height:64px; overflow:auto\">None</div></td><td><div style=\"text-align:left; max-width:192px; max-height:64px; overflow:auto\">None</div></td><td><div style=\"text-align:left; max-width:192px; max-height:64px; overflow:auto\">None</div></td><td><div style=\"text-align:left; max-width:192px; max-height:64px; overflow:auto\">None</div></td><td><div style=\"text-align:left; max-width:192px; max-height:64px; overflow:auto\">None</div></td><td><div style=\"text-align:left; max-width:192px; max-height:64px; overflow:auto\">None</div></td><td><div style=\"text-align:left; max-width:192px; max-height:64px; overflow:auto\">None</div></td><td><div style=\"text-align:left; max-width:192px; max-height:64px; overflow:auto\">N</div></td><td><div style=\"text-align:left; max-width:192px; max-height:64px; overflow:auto\">None</div></td><td><div style=\"text-align:left; max-width:192px; max-height:64px; overflow:auto\">None</div></td><td><div style=\"text-align:left; max-width:192px; max-height:64px; overflow:auto\">None</div></td><td><div style=\"text-align:left; max-width:192px; max-height:64px; overflow:auto\">None</div></td><td><div style=\"text-align:left; max-width:192px; max-height:64px; overflow:auto\">None</div></td><td><div style=\"text-align:left; max-width:192px; max-height:64px; overflow:auto\">None</div></td><td><div style=\"text-align:left; max-width:192px; max-height:64px; overflow:auto\">None</div></td><td><div style=\"text-align:left; max-width:192px; max-height:64px; overflow:auto\">None</div></td><td><div style=\"text-align:left; max-width:192px; max-height:64px; overflow:auto\">None</div></td><td><div style=\"text-align:left; max-width:192px; max-height:64px; overflow:auto\">None</div></td><td><div style=\"text-align:left; max-width:192px; max-height:64px; overflow:auto\">None</div></td><td><div style=\"text-align:left; max-width:192px; max-height:64px; overflow:auto\">None</div></td><td><div style=\"text-align:left; max-width:192px; max-height:64px; overflow:auto\">None</div></td><td><div style=\"text-align:left; max-width:192px; max-height:64px; overflow:auto\">None</div></td><td><div style=\"text-align:left; max-width:192px; max-height:64px; overflow:auto\">Cash</div></td><td><div style=\"text-align:left; max-width:192px; max-height:64px; overflow:auto\">N</div></td><td><div style=\"text-align:left; max-width:192px; max-height:64px; overflow:auto\">None</div></td><td><div style=\"text-align:left; max-width:192px; max-height:64px; overflow:auto\">None</div></td><td><div style=\"text-align:left; max-width:192px; max-height:64px; overflow:auto\">None</div></td><td><div style=\"text-align:left; max-width:192px; max-height:64px; overflow:auto\">None</div></td><td><div style=\"text-align:left; max-width:192px; max-height:64px; overflow:auto\">None</div></td><td><div style=\"text-align:left; max-width:192px; max-height:64px; overflow:auto\">None</div></td><td><div style=\"text-align:left; max-width:192px; max-height:64px; overflow:auto\">2018</div></td></tr>\n",
       "<tr><td><div style=\"text-align:left; max-width:192px; max-height:64px; overflow:auto\">None</div></td><td><div style=\"text-align:left; max-width:192px; max-height:64px; overflow:auto\">None</div></td><td><div style=\"text-align:left; max-width:192px; max-height:64px; overflow:auto\">30000</div></td><td><div style=\"text-align:left; max-width:192px; max-height:64px; overflow:auto\">30000</div></td><td><div style=\"text-align:left; max-width:192px; max-height:64px; overflow:auto\">30000</div></td><td><div style=\"text-align:left; max-width:192px; max-height:64px; overflow:auto\"> 60 months</div></td><td><div style=\"text-align:left; max-width:192px; max-height:64px; overflow:auto\">16.14</div></td><td><div style=\"text-align:left; max-width:192px; max-height:64px; overflow:auto\">731.78</div></td><td><div style=\"text-align:left; max-width:192px; max-height:64px; overflow:auto\">C</div></td><td><div style=\"text-align:left; max-width:192px; max-height:64px; overflow:auto\">C4</div></td><td><div style=\"text-align:left; max-width:192px; max-height:64px; overflow:auto\">Mechanic</div></td><td><div style=\"text-align:left; max-width:192px; max-height:64px; overflow:auto\">10+ years</div></td><td><div style=\"text-align:left; max-width:192px; max-height:64px; overflow:auto\">MORTGAGE</div></td><td><div style=\"text-align:left; max-width:192px; max-height:64px; overflow:auto\">57250</div></td><td><div style=\"text-align:left; max-width:192px; max-height:64px; overflow:auto\">Not Verified</div></td><td><div style=\"text-align:left; max-width:192px; max-height:64px; overflow:auto\">Dec-2018</div></td><td><div style=\"text-align:left; max-width:192px; max-height:64px; overflow:auto\">Current</div></td><td><div style=\"text-align:left; max-width:192px; max-height:64px; overflow:auto\">n</div></td><td><div style=\"text-align:left; max-width:192px; max-height:64px; overflow:auto\">None</div></td><td><div style=\"text-align:left; max-width:192px; max-height:64px; overflow:auto\">None</div></td><td><div style=\"text-align:left; max-width:192px; max-height:64px; overflow:auto\">debt_consolidation</div></td><td><div style=\"text-align:left; max-width:192px; max-height:64px; overflow:auto\">Debt consolidation</div></td><td><div style=\"text-align:left; max-width:192px; max-height:64px; overflow:auto\">212xx</div></td><td><div style=\"text-align:left; max-width:192px; max-height:64px; overflow:auto\">MD</div></td><td><div style=\"text-align:left; max-width:192px; max-height:64px; overflow:auto\">26.35</div></td><td><div style=\"text-align:left; max-width:192px; max-height:64px; overflow:auto\">0</div></td><td><div style=\"text-align:left; max-width:192px; max-height:64px; overflow:auto\">Dec-2000</div></td><td><div style=\"text-align:left; max-width:192px; max-height:64px; overflow:auto\">0</div></td><td><div style=\"text-align:left; max-width:192px; max-height:64px; overflow:auto\">None</div></td><td><div style=\"text-align:left; max-width:192px; max-height:64px; overflow:auto\">None</div></td><td><div style=\"text-align:left; max-width:192px; max-height:64px; overflow:auto\">12</div></td><td><div style=\"text-align:left; max-width:192px; max-height:64px; overflow:auto\">0</div></td><td><div style=\"text-align:left; max-width:192px; max-height:64px; overflow:auto\">829</div></td><td><div style=\"text-align:left; max-width:192px; max-height:64px; overflow:auto\">3.6</div></td><td><div style=\"text-align:left; max-width:192px; max-height:64px; overflow:auto\">26</div></td><td><div style=\"text-align:left; max-width:192px; max-height:64px; overflow:auto\">w</div></td><td><div style=\"text-align:left; max-width:192px; max-height:64px; overflow:auto\">29339.02</div></td><td><div style=\"text-align:left; max-width:192px; max-height:64px; overflow:auto\">29339.02</div></td><td><div style=\"text-align:left; max-width:192px; max-height:64px; overflow:auto\">1423.21</div></td><td><div style=\"text-align:left; max-width:192px; max-height:64px; overflow:auto\">1423.21</div></td><td><div style=\"text-align:left; max-width:192px; max-height:64px; overflow:auto\">660.98</div></td><td><div style=\"text-align:left; max-width:192px; max-height:64px; overflow:auto\">762.23</div></td><td><div style=\"text-align:left; max-width:192px; max-height:64px; overflow:auto\">0</div></td><td><div style=\"text-align:left; max-width:192px; max-height:64px; overflow:auto\">0</div></td><td><div style=\"text-align:left; max-width:192px; max-height:64px; overflow:auto\">0</div></td><td><div style=\"text-align:left; max-width:192px; max-height:64px; overflow:auto\">Feb-2019</div></td><td><div style=\"text-align:left; max-width:192px; max-height:64px; overflow:auto\">731.78</div></td><td><div style=\"text-align:left; max-width:192px; max-height:64px; overflow:auto\">Mar-2019</div></td><td><div style=\"text-align:left; max-width:192px; max-height:64px; overflow:auto\">Feb-2019</div></td><td><div style=\"text-align:left; max-width:192px; max-height:64px; overflow:auto\">0</div></td><td><div style=\"text-align:left; max-width:192px; max-height:64px; overflow:auto\">None</div></td><td><div style=\"text-align:left; max-width:192px; max-height:64px; overflow:auto\">1</div></td><td><div style=\"text-align:left; max-width:192px; max-height:64px; overflow:auto\">Individual</div></td><td><div style=\"text-align:left; max-width:192px; max-height:64px; overflow:auto\">None</div></td><td><div style=\"text-align:left; max-width:192px; max-height:64px; overflow:auto\">None</div></td><td><div style=\"text-align:left; max-width:192px; max-height:64px; overflow:auto\">None</div></td><td><div style=\"text-align:left; max-width:192px; max-height:64px; overflow:auto\">0</div></td><td><div style=\"text-align:left; max-width:192px; max-height:64px; overflow:auto\">0</div></td><td><div style=\"text-align:left; max-width:192px; max-height:64px; overflow:auto\">116007</div></td><td><div style=\"text-align:left; max-width:192px; max-height:64px; overflow:auto\">3</div></td><td><div style=\"text-align:left; max-width:192px; max-height:64px; overflow:auto\">5</div></td><td><div style=\"text-align:left; max-width:192px; max-height:64px; overflow:auto\">3</div></td><td><div style=\"text-align:left; max-width:192px; max-height:64px; overflow:auto\">5</div></td><td><div style=\"text-align:left; max-width:192px; max-height:64px; overflow:auto\">4</div></td><td><div style=\"text-align:left; max-width:192px; max-height:64px; overflow:auto\">28845</div></td><td><div style=\"text-align:left; max-width:192px; max-height:64px; overflow:auto\">89</div></td><td><div style=\"text-align:left; max-width:192px; max-height:64px; overflow:auto\">2</div></td><td><div style=\"text-align:left; max-width:192px; max-height:64px; overflow:auto\">4</div></td><td><div style=\"text-align:left; max-width:192px; max-height:64px; overflow:auto\">516</div></td><td><div style=\"text-align:left; max-width:192px; max-height:64px; overflow:auto\">54</div></td><td><div style=\"text-align:left; max-width:192px; max-height:64px; overflow:auto\">23100</div></td><td><div style=\"text-align:left; max-width:192px; max-height:64px; overflow:auto\">1</div></td><td><div style=\"text-align:left; max-width:192px; max-height:64px; overflow:auto\">0</div></td><td><div style=\"text-align:left; max-width:192px; max-height:64px; overflow:auto\">0</div></td><td><div style=\"text-align:left; max-width:192px; max-height:64px; overflow:auto\">9</div></td><td><div style=\"text-align:left; max-width:192px; max-height:64px; overflow:auto\">9667</div></td><td><div style=\"text-align:left; max-width:192px; max-height:64px; overflow:auto\">8471</div></td><td><div style=\"text-align:left; max-width:192px; max-height:64px; overflow:auto\">8.9</div></td><td><div style=\"text-align:left; max-width:192px; max-height:64px; overflow:auto\">0</div></td><td><div style=\"text-align:left; max-width:192px; max-height:64px; overflow:auto\">0</div></td><td><div style=\"text-align:left; max-width:192px; max-height:64px; overflow:auto\">53</div></td><td><div style=\"text-align:left; max-width:192px; max-height:64px; overflow:auto\">216</div></td><td><div style=\"text-align:left; max-width:192px; max-height:64px; overflow:auto\">2</div></td><td><div style=\"text-align:left; max-width:192px; max-height:64px; overflow:auto\">2</div></td><td><div style=\"text-align:left; max-width:192px; max-height:64px; overflow:auto\">2</div></td><td><div style=\"text-align:left; max-width:192px; max-height:64px; overflow:auto\">2</div></td><td><div style=\"text-align:left; max-width:192px; max-height:64px; overflow:auto\">None</div></td><td><div style=\"text-align:left; max-width:192px; max-height:64px; overflow:auto\">13</div></td><td><div style=\"text-align:left; max-width:192px; max-height:64px; overflow:auto\">None</div></td><td><div style=\"text-align:left; max-width:192px; max-height:64px; overflow:auto\">0</div></td><td><div style=\"text-align:left; max-width:192px; max-height:64px; overflow:auto\">2</div></td><td><div style=\"text-align:left; max-width:192px; max-height:64px; overflow:auto\">2</div></td><td><div style=\"text-align:left; max-width:192px; max-height:64px; overflow:auto\">3</div></td><td><div style=\"text-align:left; max-width:192px; max-height:64px; overflow:auto\">8</div></td><td><div style=\"text-align:left; max-width:192px; max-height:64px; overflow:auto\">9</div></td><td><div style=\"text-align:left; max-width:192px; max-height:64px; overflow:auto\">6</div></td><td><div style=\"text-align:left; max-width:192px; max-height:64px; overflow:auto\">15</div></td><td><div style=\"text-align:left; max-width:192px; max-height:64px; overflow:auto\">2</div></td><td><div style=\"text-align:left; max-width:192px; max-height:64px; overflow:auto\">12</div></td><td><div style=\"text-align:left; max-width:192px; max-height:64px; overflow:auto\">0</div></td><td><div style=\"text-align:left; max-width:192px; max-height:64px; overflow:auto\">0</div></td><td><div style=\"text-align:left; max-width:192px; max-height:64px; overflow:auto\">0</div></td><td><div style=\"text-align:left; max-width:192px; max-height:64px; overflow:auto\">5</div></td><td><div style=\"text-align:left; max-width:192px; max-height:64px; overflow:auto\">92.3</div></td><td><div style=\"text-align:left; max-width:192px; max-height:64px; overflow:auto\">0</div></td><td><div style=\"text-align:left; max-width:192px; max-height:64px; overflow:auto\">0</div></td><td><div style=\"text-align:left; max-width:192px; max-height:64px; overflow:auto\">0</div></td><td><div style=\"text-align:left; max-width:192px; max-height:64px; overflow:auto\">157548</div></td><td><div style=\"text-align:left; max-width:192px; max-height:64px; overflow:auto\">29674</div></td><td><div style=\"text-align:left; max-width:192px; max-height:64px; overflow:auto\">9300</div></td><td><div style=\"text-align:left; max-width:192px; max-height:64px; overflow:auto\">32332</div></td><td><div style=\"text-align:left; max-width:192px; max-height:64px; overflow:auto\">None</div></td><td><div style=\"text-align:left; max-width:192px; max-height:64px; overflow:auto\">None</div></td><td><div style=\"text-align:left; max-width:192px; max-height:64px; overflow:auto\">None</div></td><td><div style=\"text-align:left; max-width:192px; max-height:64px; overflow:auto\">None</div></td><td><div style=\"text-align:left; max-width:192px; max-height:64px; overflow:auto\">None</div></td><td><div style=\"text-align:left; max-width:192px; max-height:64px; overflow:auto\">None</div></td><td><div style=\"text-align:left; max-width:192px; max-height:64px; overflow:auto\">None</div></td><td><div style=\"text-align:left; max-width:192px; max-height:64px; overflow:auto\">None</div></td><td><div style=\"text-align:left; max-width:192px; max-height:64px; overflow:auto\">None</div></td><td><div style=\"text-align:left; max-width:192px; max-height:64px; overflow:auto\">None</div></td><td><div style=\"text-align:left; max-width:192px; max-height:64px; overflow:auto\">None</div></td><td><div style=\"text-align:left; max-width:192px; max-height:64px; overflow:auto\">N</div></td><td><div style=\"text-align:left; max-width:192px; max-height:64px; overflow:auto\">None</div></td><td><div style=\"text-align:left; max-width:192px; max-height:64px; overflow:auto\">None</div></td><td><div style=\"text-align:left; max-width:192px; max-height:64px; overflow:auto\">None</div></td><td><div style=\"text-align:left; max-width:192px; max-height:64px; overflow:auto\">None</div></td><td><div style=\"text-align:left; max-width:192px; max-height:64px; overflow:auto\">None</div></td><td><div style=\"text-align:left; max-width:192px; max-height:64px; overflow:auto\">None</div></td><td><div style=\"text-align:left; max-width:192px; max-height:64px; overflow:auto\">None</div></td><td><div style=\"text-align:left; max-width:192px; max-height:64px; overflow:auto\">None</div></td><td><div style=\"text-align:left; max-width:192px; max-height:64px; overflow:auto\">None</div></td><td><div style=\"text-align:left; max-width:192px; max-height:64px; overflow:auto\">None</div></td><td><div style=\"text-align:left; max-width:192px; max-height:64px; overflow:auto\">None</div></td><td><div style=\"text-align:left; max-width:192px; max-height:64px; overflow:auto\">None</div></td><td><div style=\"text-align:left; max-width:192px; max-height:64px; overflow:auto\">None</div></td><td><div style=\"text-align:left; max-width:192px; max-height:64px; overflow:auto\">None</div></td><td><div style=\"text-align:left; max-width:192px; max-height:64px; overflow:auto\">Cash</div></td><td><div style=\"text-align:left; max-width:192px; max-height:64px; overflow:auto\">N</div></td><td><div style=\"text-align:left; max-width:192px; max-height:64px; overflow:auto\">None</div></td><td><div style=\"text-align:left; max-width:192px; max-height:64px; overflow:auto\">None</div></td><td><div style=\"text-align:left; max-width:192px; max-height:64px; overflow:auto\">None</div></td><td><div style=\"text-align:left; max-width:192px; max-height:64px; overflow:auto\">None</div></td><td><div style=\"text-align:left; max-width:192px; max-height:64px; overflow:auto\">None</div></td><td><div style=\"text-align:left; max-width:192px; max-height:64px; overflow:auto\">None</div></td><td><div style=\"text-align:left; max-width:192px; max-height:64px; overflow:auto\">2018</div></td></tr>\n",
       "</tbody>\n",
       "</table>\n",
       "<small>(Showing first 5 rows)</small>\n",
       "</div>"
      ],
      "text/plain": [
       "╭──────┬───────────┬───────────┬──────────────┬───────────────────────┬─────────────────┬──────╮\n",
       "│ id   ┆ member_id ┆ loan_amnt ┆       …      ┆ settlement_percentage ┆ settlement_term ┆ year │\n",
       "│ ---  ┆ ---       ┆ ---       ┆              ┆ ---                   ┆ ---             ┆ ---  │\n",
       "│ Utf8 ┆ Utf8      ┆ Int64     ┆ (140 hidden) ┆ Utf8                  ┆ Utf8            ┆ Utf8 │\n",
       "╞══════╪═══════════╪═══════════╪══════════════╪═══════════════════════╪═════════════════╪══════╡\n",
       "│ None ┆ None      ┆ 2500      ┆ …            ┆ None                  ┆ None            ┆ 2018 │\n",
       "├╌╌╌╌╌╌┼╌╌╌╌╌╌╌╌╌╌╌┼╌╌╌╌╌╌╌╌╌╌╌┼╌╌╌╌╌╌╌╌╌╌╌╌╌╌┼╌╌╌╌╌╌╌╌╌╌╌╌╌╌╌╌╌╌╌╌╌╌╌┼╌╌╌╌╌╌╌╌╌╌╌╌╌╌╌╌╌┼╌╌╌╌╌╌┤\n",
       "│ None ┆ None      ┆ 30000     ┆ …            ┆ None                  ┆ None            ┆ 2018 │\n",
       "├╌╌╌╌╌╌┼╌╌╌╌╌╌╌╌╌╌╌┼╌╌╌╌╌╌╌╌╌╌╌┼╌╌╌╌╌╌╌╌╌╌╌╌╌╌┼╌╌╌╌╌╌╌╌╌╌╌╌╌╌╌╌╌╌╌╌╌╌╌┼╌╌╌╌╌╌╌╌╌╌╌╌╌╌╌╌╌┼╌╌╌╌╌╌┤\n",
       "│ None ┆ None      ┆ 5000      ┆ …            ┆ None                  ┆ None            ┆ 2018 │\n",
       "├╌╌╌╌╌╌┼╌╌╌╌╌╌╌╌╌╌╌┼╌╌╌╌╌╌╌╌╌╌╌┼╌╌╌╌╌╌╌╌╌╌╌╌╌╌┼╌╌╌╌╌╌╌╌╌╌╌╌╌╌╌╌╌╌╌╌╌╌╌┼╌╌╌╌╌╌╌╌╌╌╌╌╌╌╌╌╌┼╌╌╌╌╌╌┤\n",
       "│ None ┆ None      ┆ 4000      ┆ …            ┆ None                  ┆ None            ┆ 2018 │\n",
       "├╌╌╌╌╌╌┼╌╌╌╌╌╌╌╌╌╌╌┼╌╌╌╌╌╌╌╌╌╌╌┼╌╌╌╌╌╌╌╌╌╌╌╌╌╌┼╌╌╌╌╌╌╌╌╌╌╌╌╌╌╌╌╌╌╌╌╌╌╌┼╌╌╌╌╌╌╌╌╌╌╌╌╌╌╌╌╌┼╌╌╌╌╌╌┤\n",
       "│ None ┆ None      ┆ 30000     ┆ …            ┆ None                  ┆ None            ┆ 2018 │\n",
       "╰──────┴───────────┴───────────┴──────────────┴───────────────────────┴─────────────────┴──────╯\n",
       "\n",
       "(Showing first 5 rows)"
      ]
     },
     "metadata": {},
     "output_type": "display_data"
    }
   ],
   "source": [
    "df.show(5)"
   ]
  },
  {
   "cell_type": "markdown",
   "metadata": {},
   "source": [
    "# Ibis"
   ]
  },
  {
   "cell_type": "code",
   "execution_count": null,
   "metadata": {},
   "outputs": [],
   "source": [
    "# DOCS\n",
    "# https://ibis-project.org/\n",
    "# https://ibis-project.org/install\n",
    "# https://ibis-project.org/tutorials/ibis-for-pandas-users\n",
    "# https://ibis-project.org/backends/duckdb\n",
    "# https://ibis-project.org/backends/pyspark\n",
    "# https://ibis-project.org/reference/expression-tables\n",
    "\n",
    "# INSTALL\n",
    "# pip install 'ibis-framework[duckdb]'\n",
    "# pip install 'ibis-framework[polars]'\n",
    "# pip install 'ibis-framework[pyspark]'"
   ]
  },
  {
   "cell_type": "code",
   "execution_count": 52,
   "metadata": {},
   "outputs": [],
   "source": [
    "import ibis\n",
    "import polars as pl\n",
    "import duckdb"
   ]
  },
  {
   "cell_type": "code",
   "execution_count": 53,
   "metadata": {},
   "outputs": [],
   "source": [
    "ibis.options.interactive = True"
   ]
  },
  {
   "cell_type": "code",
   "execution_count": 54,
   "metadata": {},
   "outputs": [],
   "source": [
    "con = ibis.polars.connect()"
   ]
  },
  {
   "cell_type": "code",
   "execution_count": 56,
   "metadata": {},
   "outputs": [],
   "source": [
    "df = con.read_parquet(path=s3_file, table_name=\"temp_df\")"
   ]
  },
  {
   "cell_type": "code",
   "execution_count": 57,
   "metadata": {},
   "outputs": [
    {
     "data": {
      "text/html": [
       "<pre style=\"white-space:pre;overflow-x:auto;line-height:normal;font-family:Menlo,'DejaVu Sans Mono',consolas,'Courier New',monospace\">┏━━━━━━━━┳━━━━━━━━━━━┳━━━━━━━━━━━┳━━━━━━━━━━━━━┳━━━━━━━━━━━━━━━━━┳━━━━━━━━━━━━┳━━━━━━━━━━┳━━━━━━━━━━━━━┳━━━━━━━━┳━━━━━━━━━━━┳━━━━━━━━━━━━━━━━┳━━━━━━━━━━━━┳━━━━━━━━━━━━━━━━┳━━━━━━━━━━━━┳━━━━━━━━━━━━━━━━━━━━━┳━━━━━━━━━━┳━━━━━━━━━━━━━┳━━━━━━━━━━━━┳━━━━━━━━┳━━━━━━━━┳━━━━━━━━━━━━━━━━━━━━┳━━━━━━━━━━━━━━━━━━━━┳━━━━━━━━━━┳━━━━━━━━━━━━┳━━━━━━━━━┳━━━━━━━━━━━━━┳━━━━━━━━━━━━━━━━━━┳━━━━━━━━━━━━━━━━┳━━━━━━━━━━━━━━━━━━━━━━━━┳━━━━━━━━━━━━━━━━━━━━━━━━┳━━━━━━━━━━┳━━━━━━━━━┳━━━━━━━━━━━┳━━━━━━━━━━━━┳━━━━━━━━━━━┳━━━━━━━━━━━━━━━━━━━━━┳━━━━━━━━━━━┳━━━━━━━━━━━━━━━┳━━━━━━━━━━━━━┳━━━━━━━━━━━━━━━━━┳━━━━━━━━━━━━━━━━━┳━━━━━━━━━━━━━━━┳━━━━━━━━━━━━━━━━━━━━┳━━━━━━━━━━━━┳━━━━━━━━━━━━━━━━━━━━━━━━━┳━━━━━━━━━━━━━━┳━━━━━━━━━━━━━━━━━┳━━━━━━━━━━━━━━┳━━━━━━━━━━━━━━━━━━━━┳━━━━━━━━━━━━━━━━━━━━━━━━━━━━┳━━━━━━━━━━━━━━━━━━━━━━━━━━━━━┳━━━━━━━━━━━━━┳━━━━━━━━━━━━━━━━━━┳━━━━━━━━━━━━━━━━━━┳━━━━━━━━━━━┳━━━━━━━━━━━━━━━━━━━━━━━━━━━┳━━━━━━━━━━━━━━━━┳━━━━━━━━━━━━━━┳━━━━━━━━━━━━━┳━━━━━━━━━━━━━┳━━━━━━━━━━━━━┳━━━━━━━━━━━━━┳━━━━━━━━━━━━━┳━━━━━━━━━━━━━━━━━━━━┳━━━━━━━━━━━━━━┳━━━━━━━━━┳━━━━━━━━━━━━━┳━━━━━━━━━━━━━┳━━━━━━━━━━━━┳━━━━━━━━━━┳━━━━━━━━━━━━━━━━━━┳━━━━━━━━┳━━━━━━━━━━━━━┳━━━━━━━━━━━━━━┳━━━━━━━━━━━━━━━━━━━━━━┳━━━━━━━━━━━━━┳━━━━━━━━━━━━━━━━┳━━━━━━━━━┳━━━━━━━━━━━━━━━━━━━━━━━━━━┳━━━━━━━━━━━━━┳━━━━━━━━━━━━━━━━━━━━┳━━━━━━━━━━━━━━━━━━━━━━┳━━━━━━━━━━━━━━━━━━━━━━━┳━━━━━━━━━━━━━━━━┳━━━━━━━━━━┳━━━━━━━━━━━━━━━━━━━━━━┳━━━━━━━━━━━━━━━━━━━━━━━━━━┳━━━━━━━━━━━━━━━━━━━━━━━┳━━━━━━━━━━━━━━━━━━━━━━━━━━━━━━━━┳━━━━━━━━━━━━━━━━━━━━━━━┳━━━━━━━━━━━━━━━━┳━━━━━━━━━━━━━━━━━┳━━━━━━━━━━━━━┳━━━━━━━━━━━┳━━━━━━━━━━━┳━━━━━━━━━━━━━━━┳━━━━━━━━━━━━━━━┳━━━━━━━━━━━━━━━━━━━━━┳━━━━━━━━━━┳━━━━━━━━━━━━━━━━━━┳━━━━━━━━━━━━━━┳━━━━━━━━━━━━━━━━━━━━┳━━━━━━━━━━━━━━━━━━━━┳━━━━━━━━━━━━━━━━┳━━━━━━━━━━━━━━━━━━┳━━━━━━━━━━━━━━━━━━━━━━┳━━━━━━━━━━━┳━━━━━━━━━━━━━━━━━┳━━━━━━━━━━━━━━━━━━━┳━━━━━━━━━━━━━━━━┳━━━━━━━━━━━━━━━━━━━━━━━━━━━━┳━━━━━━━━━━━━━━━━━┳━━━━━━━━━━━━━━━━━━━━━━━━━━┳━━━━━━━━━━━━━━━━━━━━━━━━┳━━━━━━━━━━━━━━━━━━┳━━━━━━━━━━━━━━━━━━┳━━━━━━━━━━━━━━━━━━━━┳━━━━━━━━━━━━━━━━━━━━━┳━━━━━━━━━━━━━━━━━━━━━━━┳━━━━━━━━━━━━━━━━━━━━━━━━━━━━━━━━━━┳━━━━━━━━━━━━━━━━━━━━━━━━━━━━━━━━━━━━┳━━━━━━━━━━━━━━━━━━━━━━━━━━━━━━━━━━━━━┳━━━━━━━━━━━━━━━┳━━━━━━━━━━━━━━━┳━━━━━━━━━━━━━━━━━┳━━━━━━━━━━━━━━━━━┳━━━━━━━━━━━━━━━┳━━━━━━━━━━━━━━━━━┳━━━━━━━━━━━━━━━━━━━━━┳━━━━━━━━━━━━━━━━━━━┳━━━━━━━━━━━━━━━━━━━━━━━━━┳━━━━━━━━━━━━━━━━━┳━━━━━━━━━━━━━━┳━━━━━━━━━━━━━━━━━━━━━━┳━━━━━━━━━━━━━━━━━━━━━━━━━━━━━━━━━━━━━━━━━━━━┳━━━━━━━━━━━━━━━━━━━━━━━━━━━━━━━━┳━━━━━━━━━━━━━━━━━━━━━━━━━━━━━━┳━━━━━━━━━━━━━━━━━━━━━┳━━━━━━━━━━━━━━━━━━━━━━┳━━━━━━━━━━━━━━━━━━━━━━━━━━━┳━━━━━━━━━━━━━━━━━━━┳━━━━━━━━━━━━━━━━━┳━━━━━━━━━━━━━━━━━━━┳━━━━━━━━━━━━━━━━━━━━━━━┳━━━━━━━━━━━━━━━━━┳━━━━━━━━┓\n",
       "┃<span style=\"font-weight: bold\"> id     </span>┃<span style=\"font-weight: bold\"> member_id </span>┃<span style=\"font-weight: bold\"> loan_amnt </span>┃<span style=\"font-weight: bold\"> funded_amnt </span>┃<span style=\"font-weight: bold\"> funded_amnt_inv </span>┃<span style=\"font-weight: bold\"> term       </span>┃<span style=\"font-weight: bold\"> int_rate </span>┃<span style=\"font-weight: bold\"> installment </span>┃<span style=\"font-weight: bold\"> grade  </span>┃<span style=\"font-weight: bold\"> sub_grade </span>┃<span style=\"font-weight: bold\"> emp_title      </span>┃<span style=\"font-weight: bold\"> emp_length </span>┃<span style=\"font-weight: bold\"> home_ownership </span>┃<span style=\"font-weight: bold\"> annual_inc </span>┃<span style=\"font-weight: bold\"> verification_status </span>┃<span style=\"font-weight: bold\"> issue_d  </span>┃<span style=\"font-weight: bold\"> loan_status </span>┃<span style=\"font-weight: bold\"> pymnt_plan </span>┃<span style=\"font-weight: bold\"> url    </span>┃<span style=\"font-weight: bold\"> desc   </span>┃<span style=\"font-weight: bold\"> purpose            </span>┃<span style=\"font-weight: bold\"> title              </span>┃<span style=\"font-weight: bold\"> zip_code </span>┃<span style=\"font-weight: bold\"> addr_state </span>┃<span style=\"font-weight: bold\"> dti     </span>┃<span style=\"font-weight: bold\"> delinq_2yrs </span>┃<span style=\"font-weight: bold\"> earliest_cr_line </span>┃<span style=\"font-weight: bold\"> inq_last_6mths </span>┃<span style=\"font-weight: bold\"> mths_since_last_delinq </span>┃<span style=\"font-weight: bold\"> mths_since_last_record </span>┃<span style=\"font-weight: bold\"> open_acc </span>┃<span style=\"font-weight: bold\"> pub_rec </span>┃<span style=\"font-weight: bold\"> revol_bal </span>┃<span style=\"font-weight: bold\"> revol_util </span>┃<span style=\"font-weight: bold\"> total_acc </span>┃<span style=\"font-weight: bold\"> initial_list_status </span>┃<span style=\"font-weight: bold\"> out_prncp </span>┃<span style=\"font-weight: bold\"> out_prncp_inv </span>┃<span style=\"font-weight: bold\"> total_pymnt </span>┃<span style=\"font-weight: bold\"> total_pymnt_inv </span>┃<span style=\"font-weight: bold\"> total_rec_prncp </span>┃<span style=\"font-weight: bold\"> total_rec_int </span>┃<span style=\"font-weight: bold\"> total_rec_late_fee </span>┃<span style=\"font-weight: bold\"> recoveries </span>┃<span style=\"font-weight: bold\"> collection_recovery_fee </span>┃<span style=\"font-weight: bold\"> last_pymnt_d </span>┃<span style=\"font-weight: bold\"> last_pymnt_amnt </span>┃<span style=\"font-weight: bold\"> next_pymnt_d </span>┃<span style=\"font-weight: bold\"> last_credit_pull_d </span>┃<span style=\"font-weight: bold\"> collections_12_mths_ex_med </span>┃<span style=\"font-weight: bold\"> mths_since_last_major_derog </span>┃<span style=\"font-weight: bold\"> policy_code </span>┃<span style=\"font-weight: bold\"> application_type </span>┃<span style=\"font-weight: bold\"> annual_inc_joint </span>┃<span style=\"font-weight: bold\"> dti_joint </span>┃<span style=\"font-weight: bold\"> verification_status_joint </span>┃<span style=\"font-weight: bold\"> acc_now_delinq </span>┃<span style=\"font-weight: bold\"> tot_coll_amt </span>┃<span style=\"font-weight: bold\"> tot_cur_bal </span>┃<span style=\"font-weight: bold\"> open_acc_6m </span>┃<span style=\"font-weight: bold\"> open_act_il </span>┃<span style=\"font-weight: bold\"> open_il_12m </span>┃<span style=\"font-weight: bold\"> open_il_24m </span>┃<span style=\"font-weight: bold\"> mths_since_rcnt_il </span>┃<span style=\"font-weight: bold\"> total_bal_il </span>┃<span style=\"font-weight: bold\"> il_util </span>┃<span style=\"font-weight: bold\"> open_rv_12m </span>┃<span style=\"font-weight: bold\"> open_rv_24m </span>┃<span style=\"font-weight: bold\"> max_bal_bc </span>┃<span style=\"font-weight: bold\"> all_util </span>┃<span style=\"font-weight: bold\"> total_rev_hi_lim </span>┃<span style=\"font-weight: bold\"> inq_fi </span>┃<span style=\"font-weight: bold\"> total_cu_tl </span>┃<span style=\"font-weight: bold\"> inq_last_12m </span>┃<span style=\"font-weight: bold\"> acc_open_past_24mths </span>┃<span style=\"font-weight: bold\"> avg_cur_bal </span>┃<span style=\"font-weight: bold\"> bc_open_to_buy </span>┃<span style=\"font-weight: bold\"> bc_util </span>┃<span style=\"font-weight: bold\"> chargeoff_within_12_mths </span>┃<span style=\"font-weight: bold\"> delinq_amnt </span>┃<span style=\"font-weight: bold\"> mo_sin_old_il_acct </span>┃<span style=\"font-weight: bold\"> mo_sin_old_rev_tl_op </span>┃<span style=\"font-weight: bold\"> mo_sin_rcnt_rev_tl_op </span>┃<span style=\"font-weight: bold\"> mo_sin_rcnt_tl </span>┃<span style=\"font-weight: bold\"> mort_acc </span>┃<span style=\"font-weight: bold\"> mths_since_recent_bc </span>┃<span style=\"font-weight: bold\"> mths_since_recent_bc_dlq </span>┃<span style=\"font-weight: bold\"> mths_since_recent_inq </span>┃<span style=\"font-weight: bold\"> mths_since_recent_revol_delinq </span>┃<span style=\"font-weight: bold\"> num_accts_ever_120_pd </span>┃<span style=\"font-weight: bold\"> num_actv_bc_tl </span>┃<span style=\"font-weight: bold\"> num_actv_rev_tl </span>┃<span style=\"font-weight: bold\"> num_bc_sats </span>┃<span style=\"font-weight: bold\"> num_bc_tl </span>┃<span style=\"font-weight: bold\"> num_il_tl </span>┃<span style=\"font-weight: bold\"> num_op_rev_tl </span>┃<span style=\"font-weight: bold\"> num_rev_accts </span>┃<span style=\"font-weight: bold\"> num_rev_tl_bal_gt_0 </span>┃<span style=\"font-weight: bold\"> num_sats </span>┃<span style=\"font-weight: bold\"> num_tl_120dpd_2m </span>┃<span style=\"font-weight: bold\"> num_tl_30dpd </span>┃<span style=\"font-weight: bold\"> num_tl_90g_dpd_24m </span>┃<span style=\"font-weight: bold\"> num_tl_op_past_12m </span>┃<span style=\"font-weight: bold\"> pct_tl_nvr_dlq </span>┃<span style=\"font-weight: bold\"> percent_bc_gt_75 </span>┃<span style=\"font-weight: bold\"> pub_rec_bankruptcies </span>┃<span style=\"font-weight: bold\"> tax_liens </span>┃<span style=\"font-weight: bold\"> tot_hi_cred_lim </span>┃<span style=\"font-weight: bold\"> total_bal_ex_mort </span>┃<span style=\"font-weight: bold\"> total_bc_limit </span>┃<span style=\"font-weight: bold\"> total_il_high_credit_limit </span>┃<span style=\"font-weight: bold\"> revol_bal_joint </span>┃<span style=\"font-weight: bold\"> sec_app_earliest_cr_line </span>┃<span style=\"font-weight: bold\"> sec_app_inq_last_6mths </span>┃<span style=\"font-weight: bold\"> sec_app_mort_acc </span>┃<span style=\"font-weight: bold\"> sec_app_open_acc </span>┃<span style=\"font-weight: bold\"> sec_app_revol_util </span>┃<span style=\"font-weight: bold\"> sec_app_open_act_il </span>┃<span style=\"font-weight: bold\"> sec_app_num_rev_accts </span>┃<span style=\"font-weight: bold\"> sec_app_chargeoff_within_12_mths </span>┃<span style=\"font-weight: bold\"> sec_app_collections_12_mths_ex_med </span>┃<span style=\"font-weight: bold\"> sec_app_mths_since_last_major_derog </span>┃<span style=\"font-weight: bold\"> hardship_flag </span>┃<span style=\"font-weight: bold\"> hardship_type </span>┃<span style=\"font-weight: bold\"> hardship_reason </span>┃<span style=\"font-weight: bold\"> hardship_status </span>┃<span style=\"font-weight: bold\"> deferral_term </span>┃<span style=\"font-weight: bold\"> hardship_amount </span>┃<span style=\"font-weight: bold\"> hardship_start_date </span>┃<span style=\"font-weight: bold\"> hardship_end_date </span>┃<span style=\"font-weight: bold\"> payment_plan_start_date </span>┃<span style=\"font-weight: bold\"> hardship_length </span>┃<span style=\"font-weight: bold\"> hardship_dpd </span>┃<span style=\"font-weight: bold\"> hardship_loan_status </span>┃<span style=\"font-weight: bold\"> orig_projected_additional_accrued_interest </span>┃<span style=\"font-weight: bold\"> hardship_payoff_balance_amount </span>┃<span style=\"font-weight: bold\"> hardship_last_payment_amount </span>┃<span style=\"font-weight: bold\"> disbursement_method </span>┃<span style=\"font-weight: bold\"> debt_settlement_flag </span>┃<span style=\"font-weight: bold\"> debt_settlement_flag_date </span>┃<span style=\"font-weight: bold\"> settlement_status </span>┃<span style=\"font-weight: bold\"> settlement_date </span>┃<span style=\"font-weight: bold\"> settlement_amount </span>┃<span style=\"font-weight: bold\"> settlement_percentage </span>┃<span style=\"font-weight: bold\"> settlement_term </span>┃<span style=\"font-weight: bold\"> year   </span>┃\n",
       "┡━━━━━━━━╇━━━━━━━━━━━╇━━━━━━━━━━━╇━━━━━━━━━━━━━╇━━━━━━━━━━━━━━━━━╇━━━━━━━━━━━━╇━━━━━━━━━━╇━━━━━━━━━━━━━╇━━━━━━━━╇━━━━━━━━━━━╇━━━━━━━━━━━━━━━━╇━━━━━━━━━━━━╇━━━━━━━━━━━━━━━━╇━━━━━━━━━━━━╇━━━━━━━━━━━━━━━━━━━━━╇━━━━━━━━━━╇━━━━━━━━━━━━━╇━━━━━━━━━━━━╇━━━━━━━━╇━━━━━━━━╇━━━━━━━━━━━━━━━━━━━━╇━━━━━━━━━━━━━━━━━━━━╇━━━━━━━━━━╇━━━━━━━━━━━━╇━━━━━━━━━╇━━━━━━━━━━━━━╇━━━━━━━━━━━━━━━━━━╇━━━━━━━━━━━━━━━━╇━━━━━━━━━━━━━━━━━━━━━━━━╇━━━━━━━━━━━━━━━━━━━━━━━━╇━━━━━━━━━━╇━━━━━━━━━╇━━━━━━━━━━━╇━━━━━━━━━━━━╇━━━━━━━━━━━╇━━━━━━━━━━━━━━━━━━━━━╇━━━━━━━━━━━╇━━━━━━━━━━━━━━━╇━━━━━━━━━━━━━╇━━━━━━━━━━━━━━━━━╇━━━━━━━━━━━━━━━━━╇━━━━━━━━━━━━━━━╇━━━━━━━━━━━━━━━━━━━━╇━━━━━━━━━━━━╇━━━━━━━━━━━━━━━━━━━━━━━━━╇━━━━━━━━━━━━━━╇━━━━━━━━━━━━━━━━━╇━━━━━━━━━━━━━━╇━━━━━━━━━━━━━━━━━━━━╇━━━━━━━━━━━━━━━━━━━━━━━━━━━━╇━━━━━━━━━━━━━━━━━━━━━━━━━━━━━╇━━━━━━━━━━━━━╇━━━━━━━━━━━━━━━━━━╇━━━━━━━━━━━━━━━━━━╇━━━━━━━━━━━╇━━━━━━━━━━━━━━━━━━━━━━━━━━━╇━━━━━━━━━━━━━━━━╇━━━━━━━━━━━━━━╇━━━━━━━━━━━━━╇━━━━━━━━━━━━━╇━━━━━━━━━━━━━╇━━━━━━━━━━━━━╇━━━━━━━━━━━━━╇━━━━━━━━━━━━━━━━━━━━╇━━━━━━━━━━━━━━╇━━━━━━━━━╇━━━━━━━━━━━━━╇━━━━━━━━━━━━━╇━━━━━━━━━━━━╇━━━━━━━━━━╇━━━━━━━━━━━━━━━━━━╇━━━━━━━━╇━━━━━━━━━━━━━╇━━━━━━━━━━━━━━╇━━━━━━━━━━━━━━━━━━━━━━╇━━━━━━━━━━━━━╇━━━━━━━━━━━━━━━━╇━━━━━━━━━╇━━━━━━━━━━━━━━━━━━━━━━━━━━╇━━━━━━━━━━━━━╇━━━━━━━━━━━━━━━━━━━━╇━━━━━━━━━━━━━━━━━━━━━━╇━━━━━━━━━━━━━━━━━━━━━━━╇━━━━━━━━━━━━━━━━╇━━━━━━━━━━╇━━━━━━━━━━━━━━━━━━━━━━╇━━━━━━━━━━━━━━━━━━━━━━━━━━╇━━━━━━━━━━━━━━━━━━━━━━━╇━━━━━━━━━━━━━━━━━━━━━━━━━━━━━━━━╇━━━━━━━━━━━━━━━━━━━━━━━╇━━━━━━━━━━━━━━━━╇━━━━━━━━━━━━━━━━━╇━━━━━━━━━━━━━╇━━━━━━━━━━━╇━━━━━━━━━━━╇━━━━━━━━━━━━━━━╇━━━━━━━━━━━━━━━╇━━━━━━━━━━━━━━━━━━━━━╇━━━━━━━━━━╇━━━━━━━━━━━━━━━━━━╇━━━━━━━━━━━━━━╇━━━━━━━━━━━━━━━━━━━━╇━━━━━━━━━━━━━━━━━━━━╇━━━━━━━━━━━━━━━━╇━━━━━━━━━━━━━━━━━━╇━━━━━━━━━━━━━━━━━━━━━━╇━━━━━━━━━━━╇━━━━━━━━━━━━━━━━━╇━━━━━━━━━━━━━━━━━━━╇━━━━━━━━━━━━━━━━╇━━━━━━━━━━━━━━━━━━━━━━━━━━━━╇━━━━━━━━━━━━━━━━━╇━━━━━━━━━━━━━━━━━━━━━━━━━━╇━━━━━━━━━━━━━━━━━━━━━━━━╇━━━━━━━━━━━━━━━━━━╇━━━━━━━━━━━━━━━━━━╇━━━━━━━━━━━━━━━━━━━━╇━━━━━━━━━━━━━━━━━━━━━╇━━━━━━━━━━━━━━━━━━━━━━━╇━━━━━━━━━━━━━━━━━━━━━━━━━━━━━━━━━━╇━━━━━━━━━━━━━━━━━━━━━━━━━━━━━━━━━━━━╇━━━━━━━━━━━━━━━━━━━━━━━━━━━━━━━━━━━━━╇━━━━━━━━━━━━━━━╇━━━━━━━━━━━━━━━╇━━━━━━━━━━━━━━━━━╇━━━━━━━━━━━━━━━━━╇━━━━━━━━━━━━━━━╇━━━━━━━━━━━━━━━━━╇━━━━━━━━━━━━━━━━━━━━━╇━━━━━━━━━━━━━━━━━━━╇━━━━━━━━━━━━━━━━━━━━━━━━━╇━━━━━━━━━━━━━━━━━╇━━━━━━━━━━━━━━╇━━━━━━━━━━━━━━━━━━━━━━╇━━━━━━━━━━━━━━━━━━━━━━━━━━━━━━━━━━━━━━━━━━━━╇━━━━━━━━━━━━━━━━━━━━━━━━━━━━━━━━╇━━━━━━━━━━━━━━━━━━━━━━━━━━━━━━╇━━━━━━━━━━━━━━━━━━━━━╇━━━━━━━━━━━━━━━━━━━━━━╇━━━━━━━━━━━━━━━━━━━━━━━━━━━╇━━━━━━━━━━━━━━━━━━━╇━━━━━━━━━━━━━━━━━╇━━━━━━━━━━━━━━━━━━━╇━━━━━━━━━━━━━━━━━━━━━━━╇━━━━━━━━━━━━━━━━━╇━━━━━━━━┩\n",
       "│ <span style=\"color: #7f7f7f; text-decoration-color: #7f7f7f\">string</span> │ <span style=\"color: #7f7f7f; text-decoration-color: #7f7f7f\">string</span>    │ <span style=\"color: #7f7f7f; text-decoration-color: #7f7f7f\">int64</span>     │ <span style=\"color: #7f7f7f; text-decoration-color: #7f7f7f\">int64</span>       │ <span style=\"color: #7f7f7f; text-decoration-color: #7f7f7f\">int64</span>           │ <span style=\"color: #7f7f7f; text-decoration-color: #7f7f7f\">string</span>     │ <span style=\"color: #7f7f7f; text-decoration-color: #7f7f7f\">float64</span>  │ <span style=\"color: #7f7f7f; text-decoration-color: #7f7f7f\">float64</span>     │ <span style=\"color: #7f7f7f; text-decoration-color: #7f7f7f\">string</span> │ <span style=\"color: #7f7f7f; text-decoration-color: #7f7f7f\">string</span>    │ <span style=\"color: #7f7f7f; text-decoration-color: #7f7f7f\">string</span>         │ <span style=\"color: #7f7f7f; text-decoration-color: #7f7f7f\">string</span>     │ <span style=\"color: #7f7f7f; text-decoration-color: #7f7f7f\">string</span>         │ <span style=\"color: #7f7f7f; text-decoration-color: #7f7f7f\">float64</span>    │ <span style=\"color: #7f7f7f; text-decoration-color: #7f7f7f\">string</span>              │ <span style=\"color: #7f7f7f; text-decoration-color: #7f7f7f\">string</span>   │ <span style=\"color: #7f7f7f; text-decoration-color: #7f7f7f\">string</span>      │ <span style=\"color: #7f7f7f; text-decoration-color: #7f7f7f\">string</span>     │ <span style=\"color: #7f7f7f; text-decoration-color: #7f7f7f\">string</span> │ <span style=\"color: #7f7f7f; text-decoration-color: #7f7f7f\">string</span> │ <span style=\"color: #7f7f7f; text-decoration-color: #7f7f7f\">string</span>             │ <span style=\"color: #7f7f7f; text-decoration-color: #7f7f7f\">string</span>             │ <span style=\"color: #7f7f7f; text-decoration-color: #7f7f7f\">string</span>   │ <span style=\"color: #7f7f7f; text-decoration-color: #7f7f7f\">string</span>     │ <span style=\"color: #7f7f7f; text-decoration-color: #7f7f7f\">float64</span> │ <span style=\"color: #7f7f7f; text-decoration-color: #7f7f7f\">int64</span>       │ <span style=\"color: #7f7f7f; text-decoration-color: #7f7f7f\">string</span>           │ <span style=\"color: #7f7f7f; text-decoration-color: #7f7f7f\">int64</span>          │ <span style=\"color: #7f7f7f; text-decoration-color: #7f7f7f\">int64</span>                  │ <span style=\"color: #7f7f7f; text-decoration-color: #7f7f7f\">int64</span>                  │ <span style=\"color: #7f7f7f; text-decoration-color: #7f7f7f\">int64</span>    │ <span style=\"color: #7f7f7f; text-decoration-color: #7f7f7f\">int64</span>   │ <span style=\"color: #7f7f7f; text-decoration-color: #7f7f7f\">int64</span>     │ <span style=\"color: #7f7f7f; text-decoration-color: #7f7f7f\">float64</span>    │ <span style=\"color: #7f7f7f; text-decoration-color: #7f7f7f\">int64</span>     │ <span style=\"color: #7f7f7f; text-decoration-color: #7f7f7f\">string</span>              │ <span style=\"color: #7f7f7f; text-decoration-color: #7f7f7f\">float64</span>   │ <span style=\"color: #7f7f7f; text-decoration-color: #7f7f7f\">float64</span>       │ <span style=\"color: #7f7f7f; text-decoration-color: #7f7f7f\">float64</span>     │ <span style=\"color: #7f7f7f; text-decoration-color: #7f7f7f\">float64</span>         │ <span style=\"color: #7f7f7f; text-decoration-color: #7f7f7f\">float64</span>         │ <span style=\"color: #7f7f7f; text-decoration-color: #7f7f7f\">float64</span>       │ <span style=\"color: #7f7f7f; text-decoration-color: #7f7f7f\">float64</span>            │ <span style=\"color: #7f7f7f; text-decoration-color: #7f7f7f\">float64</span>    │ <span style=\"color: #7f7f7f; text-decoration-color: #7f7f7f\">float64</span>                 │ <span style=\"color: #7f7f7f; text-decoration-color: #7f7f7f\">string</span>       │ <span style=\"color: #7f7f7f; text-decoration-color: #7f7f7f\">float64</span>         │ <span style=\"color: #7f7f7f; text-decoration-color: #7f7f7f\">string</span>       │ <span style=\"color: #7f7f7f; text-decoration-color: #7f7f7f\">string</span>             │ <span style=\"color: #7f7f7f; text-decoration-color: #7f7f7f\">int64</span>                      │ <span style=\"color: #7f7f7f; text-decoration-color: #7f7f7f\">int64</span>                       │ <span style=\"color: #7f7f7f; text-decoration-color: #7f7f7f\">int64</span>       │ <span style=\"color: #7f7f7f; text-decoration-color: #7f7f7f\">string</span>           │ <span style=\"color: #7f7f7f; text-decoration-color: #7f7f7f\">float64</span>          │ <span style=\"color: #7f7f7f; text-decoration-color: #7f7f7f\">float64</span>   │ <span style=\"color: #7f7f7f; text-decoration-color: #7f7f7f\">string</span>                    │ <span style=\"color: #7f7f7f; text-decoration-color: #7f7f7f\">int64</span>          │ <span style=\"color: #7f7f7f; text-decoration-color: #7f7f7f\">int64</span>        │ <span style=\"color: #7f7f7f; text-decoration-color: #7f7f7f\">int64</span>       │ <span style=\"color: #7f7f7f; text-decoration-color: #7f7f7f\">int64</span>       │ <span style=\"color: #7f7f7f; text-decoration-color: #7f7f7f\">int64</span>       │ <span style=\"color: #7f7f7f; text-decoration-color: #7f7f7f\">int64</span>       │ <span style=\"color: #7f7f7f; text-decoration-color: #7f7f7f\">int64</span>       │ <span style=\"color: #7f7f7f; text-decoration-color: #7f7f7f\">int64</span>              │ <span style=\"color: #7f7f7f; text-decoration-color: #7f7f7f\">int64</span>        │ <span style=\"color: #7f7f7f; text-decoration-color: #7f7f7f\">int64</span>   │ <span style=\"color: #7f7f7f; text-decoration-color: #7f7f7f\">int64</span>       │ <span style=\"color: #7f7f7f; text-decoration-color: #7f7f7f\">int64</span>       │ <span style=\"color: #7f7f7f; text-decoration-color: #7f7f7f\">int64</span>      │ <span style=\"color: #7f7f7f; text-decoration-color: #7f7f7f\">int64</span>    │ <span style=\"color: #7f7f7f; text-decoration-color: #7f7f7f\">int64</span>            │ <span style=\"color: #7f7f7f; text-decoration-color: #7f7f7f\">int64</span>  │ <span style=\"color: #7f7f7f; text-decoration-color: #7f7f7f\">int64</span>       │ <span style=\"color: #7f7f7f; text-decoration-color: #7f7f7f\">int64</span>        │ <span style=\"color: #7f7f7f; text-decoration-color: #7f7f7f\">int64</span>                │ <span style=\"color: #7f7f7f; text-decoration-color: #7f7f7f\">int64</span>       │ <span style=\"color: #7f7f7f; text-decoration-color: #7f7f7f\">int64</span>          │ <span style=\"color: #7f7f7f; text-decoration-color: #7f7f7f\">float64</span> │ <span style=\"color: #7f7f7f; text-decoration-color: #7f7f7f\">int64</span>                    │ <span style=\"color: #7f7f7f; text-decoration-color: #7f7f7f\">int64</span>       │ <span style=\"color: #7f7f7f; text-decoration-color: #7f7f7f\">int64</span>              │ <span style=\"color: #7f7f7f; text-decoration-color: #7f7f7f\">int64</span>                │ <span style=\"color: #7f7f7f; text-decoration-color: #7f7f7f\">int64</span>                 │ <span style=\"color: #7f7f7f; text-decoration-color: #7f7f7f\">int64</span>          │ <span style=\"color: #7f7f7f; text-decoration-color: #7f7f7f\">int64</span>    │ <span style=\"color: #7f7f7f; text-decoration-color: #7f7f7f\">int64</span>                │ <span style=\"color: #7f7f7f; text-decoration-color: #7f7f7f\">int64</span>                    │ <span style=\"color: #7f7f7f; text-decoration-color: #7f7f7f\">int64</span>                 │ <span style=\"color: #7f7f7f; text-decoration-color: #7f7f7f\">int64</span>                          │ <span style=\"color: #7f7f7f; text-decoration-color: #7f7f7f\">int64</span>                 │ <span style=\"color: #7f7f7f; text-decoration-color: #7f7f7f\">int64</span>          │ <span style=\"color: #7f7f7f; text-decoration-color: #7f7f7f\">int64</span>           │ <span style=\"color: #7f7f7f; text-decoration-color: #7f7f7f\">int64</span>       │ <span style=\"color: #7f7f7f; text-decoration-color: #7f7f7f\">int64</span>     │ <span style=\"color: #7f7f7f; text-decoration-color: #7f7f7f\">int64</span>     │ <span style=\"color: #7f7f7f; text-decoration-color: #7f7f7f\">int64</span>         │ <span style=\"color: #7f7f7f; text-decoration-color: #7f7f7f\">int64</span>         │ <span style=\"color: #7f7f7f; text-decoration-color: #7f7f7f\">int64</span>               │ <span style=\"color: #7f7f7f; text-decoration-color: #7f7f7f\">int64</span>    │ <span style=\"color: #7f7f7f; text-decoration-color: #7f7f7f\">int64</span>            │ <span style=\"color: #7f7f7f; text-decoration-color: #7f7f7f\">int64</span>        │ <span style=\"color: #7f7f7f; text-decoration-color: #7f7f7f\">int64</span>              │ <span style=\"color: #7f7f7f; text-decoration-color: #7f7f7f\">int64</span>              │ <span style=\"color: #7f7f7f; text-decoration-color: #7f7f7f\">float64</span>        │ <span style=\"color: #7f7f7f; text-decoration-color: #7f7f7f\">float64</span>          │ <span style=\"color: #7f7f7f; text-decoration-color: #7f7f7f\">int64</span>                │ <span style=\"color: #7f7f7f; text-decoration-color: #7f7f7f\">int64</span>     │ <span style=\"color: #7f7f7f; text-decoration-color: #7f7f7f\">int64</span>           │ <span style=\"color: #7f7f7f; text-decoration-color: #7f7f7f\">int64</span>             │ <span style=\"color: #7f7f7f; text-decoration-color: #7f7f7f\">int64</span>          │ <span style=\"color: #7f7f7f; text-decoration-color: #7f7f7f\">int64</span>                      │ <span style=\"color: #7f7f7f; text-decoration-color: #7f7f7f\">int64</span>           │ <span style=\"color: #7f7f7f; text-decoration-color: #7f7f7f\">string</span>                   │ <span style=\"color: #7f7f7f; text-decoration-color: #7f7f7f\">int64</span>                  │ <span style=\"color: #7f7f7f; text-decoration-color: #7f7f7f\">int64</span>            │ <span style=\"color: #7f7f7f; text-decoration-color: #7f7f7f\">int64</span>            │ <span style=\"color: #7f7f7f; text-decoration-color: #7f7f7f\">float64</span>            │ <span style=\"color: #7f7f7f; text-decoration-color: #7f7f7f\">int64</span>               │ <span style=\"color: #7f7f7f; text-decoration-color: #7f7f7f\">int64</span>                 │ <span style=\"color: #7f7f7f; text-decoration-color: #7f7f7f\">int64</span>                            │ <span style=\"color: #7f7f7f; text-decoration-color: #7f7f7f\">int64</span>                              │ <span style=\"color: #7f7f7f; text-decoration-color: #7f7f7f\">int64</span>                               │ <span style=\"color: #7f7f7f; text-decoration-color: #7f7f7f\">string</span>        │ <span style=\"color: #7f7f7f; text-decoration-color: #7f7f7f\">string</span>        │ <span style=\"color: #7f7f7f; text-decoration-color: #7f7f7f\">string</span>          │ <span style=\"color: #7f7f7f; text-decoration-color: #7f7f7f\">string</span>          │ <span style=\"color: #7f7f7f; text-decoration-color: #7f7f7f\">string</span>        │ <span style=\"color: #7f7f7f; text-decoration-color: #7f7f7f\">string</span>          │ <span style=\"color: #7f7f7f; text-decoration-color: #7f7f7f\">string</span>              │ <span style=\"color: #7f7f7f; text-decoration-color: #7f7f7f\">string</span>            │ <span style=\"color: #7f7f7f; text-decoration-color: #7f7f7f\">string</span>                  │ <span style=\"color: #7f7f7f; text-decoration-color: #7f7f7f\">string</span>          │ <span style=\"color: #7f7f7f; text-decoration-color: #7f7f7f\">string</span>       │ <span style=\"color: #7f7f7f; text-decoration-color: #7f7f7f\">string</span>               │ <span style=\"color: #7f7f7f; text-decoration-color: #7f7f7f\">string</span>                                     │ <span style=\"color: #7f7f7f; text-decoration-color: #7f7f7f\">string</span>                         │ <span style=\"color: #7f7f7f; text-decoration-color: #7f7f7f\">string</span>                       │ <span style=\"color: #7f7f7f; text-decoration-color: #7f7f7f\">string</span>              │ <span style=\"color: #7f7f7f; text-decoration-color: #7f7f7f\">string</span>               │ <span style=\"color: #7f7f7f; text-decoration-color: #7f7f7f\">string</span>                    │ <span style=\"color: #7f7f7f; text-decoration-color: #7f7f7f\">string</span>            │ <span style=\"color: #7f7f7f; text-decoration-color: #7f7f7f\">string</span>          │ <span style=\"color: #7f7f7f; text-decoration-color: #7f7f7f\">string</span>            │ <span style=\"color: #7f7f7f; text-decoration-color: #7f7f7f\">string</span>                │ <span style=\"color: #7f7f7f; text-decoration-color: #7f7f7f\">string</span>          │ <span style=\"color: #7f7f7f; text-decoration-color: #7f7f7f\">string</span> │\n",
       "├────────┼───────────┼───────────┼─────────────┼─────────────────┼────────────┼──────────┼─────────────┼────────┼───────────┼────────────────┼────────────┼────────────────┼────────────┼─────────────────────┼──────────┼─────────────┼────────────┼────────┼────────┼────────────────────┼────────────────────┼──────────┼────────────┼─────────┼─────────────┼──────────────────┼────────────────┼────────────────────────┼────────────────────────┼──────────┼─────────┼───────────┼────────────┼───────────┼─────────────────────┼───────────┼───────────────┼─────────────┼─────────────────┼─────────────────┼───────────────┼────────────────────┼────────────┼─────────────────────────┼──────────────┼─────────────────┼──────────────┼────────────────────┼────────────────────────────┼─────────────────────────────┼─────────────┼──────────────────┼──────────────────┼───────────┼───────────────────────────┼────────────────┼──────────────┼─────────────┼─────────────┼─────────────┼─────────────┼─────────────┼────────────────────┼──────────────┼─────────┼─────────────┼─────────────┼────────────┼──────────┼──────────────────┼────────┼─────────────┼──────────────┼──────────────────────┼─────────────┼────────────────┼─────────┼──────────────────────────┼─────────────┼────────────────────┼──────────────────────┼───────────────────────┼────────────────┼──────────┼──────────────────────┼──────────────────────────┼───────────────────────┼────────────────────────────────┼───────────────────────┼────────────────┼─────────────────┼─────────────┼───────────┼───────────┼───────────────┼───────────────┼─────────────────────┼──────────┼──────────────────┼──────────────┼────────────────────┼────────────────────┼────────────────┼──────────────────┼──────────────────────┼───────────┼─────────────────┼───────────────────┼────────────────┼────────────────────────────┼─────────────────┼──────────────────────────┼────────────────────────┼──────────────────┼──────────────────┼────────────────────┼─────────────────────┼───────────────────────┼──────────────────────────────────┼────────────────────────────────────┼─────────────────────────────────────┼───────────────┼───────────────┼─────────────────┼─────────────────┼───────────────┼─────────────────┼─────────────────────┼───────────────────┼─────────────────────────┼─────────────────┼──────────────┼──────────────────────┼────────────────────────────────────────────┼────────────────────────────────┼──────────────────────────────┼─────────────────────┼──────────────────────┼───────────────────────────┼───────────────────┼─────────────────┼───────────────────┼───────────────────────┼─────────────────┼────────┤\n",
       "│ <span style=\"color: #7f7f7f; text-decoration-color: #7f7f7f\">NULL</span>   │ <span style=\"color: #7f7f7f; text-decoration-color: #7f7f7f\">NULL</span>      │      <span style=\"color: #008080; text-decoration-color: #008080; font-weight: bold\">2500</span> │        <span style=\"color: #008080; text-decoration-color: #008080; font-weight: bold\">2500</span> │            <span style=\"color: #008080; text-decoration-color: #008080; font-weight: bold\">2500</span> │ <span style=\"color: #008000; text-decoration-color: #008000\"> 36 months</span> │    <span style=\"color: #008080; text-decoration-color: #008080; font-weight: bold\">13.56</span> │       <span style=\"color: #008080; text-decoration-color: #008080; font-weight: bold\">84.92</span> │ <span style=\"color: #008000; text-decoration-color: #008000\">C     </span> │ <span style=\"color: #008000; text-decoration-color: #008000\">C1       </span> │ <span style=\"color: #008000; text-decoration-color: #008000\">Chef          </span> │ <span style=\"color: #008000; text-decoration-color: #008000\">10+ years </span> │ <span style=\"color: #008000; text-decoration-color: #008000\">RENT          </span> │    <span style=\"color: #008080; text-decoration-color: #008080; font-weight: bold\">55000.0</span> │ <span style=\"color: #008000; text-decoration-color: #008000\">Not Verified       </span> │ <span style=\"color: #008000; text-decoration-color: #008000\">Dec-2018</span> │ <span style=\"color: #008000; text-decoration-color: #008000\">Current    </span> │ <span style=\"color: #008000; text-decoration-color: #008000\">n         </span> │ <span style=\"color: #7f7f7f; text-decoration-color: #7f7f7f\">NULL</span>   │ <span style=\"color: #7f7f7f; text-decoration-color: #7f7f7f\">NULL</span>   │ <span style=\"color: #008000; text-decoration-color: #008000\">debt_consolidation</span> │ <span style=\"color: #008000; text-decoration-color: #008000\">Debt consolidation</span> │ <span style=\"color: #008000; text-decoration-color: #008000\">109xx   </span> │ <span style=\"color: #008000; text-decoration-color: #008000\">NY        </span> │   <span style=\"color: #008080; text-decoration-color: #008080; font-weight: bold\">18.24</span> │           <span style=\"color: #008080; text-decoration-color: #008080; font-weight: bold\">0</span> │ <span style=\"color: #008000; text-decoration-color: #008000\">Apr-2001        </span> │              <span style=\"color: #008080; text-decoration-color: #008080; font-weight: bold\">1</span> │                   <span style=\"color: #7f7f7f; text-decoration-color: #7f7f7f\">NULL</span> │                     <span style=\"color: #008080; text-decoration-color: #008080; font-weight: bold\">45</span> │        <span style=\"color: #008080; text-decoration-color: #008080; font-weight: bold\">9</span> │       <span style=\"color: #008080; text-decoration-color: #008080; font-weight: bold\">1</span> │      <span style=\"color: #008080; text-decoration-color: #008080; font-weight: bold\">4341</span> │       <span style=\"color: #008080; text-decoration-color: #008080; font-weight: bold\">10.3</span> │        <span style=\"color: #008080; text-decoration-color: #008080; font-weight: bold\">34</span> │ <span style=\"color: #008000; text-decoration-color: #008000\">w                  </span> │   <span style=\"color: #008080; text-decoration-color: #008080; font-weight: bold\">2386.02</span> │       <span style=\"color: #008080; text-decoration-color: #008080; font-weight: bold\">2386.02</span> │      <span style=\"color: #008080; text-decoration-color: #008080; font-weight: bold\">167.02</span> │          <span style=\"color: #008080; text-decoration-color: #008080; font-weight: bold\">167.02</span> │          <span style=\"color: #008080; text-decoration-color: #008080; font-weight: bold\">113.98</span> │         <span style=\"color: #008080; text-decoration-color: #008080; font-weight: bold\">53.04</span> │                <span style=\"color: #008080; text-decoration-color: #008080; font-weight: bold\">0.0</span> │        <span style=\"color: #008080; text-decoration-color: #008080; font-weight: bold\">0.0</span> │                     <span style=\"color: #008080; text-decoration-color: #008080; font-weight: bold\">0.0</span> │ <span style=\"color: #008000; text-decoration-color: #008000\">Feb-2019    </span> │           <span style=\"color: #008080; text-decoration-color: #008080; font-weight: bold\">84.92</span> │ <span style=\"color: #008000; text-decoration-color: #008000\">Mar-2019    </span> │ <span style=\"color: #008000; text-decoration-color: #008000\">Feb-2019          </span> │                          <span style=\"color: #008080; text-decoration-color: #008080; font-weight: bold\">0</span> │                        <span style=\"color: #7f7f7f; text-decoration-color: #7f7f7f\">NULL</span> │           <span style=\"color: #008080; text-decoration-color: #008080; font-weight: bold\">1</span> │ <span style=\"color: #008000; text-decoration-color: #008000\">Individual      </span> │             <span style=\"color: #7f7f7f; text-decoration-color: #7f7f7f\">NULL</span> │      <span style=\"color: #7f7f7f; text-decoration-color: #7f7f7f\">NULL</span> │ <span style=\"color: #7f7f7f; text-decoration-color: #7f7f7f\">NULL</span>                      │              <span style=\"color: #008080; text-decoration-color: #008080; font-weight: bold\">0</span> │            <span style=\"color: #008080; text-decoration-color: #008080; font-weight: bold\">0</span> │       <span style=\"color: #008080; text-decoration-color: #008080; font-weight: bold\">16901</span> │           <span style=\"color: #008080; text-decoration-color: #008080; font-weight: bold\">2</span> │           <span style=\"color: #008080; text-decoration-color: #008080; font-weight: bold\">2</span> │           <span style=\"color: #008080; text-decoration-color: #008080; font-weight: bold\">1</span> │           <span style=\"color: #008080; text-decoration-color: #008080; font-weight: bold\">2</span> │                  <span style=\"color: #008080; text-decoration-color: #008080; font-weight: bold\">2</span> │        <span style=\"color: #008080; text-decoration-color: #008080; font-weight: bold\">12560</span> │      <span style=\"color: #008080; text-decoration-color: #008080; font-weight: bold\">69</span> │           <span style=\"color: #008080; text-decoration-color: #008080; font-weight: bold\">2</span> │           <span style=\"color: #008080; text-decoration-color: #008080; font-weight: bold\">7</span> │       <span style=\"color: #008080; text-decoration-color: #008080; font-weight: bold\">2137</span> │       <span style=\"color: #008080; text-decoration-color: #008080; font-weight: bold\">28</span> │            <span style=\"color: #008080; text-decoration-color: #008080; font-weight: bold\">42000</span> │      <span style=\"color: #008080; text-decoration-color: #008080; font-weight: bold\">1</span> │          <span style=\"color: #008080; text-decoration-color: #008080; font-weight: bold\">11</span> │            <span style=\"color: #008080; text-decoration-color: #008080; font-weight: bold\">2</span> │                    <span style=\"color: #008080; text-decoration-color: #008080; font-weight: bold\">9</span> │        <span style=\"color: #008080; text-decoration-color: #008080; font-weight: bold\">1878</span> │          <span style=\"color: #008080; text-decoration-color: #008080; font-weight: bold\">34360</span> │     <span style=\"color: #008080; text-decoration-color: #008080; font-weight: bold\">5.9</span> │                        <span style=\"color: #008080; text-decoration-color: #008080; font-weight: bold\">0</span> │           <span style=\"color: #008080; text-decoration-color: #008080; font-weight: bold\">0</span> │                <span style=\"color: #008080; text-decoration-color: #008080; font-weight: bold\">140</span> │                  <span style=\"color: #008080; text-decoration-color: #008080; font-weight: bold\">212</span> │                     <span style=\"color: #008080; text-decoration-color: #008080; font-weight: bold\">1</span> │              <span style=\"color: #008080; text-decoration-color: #008080; font-weight: bold\">1</span> │        <span style=\"color: #008080; text-decoration-color: #008080; font-weight: bold\">0</span> │                    <span style=\"color: #008080; text-decoration-color: #008080; font-weight: bold\">1</span> │                     <span style=\"color: #7f7f7f; text-decoration-color: #7f7f7f\">NULL</span> │                     <span style=\"color: #008080; text-decoration-color: #008080; font-weight: bold\">2</span> │                           <span style=\"color: #7f7f7f; text-decoration-color: #7f7f7f\">NULL</span> │                     <span style=\"color: #008080; text-decoration-color: #008080; font-weight: bold\">0</span> │              <span style=\"color: #008080; text-decoration-color: #008080; font-weight: bold\">2</span> │               <span style=\"color: #008080; text-decoration-color: #008080; font-weight: bold\">5</span> │           <span style=\"color: #008080; text-decoration-color: #008080; font-weight: bold\">3</span> │         <span style=\"color: #008080; text-decoration-color: #008080; font-weight: bold\">3</span> │        <span style=\"color: #008080; text-decoration-color: #008080; font-weight: bold\">16</span> │             <span style=\"color: #008080; text-decoration-color: #008080; font-weight: bold\">7</span> │            <span style=\"color: #008080; text-decoration-color: #008080; font-weight: bold\">18</span> │                   <span style=\"color: #008080; text-decoration-color: #008080; font-weight: bold\">5</span> │        <span style=\"color: #008080; text-decoration-color: #008080; font-weight: bold\">9</span> │                <span style=\"color: #008080; text-decoration-color: #008080; font-weight: bold\">0</span> │            <span style=\"color: #008080; text-decoration-color: #008080; font-weight: bold\">0</span> │                  <span style=\"color: #008080; text-decoration-color: #008080; font-weight: bold\">0</span> │                  <span style=\"color: #008080; text-decoration-color: #008080; font-weight: bold\">3</span> │          <span style=\"color: #008080; text-decoration-color: #008080; font-weight: bold\">100.0</span> │              <span style=\"color: #008080; text-decoration-color: #008080; font-weight: bold\">0.0</span> │                    <span style=\"color: #008080; text-decoration-color: #008080; font-weight: bold\">1</span> │         <span style=\"color: #008080; text-decoration-color: #008080; font-weight: bold\">0</span> │           <span style=\"color: #008080; text-decoration-color: #008080; font-weight: bold\">60124</span> │             <span style=\"color: #008080; text-decoration-color: #008080; font-weight: bold\">16901</span> │          <span style=\"color: #008080; text-decoration-color: #008080; font-weight: bold\">36500</span> │                      <span style=\"color: #008080; text-decoration-color: #008080; font-weight: bold\">18124</span> │            <span style=\"color: #7f7f7f; text-decoration-color: #7f7f7f\">NULL</span> │ <span style=\"color: #7f7f7f; text-decoration-color: #7f7f7f\">NULL</span>                     │                   <span style=\"color: #7f7f7f; text-decoration-color: #7f7f7f\">NULL</span> │             <span style=\"color: #7f7f7f; text-decoration-color: #7f7f7f\">NULL</span> │             <span style=\"color: #7f7f7f; text-decoration-color: #7f7f7f\">NULL</span> │               <span style=\"color: #7f7f7f; text-decoration-color: #7f7f7f\">NULL</span> │                <span style=\"color: #7f7f7f; text-decoration-color: #7f7f7f\">NULL</span> │                  <span style=\"color: #7f7f7f; text-decoration-color: #7f7f7f\">NULL</span> │                             <span style=\"color: #7f7f7f; text-decoration-color: #7f7f7f\">NULL</span> │                               <span style=\"color: #7f7f7f; text-decoration-color: #7f7f7f\">NULL</span> │                                <span style=\"color: #7f7f7f; text-decoration-color: #7f7f7f\">NULL</span> │ <span style=\"color: #008000; text-decoration-color: #008000\">N            </span> │ <span style=\"color: #7f7f7f; text-decoration-color: #7f7f7f\">NULL</span>          │ <span style=\"color: #7f7f7f; text-decoration-color: #7f7f7f\">NULL</span>            │ <span style=\"color: #7f7f7f; text-decoration-color: #7f7f7f\">NULL</span>            │ <span style=\"color: #7f7f7f; text-decoration-color: #7f7f7f\">NULL</span>          │ <span style=\"color: #7f7f7f; text-decoration-color: #7f7f7f\">NULL</span>            │ <span style=\"color: #7f7f7f; text-decoration-color: #7f7f7f\">NULL</span>                │ <span style=\"color: #7f7f7f; text-decoration-color: #7f7f7f\">NULL</span>              │ <span style=\"color: #7f7f7f; text-decoration-color: #7f7f7f\">NULL</span>                    │ <span style=\"color: #7f7f7f; text-decoration-color: #7f7f7f\">NULL</span>            │ <span style=\"color: #7f7f7f; text-decoration-color: #7f7f7f\">NULL</span>         │ <span style=\"color: #7f7f7f; text-decoration-color: #7f7f7f\">NULL</span>                 │ <span style=\"color: #7f7f7f; text-decoration-color: #7f7f7f\">NULL</span>                                       │ <span style=\"color: #7f7f7f; text-decoration-color: #7f7f7f\">NULL</span>                           │ <span style=\"color: #7f7f7f; text-decoration-color: #7f7f7f\">NULL</span>                         │ <span style=\"color: #008000; text-decoration-color: #008000\">Cash               </span> │ <span style=\"color: #008000; text-decoration-color: #008000\">N                   </span> │ <span style=\"color: #7f7f7f; text-decoration-color: #7f7f7f\">NULL</span>                      │ <span style=\"color: #7f7f7f; text-decoration-color: #7f7f7f\">NULL</span>              │ <span style=\"color: #7f7f7f; text-decoration-color: #7f7f7f\">NULL</span>            │ <span style=\"color: #7f7f7f; text-decoration-color: #7f7f7f\">NULL</span>              │ <span style=\"color: #7f7f7f; text-decoration-color: #7f7f7f\">NULL</span>                  │ <span style=\"color: #7f7f7f; text-decoration-color: #7f7f7f\">NULL</span>            │ <span style=\"color: #008000; text-decoration-color: #008000\">2018  </span> │\n",
       "│ <span style=\"color: #7f7f7f; text-decoration-color: #7f7f7f\">NULL</span>   │ <span style=\"color: #7f7f7f; text-decoration-color: #7f7f7f\">NULL</span>      │     <span style=\"color: #008080; text-decoration-color: #008080; font-weight: bold\">30000</span> │       <span style=\"color: #008080; text-decoration-color: #008080; font-weight: bold\">30000</span> │           <span style=\"color: #008080; text-decoration-color: #008080; font-weight: bold\">30000</span> │ <span style=\"color: #008000; text-decoration-color: #008000\"> 60 months</span> │    <span style=\"color: #008080; text-decoration-color: #008080; font-weight: bold\">18.94</span> │      <span style=\"color: #008080; text-decoration-color: #008080; font-weight: bold\">777.23</span> │ <span style=\"color: #008000; text-decoration-color: #008000\">D     </span> │ <span style=\"color: #008000; text-decoration-color: #008000\">D2       </span> │ <span style=\"color: #008000; text-decoration-color: #008000\">Postmaster    </span> │ <span style=\"color: #008000; text-decoration-color: #008000\">10+ years </span> │ <span style=\"color: #008000; text-decoration-color: #008000\">MORTGAGE      </span> │    <span style=\"color: #008080; text-decoration-color: #008080; font-weight: bold\">90000.0</span> │ <span style=\"color: #008000; text-decoration-color: #008000\">Source Verified    </span> │ <span style=\"color: #008000; text-decoration-color: #008000\">Dec-2018</span> │ <span style=\"color: #008000; text-decoration-color: #008000\">Current    </span> │ <span style=\"color: #008000; text-decoration-color: #008000\">n         </span> │ <span style=\"color: #7f7f7f; text-decoration-color: #7f7f7f\">NULL</span>   │ <span style=\"color: #7f7f7f; text-decoration-color: #7f7f7f\">NULL</span>   │ <span style=\"color: #008000; text-decoration-color: #008000\">debt_consolidation</span> │ <span style=\"color: #008000; text-decoration-color: #008000\">Debt consolidation</span> │ <span style=\"color: #008000; text-decoration-color: #008000\">713xx   </span> │ <span style=\"color: #008000; text-decoration-color: #008000\">LA        </span> │   <span style=\"color: #008080; text-decoration-color: #008080; font-weight: bold\">26.52</span> │           <span style=\"color: #008080; text-decoration-color: #008080; font-weight: bold\">0</span> │ <span style=\"color: #008000; text-decoration-color: #008000\">Jun-1987        </span> │              <span style=\"color: #008080; text-decoration-color: #008080; font-weight: bold\">0</span> │                     <span style=\"color: #008080; text-decoration-color: #008080; font-weight: bold\">71</span> │                     <span style=\"color: #008080; text-decoration-color: #008080; font-weight: bold\">75</span> │       <span style=\"color: #008080; text-decoration-color: #008080; font-weight: bold\">13</span> │       <span style=\"color: #008080; text-decoration-color: #008080; font-weight: bold\">1</span> │     <span style=\"color: #008080; text-decoration-color: #008080; font-weight: bold\">12315</span> │       <span style=\"color: #008080; text-decoration-color: #008080; font-weight: bold\">24.2</span> │        <span style=\"color: #008080; text-decoration-color: #008080; font-weight: bold\">44</span> │ <span style=\"color: #008000; text-decoration-color: #008000\">w                  </span> │  <span style=\"color: #008080; text-decoration-color: #008080; font-weight: bold\">29387.75</span> │      <span style=\"color: #008080; text-decoration-color: #008080; font-weight: bold\">29387.75</span> │     <span style=\"color: #008080; text-decoration-color: #008080; font-weight: bold\">1507.11</span> │         <span style=\"color: #008080; text-decoration-color: #008080; font-weight: bold\">1507.11</span> │          <span style=\"color: #008080; text-decoration-color: #008080; font-weight: bold\">612.25</span> │        <span style=\"color: #008080; text-decoration-color: #008080; font-weight: bold\">894.86</span> │                <span style=\"color: #008080; text-decoration-color: #008080; font-weight: bold\">0.0</span> │        <span style=\"color: #008080; text-decoration-color: #008080; font-weight: bold\">0.0</span> │                     <span style=\"color: #008080; text-decoration-color: #008080; font-weight: bold\">0.0</span> │ <span style=\"color: #008000; text-decoration-color: #008000\">Feb-2019    </span> │          <span style=\"color: #008080; text-decoration-color: #008080; font-weight: bold\">777.23</span> │ <span style=\"color: #008000; text-decoration-color: #008000\">Mar-2019    </span> │ <span style=\"color: #008000; text-decoration-color: #008000\">Feb-2019          </span> │                          <span style=\"color: #008080; text-decoration-color: #008080; font-weight: bold\">0</span> │                        <span style=\"color: #7f7f7f; text-decoration-color: #7f7f7f\">NULL</span> │           <span style=\"color: #008080; text-decoration-color: #008080; font-weight: bold\">1</span> │ <span style=\"color: #008000; text-decoration-color: #008000\">Individual      </span> │             <span style=\"color: #7f7f7f; text-decoration-color: #7f7f7f\">NULL</span> │      <span style=\"color: #7f7f7f; text-decoration-color: #7f7f7f\">NULL</span> │ <span style=\"color: #7f7f7f; text-decoration-color: #7f7f7f\">NULL</span>                      │              <span style=\"color: #008080; text-decoration-color: #008080; font-weight: bold\">0</span> │         <span style=\"color: #008080; text-decoration-color: #008080; font-weight: bold\">1208</span> │      <span style=\"color: #008080; text-decoration-color: #008080; font-weight: bold\">321915</span> │           <span style=\"color: #008080; text-decoration-color: #008080; font-weight: bold\">4</span> │           <span style=\"color: #008080; text-decoration-color: #008080; font-weight: bold\">4</span> │           <span style=\"color: #008080; text-decoration-color: #008080; font-weight: bold\">2</span> │           <span style=\"color: #008080; text-decoration-color: #008080; font-weight: bold\">3</span> │                  <span style=\"color: #008080; text-decoration-color: #008080; font-weight: bold\">3</span> │        <span style=\"color: #008080; text-decoration-color: #008080; font-weight: bold\">87153</span> │      <span style=\"color: #008080; text-decoration-color: #008080; font-weight: bold\">88</span> │           <span style=\"color: #008080; text-decoration-color: #008080; font-weight: bold\">4</span> │           <span style=\"color: #008080; text-decoration-color: #008080; font-weight: bold\">5</span> │        <span style=\"color: #008080; text-decoration-color: #008080; font-weight: bold\">998</span> │       <span style=\"color: #008080; text-decoration-color: #008080; font-weight: bold\">57</span> │            <span style=\"color: #008080; text-decoration-color: #008080; font-weight: bold\">50800</span> │      <span style=\"color: #008080; text-decoration-color: #008080; font-weight: bold\">2</span> │          <span style=\"color: #008080; text-decoration-color: #008080; font-weight: bold\">15</span> │            <span style=\"color: #008080; text-decoration-color: #008080; font-weight: bold\">2</span> │                   <span style=\"color: #008080; text-decoration-color: #008080; font-weight: bold\">10</span> │       <span style=\"color: #008080; text-decoration-color: #008080; font-weight: bold\">24763</span> │          <span style=\"color: #008080; text-decoration-color: #008080; font-weight: bold\">13761</span> │     <span style=\"color: #008080; text-decoration-color: #008080; font-weight: bold\">8.3</span> │                        <span style=\"color: #008080; text-decoration-color: #008080; font-weight: bold\">0</span> │           <span style=\"color: #008080; text-decoration-color: #008080; font-weight: bold\">0</span> │                <span style=\"color: #008080; text-decoration-color: #008080; font-weight: bold\">163</span> │                  <span style=\"color: #008080; text-decoration-color: #008080; font-weight: bold\">378</span> │                     <span style=\"color: #008080; text-decoration-color: #008080; font-weight: bold\">4</span> │              <span style=\"color: #008080; text-decoration-color: #008080; font-weight: bold\">3</span> │        <span style=\"color: #008080; text-decoration-color: #008080; font-weight: bold\">3</span> │                    <span style=\"color: #008080; text-decoration-color: #008080; font-weight: bold\">4</span> │                     <span style=\"color: #7f7f7f; text-decoration-color: #7f7f7f\">NULL</span> │                     <span style=\"color: #008080; text-decoration-color: #008080; font-weight: bold\">4</span> │                           <span style=\"color: #7f7f7f; text-decoration-color: #7f7f7f\">NULL</span> │                     <span style=\"color: #008080; text-decoration-color: #008080; font-weight: bold\">0</span> │              <span style=\"color: #008080; text-decoration-color: #008080; font-weight: bold\">2</span> │               <span style=\"color: #008080; text-decoration-color: #008080; font-weight: bold\">4</span> │           <span style=\"color: #008080; text-decoration-color: #008080; font-weight: bold\">4</span> │         <span style=\"color: #008080; text-decoration-color: #008080; font-weight: bold\">9</span> │        <span style=\"color: #008080; text-decoration-color: #008080; font-weight: bold\">27</span> │             <span style=\"color: #008080; text-decoration-color: #008080; font-weight: bold\">8</span> │            <span style=\"color: #008080; text-decoration-color: #008080; font-weight: bold\">14</span> │                   <span style=\"color: #008080; text-decoration-color: #008080; font-weight: bold\">4</span> │       <span style=\"color: #008080; text-decoration-color: #008080; font-weight: bold\">13</span> │                <span style=\"color: #008080; text-decoration-color: #008080; font-weight: bold\">0</span> │            <span style=\"color: #008080; text-decoration-color: #008080; font-weight: bold\">0</span> │                  <span style=\"color: #008080; text-decoration-color: #008080; font-weight: bold\">0</span> │                  <span style=\"color: #008080; text-decoration-color: #008080; font-weight: bold\">6</span> │           <span style=\"color: #008080; text-decoration-color: #008080; font-weight: bold\">95.0</span> │              <span style=\"color: #008080; text-decoration-color: #008080; font-weight: bold\">0.0</span> │                    <span style=\"color: #008080; text-decoration-color: #008080; font-weight: bold\">1</span> │         <span style=\"color: #008080; text-decoration-color: #008080; font-weight: bold\">0</span> │          <span style=\"color: #008080; text-decoration-color: #008080; font-weight: bold\">372872</span> │             <span style=\"color: #008080; text-decoration-color: #008080; font-weight: bold\">99468</span> │          <span style=\"color: #008080; text-decoration-color: #008080; font-weight: bold\">15000</span> │                      <span style=\"color: #008080; text-decoration-color: #008080; font-weight: bold\">94072</span> │            <span style=\"color: #7f7f7f; text-decoration-color: #7f7f7f\">NULL</span> │ <span style=\"color: #7f7f7f; text-decoration-color: #7f7f7f\">NULL</span>                     │                   <span style=\"color: #7f7f7f; text-decoration-color: #7f7f7f\">NULL</span> │             <span style=\"color: #7f7f7f; text-decoration-color: #7f7f7f\">NULL</span> │             <span style=\"color: #7f7f7f; text-decoration-color: #7f7f7f\">NULL</span> │               <span style=\"color: #7f7f7f; text-decoration-color: #7f7f7f\">NULL</span> │                <span style=\"color: #7f7f7f; text-decoration-color: #7f7f7f\">NULL</span> │                  <span style=\"color: #7f7f7f; text-decoration-color: #7f7f7f\">NULL</span> │                             <span style=\"color: #7f7f7f; text-decoration-color: #7f7f7f\">NULL</span> │                               <span style=\"color: #7f7f7f; text-decoration-color: #7f7f7f\">NULL</span> │                                <span style=\"color: #7f7f7f; text-decoration-color: #7f7f7f\">NULL</span> │ <span style=\"color: #008000; text-decoration-color: #008000\">N            </span> │ <span style=\"color: #7f7f7f; text-decoration-color: #7f7f7f\">NULL</span>          │ <span style=\"color: #7f7f7f; text-decoration-color: #7f7f7f\">NULL</span>            │ <span style=\"color: #7f7f7f; text-decoration-color: #7f7f7f\">NULL</span>            │ <span style=\"color: #7f7f7f; text-decoration-color: #7f7f7f\">NULL</span>          │ <span style=\"color: #7f7f7f; text-decoration-color: #7f7f7f\">NULL</span>            │ <span style=\"color: #7f7f7f; text-decoration-color: #7f7f7f\">NULL</span>                │ <span style=\"color: #7f7f7f; text-decoration-color: #7f7f7f\">NULL</span>              │ <span style=\"color: #7f7f7f; text-decoration-color: #7f7f7f\">NULL</span>                    │ <span style=\"color: #7f7f7f; text-decoration-color: #7f7f7f\">NULL</span>            │ <span style=\"color: #7f7f7f; text-decoration-color: #7f7f7f\">NULL</span>         │ <span style=\"color: #7f7f7f; text-decoration-color: #7f7f7f\">NULL</span>                 │ <span style=\"color: #7f7f7f; text-decoration-color: #7f7f7f\">NULL</span>                                       │ <span style=\"color: #7f7f7f; text-decoration-color: #7f7f7f\">NULL</span>                           │ <span style=\"color: #7f7f7f; text-decoration-color: #7f7f7f\">NULL</span>                         │ <span style=\"color: #008000; text-decoration-color: #008000\">Cash               </span> │ <span style=\"color: #008000; text-decoration-color: #008000\">N                   </span> │ <span style=\"color: #7f7f7f; text-decoration-color: #7f7f7f\">NULL</span>                      │ <span style=\"color: #7f7f7f; text-decoration-color: #7f7f7f\">NULL</span>              │ <span style=\"color: #7f7f7f; text-decoration-color: #7f7f7f\">NULL</span>            │ <span style=\"color: #7f7f7f; text-decoration-color: #7f7f7f\">NULL</span>              │ <span style=\"color: #7f7f7f; text-decoration-color: #7f7f7f\">NULL</span>                  │ <span style=\"color: #7f7f7f; text-decoration-color: #7f7f7f\">NULL</span>            │ <span style=\"color: #008000; text-decoration-color: #008000\">2018  </span> │\n",
       "│ <span style=\"color: #7f7f7f; text-decoration-color: #7f7f7f\">NULL</span>   │ <span style=\"color: #7f7f7f; text-decoration-color: #7f7f7f\">NULL</span>      │      <span style=\"color: #008080; text-decoration-color: #008080; font-weight: bold\">5000</span> │        <span style=\"color: #008080; text-decoration-color: #008080; font-weight: bold\">5000</span> │            <span style=\"color: #008080; text-decoration-color: #008080; font-weight: bold\">5000</span> │ <span style=\"color: #008000; text-decoration-color: #008000\"> 36 months</span> │    <span style=\"color: #008080; text-decoration-color: #008080; font-weight: bold\">17.97</span> │      <span style=\"color: #008080; text-decoration-color: #008080; font-weight: bold\">180.69</span> │ <span style=\"color: #008000; text-decoration-color: #008000\">D     </span> │ <span style=\"color: #008000; text-decoration-color: #008000\">D1       </span> │ <span style=\"color: #008000; text-decoration-color: #008000\">Administrative</span> │ <span style=\"color: #008000; text-decoration-color: #008000\">6 years   </span> │ <span style=\"color: #008000; text-decoration-color: #008000\">MORTGAGE      </span> │    <span style=\"color: #008080; text-decoration-color: #008080; font-weight: bold\">59280.0</span> │ <span style=\"color: #008000; text-decoration-color: #008000\">Source Verified    </span> │ <span style=\"color: #008000; text-decoration-color: #008000\">Dec-2018</span> │ <span style=\"color: #008000; text-decoration-color: #008000\">Current    </span> │ <span style=\"color: #008000; text-decoration-color: #008000\">n         </span> │ <span style=\"color: #7f7f7f; text-decoration-color: #7f7f7f\">NULL</span>   │ <span style=\"color: #7f7f7f; text-decoration-color: #7f7f7f\">NULL</span>   │ <span style=\"color: #008000; text-decoration-color: #008000\">debt_consolidation</span> │ <span style=\"color: #008000; text-decoration-color: #008000\">Debt consolidation</span> │ <span style=\"color: #008000; text-decoration-color: #008000\">490xx   </span> │ <span style=\"color: #008000; text-decoration-color: #008000\">MI        </span> │   <span style=\"color: #008080; text-decoration-color: #008080; font-weight: bold\">10.51</span> │           <span style=\"color: #008080; text-decoration-color: #008080; font-weight: bold\">0</span> │ <span style=\"color: #008000; text-decoration-color: #008000\">Apr-2011        </span> │              <span style=\"color: #008080; text-decoration-color: #008080; font-weight: bold\">0</span> │                   <span style=\"color: #7f7f7f; text-decoration-color: #7f7f7f\">NULL</span> │                   <span style=\"color: #7f7f7f; text-decoration-color: #7f7f7f\">NULL</span> │        <span style=\"color: #008080; text-decoration-color: #008080; font-weight: bold\">8</span> │       <span style=\"color: #008080; text-decoration-color: #008080; font-weight: bold\">0</span> │      <span style=\"color: #008080; text-decoration-color: #008080; font-weight: bold\">4599</span> │       <span style=\"color: #008080; text-decoration-color: #008080; font-weight: bold\">19.1</span> │        <span style=\"color: #008080; text-decoration-color: #008080; font-weight: bold\">13</span> │ <span style=\"color: #008000; text-decoration-color: #008000\">w                  </span> │   <span style=\"color: #008080; text-decoration-color: #008080; font-weight: bold\">4787.21</span> │       <span style=\"color: #008080; text-decoration-color: #008080; font-weight: bold\">4787.21</span> │      <span style=\"color: #008080; text-decoration-color: #008080; font-weight: bold\">353.89</span> │          <span style=\"color: #008080; text-decoration-color: #008080; font-weight: bold\">353.89</span> │          <span style=\"color: #008080; text-decoration-color: #008080; font-weight: bold\">212.79</span> │        <span style=\"color: #008080; text-decoration-color: #008080; font-weight: bold\">141.10</span> │                <span style=\"color: #008080; text-decoration-color: #008080; font-weight: bold\">0.0</span> │        <span style=\"color: #008080; text-decoration-color: #008080; font-weight: bold\">0.0</span> │                     <span style=\"color: #008080; text-decoration-color: #008080; font-weight: bold\">0.0</span> │ <span style=\"color: #008000; text-decoration-color: #008000\">Feb-2019    </span> │          <span style=\"color: #008080; text-decoration-color: #008080; font-weight: bold\">180.69</span> │ <span style=\"color: #008000; text-decoration-color: #008000\">Mar-2019    </span> │ <span style=\"color: #008000; text-decoration-color: #008000\">Feb-2019          </span> │                          <span style=\"color: #008080; text-decoration-color: #008080; font-weight: bold\">0</span> │                        <span style=\"color: #7f7f7f; text-decoration-color: #7f7f7f\">NULL</span> │           <span style=\"color: #008080; text-decoration-color: #008080; font-weight: bold\">1</span> │ <span style=\"color: #008000; text-decoration-color: #008000\">Individual      </span> │             <span style=\"color: #7f7f7f; text-decoration-color: #7f7f7f\">NULL</span> │      <span style=\"color: #7f7f7f; text-decoration-color: #7f7f7f\">NULL</span> │ <span style=\"color: #7f7f7f; text-decoration-color: #7f7f7f\">NULL</span>                      │              <span style=\"color: #008080; text-decoration-color: #008080; font-weight: bold\">0</span> │            <span style=\"color: #008080; text-decoration-color: #008080; font-weight: bold\">0</span> │      <span style=\"color: #008080; text-decoration-color: #008080; font-weight: bold\">110299</span> │           <span style=\"color: #008080; text-decoration-color: #008080; font-weight: bold\">0</span> │           <span style=\"color: #008080; text-decoration-color: #008080; font-weight: bold\">1</span> │           <span style=\"color: #008080; text-decoration-color: #008080; font-weight: bold\">0</span> │           <span style=\"color: #008080; text-decoration-color: #008080; font-weight: bold\">2</span> │                 <span style=\"color: #008080; text-decoration-color: #008080; font-weight: bold\">14</span> │         <span style=\"color: #008080; text-decoration-color: #008080; font-weight: bold\">7150</span> │      <span style=\"color: #008080; text-decoration-color: #008080; font-weight: bold\">72</span> │           <span style=\"color: #008080; text-decoration-color: #008080; font-weight: bold\">0</span> │           <span style=\"color: #008080; text-decoration-color: #008080; font-weight: bold\">2</span> │          <span style=\"color: #008080; text-decoration-color: #008080; font-weight: bold\">0</span> │       <span style=\"color: #008080; text-decoration-color: #008080; font-weight: bold\">35</span> │            <span style=\"color: #008080; text-decoration-color: #008080; font-weight: bold\">24100</span> │      <span style=\"color: #008080; text-decoration-color: #008080; font-weight: bold\">1</span> │           <span style=\"color: #008080; text-decoration-color: #008080; font-weight: bold\">5</span> │            <span style=\"color: #008080; text-decoration-color: #008080; font-weight: bold\">0</span> │                    <span style=\"color: #008080; text-decoration-color: #008080; font-weight: bold\">4</span> │       <span style=\"color: #008080; text-decoration-color: #008080; font-weight: bold\">18383</span> │          <span style=\"color: #008080; text-decoration-color: #008080; font-weight: bold\">13800</span> │     <span style=\"color: #008080; text-decoration-color: #008080; font-weight: bold\">0.0</span> │                        <span style=\"color: #008080; text-decoration-color: #008080; font-weight: bold\">0</span> │           <span style=\"color: #008080; text-decoration-color: #008080; font-weight: bold\">0</span> │                 <span style=\"color: #008080; text-decoration-color: #008080; font-weight: bold\">87</span> │                   <span style=\"color: #008080; text-decoration-color: #008080; font-weight: bold\">92</span> │                    <span style=\"color: #008080; text-decoration-color: #008080; font-weight: bold\">15</span> │             <span style=\"color: #008080; text-decoration-color: #008080; font-weight: bold\">14</span> │        <span style=\"color: #008080; text-decoration-color: #008080; font-weight: bold\">2</span> │                   <span style=\"color: #008080; text-decoration-color: #008080; font-weight: bold\">77</span> │                     <span style=\"color: #7f7f7f; text-decoration-color: #7f7f7f\">NULL</span> │                    <span style=\"color: #008080; text-decoration-color: #008080; font-weight: bold\">14</span> │                           <span style=\"color: #7f7f7f; text-decoration-color: #7f7f7f\">NULL</span> │                     <span style=\"color: #008080; text-decoration-color: #008080; font-weight: bold\">0</span> │              <span style=\"color: #008080; text-decoration-color: #008080; font-weight: bold\">0</span> │               <span style=\"color: #008080; text-decoration-color: #008080; font-weight: bold\">3</span> │           <span style=\"color: #008080; text-decoration-color: #008080; font-weight: bold\">3</span> │         <span style=\"color: #008080; text-decoration-color: #008080; font-weight: bold\">3</span> │         <span style=\"color: #008080; text-decoration-color: #008080; font-weight: bold\">4</span> │             <span style=\"color: #008080; text-decoration-color: #008080; font-weight: bold\">6</span> │             <span style=\"color: #008080; text-decoration-color: #008080; font-weight: bold\">7</span> │                   <span style=\"color: #008080; text-decoration-color: #008080; font-weight: bold\">3</span> │        <span style=\"color: #008080; text-decoration-color: #008080; font-weight: bold\">8</span> │                <span style=\"color: #008080; text-decoration-color: #008080; font-weight: bold\">0</span> │            <span style=\"color: #008080; text-decoration-color: #008080; font-weight: bold\">0</span> │                  <span style=\"color: #008080; text-decoration-color: #008080; font-weight: bold\">0</span> │                  <span style=\"color: #008080; text-decoration-color: #008080; font-weight: bold\">0</span> │          <span style=\"color: #008080; text-decoration-color: #008080; font-weight: bold\">100.0</span> │              <span style=\"color: #008080; text-decoration-color: #008080; font-weight: bold\">0.0</span> │                    <span style=\"color: #008080; text-decoration-color: #008080; font-weight: bold\">0</span> │         <span style=\"color: #008080; text-decoration-color: #008080; font-weight: bold\">0</span> │          <span style=\"color: #008080; text-decoration-color: #008080; font-weight: bold\">136927</span> │             <span style=\"color: #008080; text-decoration-color: #008080; font-weight: bold\">11749</span> │          <span style=\"color: #008080; text-decoration-color: #008080; font-weight: bold\">13800</span> │                      <span style=\"color: #008080; text-decoration-color: #008080; font-weight: bold\">10000</span> │            <span style=\"color: #7f7f7f; text-decoration-color: #7f7f7f\">NULL</span> │ <span style=\"color: #7f7f7f; text-decoration-color: #7f7f7f\">NULL</span>                     │                   <span style=\"color: #7f7f7f; text-decoration-color: #7f7f7f\">NULL</span> │             <span style=\"color: #7f7f7f; text-decoration-color: #7f7f7f\">NULL</span> │             <span style=\"color: #7f7f7f; text-decoration-color: #7f7f7f\">NULL</span> │               <span style=\"color: #7f7f7f; text-decoration-color: #7f7f7f\">NULL</span> │                <span style=\"color: #7f7f7f; text-decoration-color: #7f7f7f\">NULL</span> │                  <span style=\"color: #7f7f7f; text-decoration-color: #7f7f7f\">NULL</span> │                             <span style=\"color: #7f7f7f; text-decoration-color: #7f7f7f\">NULL</span> │                               <span style=\"color: #7f7f7f; text-decoration-color: #7f7f7f\">NULL</span> │                                <span style=\"color: #7f7f7f; text-decoration-color: #7f7f7f\">NULL</span> │ <span style=\"color: #008000; text-decoration-color: #008000\">N            </span> │ <span style=\"color: #7f7f7f; text-decoration-color: #7f7f7f\">NULL</span>          │ <span style=\"color: #7f7f7f; text-decoration-color: #7f7f7f\">NULL</span>            │ <span style=\"color: #7f7f7f; text-decoration-color: #7f7f7f\">NULL</span>            │ <span style=\"color: #7f7f7f; text-decoration-color: #7f7f7f\">NULL</span>          │ <span style=\"color: #7f7f7f; text-decoration-color: #7f7f7f\">NULL</span>            │ <span style=\"color: #7f7f7f; text-decoration-color: #7f7f7f\">NULL</span>                │ <span style=\"color: #7f7f7f; text-decoration-color: #7f7f7f\">NULL</span>              │ <span style=\"color: #7f7f7f; text-decoration-color: #7f7f7f\">NULL</span>                    │ <span style=\"color: #7f7f7f; text-decoration-color: #7f7f7f\">NULL</span>            │ <span style=\"color: #7f7f7f; text-decoration-color: #7f7f7f\">NULL</span>         │ <span style=\"color: #7f7f7f; text-decoration-color: #7f7f7f\">NULL</span>                 │ <span style=\"color: #7f7f7f; text-decoration-color: #7f7f7f\">NULL</span>                                       │ <span style=\"color: #7f7f7f; text-decoration-color: #7f7f7f\">NULL</span>                           │ <span style=\"color: #7f7f7f; text-decoration-color: #7f7f7f\">NULL</span>                         │ <span style=\"color: #008000; text-decoration-color: #008000\">Cash               </span> │ <span style=\"color: #008000; text-decoration-color: #008000\">N                   </span> │ <span style=\"color: #7f7f7f; text-decoration-color: #7f7f7f\">NULL</span>                      │ <span style=\"color: #7f7f7f; text-decoration-color: #7f7f7f\">NULL</span>              │ <span style=\"color: #7f7f7f; text-decoration-color: #7f7f7f\">NULL</span>            │ <span style=\"color: #7f7f7f; text-decoration-color: #7f7f7f\">NULL</span>              │ <span style=\"color: #7f7f7f; text-decoration-color: #7f7f7f\">NULL</span>                  │ <span style=\"color: #7f7f7f; text-decoration-color: #7f7f7f\">NULL</span>            │ <span style=\"color: #008000; text-decoration-color: #008000\">2018  </span> │\n",
       "│ <span style=\"color: #7f7f7f; text-decoration-color: #7f7f7f\">NULL</span>   │ <span style=\"color: #7f7f7f; text-decoration-color: #7f7f7f\">NULL</span>      │      <span style=\"color: #008080; text-decoration-color: #008080; font-weight: bold\">4000</span> │        <span style=\"color: #008080; text-decoration-color: #008080; font-weight: bold\">4000</span> │            <span style=\"color: #008080; text-decoration-color: #008080; font-weight: bold\">4000</span> │ <span style=\"color: #008000; text-decoration-color: #008000\"> 36 months</span> │    <span style=\"color: #008080; text-decoration-color: #008080; font-weight: bold\">18.94</span> │      <span style=\"color: #008080; text-decoration-color: #008080; font-weight: bold\">146.51</span> │ <span style=\"color: #008000; text-decoration-color: #008000\">D     </span> │ <span style=\"color: #008000; text-decoration-color: #008000\">D2       </span> │ <span style=\"color: #008000; text-decoration-color: #008000\">IT Supervisor </span> │ <span style=\"color: #008000; text-decoration-color: #008000\">10+ years </span> │ <span style=\"color: #008000; text-decoration-color: #008000\">MORTGAGE      </span> │    <span style=\"color: #008080; text-decoration-color: #008080; font-weight: bold\">92000.0</span> │ <span style=\"color: #008000; text-decoration-color: #008000\">Source Verified    </span> │ <span style=\"color: #008000; text-decoration-color: #008000\">Dec-2018</span> │ <span style=\"color: #008000; text-decoration-color: #008000\">Current    </span> │ <span style=\"color: #008000; text-decoration-color: #008000\">n         </span> │ <span style=\"color: #7f7f7f; text-decoration-color: #7f7f7f\">NULL</span>   │ <span style=\"color: #7f7f7f; text-decoration-color: #7f7f7f\">NULL</span>   │ <span style=\"color: #008000; text-decoration-color: #008000\">debt_consolidation</span> │ <span style=\"color: #008000; text-decoration-color: #008000\">Debt consolidation</span> │ <span style=\"color: #008000; text-decoration-color: #008000\">985xx   </span> │ <span style=\"color: #008000; text-decoration-color: #008000\">WA        </span> │   <span style=\"color: #008080; text-decoration-color: #008080; font-weight: bold\">16.74</span> │           <span style=\"color: #008080; text-decoration-color: #008080; font-weight: bold\">0</span> │ <span style=\"color: #008000; text-decoration-color: #008000\">Feb-2006        </span> │              <span style=\"color: #008080; text-decoration-color: #008080; font-weight: bold\">0</span> │                   <span style=\"color: #7f7f7f; text-decoration-color: #7f7f7f\">NULL</span> │                   <span style=\"color: #7f7f7f; text-decoration-color: #7f7f7f\">NULL</span> │       <span style=\"color: #008080; text-decoration-color: #008080; font-weight: bold\">10</span> │       <span style=\"color: #008080; text-decoration-color: #008080; font-weight: bold\">0</span> │      <span style=\"color: #008080; text-decoration-color: #008080; font-weight: bold\">5468</span> │       <span style=\"color: #008080; text-decoration-color: #008080; font-weight: bold\">78.1</span> │        <span style=\"color: #008080; text-decoration-color: #008080; font-weight: bold\">13</span> │ <span style=\"color: #008000; text-decoration-color: #008000\">w                  </span> │   <span style=\"color: #008080; text-decoration-color: #008080; font-weight: bold\">3831.93</span> │       <span style=\"color: #008080; text-decoration-color: #008080; font-weight: bold\">3831.93</span> │      <span style=\"color: #008080; text-decoration-color: #008080; font-weight: bold\">286.71</span> │          <span style=\"color: #008080; text-decoration-color: #008080; font-weight: bold\">286.71</span> │          <span style=\"color: #008080; text-decoration-color: #008080; font-weight: bold\">168.07</span> │        <span style=\"color: #008080; text-decoration-color: #008080; font-weight: bold\">118.64</span> │                <span style=\"color: #008080; text-decoration-color: #008080; font-weight: bold\">0.0</span> │        <span style=\"color: #008080; text-decoration-color: #008080; font-weight: bold\">0.0</span> │                     <span style=\"color: #008080; text-decoration-color: #008080; font-weight: bold\">0.0</span> │ <span style=\"color: #008000; text-decoration-color: #008000\">Feb-2019    </span> │          <span style=\"color: #008080; text-decoration-color: #008080; font-weight: bold\">146.51</span> │ <span style=\"color: #008000; text-decoration-color: #008000\">Mar-2019    </span> │ <span style=\"color: #008000; text-decoration-color: #008000\">Feb-2019          </span> │                          <span style=\"color: #008080; text-decoration-color: #008080; font-weight: bold\">0</span> │                        <span style=\"color: #7f7f7f; text-decoration-color: #7f7f7f\">NULL</span> │           <span style=\"color: #008080; text-decoration-color: #008080; font-weight: bold\">1</span> │ <span style=\"color: #008000; text-decoration-color: #008000\">Individual      </span> │             <span style=\"color: #7f7f7f; text-decoration-color: #7f7f7f\">NULL</span> │      <span style=\"color: #7f7f7f; text-decoration-color: #7f7f7f\">NULL</span> │ <span style=\"color: #7f7f7f; text-decoration-color: #7f7f7f\">NULL</span>                      │              <span style=\"color: #008080; text-decoration-color: #008080; font-weight: bold\">0</span> │          <span style=\"color: #008080; text-decoration-color: #008080; font-weight: bold\">686</span> │      <span style=\"color: #008080; text-decoration-color: #008080; font-weight: bold\">305049</span> │           <span style=\"color: #008080; text-decoration-color: #008080; font-weight: bold\">1</span> │           <span style=\"color: #008080; text-decoration-color: #008080; font-weight: bold\">5</span> │           <span style=\"color: #008080; text-decoration-color: #008080; font-weight: bold\">3</span> │           <span style=\"color: #008080; text-decoration-color: #008080; font-weight: bold\">5</span> │                  <span style=\"color: #008080; text-decoration-color: #008080; font-weight: bold\">5</span> │        <span style=\"color: #008080; text-decoration-color: #008080; font-weight: bold\">30683</span> │      <span style=\"color: #008080; text-decoration-color: #008080; font-weight: bold\">68</span> │           <span style=\"color: #008080; text-decoration-color: #008080; font-weight: bold\">0</span> │           <span style=\"color: #008080; text-decoration-color: #008080; font-weight: bold\">0</span> │       <span style=\"color: #008080; text-decoration-color: #008080; font-weight: bold\">3761</span> │       <span style=\"color: #008080; text-decoration-color: #008080; font-weight: bold\">70</span> │             <span style=\"color: #008080; text-decoration-color: #008080; font-weight: bold\">7000</span> │      <span style=\"color: #008080; text-decoration-color: #008080; font-weight: bold\">2</span> │           <span style=\"color: #008080; text-decoration-color: #008080; font-weight: bold\">4</span> │            <span style=\"color: #008080; text-decoration-color: #008080; font-weight: bold\">3</span> │                    <span style=\"color: #008080; text-decoration-color: #008080; font-weight: bold\">5</span> │       <span style=\"color: #008080; text-decoration-color: #008080; font-weight: bold\">30505</span> │           <span style=\"color: #008080; text-decoration-color: #008080; font-weight: bold\">1239</span> │    <span style=\"color: #008080; text-decoration-color: #008080; font-weight: bold\">75.2</span> │                        <span style=\"color: #008080; text-decoration-color: #008080; font-weight: bold\">0</span> │           <span style=\"color: #008080; text-decoration-color: #008080; font-weight: bold\">0</span> │                 <span style=\"color: #008080; text-decoration-color: #008080; font-weight: bold\">62</span> │                  <span style=\"color: #008080; text-decoration-color: #008080; font-weight: bold\">154</span> │                    <span style=\"color: #008080; text-decoration-color: #008080; font-weight: bold\">64</span> │              <span style=\"color: #008080; text-decoration-color: #008080; font-weight: bold\">5</span> │        <span style=\"color: #008080; text-decoration-color: #008080; font-weight: bold\">3</span> │                   <span style=\"color: #008080; text-decoration-color: #008080; font-weight: bold\">64</span> │                     <span style=\"color: #7f7f7f; text-decoration-color: #7f7f7f\">NULL</span> │                     <span style=\"color: #008080; text-decoration-color: #008080; font-weight: bold\">5</span> │                           <span style=\"color: #7f7f7f; text-decoration-color: #7f7f7f\">NULL</span> │                     <span style=\"color: #008080; text-decoration-color: #008080; font-weight: bold\">0</span> │              <span style=\"color: #008080; text-decoration-color: #008080; font-weight: bold\">1</span> │               <span style=\"color: #008080; text-decoration-color: #008080; font-weight: bold\">2</span> │           <span style=\"color: #008080; text-decoration-color: #008080; font-weight: bold\">1</span> │         <span style=\"color: #008080; text-decoration-color: #008080; font-weight: bold\">2</span> │         <span style=\"color: #008080; text-decoration-color: #008080; font-weight: bold\">7</span> │             <span style=\"color: #008080; text-decoration-color: #008080; font-weight: bold\">2</span> │             <span style=\"color: #008080; text-decoration-color: #008080; font-weight: bold\">3</span> │                   <span style=\"color: #008080; text-decoration-color: #008080; font-weight: bold\">2</span> │       <span style=\"color: #008080; text-decoration-color: #008080; font-weight: bold\">10</span> │                <span style=\"color: #008080; text-decoration-color: #008080; font-weight: bold\">0</span> │            <span style=\"color: #008080; text-decoration-color: #008080; font-weight: bold\">0</span> │                  <span style=\"color: #008080; text-decoration-color: #008080; font-weight: bold\">0</span> │                  <span style=\"color: #008080; text-decoration-color: #008080; font-weight: bold\">3</span> │          <span style=\"color: #008080; text-decoration-color: #008080; font-weight: bold\">100.0</span> │            <span style=\"color: #008080; text-decoration-color: #008080; font-weight: bold\">100.0</span> │                    <span style=\"color: #008080; text-decoration-color: #008080; font-weight: bold\">0</span> │         <span style=\"color: #008080; text-decoration-color: #008080; font-weight: bold\">0</span> │          <span style=\"color: #008080; text-decoration-color: #008080; font-weight: bold\">385183</span> │             <span style=\"color: #008080; text-decoration-color: #008080; font-weight: bold\">36151</span> │           <span style=\"color: #008080; text-decoration-color: #008080; font-weight: bold\">5000</span> │                      <span style=\"color: #008080; text-decoration-color: #008080; font-weight: bold\">44984</span> │            <span style=\"color: #7f7f7f; text-decoration-color: #7f7f7f\">NULL</span> │ <span style=\"color: #7f7f7f; text-decoration-color: #7f7f7f\">NULL</span>                     │                   <span style=\"color: #7f7f7f; text-decoration-color: #7f7f7f\">NULL</span> │             <span style=\"color: #7f7f7f; text-decoration-color: #7f7f7f\">NULL</span> │             <span style=\"color: #7f7f7f; text-decoration-color: #7f7f7f\">NULL</span> │               <span style=\"color: #7f7f7f; text-decoration-color: #7f7f7f\">NULL</span> │                <span style=\"color: #7f7f7f; text-decoration-color: #7f7f7f\">NULL</span> │                  <span style=\"color: #7f7f7f; text-decoration-color: #7f7f7f\">NULL</span> │                             <span style=\"color: #7f7f7f; text-decoration-color: #7f7f7f\">NULL</span> │                               <span style=\"color: #7f7f7f; text-decoration-color: #7f7f7f\">NULL</span> │                                <span style=\"color: #7f7f7f; text-decoration-color: #7f7f7f\">NULL</span> │ <span style=\"color: #008000; text-decoration-color: #008000\">N            </span> │ <span style=\"color: #7f7f7f; text-decoration-color: #7f7f7f\">NULL</span>          │ <span style=\"color: #7f7f7f; text-decoration-color: #7f7f7f\">NULL</span>            │ <span style=\"color: #7f7f7f; text-decoration-color: #7f7f7f\">NULL</span>            │ <span style=\"color: #7f7f7f; text-decoration-color: #7f7f7f\">NULL</span>          │ <span style=\"color: #7f7f7f; text-decoration-color: #7f7f7f\">NULL</span>            │ <span style=\"color: #7f7f7f; text-decoration-color: #7f7f7f\">NULL</span>                │ <span style=\"color: #7f7f7f; text-decoration-color: #7f7f7f\">NULL</span>              │ <span style=\"color: #7f7f7f; text-decoration-color: #7f7f7f\">NULL</span>                    │ <span style=\"color: #7f7f7f; text-decoration-color: #7f7f7f\">NULL</span>            │ <span style=\"color: #7f7f7f; text-decoration-color: #7f7f7f\">NULL</span>         │ <span style=\"color: #7f7f7f; text-decoration-color: #7f7f7f\">NULL</span>                 │ <span style=\"color: #7f7f7f; text-decoration-color: #7f7f7f\">NULL</span>                                       │ <span style=\"color: #7f7f7f; text-decoration-color: #7f7f7f\">NULL</span>                           │ <span style=\"color: #7f7f7f; text-decoration-color: #7f7f7f\">NULL</span>                         │ <span style=\"color: #008000; text-decoration-color: #008000\">Cash               </span> │ <span style=\"color: #008000; text-decoration-color: #008000\">N                   </span> │ <span style=\"color: #7f7f7f; text-decoration-color: #7f7f7f\">NULL</span>                      │ <span style=\"color: #7f7f7f; text-decoration-color: #7f7f7f\">NULL</span>              │ <span style=\"color: #7f7f7f; text-decoration-color: #7f7f7f\">NULL</span>            │ <span style=\"color: #7f7f7f; text-decoration-color: #7f7f7f\">NULL</span>              │ <span style=\"color: #7f7f7f; text-decoration-color: #7f7f7f\">NULL</span>                  │ <span style=\"color: #7f7f7f; text-decoration-color: #7f7f7f\">NULL</span>            │ <span style=\"color: #008000; text-decoration-color: #008000\">2018  </span> │\n",
       "│ <span style=\"color: #7f7f7f; text-decoration-color: #7f7f7f\">NULL</span>   │ <span style=\"color: #7f7f7f; text-decoration-color: #7f7f7f\">NULL</span>      │     <span style=\"color: #008080; text-decoration-color: #008080; font-weight: bold\">30000</span> │       <span style=\"color: #008080; text-decoration-color: #008080; font-weight: bold\">30000</span> │           <span style=\"color: #008080; text-decoration-color: #008080; font-weight: bold\">30000</span> │ <span style=\"color: #008000; text-decoration-color: #008000\"> 60 months</span> │    <span style=\"color: #008080; text-decoration-color: #008080; font-weight: bold\">16.14</span> │      <span style=\"color: #008080; text-decoration-color: #008080; font-weight: bold\">731.78</span> │ <span style=\"color: #008000; text-decoration-color: #008000\">C     </span> │ <span style=\"color: #008000; text-decoration-color: #008000\">C4       </span> │ <span style=\"color: #008000; text-decoration-color: #008000\">Mechanic      </span> │ <span style=\"color: #008000; text-decoration-color: #008000\">10+ years </span> │ <span style=\"color: #008000; text-decoration-color: #008000\">MORTGAGE      </span> │    <span style=\"color: #008080; text-decoration-color: #008080; font-weight: bold\">57250.0</span> │ <span style=\"color: #008000; text-decoration-color: #008000\">Not Verified       </span> │ <span style=\"color: #008000; text-decoration-color: #008000\">Dec-2018</span> │ <span style=\"color: #008000; text-decoration-color: #008000\">Current    </span> │ <span style=\"color: #008000; text-decoration-color: #008000\">n         </span> │ <span style=\"color: #7f7f7f; text-decoration-color: #7f7f7f\">NULL</span>   │ <span style=\"color: #7f7f7f; text-decoration-color: #7f7f7f\">NULL</span>   │ <span style=\"color: #008000; text-decoration-color: #008000\">debt_consolidation</span> │ <span style=\"color: #008000; text-decoration-color: #008000\">Debt consolidation</span> │ <span style=\"color: #008000; text-decoration-color: #008000\">212xx   </span> │ <span style=\"color: #008000; text-decoration-color: #008000\">MD        </span> │   <span style=\"color: #008080; text-decoration-color: #008080; font-weight: bold\">26.35</span> │           <span style=\"color: #008080; text-decoration-color: #008080; font-weight: bold\">0</span> │ <span style=\"color: #008000; text-decoration-color: #008000\">Dec-2000        </span> │              <span style=\"color: #008080; text-decoration-color: #008080; font-weight: bold\">0</span> │                   <span style=\"color: #7f7f7f; text-decoration-color: #7f7f7f\">NULL</span> │                   <span style=\"color: #7f7f7f; text-decoration-color: #7f7f7f\">NULL</span> │       <span style=\"color: #008080; text-decoration-color: #008080; font-weight: bold\">12</span> │       <span style=\"color: #008080; text-decoration-color: #008080; font-weight: bold\">0</span> │       <span style=\"color: #008080; text-decoration-color: #008080; font-weight: bold\">829</span> │        <span style=\"color: #008080; text-decoration-color: #008080; font-weight: bold\">3.6</span> │        <span style=\"color: #008080; text-decoration-color: #008080; font-weight: bold\">26</span> │ <span style=\"color: #008000; text-decoration-color: #008000\">w                  </span> │  <span style=\"color: #008080; text-decoration-color: #008080; font-weight: bold\">29339.02</span> │      <span style=\"color: #008080; text-decoration-color: #008080; font-weight: bold\">29339.02</span> │     <span style=\"color: #008080; text-decoration-color: #008080; font-weight: bold\">1423.21</span> │         <span style=\"color: #008080; text-decoration-color: #008080; font-weight: bold\">1423.21</span> │          <span style=\"color: #008080; text-decoration-color: #008080; font-weight: bold\">660.98</span> │        <span style=\"color: #008080; text-decoration-color: #008080; font-weight: bold\">762.23</span> │                <span style=\"color: #008080; text-decoration-color: #008080; font-weight: bold\">0.0</span> │        <span style=\"color: #008080; text-decoration-color: #008080; font-weight: bold\">0.0</span> │                     <span style=\"color: #008080; text-decoration-color: #008080; font-weight: bold\">0.0</span> │ <span style=\"color: #008000; text-decoration-color: #008000\">Feb-2019    </span> │          <span style=\"color: #008080; text-decoration-color: #008080; font-weight: bold\">731.78</span> │ <span style=\"color: #008000; text-decoration-color: #008000\">Mar-2019    </span> │ <span style=\"color: #008000; text-decoration-color: #008000\">Feb-2019          </span> │                          <span style=\"color: #008080; text-decoration-color: #008080; font-weight: bold\">0</span> │                        <span style=\"color: #7f7f7f; text-decoration-color: #7f7f7f\">NULL</span> │           <span style=\"color: #008080; text-decoration-color: #008080; font-weight: bold\">1</span> │ <span style=\"color: #008000; text-decoration-color: #008000\">Individual      </span> │             <span style=\"color: #7f7f7f; text-decoration-color: #7f7f7f\">NULL</span> │      <span style=\"color: #7f7f7f; text-decoration-color: #7f7f7f\">NULL</span> │ <span style=\"color: #7f7f7f; text-decoration-color: #7f7f7f\">NULL</span>                      │              <span style=\"color: #008080; text-decoration-color: #008080; font-weight: bold\">0</span> │            <span style=\"color: #008080; text-decoration-color: #008080; font-weight: bold\">0</span> │      <span style=\"color: #008080; text-decoration-color: #008080; font-weight: bold\">116007</span> │           <span style=\"color: #008080; text-decoration-color: #008080; font-weight: bold\">3</span> │           <span style=\"color: #008080; text-decoration-color: #008080; font-weight: bold\">5</span> │           <span style=\"color: #008080; text-decoration-color: #008080; font-weight: bold\">3</span> │           <span style=\"color: #008080; text-decoration-color: #008080; font-weight: bold\">5</span> │                  <span style=\"color: #008080; text-decoration-color: #008080; font-weight: bold\">4</span> │        <span style=\"color: #008080; text-decoration-color: #008080; font-weight: bold\">28845</span> │      <span style=\"color: #008080; text-decoration-color: #008080; font-weight: bold\">89</span> │           <span style=\"color: #008080; text-decoration-color: #008080; font-weight: bold\">2</span> │           <span style=\"color: #008080; text-decoration-color: #008080; font-weight: bold\">4</span> │        <span style=\"color: #008080; text-decoration-color: #008080; font-weight: bold\">516</span> │       <span style=\"color: #008080; text-decoration-color: #008080; font-weight: bold\">54</span> │            <span style=\"color: #008080; text-decoration-color: #008080; font-weight: bold\">23100</span> │      <span style=\"color: #008080; text-decoration-color: #008080; font-weight: bold\">1</span> │           <span style=\"color: #008080; text-decoration-color: #008080; font-weight: bold\">0</span> │            <span style=\"color: #008080; text-decoration-color: #008080; font-weight: bold\">0</span> │                    <span style=\"color: #008080; text-decoration-color: #008080; font-weight: bold\">9</span> │        <span style=\"color: #008080; text-decoration-color: #008080; font-weight: bold\">9667</span> │           <span style=\"color: #008080; text-decoration-color: #008080; font-weight: bold\">8471</span> │     <span style=\"color: #008080; text-decoration-color: #008080; font-weight: bold\">8.9</span> │                        <span style=\"color: #008080; text-decoration-color: #008080; font-weight: bold\">0</span> │           <span style=\"color: #008080; text-decoration-color: #008080; font-weight: bold\">0</span> │                 <span style=\"color: #008080; text-decoration-color: #008080; font-weight: bold\">53</span> │                  <span style=\"color: #008080; text-decoration-color: #008080; font-weight: bold\">216</span> │                     <span style=\"color: #008080; text-decoration-color: #008080; font-weight: bold\">2</span> │              <span style=\"color: #008080; text-decoration-color: #008080; font-weight: bold\">2</span> │        <span style=\"color: #008080; text-decoration-color: #008080; font-weight: bold\">2</span> │                    <span style=\"color: #008080; text-decoration-color: #008080; font-weight: bold\">2</span> │                     <span style=\"color: #7f7f7f; text-decoration-color: #7f7f7f\">NULL</span> │                    <span style=\"color: #008080; text-decoration-color: #008080; font-weight: bold\">13</span> │                           <span style=\"color: #7f7f7f; text-decoration-color: #7f7f7f\">NULL</span> │                     <span style=\"color: #008080; text-decoration-color: #008080; font-weight: bold\">0</span> │              <span style=\"color: #008080; text-decoration-color: #008080; font-weight: bold\">2</span> │               <span style=\"color: #008080; text-decoration-color: #008080; font-weight: bold\">2</span> │           <span style=\"color: #008080; text-decoration-color: #008080; font-weight: bold\">3</span> │         <span style=\"color: #008080; text-decoration-color: #008080; font-weight: bold\">8</span> │         <span style=\"color: #008080; text-decoration-color: #008080; font-weight: bold\">9</span> │             <span style=\"color: #008080; text-decoration-color: #008080; font-weight: bold\">6</span> │            <span style=\"color: #008080; text-decoration-color: #008080; font-weight: bold\">15</span> │                   <span style=\"color: #008080; text-decoration-color: #008080; font-weight: bold\">2</span> │       <span style=\"color: #008080; text-decoration-color: #008080; font-weight: bold\">12</span> │                <span style=\"color: #008080; text-decoration-color: #008080; font-weight: bold\">0</span> │            <span style=\"color: #008080; text-decoration-color: #008080; font-weight: bold\">0</span> │                  <span style=\"color: #008080; text-decoration-color: #008080; font-weight: bold\">0</span> │                  <span style=\"color: #008080; text-decoration-color: #008080; font-weight: bold\">5</span> │           <span style=\"color: #008080; text-decoration-color: #008080; font-weight: bold\">92.3</span> │              <span style=\"color: #008080; text-decoration-color: #008080; font-weight: bold\">0.0</span> │                    <span style=\"color: #008080; text-decoration-color: #008080; font-weight: bold\">0</span> │         <span style=\"color: #008080; text-decoration-color: #008080; font-weight: bold\">0</span> │          <span style=\"color: #008080; text-decoration-color: #008080; font-weight: bold\">157548</span> │             <span style=\"color: #008080; text-decoration-color: #008080; font-weight: bold\">29674</span> │           <span style=\"color: #008080; text-decoration-color: #008080; font-weight: bold\">9300</span> │                      <span style=\"color: #008080; text-decoration-color: #008080; font-weight: bold\">32332</span> │            <span style=\"color: #7f7f7f; text-decoration-color: #7f7f7f\">NULL</span> │ <span style=\"color: #7f7f7f; text-decoration-color: #7f7f7f\">NULL</span>                     │                   <span style=\"color: #7f7f7f; text-decoration-color: #7f7f7f\">NULL</span> │             <span style=\"color: #7f7f7f; text-decoration-color: #7f7f7f\">NULL</span> │             <span style=\"color: #7f7f7f; text-decoration-color: #7f7f7f\">NULL</span> │               <span style=\"color: #7f7f7f; text-decoration-color: #7f7f7f\">NULL</span> │                <span style=\"color: #7f7f7f; text-decoration-color: #7f7f7f\">NULL</span> │                  <span style=\"color: #7f7f7f; text-decoration-color: #7f7f7f\">NULL</span> │                             <span style=\"color: #7f7f7f; text-decoration-color: #7f7f7f\">NULL</span> │                               <span style=\"color: #7f7f7f; text-decoration-color: #7f7f7f\">NULL</span> │                                <span style=\"color: #7f7f7f; text-decoration-color: #7f7f7f\">NULL</span> │ <span style=\"color: #008000; text-decoration-color: #008000\">N            </span> │ <span style=\"color: #7f7f7f; text-decoration-color: #7f7f7f\">NULL</span>          │ <span style=\"color: #7f7f7f; text-decoration-color: #7f7f7f\">NULL</span>            │ <span style=\"color: #7f7f7f; text-decoration-color: #7f7f7f\">NULL</span>            │ <span style=\"color: #7f7f7f; text-decoration-color: #7f7f7f\">NULL</span>          │ <span style=\"color: #7f7f7f; text-decoration-color: #7f7f7f\">NULL</span>            │ <span style=\"color: #7f7f7f; text-decoration-color: #7f7f7f\">NULL</span>                │ <span style=\"color: #7f7f7f; text-decoration-color: #7f7f7f\">NULL</span>              │ <span style=\"color: #7f7f7f; text-decoration-color: #7f7f7f\">NULL</span>                    │ <span style=\"color: #7f7f7f; text-decoration-color: #7f7f7f\">NULL</span>            │ <span style=\"color: #7f7f7f; text-decoration-color: #7f7f7f\">NULL</span>         │ <span style=\"color: #7f7f7f; text-decoration-color: #7f7f7f\">NULL</span>                 │ <span style=\"color: #7f7f7f; text-decoration-color: #7f7f7f\">NULL</span>                                       │ <span style=\"color: #7f7f7f; text-decoration-color: #7f7f7f\">NULL</span>                           │ <span style=\"color: #7f7f7f; text-decoration-color: #7f7f7f\">NULL</span>                         │ <span style=\"color: #008000; text-decoration-color: #008000\">Cash               </span> │ <span style=\"color: #008000; text-decoration-color: #008000\">N                   </span> │ <span style=\"color: #7f7f7f; text-decoration-color: #7f7f7f\">NULL</span>                      │ <span style=\"color: #7f7f7f; text-decoration-color: #7f7f7f\">NULL</span>              │ <span style=\"color: #7f7f7f; text-decoration-color: #7f7f7f\">NULL</span>            │ <span style=\"color: #7f7f7f; text-decoration-color: #7f7f7f\">NULL</span>              │ <span style=\"color: #7f7f7f; text-decoration-color: #7f7f7f\">NULL</span>                  │ <span style=\"color: #7f7f7f; text-decoration-color: #7f7f7f\">NULL</span>            │ <span style=\"color: #008000; text-decoration-color: #008000\">2018  </span> │\n",
       "└────────┴───────────┴───────────┴─────────────┴─────────────────┴────────────┴──────────┴─────────────┴────────┴───────────┴────────────────┴────────────┴────────────────┴────────────┴─────────────────────┴──────────┴─────────────┴────────────┴────────┴────────┴────────────────────┴────────────────────┴──────────┴────────────┴─────────┴─────────────┴──────────────────┴────────────────┴────────────────────────┴────────────────────────┴──────────┴─────────┴───────────┴────────────┴───────────┴─────────────────────┴───────────┴───────────────┴─────────────┴─────────────────┴─────────────────┴───────────────┴────────────────────┴────────────┴─────────────────────────┴──────────────┴─────────────────┴──────────────┴────────────────────┴────────────────────────────┴─────────────────────────────┴─────────────┴──────────────────┴──────────────────┴───────────┴───────────────────────────┴────────────────┴──────────────┴─────────────┴─────────────┴─────────────┴─────────────┴─────────────┴────────────────────┴──────────────┴─────────┴─────────────┴─────────────┴────────────┴──────────┴──────────────────┴────────┴─────────────┴──────────────┴──────────────────────┴─────────────┴────────────────┴─────────┴──────────────────────────┴─────────────┴────────────────────┴──────────────────────┴───────────────────────┴────────────────┴──────────┴──────────────────────┴──────────────────────────┴───────────────────────┴────────────────────────────────┴───────────────────────┴────────────────┴─────────────────┴─────────────┴───────────┴───────────┴───────────────┴───────────────┴─────────────────────┴──────────┴──────────────────┴──────────────┴────────────────────┴────────────────────┴────────────────┴──────────────────┴──────────────────────┴───────────┴─────────────────┴───────────────────┴────────────────┴────────────────────────────┴─────────────────┴──────────────────────────┴────────────────────────┴──────────────────┴──────────────────┴────────────────────┴─────────────────────┴───────────────────────┴──────────────────────────────────┴────────────────────────────────────┴─────────────────────────────────────┴───────────────┴───────────────┴─────────────────┴─────────────────┴───────────────┴─────────────────┴─────────────────────┴───────────────────┴─────────────────────────┴─────────────────┴──────────────┴──────────────────────┴────────────────────────────────────────────┴────────────────────────────────┴──────────────────────────────┴─────────────────────┴──────────────────────┴───────────────────────────┴───────────────────┴─────────────────┴───────────────────┴───────────────────────┴─────────────────┴────────┘\n",
       "</pre>\n"
      ],
      "text/plain": [
       "┏━━━━━━━━┳━━━━━━━━━━━┳━━━━━━━━━━━┳━━━━━━━━━━━━━┳━━━━━━━━━━━━━━━━━┳━━━━━━━━━━━━┳━━━━━━━━━━┳━━━━━━━━━━━━━┳━━━━━━━━┳━━━━━━━━━━━┳━━━━━━━━━━━━━━━━┳━━━━━━━━━━━━┳━━━━━━━━━━━━━━━━┳━━━━━━━━━━━━┳━━━━━━━━━━━━━━━━━━━━━┳━━━━━━━━━━┳━━━━━━━━━━━━━┳━━━━━━━━━━━━┳━━━━━━━━┳━━━━━━━━┳━━━━━━━━━━━━━━━━━━━━┳━━━━━━━━━━━━━━━━━━━━┳━━━━━━━━━━┳━━━━━━━━━━━━┳━━━━━━━━━┳━━━━━━━━━━━━━┳━━━━━━━━━━━━━━━━━━┳━━━━━━━━━━━━━━━━┳━━━━━━━━━━━━━━━━━━━━━━━━┳━━━━━━━━━━━━━━━━━━━━━━━━┳━━━━━━━━━━┳━━━━━━━━━┳━━━━━━━━━━━┳━━━━━━━━━━━━┳━━━━━━━━━━━┳━━━━━━━━━━━━━━━━━━━━━┳━━━━━━━━━━━┳━━━━━━━━━━━━━━━┳━━━━━━━━━━━━━┳━━━━━━━━━━━━━━━━━┳━━━━━━━━━━━━━━━━━┳━━━━━━━━━━━━━━━┳━━━━━━━━━━━━━━━━━━━━┳━━━━━━━━━━━━┳━━━━━━━━━━━━━━━━━━━━━━━━━┳━━━━━━━━━━━━━━┳━━━━━━━━━━━━━━━━━┳━━━━━━━━━━━━━━┳━━━━━━━━━━━━━━━━━━━━┳━━━━━━━━━━━━━━━━━━━━━━━━━━━━┳━━━━━━━━━━━━━━━━━━━━━━━━━━━━━┳━━━━━━━━━━━━━┳━━━━━━━━━━━━━━━━━━┳━━━━━━━━━━━━━━━━━━┳━━━━━━━━━━━┳━━━━━━━━━━━━━━━━━━━━━━━━━━━┳━━━━━━━━━━━━━━━━┳━━━━━━━━━━━━━━┳━━━━━━━━━━━━━┳━━━━━━━━━━━━━┳━━━━━━━━━━━━━┳━━━━━━━━━━━━━┳━━━━━━━━━━━━━┳━━━━━━━━━━━━━━━━━━━━┳━━━━━━━━━━━━━━┳━━━━━━━━━┳━━━━━━━━━━━━━┳━━━━━━━━━━━━━┳━━━━━━━━━━━━┳━━━━━━━━━━┳━━━━━━━━━━━━━━━━━━┳━━━━━━━━┳━━━━━━━━━━━━━┳━━━━━━━━━━━━━━┳━━━━━━━━━━━━━━━━━━━━━━┳━━━━━━━━━━━━━┳━━━━━━━━━━━━━━━━┳━━━━━━━━━┳━━━━━━━━━━━━━━━━━━━━━━━━━━┳━━━━━━━━━━━━━┳━━━━━━━━━━━━━━━━━━━━┳━━━━━━━━━━━━━━━━━━━━━━┳━━━━━━━━━━━━━━━━━━━━━━━┳━━━━━━━━━━━━━━━━┳━━━━━━━━━━┳━━━━━━━━━━━━━━━━━━━━━━┳━━━━━━━━━━━━━━━━━━━━━━━━━━┳━━━━━━━━━━━━━━━━━━━━━━━┳━━━━━━━━━━━━━━━━━━━━━━━━━━━━━━━━┳━━━━━━━━━━━━━━━━━━━━━━━┳━━━━━━━━━━━━━━━━┳━━━━━━━━━━━━━━━━━┳━━━━━━━━━━━━━┳━━━━━━━━━━━┳━━━━━━━━━━━┳━━━━━━━━━━━━━━━┳━━━━━━━━━━━━━━━┳━━━━━━━━━━━━━━━━━━━━━┳━━━━━━━━━━┳━━━━━━━━━━━━━━━━━━┳━━━━━━━━━━━━━━┳━━━━━━━━━━━━━━━━━━━━┳━━━━━━━━━━━━━━━━━━━━┳━━━━━━━━━━━━━━━━┳━━━━━━━━━━━━━━━━━━┳━━━━━━━━━━━━━━━━━━━━━━┳━━━━━━━━━━━┳━━━━━━━━━━━━━━━━━┳━━━━━━━━━━━━━━━━━━━┳━━━━━━━━━━━━━━━━┳━━━━━━━━━━━━━━━━━━━━━━━━━━━━┳━━━━━━━━━━━━━━━━━┳━━━━━━━━━━━━━━━━━━━━━━━━━━┳━━━━━━━━━━━━━━━━━━━━━━━━┳━━━━━━━━━━━━━━━━━━┳━━━━━━━━━━━━━━━━━━┳━━━━━━━━━━━━━━━━━━━━┳━━━━━━━━━━━━━━━━━━━━━┳━━━━━━━━━━━━━━━━━━━━━━━┳━━━━━━━━━━━━━━━━━━━━━━━━━━━━━━━━━━┳━━━━━━━━━━━━━━━━━━━━━━━━━━━━━━━━━━━━┳━━━━━━━━━━━━━━━━━━━━━━━━━━━━━━━━━━━━━┳━━━━━━━━━━━━━━━┳━━━━━━━━━━━━━━━┳━━━━━━━━━━━━━━━━━┳━━━━━━━━━━━━━━━━━┳━━━━━━━━━━━━━━━┳━━━━━━━━━━━━━━━━━┳━━━━━━━━━━━━━━━━━━━━━┳━━━━━━━━━━━━━━━━━━━┳━━━━━━━━━━━━━━━━━━━━━━━━━┳━━━━━━━━━━━━━━━━━┳━━━━━━━━━━━━━━┳━━━━━━━━━━━━━━━━━━━━━━┳━━━━━━━━━━━━━━━━━━━━━━━━━━━━━━━━━━━━━━━━━━━━┳━━━━━━━━━━━━━━━━━━━━━━━━━━━━━━━━┳━━━━━━━━━━━━━━━━━━━━━━━━━━━━━━┳━━━━━━━━━━━━━━━━━━━━━┳━━━━━━━━━━━━━━━━━━━━━━┳━━━━━━━━━━━━━━━━━━━━━━━━━━━┳━━━━━━━━━━━━━━━━━━━┳━━━━━━━━━━━━━━━━━┳━━━━━━━━━━━━━━━━━━━┳━━━━━━━━━━━━━━━━━━━━━━━┳━━━━━━━━━━━━━━━━━┳━━━━━━━━┓\n",
       "┃\u001b[1m \u001b[0m\u001b[1mid\u001b[0m\u001b[1m    \u001b[0m\u001b[1m \u001b[0m┃\u001b[1m \u001b[0m\u001b[1mmember_id\u001b[0m\u001b[1m \u001b[0m┃\u001b[1m \u001b[0m\u001b[1mloan_amnt\u001b[0m\u001b[1m \u001b[0m┃\u001b[1m \u001b[0m\u001b[1mfunded_amnt\u001b[0m\u001b[1m \u001b[0m┃\u001b[1m \u001b[0m\u001b[1mfunded_amnt_inv\u001b[0m\u001b[1m \u001b[0m┃\u001b[1m \u001b[0m\u001b[1mterm\u001b[0m\u001b[1m      \u001b[0m\u001b[1m \u001b[0m┃\u001b[1m \u001b[0m\u001b[1mint_rate\u001b[0m\u001b[1m \u001b[0m┃\u001b[1m \u001b[0m\u001b[1minstallment\u001b[0m\u001b[1m \u001b[0m┃\u001b[1m \u001b[0m\u001b[1mgrade\u001b[0m\u001b[1m \u001b[0m\u001b[1m \u001b[0m┃\u001b[1m \u001b[0m\u001b[1msub_grade\u001b[0m\u001b[1m \u001b[0m┃\u001b[1m \u001b[0m\u001b[1memp_title\u001b[0m\u001b[1m     \u001b[0m\u001b[1m \u001b[0m┃\u001b[1m \u001b[0m\u001b[1memp_length\u001b[0m\u001b[1m \u001b[0m┃\u001b[1m \u001b[0m\u001b[1mhome_ownership\u001b[0m\u001b[1m \u001b[0m┃\u001b[1m \u001b[0m\u001b[1mannual_inc\u001b[0m\u001b[1m \u001b[0m┃\u001b[1m \u001b[0m\u001b[1mverification_status\u001b[0m\u001b[1m \u001b[0m┃\u001b[1m \u001b[0m\u001b[1missue_d\u001b[0m\u001b[1m \u001b[0m\u001b[1m \u001b[0m┃\u001b[1m \u001b[0m\u001b[1mloan_status\u001b[0m\u001b[1m \u001b[0m┃\u001b[1m \u001b[0m\u001b[1mpymnt_plan\u001b[0m\u001b[1m \u001b[0m┃\u001b[1m \u001b[0m\u001b[1murl\u001b[0m\u001b[1m   \u001b[0m\u001b[1m \u001b[0m┃\u001b[1m \u001b[0m\u001b[1mdesc\u001b[0m\u001b[1m  \u001b[0m\u001b[1m \u001b[0m┃\u001b[1m \u001b[0m\u001b[1mpurpose\u001b[0m\u001b[1m           \u001b[0m\u001b[1m \u001b[0m┃\u001b[1m \u001b[0m\u001b[1mtitle\u001b[0m\u001b[1m             \u001b[0m\u001b[1m \u001b[0m┃\u001b[1m \u001b[0m\u001b[1mzip_code\u001b[0m\u001b[1m \u001b[0m┃\u001b[1m \u001b[0m\u001b[1maddr_state\u001b[0m\u001b[1m \u001b[0m┃\u001b[1m \u001b[0m\u001b[1mdti\u001b[0m\u001b[1m    \u001b[0m\u001b[1m \u001b[0m┃\u001b[1m \u001b[0m\u001b[1mdelinq_2yrs\u001b[0m\u001b[1m \u001b[0m┃\u001b[1m \u001b[0m\u001b[1mearliest_cr_line\u001b[0m\u001b[1m \u001b[0m┃\u001b[1m \u001b[0m\u001b[1minq_last_6mths\u001b[0m\u001b[1m \u001b[0m┃\u001b[1m \u001b[0m\u001b[1mmths_since_last_delinq\u001b[0m\u001b[1m \u001b[0m┃\u001b[1m \u001b[0m\u001b[1mmths_since_last_record\u001b[0m\u001b[1m \u001b[0m┃\u001b[1m \u001b[0m\u001b[1mopen_acc\u001b[0m\u001b[1m \u001b[0m┃\u001b[1m \u001b[0m\u001b[1mpub_rec\u001b[0m\u001b[1m \u001b[0m┃\u001b[1m \u001b[0m\u001b[1mrevol_bal\u001b[0m\u001b[1m \u001b[0m┃\u001b[1m \u001b[0m\u001b[1mrevol_util\u001b[0m\u001b[1m \u001b[0m┃\u001b[1m \u001b[0m\u001b[1mtotal_acc\u001b[0m\u001b[1m \u001b[0m┃\u001b[1m \u001b[0m\u001b[1minitial_list_status\u001b[0m\u001b[1m \u001b[0m┃\u001b[1m \u001b[0m\u001b[1mout_prncp\u001b[0m\u001b[1m \u001b[0m┃\u001b[1m \u001b[0m\u001b[1mout_prncp_inv\u001b[0m\u001b[1m \u001b[0m┃\u001b[1m \u001b[0m\u001b[1mtotal_pymnt\u001b[0m\u001b[1m \u001b[0m┃\u001b[1m \u001b[0m\u001b[1mtotal_pymnt_inv\u001b[0m\u001b[1m \u001b[0m┃\u001b[1m \u001b[0m\u001b[1mtotal_rec_prncp\u001b[0m\u001b[1m \u001b[0m┃\u001b[1m \u001b[0m\u001b[1mtotal_rec_int\u001b[0m\u001b[1m \u001b[0m┃\u001b[1m \u001b[0m\u001b[1mtotal_rec_late_fee\u001b[0m\u001b[1m \u001b[0m┃\u001b[1m \u001b[0m\u001b[1mrecoveries\u001b[0m\u001b[1m \u001b[0m┃\u001b[1m \u001b[0m\u001b[1mcollection_recovery_fee\u001b[0m\u001b[1m \u001b[0m┃\u001b[1m \u001b[0m\u001b[1mlast_pymnt_d\u001b[0m\u001b[1m \u001b[0m┃\u001b[1m \u001b[0m\u001b[1mlast_pymnt_amnt\u001b[0m\u001b[1m \u001b[0m┃\u001b[1m \u001b[0m\u001b[1mnext_pymnt_d\u001b[0m\u001b[1m \u001b[0m┃\u001b[1m \u001b[0m\u001b[1mlast_credit_pull_d\u001b[0m\u001b[1m \u001b[0m┃\u001b[1m \u001b[0m\u001b[1mcollections_12_mths_ex_med\u001b[0m\u001b[1m \u001b[0m┃\u001b[1m \u001b[0m\u001b[1mmths_since_last_major_derog\u001b[0m\u001b[1m \u001b[0m┃\u001b[1m \u001b[0m\u001b[1mpolicy_code\u001b[0m\u001b[1m \u001b[0m┃\u001b[1m \u001b[0m\u001b[1mapplication_type\u001b[0m\u001b[1m \u001b[0m┃\u001b[1m \u001b[0m\u001b[1mannual_inc_joint\u001b[0m\u001b[1m \u001b[0m┃\u001b[1m \u001b[0m\u001b[1mdti_joint\u001b[0m\u001b[1m \u001b[0m┃\u001b[1m \u001b[0m\u001b[1mverification_status_joint\u001b[0m\u001b[1m \u001b[0m┃\u001b[1m \u001b[0m\u001b[1macc_now_delinq\u001b[0m\u001b[1m \u001b[0m┃\u001b[1m \u001b[0m\u001b[1mtot_coll_amt\u001b[0m\u001b[1m \u001b[0m┃\u001b[1m \u001b[0m\u001b[1mtot_cur_bal\u001b[0m\u001b[1m \u001b[0m┃\u001b[1m \u001b[0m\u001b[1mopen_acc_6m\u001b[0m\u001b[1m \u001b[0m┃\u001b[1m \u001b[0m\u001b[1mopen_act_il\u001b[0m\u001b[1m \u001b[0m┃\u001b[1m \u001b[0m\u001b[1mopen_il_12m\u001b[0m\u001b[1m \u001b[0m┃\u001b[1m \u001b[0m\u001b[1mopen_il_24m\u001b[0m\u001b[1m \u001b[0m┃\u001b[1m \u001b[0m\u001b[1mmths_since_rcnt_il\u001b[0m\u001b[1m \u001b[0m┃\u001b[1m \u001b[0m\u001b[1mtotal_bal_il\u001b[0m\u001b[1m \u001b[0m┃\u001b[1m \u001b[0m\u001b[1mil_util\u001b[0m\u001b[1m \u001b[0m┃\u001b[1m \u001b[0m\u001b[1mopen_rv_12m\u001b[0m\u001b[1m \u001b[0m┃\u001b[1m \u001b[0m\u001b[1mopen_rv_24m\u001b[0m\u001b[1m \u001b[0m┃\u001b[1m \u001b[0m\u001b[1mmax_bal_bc\u001b[0m\u001b[1m \u001b[0m┃\u001b[1m \u001b[0m\u001b[1mall_util\u001b[0m\u001b[1m \u001b[0m┃\u001b[1m \u001b[0m\u001b[1mtotal_rev_hi_lim\u001b[0m\u001b[1m \u001b[0m┃\u001b[1m \u001b[0m\u001b[1minq_fi\u001b[0m\u001b[1m \u001b[0m┃\u001b[1m \u001b[0m\u001b[1mtotal_cu_tl\u001b[0m\u001b[1m \u001b[0m┃\u001b[1m \u001b[0m\u001b[1minq_last_12m\u001b[0m\u001b[1m \u001b[0m┃\u001b[1m \u001b[0m\u001b[1macc_open_past_24mths\u001b[0m\u001b[1m \u001b[0m┃\u001b[1m \u001b[0m\u001b[1mavg_cur_bal\u001b[0m\u001b[1m \u001b[0m┃\u001b[1m \u001b[0m\u001b[1mbc_open_to_buy\u001b[0m\u001b[1m \u001b[0m┃\u001b[1m \u001b[0m\u001b[1mbc_util\u001b[0m\u001b[1m \u001b[0m┃\u001b[1m \u001b[0m\u001b[1mchargeoff_within_12_mths\u001b[0m\u001b[1m \u001b[0m┃\u001b[1m \u001b[0m\u001b[1mdelinq_amnt\u001b[0m\u001b[1m \u001b[0m┃\u001b[1m \u001b[0m\u001b[1mmo_sin_old_il_acct\u001b[0m\u001b[1m \u001b[0m┃\u001b[1m \u001b[0m\u001b[1mmo_sin_old_rev_tl_op\u001b[0m\u001b[1m \u001b[0m┃\u001b[1m \u001b[0m\u001b[1mmo_sin_rcnt_rev_tl_op\u001b[0m\u001b[1m \u001b[0m┃\u001b[1m \u001b[0m\u001b[1mmo_sin_rcnt_tl\u001b[0m\u001b[1m \u001b[0m┃\u001b[1m \u001b[0m\u001b[1mmort_acc\u001b[0m\u001b[1m \u001b[0m┃\u001b[1m \u001b[0m\u001b[1mmths_since_recent_bc\u001b[0m\u001b[1m \u001b[0m┃\u001b[1m \u001b[0m\u001b[1mmths_since_recent_bc_dlq\u001b[0m\u001b[1m \u001b[0m┃\u001b[1m \u001b[0m\u001b[1mmths_since_recent_inq\u001b[0m\u001b[1m \u001b[0m┃\u001b[1m \u001b[0m\u001b[1mmths_since_recent_revol_delinq\u001b[0m\u001b[1m \u001b[0m┃\u001b[1m \u001b[0m\u001b[1mnum_accts_ever_120_pd\u001b[0m\u001b[1m \u001b[0m┃\u001b[1m \u001b[0m\u001b[1mnum_actv_bc_tl\u001b[0m\u001b[1m \u001b[0m┃\u001b[1m \u001b[0m\u001b[1mnum_actv_rev_tl\u001b[0m\u001b[1m \u001b[0m┃\u001b[1m \u001b[0m\u001b[1mnum_bc_sats\u001b[0m\u001b[1m \u001b[0m┃\u001b[1m \u001b[0m\u001b[1mnum_bc_tl\u001b[0m\u001b[1m \u001b[0m┃\u001b[1m \u001b[0m\u001b[1mnum_il_tl\u001b[0m\u001b[1m \u001b[0m┃\u001b[1m \u001b[0m\u001b[1mnum_op_rev_tl\u001b[0m\u001b[1m \u001b[0m┃\u001b[1m \u001b[0m\u001b[1mnum_rev_accts\u001b[0m\u001b[1m \u001b[0m┃\u001b[1m \u001b[0m\u001b[1mnum_rev_tl_bal_gt_0\u001b[0m\u001b[1m \u001b[0m┃\u001b[1m \u001b[0m\u001b[1mnum_sats\u001b[0m\u001b[1m \u001b[0m┃\u001b[1m \u001b[0m\u001b[1mnum_tl_120dpd_2m\u001b[0m\u001b[1m \u001b[0m┃\u001b[1m \u001b[0m\u001b[1mnum_tl_30dpd\u001b[0m\u001b[1m \u001b[0m┃\u001b[1m \u001b[0m\u001b[1mnum_tl_90g_dpd_24m\u001b[0m\u001b[1m \u001b[0m┃\u001b[1m \u001b[0m\u001b[1mnum_tl_op_past_12m\u001b[0m\u001b[1m \u001b[0m┃\u001b[1m \u001b[0m\u001b[1mpct_tl_nvr_dlq\u001b[0m\u001b[1m \u001b[0m┃\u001b[1m \u001b[0m\u001b[1mpercent_bc_gt_75\u001b[0m\u001b[1m \u001b[0m┃\u001b[1m \u001b[0m\u001b[1mpub_rec_bankruptcies\u001b[0m\u001b[1m \u001b[0m┃\u001b[1m \u001b[0m\u001b[1mtax_liens\u001b[0m\u001b[1m \u001b[0m┃\u001b[1m \u001b[0m\u001b[1mtot_hi_cred_lim\u001b[0m\u001b[1m \u001b[0m┃\u001b[1m \u001b[0m\u001b[1mtotal_bal_ex_mort\u001b[0m\u001b[1m \u001b[0m┃\u001b[1m \u001b[0m\u001b[1mtotal_bc_limit\u001b[0m\u001b[1m \u001b[0m┃\u001b[1m \u001b[0m\u001b[1mtotal_il_high_credit_limit\u001b[0m\u001b[1m \u001b[0m┃\u001b[1m \u001b[0m\u001b[1mrevol_bal_joint\u001b[0m\u001b[1m \u001b[0m┃\u001b[1m \u001b[0m\u001b[1msec_app_earliest_cr_line\u001b[0m\u001b[1m \u001b[0m┃\u001b[1m \u001b[0m\u001b[1msec_app_inq_last_6mths\u001b[0m\u001b[1m \u001b[0m┃\u001b[1m \u001b[0m\u001b[1msec_app_mort_acc\u001b[0m\u001b[1m \u001b[0m┃\u001b[1m \u001b[0m\u001b[1msec_app_open_acc\u001b[0m\u001b[1m \u001b[0m┃\u001b[1m \u001b[0m\u001b[1msec_app_revol_util\u001b[0m\u001b[1m \u001b[0m┃\u001b[1m \u001b[0m\u001b[1msec_app_open_act_il\u001b[0m\u001b[1m \u001b[0m┃\u001b[1m \u001b[0m\u001b[1msec_app_num_rev_accts\u001b[0m\u001b[1m \u001b[0m┃\u001b[1m \u001b[0m\u001b[1msec_app_chargeoff_within_12_mths\u001b[0m\u001b[1m \u001b[0m┃\u001b[1m \u001b[0m\u001b[1msec_app_collections_12_mths_ex_med\u001b[0m\u001b[1m \u001b[0m┃\u001b[1m \u001b[0m\u001b[1msec_app_mths_since_last_major_derog\u001b[0m\u001b[1m \u001b[0m┃\u001b[1m \u001b[0m\u001b[1mhardship_flag\u001b[0m\u001b[1m \u001b[0m┃\u001b[1m \u001b[0m\u001b[1mhardship_type\u001b[0m\u001b[1m \u001b[0m┃\u001b[1m \u001b[0m\u001b[1mhardship_reason\u001b[0m\u001b[1m \u001b[0m┃\u001b[1m \u001b[0m\u001b[1mhardship_status\u001b[0m\u001b[1m \u001b[0m┃\u001b[1m \u001b[0m\u001b[1mdeferral_term\u001b[0m\u001b[1m \u001b[0m┃\u001b[1m \u001b[0m\u001b[1mhardship_amount\u001b[0m\u001b[1m \u001b[0m┃\u001b[1m \u001b[0m\u001b[1mhardship_start_date\u001b[0m\u001b[1m \u001b[0m┃\u001b[1m \u001b[0m\u001b[1mhardship_end_date\u001b[0m\u001b[1m \u001b[0m┃\u001b[1m \u001b[0m\u001b[1mpayment_plan_start_date\u001b[0m\u001b[1m \u001b[0m┃\u001b[1m \u001b[0m\u001b[1mhardship_length\u001b[0m\u001b[1m \u001b[0m┃\u001b[1m \u001b[0m\u001b[1mhardship_dpd\u001b[0m\u001b[1m \u001b[0m┃\u001b[1m \u001b[0m\u001b[1mhardship_loan_status\u001b[0m\u001b[1m \u001b[0m┃\u001b[1m \u001b[0m\u001b[1morig_projected_additional_accrued_interest\u001b[0m\u001b[1m \u001b[0m┃\u001b[1m \u001b[0m\u001b[1mhardship_payoff_balance_amount\u001b[0m\u001b[1m \u001b[0m┃\u001b[1m \u001b[0m\u001b[1mhardship_last_payment_amount\u001b[0m\u001b[1m \u001b[0m┃\u001b[1m \u001b[0m\u001b[1mdisbursement_method\u001b[0m\u001b[1m \u001b[0m┃\u001b[1m \u001b[0m\u001b[1mdebt_settlement_flag\u001b[0m\u001b[1m \u001b[0m┃\u001b[1m \u001b[0m\u001b[1mdebt_settlement_flag_date\u001b[0m\u001b[1m \u001b[0m┃\u001b[1m \u001b[0m\u001b[1msettlement_status\u001b[0m\u001b[1m \u001b[0m┃\u001b[1m \u001b[0m\u001b[1msettlement_date\u001b[0m\u001b[1m \u001b[0m┃\u001b[1m \u001b[0m\u001b[1msettlement_amount\u001b[0m\u001b[1m \u001b[0m┃\u001b[1m \u001b[0m\u001b[1msettlement_percentage\u001b[0m\u001b[1m \u001b[0m┃\u001b[1m \u001b[0m\u001b[1msettlement_term\u001b[0m\u001b[1m \u001b[0m┃\u001b[1m \u001b[0m\u001b[1myear\u001b[0m\u001b[1m  \u001b[0m\u001b[1m \u001b[0m┃\n",
       "┡━━━━━━━━╇━━━━━━━━━━━╇━━━━━━━━━━━╇━━━━━━━━━━━━━╇━━━━━━━━━━━━━━━━━╇━━━━━━━━━━━━╇━━━━━━━━━━╇━━━━━━━━━━━━━╇━━━━━━━━╇━━━━━━━━━━━╇━━━━━━━━━━━━━━━━╇━━━━━━━━━━━━╇━━━━━━━━━━━━━━━━╇━━━━━━━━━━━━╇━━━━━━━━━━━━━━━━━━━━━╇━━━━━━━━━━╇━━━━━━━━━━━━━╇━━━━━━━━━━━━╇━━━━━━━━╇━━━━━━━━╇━━━━━━━━━━━━━━━━━━━━╇━━━━━━━━━━━━━━━━━━━━╇━━━━━━━━━━╇━━━━━━━━━━━━╇━━━━━━━━━╇━━━━━━━━━━━━━╇━━━━━━━━━━━━━━━━━━╇━━━━━━━━━━━━━━━━╇━━━━━━━━━━━━━━━━━━━━━━━━╇━━━━━━━━━━━━━━━━━━━━━━━━╇━━━━━━━━━━╇━━━━━━━━━╇━━━━━━━━━━━╇━━━━━━━━━━━━╇━━━━━━━━━━━╇━━━━━━━━━━━━━━━━━━━━━╇━━━━━━━━━━━╇━━━━━━━━━━━━━━━╇━━━━━━━━━━━━━╇━━━━━━━━━━━━━━━━━╇━━━━━━━━━━━━━━━━━╇━━━━━━━━━━━━━━━╇━━━━━━━━━━━━━━━━━━━━╇━━━━━━━━━━━━╇━━━━━━━━━━━━━━━━━━━━━━━━━╇━━━━━━━━━━━━━━╇━━━━━━━━━━━━━━━━━╇━━━━━━━━━━━━━━╇━━━━━━━━━━━━━━━━━━━━╇━━━━━━━━━━━━━━━━━━━━━━━━━━━━╇━━━━━━━━━━━━━━━━━━━━━━━━━━━━━╇━━━━━━━━━━━━━╇━━━━━━━━━━━━━━━━━━╇━━━━━━━━━━━━━━━━━━╇━━━━━━━━━━━╇━━━━━━━━━━━━━━━━━━━━━━━━━━━╇━━━━━━━━━━━━━━━━╇━━━━━━━━━━━━━━╇━━━━━━━━━━━━━╇━━━━━━━━━━━━━╇━━━━━━━━━━━━━╇━━━━━━━━━━━━━╇━━━━━━━━━━━━━╇━━━━━━━━━━━━━━━━━━━━╇━━━━━━━━━━━━━━╇━━━━━━━━━╇━━━━━━━━━━━━━╇━━━━━━━━━━━━━╇━━━━━━━━━━━━╇━━━━━━━━━━╇━━━━━━━━━━━━━━━━━━╇━━━━━━━━╇━━━━━━━━━━━━━╇━━━━━━━━━━━━━━╇━━━━━━━━━━━━━━━━━━━━━━╇━━━━━━━━━━━━━╇━━━━━━━━━━━━━━━━╇━━━━━━━━━╇━━━━━━━━━━━━━━━━━━━━━━━━━━╇━━━━━━━━━━━━━╇━━━━━━━━━━━━━━━━━━━━╇━━━━━━━━━━━━━━━━━━━━━━╇━━━━━━━━━━━━━━━━━━━━━━━╇━━━━━━━━━━━━━━━━╇━━━━━━━━━━╇━━━━━━━━━━━━━━━━━━━━━━╇━━━━━━━━━━━━━━━━━━━━━━━━━━╇━━━━━━━━━━━━━━━━━━━━━━━╇━━━━━━━━━━━━━━━━━━━━━━━━━━━━━━━━╇━━━━━━━━━━━━━━━━━━━━━━━╇━━━━━━━━━━━━━━━━╇━━━━━━━━━━━━━━━━━╇━━━━━━━━━━━━━╇━━━━━━━━━━━╇━━━━━━━━━━━╇━━━━━━━━━━━━━━━╇━━━━━━━━━━━━━━━╇━━━━━━━━━━━━━━━━━━━━━╇━━━━━━━━━━╇━━━━━━━━━━━━━━━━━━╇━━━━━━━━━━━━━━╇━━━━━━━━━━━━━━━━━━━━╇━━━━━━━━━━━━━━━━━━━━╇━━━━━━━━━━━━━━━━╇━━━━━━━━━━━━━━━━━━╇━━━━━━━━━━━━━━━━━━━━━━╇━━━━━━━━━━━╇━━━━━━━━━━━━━━━━━╇━━━━━━━━━━━━━━━━━━━╇━━━━━━━━━━━━━━━━╇━━━━━━━━━━━━━━━━━━━━━━━━━━━━╇━━━━━━━━━━━━━━━━━╇━━━━━━━━━━━━━━━━━━━━━━━━━━╇━━━━━━━━━━━━━━━━━━━━━━━━╇━━━━━━━━━━━━━━━━━━╇━━━━━━━━━━━━━━━━━━╇━━━━━━━━━━━━━━━━━━━━╇━━━━━━━━━━━━━━━━━━━━━╇━━━━━━━━━━━━━━━━━━━━━━━╇━━━━━━━━━━━━━━━━━━━━━━━━━━━━━━━━━━╇━━━━━━━━━━━━━━━━━━━━━━━━━━━━━━━━━━━━╇━━━━━━━━━━━━━━━━━━━━━━━━━━━━━━━━━━━━━╇━━━━━━━━━━━━━━━╇━━━━━━━━━━━━━━━╇━━━━━━━━━━━━━━━━━╇━━━━━━━━━━━━━━━━━╇━━━━━━━━━━━━━━━╇━━━━━━━━━━━━━━━━━╇━━━━━━━━━━━━━━━━━━━━━╇━━━━━━━━━━━━━━━━━━━╇━━━━━━━━━━━━━━━━━━━━━━━━━╇━━━━━━━━━━━━━━━━━╇━━━━━━━━━━━━━━╇━━━━━━━━━━━━━━━━━━━━━━╇━━━━━━━━━━━━━━━━━━━━━━━━━━━━━━━━━━━━━━━━━━━━╇━━━━━━━━━━━━━━━━━━━━━━━━━━━━━━━━╇━━━━━━━━━━━━━━━━━━━━━━━━━━━━━━╇━━━━━━━━━━━━━━━━━━━━━╇━━━━━━━━━━━━━━━━━━━━━━╇━━━━━━━━━━━━━━━━━━━━━━━━━━━╇━━━━━━━━━━━━━━━━━━━╇━━━━━━━━━━━━━━━━━╇━━━━━━━━━━━━━━━━━━━╇━━━━━━━━━━━━━━━━━━━━━━━╇━━━━━━━━━━━━━━━━━╇━━━━━━━━┩\n",
       "│ \u001b[2mstring\u001b[0m │ \u001b[2mstring\u001b[0m    │ \u001b[2mint64\u001b[0m     │ \u001b[2mint64\u001b[0m       │ \u001b[2mint64\u001b[0m           │ \u001b[2mstring\u001b[0m     │ \u001b[2mfloat64\u001b[0m  │ \u001b[2mfloat64\u001b[0m     │ \u001b[2mstring\u001b[0m │ \u001b[2mstring\u001b[0m    │ \u001b[2mstring\u001b[0m         │ \u001b[2mstring\u001b[0m     │ \u001b[2mstring\u001b[0m         │ \u001b[2mfloat64\u001b[0m    │ \u001b[2mstring\u001b[0m              │ \u001b[2mstring\u001b[0m   │ \u001b[2mstring\u001b[0m      │ \u001b[2mstring\u001b[0m     │ \u001b[2mstring\u001b[0m │ \u001b[2mstring\u001b[0m │ \u001b[2mstring\u001b[0m             │ \u001b[2mstring\u001b[0m             │ \u001b[2mstring\u001b[0m   │ \u001b[2mstring\u001b[0m     │ \u001b[2mfloat64\u001b[0m │ \u001b[2mint64\u001b[0m       │ \u001b[2mstring\u001b[0m           │ \u001b[2mint64\u001b[0m          │ \u001b[2mint64\u001b[0m                  │ \u001b[2mint64\u001b[0m                  │ \u001b[2mint64\u001b[0m    │ \u001b[2mint64\u001b[0m   │ \u001b[2mint64\u001b[0m     │ \u001b[2mfloat64\u001b[0m    │ \u001b[2mint64\u001b[0m     │ \u001b[2mstring\u001b[0m              │ \u001b[2mfloat64\u001b[0m   │ \u001b[2mfloat64\u001b[0m       │ \u001b[2mfloat64\u001b[0m     │ \u001b[2mfloat64\u001b[0m         │ \u001b[2mfloat64\u001b[0m         │ \u001b[2mfloat64\u001b[0m       │ \u001b[2mfloat64\u001b[0m            │ \u001b[2mfloat64\u001b[0m    │ \u001b[2mfloat64\u001b[0m                 │ \u001b[2mstring\u001b[0m       │ \u001b[2mfloat64\u001b[0m         │ \u001b[2mstring\u001b[0m       │ \u001b[2mstring\u001b[0m             │ \u001b[2mint64\u001b[0m                      │ \u001b[2mint64\u001b[0m                       │ \u001b[2mint64\u001b[0m       │ \u001b[2mstring\u001b[0m           │ \u001b[2mfloat64\u001b[0m          │ \u001b[2mfloat64\u001b[0m   │ \u001b[2mstring\u001b[0m                    │ \u001b[2mint64\u001b[0m          │ \u001b[2mint64\u001b[0m        │ \u001b[2mint64\u001b[0m       │ \u001b[2mint64\u001b[0m       │ \u001b[2mint64\u001b[0m       │ \u001b[2mint64\u001b[0m       │ \u001b[2mint64\u001b[0m       │ \u001b[2mint64\u001b[0m              │ \u001b[2mint64\u001b[0m        │ \u001b[2mint64\u001b[0m   │ \u001b[2mint64\u001b[0m       │ \u001b[2mint64\u001b[0m       │ \u001b[2mint64\u001b[0m      │ \u001b[2mint64\u001b[0m    │ \u001b[2mint64\u001b[0m            │ \u001b[2mint64\u001b[0m  │ \u001b[2mint64\u001b[0m       │ \u001b[2mint64\u001b[0m        │ \u001b[2mint64\u001b[0m                │ \u001b[2mint64\u001b[0m       │ \u001b[2mint64\u001b[0m          │ \u001b[2mfloat64\u001b[0m │ \u001b[2mint64\u001b[0m                    │ \u001b[2mint64\u001b[0m       │ \u001b[2mint64\u001b[0m              │ \u001b[2mint64\u001b[0m                │ \u001b[2mint64\u001b[0m                 │ \u001b[2mint64\u001b[0m          │ \u001b[2mint64\u001b[0m    │ \u001b[2mint64\u001b[0m                │ \u001b[2mint64\u001b[0m                    │ \u001b[2mint64\u001b[0m                 │ \u001b[2mint64\u001b[0m                          │ \u001b[2mint64\u001b[0m                 │ \u001b[2mint64\u001b[0m          │ \u001b[2mint64\u001b[0m           │ \u001b[2mint64\u001b[0m       │ \u001b[2mint64\u001b[0m     │ \u001b[2mint64\u001b[0m     │ \u001b[2mint64\u001b[0m         │ \u001b[2mint64\u001b[0m         │ \u001b[2mint64\u001b[0m               │ \u001b[2mint64\u001b[0m    │ \u001b[2mint64\u001b[0m            │ \u001b[2mint64\u001b[0m        │ \u001b[2mint64\u001b[0m              │ \u001b[2mint64\u001b[0m              │ \u001b[2mfloat64\u001b[0m        │ \u001b[2mfloat64\u001b[0m          │ \u001b[2mint64\u001b[0m                │ \u001b[2mint64\u001b[0m     │ \u001b[2mint64\u001b[0m           │ \u001b[2mint64\u001b[0m             │ \u001b[2mint64\u001b[0m          │ \u001b[2mint64\u001b[0m                      │ \u001b[2mint64\u001b[0m           │ \u001b[2mstring\u001b[0m                   │ \u001b[2mint64\u001b[0m                  │ \u001b[2mint64\u001b[0m            │ \u001b[2mint64\u001b[0m            │ \u001b[2mfloat64\u001b[0m            │ \u001b[2mint64\u001b[0m               │ \u001b[2mint64\u001b[0m                 │ \u001b[2mint64\u001b[0m                            │ \u001b[2mint64\u001b[0m                              │ \u001b[2mint64\u001b[0m                               │ \u001b[2mstring\u001b[0m        │ \u001b[2mstring\u001b[0m        │ \u001b[2mstring\u001b[0m          │ \u001b[2mstring\u001b[0m          │ \u001b[2mstring\u001b[0m        │ \u001b[2mstring\u001b[0m          │ \u001b[2mstring\u001b[0m              │ \u001b[2mstring\u001b[0m            │ \u001b[2mstring\u001b[0m                  │ \u001b[2mstring\u001b[0m          │ \u001b[2mstring\u001b[0m       │ \u001b[2mstring\u001b[0m               │ \u001b[2mstring\u001b[0m                                     │ \u001b[2mstring\u001b[0m                         │ \u001b[2mstring\u001b[0m                       │ \u001b[2mstring\u001b[0m              │ \u001b[2mstring\u001b[0m               │ \u001b[2mstring\u001b[0m                    │ \u001b[2mstring\u001b[0m            │ \u001b[2mstring\u001b[0m          │ \u001b[2mstring\u001b[0m            │ \u001b[2mstring\u001b[0m                │ \u001b[2mstring\u001b[0m          │ \u001b[2mstring\u001b[0m │\n",
       "├────────┼───────────┼───────────┼─────────────┼─────────────────┼────────────┼──────────┼─────────────┼────────┼───────────┼────────────────┼────────────┼────────────────┼────────────┼─────────────────────┼──────────┼─────────────┼────────────┼────────┼────────┼────────────────────┼────────────────────┼──────────┼────────────┼─────────┼─────────────┼──────────────────┼────────────────┼────────────────────────┼────────────────────────┼──────────┼─────────┼───────────┼────────────┼───────────┼─────────────────────┼───────────┼───────────────┼─────────────┼─────────────────┼─────────────────┼───────────────┼────────────────────┼────────────┼─────────────────────────┼──────────────┼─────────────────┼──────────────┼────────────────────┼────────────────────────────┼─────────────────────────────┼─────────────┼──────────────────┼──────────────────┼───────────┼───────────────────────────┼────────────────┼──────────────┼─────────────┼─────────────┼─────────────┼─────────────┼─────────────┼────────────────────┼──────────────┼─────────┼─────────────┼─────────────┼────────────┼──────────┼──────────────────┼────────┼─────────────┼──────────────┼──────────────────────┼─────────────┼────────────────┼─────────┼──────────────────────────┼─────────────┼────────────────────┼──────────────────────┼───────────────────────┼────────────────┼──────────┼──────────────────────┼──────────────────────────┼───────────────────────┼────────────────────────────────┼───────────────────────┼────────────────┼─────────────────┼─────────────┼───────────┼───────────┼───────────────┼───────────────┼─────────────────────┼──────────┼──────────────────┼──────────────┼────────────────────┼────────────────────┼────────────────┼──────────────────┼──────────────────────┼───────────┼─────────────────┼───────────────────┼────────────────┼────────────────────────────┼─────────────────┼──────────────────────────┼────────────────────────┼──────────────────┼──────────────────┼────────────────────┼─────────────────────┼───────────────────────┼──────────────────────────────────┼────────────────────────────────────┼─────────────────────────────────────┼───────────────┼───────────────┼─────────────────┼─────────────────┼───────────────┼─────────────────┼─────────────────────┼───────────────────┼─────────────────────────┼─────────────────┼──────────────┼──────────────────────┼────────────────────────────────────────────┼────────────────────────────────┼──────────────────────────────┼─────────────────────┼──────────────────────┼───────────────────────────┼───────────────────┼─────────────────┼───────────────────┼───────────────────────┼─────────────────┼────────┤\n",
       "│ \u001b[2mNULL\u001b[0m   │ \u001b[2mNULL\u001b[0m      │      \u001b[1;36m2500\u001b[0m │        \u001b[1;36m2500\u001b[0m │            \u001b[1;36m2500\u001b[0m │ \u001b[32m 36 months\u001b[0m │    \u001b[1;36m13.56\u001b[0m │       \u001b[1;36m84.92\u001b[0m │ \u001b[32mC     \u001b[0m │ \u001b[32mC1       \u001b[0m │ \u001b[32mChef          \u001b[0m │ \u001b[32m10+ years \u001b[0m │ \u001b[32mRENT          \u001b[0m │    \u001b[1;36m55000.0\u001b[0m │ \u001b[32mNot Verified       \u001b[0m │ \u001b[32mDec-2018\u001b[0m │ \u001b[32mCurrent    \u001b[0m │ \u001b[32mn         \u001b[0m │ \u001b[2mNULL\u001b[0m   │ \u001b[2mNULL\u001b[0m   │ \u001b[32mdebt_consolidation\u001b[0m │ \u001b[32mDebt consolidation\u001b[0m │ \u001b[32m109xx   \u001b[0m │ \u001b[32mNY        \u001b[0m │   \u001b[1;36m18.24\u001b[0m │           \u001b[1;36m0\u001b[0m │ \u001b[32mApr-2001        \u001b[0m │              \u001b[1;36m1\u001b[0m │                   \u001b[2mNULL\u001b[0m │                     \u001b[1;36m45\u001b[0m │        \u001b[1;36m9\u001b[0m │       \u001b[1;36m1\u001b[0m │      \u001b[1;36m4341\u001b[0m │       \u001b[1;36m10.3\u001b[0m │        \u001b[1;36m34\u001b[0m │ \u001b[32mw                  \u001b[0m │   \u001b[1;36m2386.02\u001b[0m │       \u001b[1;36m2386.02\u001b[0m │      \u001b[1;36m167.02\u001b[0m │          \u001b[1;36m167.02\u001b[0m │          \u001b[1;36m113.98\u001b[0m │         \u001b[1;36m53.04\u001b[0m │                \u001b[1;36m0.0\u001b[0m │        \u001b[1;36m0.0\u001b[0m │                     \u001b[1;36m0.0\u001b[0m │ \u001b[32mFeb-2019    \u001b[0m │           \u001b[1;36m84.92\u001b[0m │ \u001b[32mMar-2019    \u001b[0m │ \u001b[32mFeb-2019          \u001b[0m │                          \u001b[1;36m0\u001b[0m │                        \u001b[2mNULL\u001b[0m │           \u001b[1;36m1\u001b[0m │ \u001b[32mIndividual      \u001b[0m │             \u001b[2mNULL\u001b[0m │      \u001b[2mNULL\u001b[0m │ \u001b[2mNULL\u001b[0m                      │              \u001b[1;36m0\u001b[0m │            \u001b[1;36m0\u001b[0m │       \u001b[1;36m16901\u001b[0m │           \u001b[1;36m2\u001b[0m │           \u001b[1;36m2\u001b[0m │           \u001b[1;36m1\u001b[0m │           \u001b[1;36m2\u001b[0m │                  \u001b[1;36m2\u001b[0m │        \u001b[1;36m12560\u001b[0m │      \u001b[1;36m69\u001b[0m │           \u001b[1;36m2\u001b[0m │           \u001b[1;36m7\u001b[0m │       \u001b[1;36m2137\u001b[0m │       \u001b[1;36m28\u001b[0m │            \u001b[1;36m42000\u001b[0m │      \u001b[1;36m1\u001b[0m │          \u001b[1;36m11\u001b[0m │            \u001b[1;36m2\u001b[0m │                    \u001b[1;36m9\u001b[0m │        \u001b[1;36m1878\u001b[0m │          \u001b[1;36m34360\u001b[0m │     \u001b[1;36m5.9\u001b[0m │                        \u001b[1;36m0\u001b[0m │           \u001b[1;36m0\u001b[0m │                \u001b[1;36m140\u001b[0m │                  \u001b[1;36m212\u001b[0m │                     \u001b[1;36m1\u001b[0m │              \u001b[1;36m1\u001b[0m │        \u001b[1;36m0\u001b[0m │                    \u001b[1;36m1\u001b[0m │                     \u001b[2mNULL\u001b[0m │                     \u001b[1;36m2\u001b[0m │                           \u001b[2mNULL\u001b[0m │                     \u001b[1;36m0\u001b[0m │              \u001b[1;36m2\u001b[0m │               \u001b[1;36m5\u001b[0m │           \u001b[1;36m3\u001b[0m │         \u001b[1;36m3\u001b[0m │        \u001b[1;36m16\u001b[0m │             \u001b[1;36m7\u001b[0m │            \u001b[1;36m18\u001b[0m │                   \u001b[1;36m5\u001b[0m │        \u001b[1;36m9\u001b[0m │                \u001b[1;36m0\u001b[0m │            \u001b[1;36m0\u001b[0m │                  \u001b[1;36m0\u001b[0m │                  \u001b[1;36m3\u001b[0m │          \u001b[1;36m100.0\u001b[0m │              \u001b[1;36m0.0\u001b[0m │                    \u001b[1;36m1\u001b[0m │         \u001b[1;36m0\u001b[0m │           \u001b[1;36m60124\u001b[0m │             \u001b[1;36m16901\u001b[0m │          \u001b[1;36m36500\u001b[0m │                      \u001b[1;36m18124\u001b[0m │            \u001b[2mNULL\u001b[0m │ \u001b[2mNULL\u001b[0m                     │                   \u001b[2mNULL\u001b[0m │             \u001b[2mNULL\u001b[0m │             \u001b[2mNULL\u001b[0m │               \u001b[2mNULL\u001b[0m │                \u001b[2mNULL\u001b[0m │                  \u001b[2mNULL\u001b[0m │                             \u001b[2mNULL\u001b[0m │                               \u001b[2mNULL\u001b[0m │                                \u001b[2mNULL\u001b[0m │ \u001b[32mN            \u001b[0m │ \u001b[2mNULL\u001b[0m          │ \u001b[2mNULL\u001b[0m            │ \u001b[2mNULL\u001b[0m            │ \u001b[2mNULL\u001b[0m          │ \u001b[2mNULL\u001b[0m            │ \u001b[2mNULL\u001b[0m                │ \u001b[2mNULL\u001b[0m              │ \u001b[2mNULL\u001b[0m                    │ \u001b[2mNULL\u001b[0m            │ \u001b[2mNULL\u001b[0m         │ \u001b[2mNULL\u001b[0m                 │ \u001b[2mNULL\u001b[0m                                       │ \u001b[2mNULL\u001b[0m                           │ \u001b[2mNULL\u001b[0m                         │ \u001b[32mCash               \u001b[0m │ \u001b[32mN                   \u001b[0m │ \u001b[2mNULL\u001b[0m                      │ \u001b[2mNULL\u001b[0m              │ \u001b[2mNULL\u001b[0m            │ \u001b[2mNULL\u001b[0m              │ \u001b[2mNULL\u001b[0m                  │ \u001b[2mNULL\u001b[0m            │ \u001b[32m2018  \u001b[0m │\n",
       "│ \u001b[2mNULL\u001b[0m   │ \u001b[2mNULL\u001b[0m      │     \u001b[1;36m30000\u001b[0m │       \u001b[1;36m30000\u001b[0m │           \u001b[1;36m30000\u001b[0m │ \u001b[32m 60 months\u001b[0m │    \u001b[1;36m18.94\u001b[0m │      \u001b[1;36m777.23\u001b[0m │ \u001b[32mD     \u001b[0m │ \u001b[32mD2       \u001b[0m │ \u001b[32mPostmaster    \u001b[0m │ \u001b[32m10+ years \u001b[0m │ \u001b[32mMORTGAGE      \u001b[0m │    \u001b[1;36m90000.0\u001b[0m │ \u001b[32mSource Verified    \u001b[0m │ \u001b[32mDec-2018\u001b[0m │ \u001b[32mCurrent    \u001b[0m │ \u001b[32mn         \u001b[0m │ \u001b[2mNULL\u001b[0m   │ \u001b[2mNULL\u001b[0m   │ \u001b[32mdebt_consolidation\u001b[0m │ \u001b[32mDebt consolidation\u001b[0m │ \u001b[32m713xx   \u001b[0m │ \u001b[32mLA        \u001b[0m │   \u001b[1;36m26.52\u001b[0m │           \u001b[1;36m0\u001b[0m │ \u001b[32mJun-1987        \u001b[0m │              \u001b[1;36m0\u001b[0m │                     \u001b[1;36m71\u001b[0m │                     \u001b[1;36m75\u001b[0m │       \u001b[1;36m13\u001b[0m │       \u001b[1;36m1\u001b[0m │     \u001b[1;36m12315\u001b[0m │       \u001b[1;36m24.2\u001b[0m │        \u001b[1;36m44\u001b[0m │ \u001b[32mw                  \u001b[0m │  \u001b[1;36m29387.75\u001b[0m │      \u001b[1;36m29387.75\u001b[0m │     \u001b[1;36m1507.11\u001b[0m │         \u001b[1;36m1507.11\u001b[0m │          \u001b[1;36m612.25\u001b[0m │        \u001b[1;36m894.86\u001b[0m │                \u001b[1;36m0.0\u001b[0m │        \u001b[1;36m0.0\u001b[0m │                     \u001b[1;36m0.0\u001b[0m │ \u001b[32mFeb-2019    \u001b[0m │          \u001b[1;36m777.23\u001b[0m │ \u001b[32mMar-2019    \u001b[0m │ \u001b[32mFeb-2019          \u001b[0m │                          \u001b[1;36m0\u001b[0m │                        \u001b[2mNULL\u001b[0m │           \u001b[1;36m1\u001b[0m │ \u001b[32mIndividual      \u001b[0m │             \u001b[2mNULL\u001b[0m │      \u001b[2mNULL\u001b[0m │ \u001b[2mNULL\u001b[0m                      │              \u001b[1;36m0\u001b[0m │         \u001b[1;36m1208\u001b[0m │      \u001b[1;36m321915\u001b[0m │           \u001b[1;36m4\u001b[0m │           \u001b[1;36m4\u001b[0m │           \u001b[1;36m2\u001b[0m │           \u001b[1;36m3\u001b[0m │                  \u001b[1;36m3\u001b[0m │        \u001b[1;36m87153\u001b[0m │      \u001b[1;36m88\u001b[0m │           \u001b[1;36m4\u001b[0m │           \u001b[1;36m5\u001b[0m │        \u001b[1;36m998\u001b[0m │       \u001b[1;36m57\u001b[0m │            \u001b[1;36m50800\u001b[0m │      \u001b[1;36m2\u001b[0m │          \u001b[1;36m15\u001b[0m │            \u001b[1;36m2\u001b[0m │                   \u001b[1;36m10\u001b[0m │       \u001b[1;36m24763\u001b[0m │          \u001b[1;36m13761\u001b[0m │     \u001b[1;36m8.3\u001b[0m │                        \u001b[1;36m0\u001b[0m │           \u001b[1;36m0\u001b[0m │                \u001b[1;36m163\u001b[0m │                  \u001b[1;36m378\u001b[0m │                     \u001b[1;36m4\u001b[0m │              \u001b[1;36m3\u001b[0m │        \u001b[1;36m3\u001b[0m │                    \u001b[1;36m4\u001b[0m │                     \u001b[2mNULL\u001b[0m │                     \u001b[1;36m4\u001b[0m │                           \u001b[2mNULL\u001b[0m │                     \u001b[1;36m0\u001b[0m │              \u001b[1;36m2\u001b[0m │               \u001b[1;36m4\u001b[0m │           \u001b[1;36m4\u001b[0m │         \u001b[1;36m9\u001b[0m │        \u001b[1;36m27\u001b[0m │             \u001b[1;36m8\u001b[0m │            \u001b[1;36m14\u001b[0m │                   \u001b[1;36m4\u001b[0m │       \u001b[1;36m13\u001b[0m │                \u001b[1;36m0\u001b[0m │            \u001b[1;36m0\u001b[0m │                  \u001b[1;36m0\u001b[0m │                  \u001b[1;36m6\u001b[0m │           \u001b[1;36m95.0\u001b[0m │              \u001b[1;36m0.0\u001b[0m │                    \u001b[1;36m1\u001b[0m │         \u001b[1;36m0\u001b[0m │          \u001b[1;36m372872\u001b[0m │             \u001b[1;36m99468\u001b[0m │          \u001b[1;36m15000\u001b[0m │                      \u001b[1;36m94072\u001b[0m │            \u001b[2mNULL\u001b[0m │ \u001b[2mNULL\u001b[0m                     │                   \u001b[2mNULL\u001b[0m │             \u001b[2mNULL\u001b[0m │             \u001b[2mNULL\u001b[0m │               \u001b[2mNULL\u001b[0m │                \u001b[2mNULL\u001b[0m │                  \u001b[2mNULL\u001b[0m │                             \u001b[2mNULL\u001b[0m │                               \u001b[2mNULL\u001b[0m │                                \u001b[2mNULL\u001b[0m │ \u001b[32mN            \u001b[0m │ \u001b[2mNULL\u001b[0m          │ \u001b[2mNULL\u001b[0m            │ \u001b[2mNULL\u001b[0m            │ \u001b[2mNULL\u001b[0m          │ \u001b[2mNULL\u001b[0m            │ \u001b[2mNULL\u001b[0m                │ \u001b[2mNULL\u001b[0m              │ \u001b[2mNULL\u001b[0m                    │ \u001b[2mNULL\u001b[0m            │ \u001b[2mNULL\u001b[0m         │ \u001b[2mNULL\u001b[0m                 │ \u001b[2mNULL\u001b[0m                                       │ \u001b[2mNULL\u001b[0m                           │ \u001b[2mNULL\u001b[0m                         │ \u001b[32mCash               \u001b[0m │ \u001b[32mN                   \u001b[0m │ \u001b[2mNULL\u001b[0m                      │ \u001b[2mNULL\u001b[0m              │ \u001b[2mNULL\u001b[0m            │ \u001b[2mNULL\u001b[0m              │ \u001b[2mNULL\u001b[0m                  │ \u001b[2mNULL\u001b[0m            │ \u001b[32m2018  \u001b[0m │\n",
       "│ \u001b[2mNULL\u001b[0m   │ \u001b[2mNULL\u001b[0m      │      \u001b[1;36m5000\u001b[0m │        \u001b[1;36m5000\u001b[0m │            \u001b[1;36m5000\u001b[0m │ \u001b[32m 36 months\u001b[0m │    \u001b[1;36m17.97\u001b[0m │      \u001b[1;36m180.69\u001b[0m │ \u001b[32mD     \u001b[0m │ \u001b[32mD1       \u001b[0m │ \u001b[32mAdministrative\u001b[0m │ \u001b[32m6 years   \u001b[0m │ \u001b[32mMORTGAGE      \u001b[0m │    \u001b[1;36m59280.0\u001b[0m │ \u001b[32mSource Verified    \u001b[0m │ \u001b[32mDec-2018\u001b[0m │ \u001b[32mCurrent    \u001b[0m │ \u001b[32mn         \u001b[0m │ \u001b[2mNULL\u001b[0m   │ \u001b[2mNULL\u001b[0m   │ \u001b[32mdebt_consolidation\u001b[0m │ \u001b[32mDebt consolidation\u001b[0m │ \u001b[32m490xx   \u001b[0m │ \u001b[32mMI        \u001b[0m │   \u001b[1;36m10.51\u001b[0m │           \u001b[1;36m0\u001b[0m │ \u001b[32mApr-2011        \u001b[0m │              \u001b[1;36m0\u001b[0m │                   \u001b[2mNULL\u001b[0m │                   \u001b[2mNULL\u001b[0m │        \u001b[1;36m8\u001b[0m │       \u001b[1;36m0\u001b[0m │      \u001b[1;36m4599\u001b[0m │       \u001b[1;36m19.1\u001b[0m │        \u001b[1;36m13\u001b[0m │ \u001b[32mw                  \u001b[0m │   \u001b[1;36m4787.21\u001b[0m │       \u001b[1;36m4787.21\u001b[0m │      \u001b[1;36m353.89\u001b[0m │          \u001b[1;36m353.89\u001b[0m │          \u001b[1;36m212.79\u001b[0m │        \u001b[1;36m141.10\u001b[0m │                \u001b[1;36m0.0\u001b[0m │        \u001b[1;36m0.0\u001b[0m │                     \u001b[1;36m0.0\u001b[0m │ \u001b[32mFeb-2019    \u001b[0m │          \u001b[1;36m180.69\u001b[0m │ \u001b[32mMar-2019    \u001b[0m │ \u001b[32mFeb-2019          \u001b[0m │                          \u001b[1;36m0\u001b[0m │                        \u001b[2mNULL\u001b[0m │           \u001b[1;36m1\u001b[0m │ \u001b[32mIndividual      \u001b[0m │             \u001b[2mNULL\u001b[0m │      \u001b[2mNULL\u001b[0m │ \u001b[2mNULL\u001b[0m                      │              \u001b[1;36m0\u001b[0m │            \u001b[1;36m0\u001b[0m │      \u001b[1;36m110299\u001b[0m │           \u001b[1;36m0\u001b[0m │           \u001b[1;36m1\u001b[0m │           \u001b[1;36m0\u001b[0m │           \u001b[1;36m2\u001b[0m │                 \u001b[1;36m14\u001b[0m │         \u001b[1;36m7150\u001b[0m │      \u001b[1;36m72\u001b[0m │           \u001b[1;36m0\u001b[0m │           \u001b[1;36m2\u001b[0m │          \u001b[1;36m0\u001b[0m │       \u001b[1;36m35\u001b[0m │            \u001b[1;36m24100\u001b[0m │      \u001b[1;36m1\u001b[0m │           \u001b[1;36m5\u001b[0m │            \u001b[1;36m0\u001b[0m │                    \u001b[1;36m4\u001b[0m │       \u001b[1;36m18383\u001b[0m │          \u001b[1;36m13800\u001b[0m │     \u001b[1;36m0.0\u001b[0m │                        \u001b[1;36m0\u001b[0m │           \u001b[1;36m0\u001b[0m │                 \u001b[1;36m87\u001b[0m │                   \u001b[1;36m92\u001b[0m │                    \u001b[1;36m15\u001b[0m │             \u001b[1;36m14\u001b[0m │        \u001b[1;36m2\u001b[0m │                   \u001b[1;36m77\u001b[0m │                     \u001b[2mNULL\u001b[0m │                    \u001b[1;36m14\u001b[0m │                           \u001b[2mNULL\u001b[0m │                     \u001b[1;36m0\u001b[0m │              \u001b[1;36m0\u001b[0m │               \u001b[1;36m3\u001b[0m │           \u001b[1;36m3\u001b[0m │         \u001b[1;36m3\u001b[0m │         \u001b[1;36m4\u001b[0m │             \u001b[1;36m6\u001b[0m │             \u001b[1;36m7\u001b[0m │                   \u001b[1;36m3\u001b[0m │        \u001b[1;36m8\u001b[0m │                \u001b[1;36m0\u001b[0m │            \u001b[1;36m0\u001b[0m │                  \u001b[1;36m0\u001b[0m │                  \u001b[1;36m0\u001b[0m │          \u001b[1;36m100.0\u001b[0m │              \u001b[1;36m0.0\u001b[0m │                    \u001b[1;36m0\u001b[0m │         \u001b[1;36m0\u001b[0m │          \u001b[1;36m136927\u001b[0m │             \u001b[1;36m11749\u001b[0m │          \u001b[1;36m13800\u001b[0m │                      \u001b[1;36m10000\u001b[0m │            \u001b[2mNULL\u001b[0m │ \u001b[2mNULL\u001b[0m                     │                   \u001b[2mNULL\u001b[0m │             \u001b[2mNULL\u001b[0m │             \u001b[2mNULL\u001b[0m │               \u001b[2mNULL\u001b[0m │                \u001b[2mNULL\u001b[0m │                  \u001b[2mNULL\u001b[0m │                             \u001b[2mNULL\u001b[0m │                               \u001b[2mNULL\u001b[0m │                                \u001b[2mNULL\u001b[0m │ \u001b[32mN            \u001b[0m │ \u001b[2mNULL\u001b[0m          │ \u001b[2mNULL\u001b[0m            │ \u001b[2mNULL\u001b[0m            │ \u001b[2mNULL\u001b[0m          │ \u001b[2mNULL\u001b[0m            │ \u001b[2mNULL\u001b[0m                │ \u001b[2mNULL\u001b[0m              │ \u001b[2mNULL\u001b[0m                    │ \u001b[2mNULL\u001b[0m            │ \u001b[2mNULL\u001b[0m         │ \u001b[2mNULL\u001b[0m                 │ \u001b[2mNULL\u001b[0m                                       │ \u001b[2mNULL\u001b[0m                           │ \u001b[2mNULL\u001b[0m                         │ \u001b[32mCash               \u001b[0m │ \u001b[32mN                   \u001b[0m │ \u001b[2mNULL\u001b[0m                      │ \u001b[2mNULL\u001b[0m              │ \u001b[2mNULL\u001b[0m            │ \u001b[2mNULL\u001b[0m              │ \u001b[2mNULL\u001b[0m                  │ \u001b[2mNULL\u001b[0m            │ \u001b[32m2018  \u001b[0m │\n",
       "│ \u001b[2mNULL\u001b[0m   │ \u001b[2mNULL\u001b[0m      │      \u001b[1;36m4000\u001b[0m │        \u001b[1;36m4000\u001b[0m │            \u001b[1;36m4000\u001b[0m │ \u001b[32m 36 months\u001b[0m │    \u001b[1;36m18.94\u001b[0m │      \u001b[1;36m146.51\u001b[0m │ \u001b[32mD     \u001b[0m │ \u001b[32mD2       \u001b[0m │ \u001b[32mIT Supervisor \u001b[0m │ \u001b[32m10+ years \u001b[0m │ \u001b[32mMORTGAGE      \u001b[0m │    \u001b[1;36m92000.0\u001b[0m │ \u001b[32mSource Verified    \u001b[0m │ \u001b[32mDec-2018\u001b[0m │ \u001b[32mCurrent    \u001b[0m │ \u001b[32mn         \u001b[0m │ \u001b[2mNULL\u001b[0m   │ \u001b[2mNULL\u001b[0m   │ \u001b[32mdebt_consolidation\u001b[0m │ \u001b[32mDebt consolidation\u001b[0m │ \u001b[32m985xx   \u001b[0m │ \u001b[32mWA        \u001b[0m │   \u001b[1;36m16.74\u001b[0m │           \u001b[1;36m0\u001b[0m │ \u001b[32mFeb-2006        \u001b[0m │              \u001b[1;36m0\u001b[0m │                   \u001b[2mNULL\u001b[0m │                   \u001b[2mNULL\u001b[0m │       \u001b[1;36m10\u001b[0m │       \u001b[1;36m0\u001b[0m │      \u001b[1;36m5468\u001b[0m │       \u001b[1;36m78.1\u001b[0m │        \u001b[1;36m13\u001b[0m │ \u001b[32mw                  \u001b[0m │   \u001b[1;36m3831.93\u001b[0m │       \u001b[1;36m3831.93\u001b[0m │      \u001b[1;36m286.71\u001b[0m │          \u001b[1;36m286.71\u001b[0m │          \u001b[1;36m168.07\u001b[0m │        \u001b[1;36m118.64\u001b[0m │                \u001b[1;36m0.0\u001b[0m │        \u001b[1;36m0.0\u001b[0m │                     \u001b[1;36m0.0\u001b[0m │ \u001b[32mFeb-2019    \u001b[0m │          \u001b[1;36m146.51\u001b[0m │ \u001b[32mMar-2019    \u001b[0m │ \u001b[32mFeb-2019          \u001b[0m │                          \u001b[1;36m0\u001b[0m │                        \u001b[2mNULL\u001b[0m │           \u001b[1;36m1\u001b[0m │ \u001b[32mIndividual      \u001b[0m │             \u001b[2mNULL\u001b[0m │      \u001b[2mNULL\u001b[0m │ \u001b[2mNULL\u001b[0m                      │              \u001b[1;36m0\u001b[0m │          \u001b[1;36m686\u001b[0m │      \u001b[1;36m305049\u001b[0m │           \u001b[1;36m1\u001b[0m │           \u001b[1;36m5\u001b[0m │           \u001b[1;36m3\u001b[0m │           \u001b[1;36m5\u001b[0m │                  \u001b[1;36m5\u001b[0m │        \u001b[1;36m30683\u001b[0m │      \u001b[1;36m68\u001b[0m │           \u001b[1;36m0\u001b[0m │           \u001b[1;36m0\u001b[0m │       \u001b[1;36m3761\u001b[0m │       \u001b[1;36m70\u001b[0m │             \u001b[1;36m7000\u001b[0m │      \u001b[1;36m2\u001b[0m │           \u001b[1;36m4\u001b[0m │            \u001b[1;36m3\u001b[0m │                    \u001b[1;36m5\u001b[0m │       \u001b[1;36m30505\u001b[0m │           \u001b[1;36m1239\u001b[0m │    \u001b[1;36m75.2\u001b[0m │                        \u001b[1;36m0\u001b[0m │           \u001b[1;36m0\u001b[0m │                 \u001b[1;36m62\u001b[0m │                  \u001b[1;36m154\u001b[0m │                    \u001b[1;36m64\u001b[0m │              \u001b[1;36m5\u001b[0m │        \u001b[1;36m3\u001b[0m │                   \u001b[1;36m64\u001b[0m │                     \u001b[2mNULL\u001b[0m │                     \u001b[1;36m5\u001b[0m │                           \u001b[2mNULL\u001b[0m │                     \u001b[1;36m0\u001b[0m │              \u001b[1;36m1\u001b[0m │               \u001b[1;36m2\u001b[0m │           \u001b[1;36m1\u001b[0m │         \u001b[1;36m2\u001b[0m │         \u001b[1;36m7\u001b[0m │             \u001b[1;36m2\u001b[0m │             \u001b[1;36m3\u001b[0m │                   \u001b[1;36m2\u001b[0m │       \u001b[1;36m10\u001b[0m │                \u001b[1;36m0\u001b[0m │            \u001b[1;36m0\u001b[0m │                  \u001b[1;36m0\u001b[0m │                  \u001b[1;36m3\u001b[0m │          \u001b[1;36m100.0\u001b[0m │            \u001b[1;36m100.0\u001b[0m │                    \u001b[1;36m0\u001b[0m │         \u001b[1;36m0\u001b[0m │          \u001b[1;36m385183\u001b[0m │             \u001b[1;36m36151\u001b[0m │           \u001b[1;36m5000\u001b[0m │                      \u001b[1;36m44984\u001b[0m │            \u001b[2mNULL\u001b[0m │ \u001b[2mNULL\u001b[0m                     │                   \u001b[2mNULL\u001b[0m │             \u001b[2mNULL\u001b[0m │             \u001b[2mNULL\u001b[0m │               \u001b[2mNULL\u001b[0m │                \u001b[2mNULL\u001b[0m │                  \u001b[2mNULL\u001b[0m │                             \u001b[2mNULL\u001b[0m │                               \u001b[2mNULL\u001b[0m │                                \u001b[2mNULL\u001b[0m │ \u001b[32mN            \u001b[0m │ \u001b[2mNULL\u001b[0m          │ \u001b[2mNULL\u001b[0m            │ \u001b[2mNULL\u001b[0m            │ \u001b[2mNULL\u001b[0m          │ \u001b[2mNULL\u001b[0m            │ \u001b[2mNULL\u001b[0m                │ \u001b[2mNULL\u001b[0m              │ \u001b[2mNULL\u001b[0m                    │ \u001b[2mNULL\u001b[0m            │ \u001b[2mNULL\u001b[0m         │ \u001b[2mNULL\u001b[0m                 │ \u001b[2mNULL\u001b[0m                                       │ \u001b[2mNULL\u001b[0m                           │ \u001b[2mNULL\u001b[0m                         │ \u001b[32mCash               \u001b[0m │ \u001b[32mN                   \u001b[0m │ \u001b[2mNULL\u001b[0m                      │ \u001b[2mNULL\u001b[0m              │ \u001b[2mNULL\u001b[0m            │ \u001b[2mNULL\u001b[0m              │ \u001b[2mNULL\u001b[0m                  │ \u001b[2mNULL\u001b[0m            │ \u001b[32m2018  \u001b[0m │\n",
       "│ \u001b[2mNULL\u001b[0m   │ \u001b[2mNULL\u001b[0m      │     \u001b[1;36m30000\u001b[0m │       \u001b[1;36m30000\u001b[0m │           \u001b[1;36m30000\u001b[0m │ \u001b[32m 60 months\u001b[0m │    \u001b[1;36m16.14\u001b[0m │      \u001b[1;36m731.78\u001b[0m │ \u001b[32mC     \u001b[0m │ \u001b[32mC4       \u001b[0m │ \u001b[32mMechanic      \u001b[0m │ \u001b[32m10+ years \u001b[0m │ \u001b[32mMORTGAGE      \u001b[0m │    \u001b[1;36m57250.0\u001b[0m │ \u001b[32mNot Verified       \u001b[0m │ \u001b[32mDec-2018\u001b[0m │ \u001b[32mCurrent    \u001b[0m │ \u001b[32mn         \u001b[0m │ \u001b[2mNULL\u001b[0m   │ \u001b[2mNULL\u001b[0m   │ \u001b[32mdebt_consolidation\u001b[0m │ \u001b[32mDebt consolidation\u001b[0m │ \u001b[32m212xx   \u001b[0m │ \u001b[32mMD        \u001b[0m │   \u001b[1;36m26.35\u001b[0m │           \u001b[1;36m0\u001b[0m │ \u001b[32mDec-2000        \u001b[0m │              \u001b[1;36m0\u001b[0m │                   \u001b[2mNULL\u001b[0m │                   \u001b[2mNULL\u001b[0m │       \u001b[1;36m12\u001b[0m │       \u001b[1;36m0\u001b[0m │       \u001b[1;36m829\u001b[0m │        \u001b[1;36m3.6\u001b[0m │        \u001b[1;36m26\u001b[0m │ \u001b[32mw                  \u001b[0m │  \u001b[1;36m29339.02\u001b[0m │      \u001b[1;36m29339.02\u001b[0m │     \u001b[1;36m1423.21\u001b[0m │         \u001b[1;36m1423.21\u001b[0m │          \u001b[1;36m660.98\u001b[0m │        \u001b[1;36m762.23\u001b[0m │                \u001b[1;36m0.0\u001b[0m │        \u001b[1;36m0.0\u001b[0m │                     \u001b[1;36m0.0\u001b[0m │ \u001b[32mFeb-2019    \u001b[0m │          \u001b[1;36m731.78\u001b[0m │ \u001b[32mMar-2019    \u001b[0m │ \u001b[32mFeb-2019          \u001b[0m │                          \u001b[1;36m0\u001b[0m │                        \u001b[2mNULL\u001b[0m │           \u001b[1;36m1\u001b[0m │ \u001b[32mIndividual      \u001b[0m │             \u001b[2mNULL\u001b[0m │      \u001b[2mNULL\u001b[0m │ \u001b[2mNULL\u001b[0m                      │              \u001b[1;36m0\u001b[0m │            \u001b[1;36m0\u001b[0m │      \u001b[1;36m116007\u001b[0m │           \u001b[1;36m3\u001b[0m │           \u001b[1;36m5\u001b[0m │           \u001b[1;36m3\u001b[0m │           \u001b[1;36m5\u001b[0m │                  \u001b[1;36m4\u001b[0m │        \u001b[1;36m28845\u001b[0m │      \u001b[1;36m89\u001b[0m │           \u001b[1;36m2\u001b[0m │           \u001b[1;36m4\u001b[0m │        \u001b[1;36m516\u001b[0m │       \u001b[1;36m54\u001b[0m │            \u001b[1;36m23100\u001b[0m │      \u001b[1;36m1\u001b[0m │           \u001b[1;36m0\u001b[0m │            \u001b[1;36m0\u001b[0m │                    \u001b[1;36m9\u001b[0m │        \u001b[1;36m9667\u001b[0m │           \u001b[1;36m8471\u001b[0m │     \u001b[1;36m8.9\u001b[0m │                        \u001b[1;36m0\u001b[0m │           \u001b[1;36m0\u001b[0m │                 \u001b[1;36m53\u001b[0m │                  \u001b[1;36m216\u001b[0m │                     \u001b[1;36m2\u001b[0m │              \u001b[1;36m2\u001b[0m │        \u001b[1;36m2\u001b[0m │                    \u001b[1;36m2\u001b[0m │                     \u001b[2mNULL\u001b[0m │                    \u001b[1;36m13\u001b[0m │                           \u001b[2mNULL\u001b[0m │                     \u001b[1;36m0\u001b[0m │              \u001b[1;36m2\u001b[0m │               \u001b[1;36m2\u001b[0m │           \u001b[1;36m3\u001b[0m │         \u001b[1;36m8\u001b[0m │         \u001b[1;36m9\u001b[0m │             \u001b[1;36m6\u001b[0m │            \u001b[1;36m15\u001b[0m │                   \u001b[1;36m2\u001b[0m │       \u001b[1;36m12\u001b[0m │                \u001b[1;36m0\u001b[0m │            \u001b[1;36m0\u001b[0m │                  \u001b[1;36m0\u001b[0m │                  \u001b[1;36m5\u001b[0m │           \u001b[1;36m92.3\u001b[0m │              \u001b[1;36m0.0\u001b[0m │                    \u001b[1;36m0\u001b[0m │         \u001b[1;36m0\u001b[0m │          \u001b[1;36m157548\u001b[0m │             \u001b[1;36m29674\u001b[0m │           \u001b[1;36m9300\u001b[0m │                      \u001b[1;36m32332\u001b[0m │            \u001b[2mNULL\u001b[0m │ \u001b[2mNULL\u001b[0m                     │                   \u001b[2mNULL\u001b[0m │             \u001b[2mNULL\u001b[0m │             \u001b[2mNULL\u001b[0m │               \u001b[2mNULL\u001b[0m │                \u001b[2mNULL\u001b[0m │                  \u001b[2mNULL\u001b[0m │                             \u001b[2mNULL\u001b[0m │                               \u001b[2mNULL\u001b[0m │                                \u001b[2mNULL\u001b[0m │ \u001b[32mN            \u001b[0m │ \u001b[2mNULL\u001b[0m          │ \u001b[2mNULL\u001b[0m            │ \u001b[2mNULL\u001b[0m            │ \u001b[2mNULL\u001b[0m          │ \u001b[2mNULL\u001b[0m            │ \u001b[2mNULL\u001b[0m                │ \u001b[2mNULL\u001b[0m              │ \u001b[2mNULL\u001b[0m                    │ \u001b[2mNULL\u001b[0m            │ \u001b[2mNULL\u001b[0m         │ \u001b[2mNULL\u001b[0m                 │ \u001b[2mNULL\u001b[0m                                       │ \u001b[2mNULL\u001b[0m                           │ \u001b[2mNULL\u001b[0m                         │ \u001b[32mCash               \u001b[0m │ \u001b[32mN                   \u001b[0m │ \u001b[2mNULL\u001b[0m                      │ \u001b[2mNULL\u001b[0m              │ \u001b[2mNULL\u001b[0m            │ \u001b[2mNULL\u001b[0m              │ \u001b[2mNULL\u001b[0m                  │ \u001b[2mNULL\u001b[0m            │ \u001b[32m2018  \u001b[0m │\n",
       "└────────┴───────────┴───────────┴─────────────┴─────────────────┴────────────┴──────────┴─────────────┴────────┴───────────┴────────────────┴────────────┴────────────────┴────────────┴─────────────────────┴──────────┴─────────────┴────────────┴────────┴────────┴────────────────────┴────────────────────┴──────────┴────────────┴─────────┴─────────────┴──────────────────┴────────────────┴────────────────────────┴────────────────────────┴──────────┴─────────┴───────────┴────────────┴───────────┴─────────────────────┴───────────┴───────────────┴─────────────┴─────────────────┴─────────────────┴───────────────┴────────────────────┴────────────┴─────────────────────────┴──────────────┴─────────────────┴──────────────┴────────────────────┴────────────────────────────┴─────────────────────────────┴─────────────┴──────────────────┴──────────────────┴───────────┴───────────────────────────┴────────────────┴──────────────┴─────────────┴─────────────┴─────────────┴─────────────┴─────────────┴────────────────────┴──────────────┴─────────┴─────────────┴─────────────┴────────────┴──────────┴──────────────────┴────────┴─────────────┴──────────────┴──────────────────────┴─────────────┴────────────────┴─────────┴──────────────────────────┴─────────────┴────────────────────┴──────────────────────┴───────────────────────┴────────────────┴──────────┴──────────────────────┴──────────────────────────┴───────────────────────┴────────────────────────────────┴───────────────────────┴────────────────┴─────────────────┴─────────────┴───────────┴───────────┴───────────────┴───────────────┴─────────────────────┴──────────┴──────────────────┴──────────────┴────────────────────┴────────────────────┴────────────────┴──────────────────┴──────────────────────┴───────────┴─────────────────┴───────────────────┴────────────────┴────────────────────────────┴─────────────────┴──────────────────────────┴────────────────────────┴──────────────────┴──────────────────┴────────────────────┴─────────────────────┴───────────────────────┴──────────────────────────────────┴────────────────────────────────────┴─────────────────────────────────────┴───────────────┴───────────────┴─────────────────┴─────────────────┴───────────────┴─────────────────┴─────────────────────┴───────────────────┴─────────────────────────┴─────────────────┴──────────────┴──────────────────────┴────────────────────────────────────────────┴────────────────────────────────┴──────────────────────────────┴─────────────────────┴──────────────────────┴───────────────────────────┴───────────────────┴─────────────────┴───────────────────┴───────────────────────┴─────────────────┴────────┘"
      ]
     },
     "execution_count": 57,
     "metadata": {},
     "output_type": "execute_result"
    }
   ],
   "source": [
    "df.head(5)"
   ]
  },
  {
   "cell_type": "markdown",
   "metadata": {},
   "source": [
    "|   lib  | tamanho arquivo | tamanho memoria | tempo de carregamento | engine |\n",
    "|--------|-----------------|-----------------|-----------------------|--------|\n",
    "| pandas | 60.5 MB         | 000.00 MB       | 00:9 s                | polars   |\n",
    "| pandas | 60.5 MB         | 000.00 MB       | 00:00 s               | none   |\n",
    "| pandas | 60.5 MB         | 000.00 MB       | 00:00 s               | none   |"
   ]
  },
  {
   "cell_type": "markdown",
   "metadata": {},
   "source": [
    "# Modin"
   ]
  },
  {
   "cell_type": "code",
   "execution_count": null,
   "metadata": {},
   "outputs": [],
   "source": [
    "# DOCS\n",
    "# https://modin.readthedocs.io/en/stable/\n",
    "# https://modin.readthedocs.io/en/stable/usage_guide/index.html\n",
    "# https://modin.readthedocs.io/en/stable/getting_started/why_modin/why_modin.html\n",
    "# https://github.com/modin-project/modin/blob/main/examples/tutorial/jupyter/execution/pandas_on_dask/local/exercise_1.ipynb\n",
    "# https://github.com/modin-project/modin/blob/main/examples/tutorial/jupyter/execution/pandas_on_ray/local/exercise_1.ipynb\n",
    "# https://github.com/modin-project/modin/blob/main/examples/modin-scikit-learn-example.ipynb\n",
    "\n",
    "# INSTALL\n",
    "# pip install modin\n",
    "# pip install \"modin[all]\""
   ]
  },
  {
   "cell_type": "code",
   "execution_count": 69,
   "metadata": {},
   "outputs": [],
   "source": [
    "import modin\n",
    "import modin.config as cfg\n",
    "import modin.pandas as pd\n",
    "import pandas as pd"
   ]
  },
  {
   "cell_type": "code",
   "execution_count": 71,
   "metadata": {},
   "outputs": [
    {
     "name": "stdout",
     "output_type": "stream",
     "text": [
      "Dask\n",
      "2\n"
     ]
    }
   ],
   "source": [
    "print(modin.config.Engine.get())\n",
    "print(modin.config.NPartitions.get())"
   ]
  },
  {
   "cell_type": "code",
   "execution_count": null,
   "metadata": {},
   "outputs": [],
   "source": [
    "# Opcoes: dask, ray\n",
    "cfg.Engine.put(\"dask\")\n",
    "# os.environ[\"MODIN_ENGINE\"] = \"dask\""
   ]
  },
  {
   "cell_type": "code",
   "execution_count": null,
   "metadata": {},
   "outputs": [],
   "source": [
    "# modin.config.NPartitions.put(16)"
   ]
  },
  {
   "cell_type": "code",
   "execution_count": 65,
   "metadata": {},
   "outputs": [],
   "source": [
    "df = pd.read_parquet(path=s3_file, engine=\"auto\")"
   ]
  },
  {
   "cell_type": "code",
   "execution_count": 66,
   "metadata": {},
   "outputs": [
    {
     "data": {
      "text/html": [
       "<div>\n",
       "<style scoped>\n",
       "    .dataframe tbody tr th:only-of-type {\n",
       "        vertical-align: middle;\n",
       "    }\n",
       "\n",
       "    .dataframe tbody tr th {\n",
       "        vertical-align: top;\n",
       "    }\n",
       "\n",
       "    .dataframe thead th {\n",
       "        text-align: right;\n",
       "    }\n",
       "</style>\n",
       "<table border=\"1\" class=\"dataframe\">\n",
       "  <thead>\n",
       "    <tr style=\"text-align: right;\">\n",
       "      <th></th>\n",
       "      <th>id</th>\n",
       "      <th>member_id</th>\n",
       "      <th>loan_amnt</th>\n",
       "      <th>funded_amnt</th>\n",
       "      <th>funded_amnt_inv</th>\n",
       "      <th>term</th>\n",
       "      <th>int_rate</th>\n",
       "      <th>installment</th>\n",
       "      <th>grade</th>\n",
       "      <th>sub_grade</th>\n",
       "      <th>...</th>\n",
       "      <th>hardship_last_payment_amount</th>\n",
       "      <th>disbursement_method</th>\n",
       "      <th>debt_settlement_flag</th>\n",
       "      <th>debt_settlement_flag_date</th>\n",
       "      <th>settlement_status</th>\n",
       "      <th>settlement_date</th>\n",
       "      <th>settlement_amount</th>\n",
       "      <th>settlement_percentage</th>\n",
       "      <th>settlement_term</th>\n",
       "      <th>year</th>\n",
       "    </tr>\n",
       "  </thead>\n",
       "  <tbody>\n",
       "    <tr>\n",
       "      <th>0</th>\n",
       "      <td>None</td>\n",
       "      <td>None</td>\n",
       "      <td>2500</td>\n",
       "      <td>2500</td>\n",
       "      <td>2500</td>\n",
       "      <td>36 months</td>\n",
       "      <td>13.56</td>\n",
       "      <td>84.92</td>\n",
       "      <td>C</td>\n",
       "      <td>C1</td>\n",
       "      <td>...</td>\n",
       "      <td>None</td>\n",
       "      <td>Cash</td>\n",
       "      <td>N</td>\n",
       "      <td>None</td>\n",
       "      <td>None</td>\n",
       "      <td>None</td>\n",
       "      <td>None</td>\n",
       "      <td>None</td>\n",
       "      <td>None</td>\n",
       "      <td>2018</td>\n",
       "    </tr>\n",
       "    <tr>\n",
       "      <th>1</th>\n",
       "      <td>None</td>\n",
       "      <td>None</td>\n",
       "      <td>30000</td>\n",
       "      <td>30000</td>\n",
       "      <td>30000</td>\n",
       "      <td>60 months</td>\n",
       "      <td>18.94</td>\n",
       "      <td>777.23</td>\n",
       "      <td>D</td>\n",
       "      <td>D2</td>\n",
       "      <td>...</td>\n",
       "      <td>None</td>\n",
       "      <td>Cash</td>\n",
       "      <td>N</td>\n",
       "      <td>None</td>\n",
       "      <td>None</td>\n",
       "      <td>None</td>\n",
       "      <td>None</td>\n",
       "      <td>None</td>\n",
       "      <td>None</td>\n",
       "      <td>2018</td>\n",
       "    </tr>\n",
       "    <tr>\n",
       "      <th>2</th>\n",
       "      <td>None</td>\n",
       "      <td>None</td>\n",
       "      <td>5000</td>\n",
       "      <td>5000</td>\n",
       "      <td>5000</td>\n",
       "      <td>36 months</td>\n",
       "      <td>17.97</td>\n",
       "      <td>180.69</td>\n",
       "      <td>D</td>\n",
       "      <td>D1</td>\n",
       "      <td>...</td>\n",
       "      <td>None</td>\n",
       "      <td>Cash</td>\n",
       "      <td>N</td>\n",
       "      <td>None</td>\n",
       "      <td>None</td>\n",
       "      <td>None</td>\n",
       "      <td>None</td>\n",
       "      <td>None</td>\n",
       "      <td>None</td>\n",
       "      <td>2018</td>\n",
       "    </tr>\n",
       "    <tr>\n",
       "      <th>3</th>\n",
       "      <td>None</td>\n",
       "      <td>None</td>\n",
       "      <td>4000</td>\n",
       "      <td>4000</td>\n",
       "      <td>4000</td>\n",
       "      <td>36 months</td>\n",
       "      <td>18.94</td>\n",
       "      <td>146.51</td>\n",
       "      <td>D</td>\n",
       "      <td>D2</td>\n",
       "      <td>...</td>\n",
       "      <td>None</td>\n",
       "      <td>Cash</td>\n",
       "      <td>N</td>\n",
       "      <td>None</td>\n",
       "      <td>None</td>\n",
       "      <td>None</td>\n",
       "      <td>None</td>\n",
       "      <td>None</td>\n",
       "      <td>None</td>\n",
       "      <td>2018</td>\n",
       "    </tr>\n",
       "    <tr>\n",
       "      <th>4</th>\n",
       "      <td>None</td>\n",
       "      <td>None</td>\n",
       "      <td>30000</td>\n",
       "      <td>30000</td>\n",
       "      <td>30000</td>\n",
       "      <td>60 months</td>\n",
       "      <td>16.14</td>\n",
       "      <td>731.78</td>\n",
       "      <td>C</td>\n",
       "      <td>C4</td>\n",
       "      <td>...</td>\n",
       "      <td>None</td>\n",
       "      <td>Cash</td>\n",
       "      <td>N</td>\n",
       "      <td>None</td>\n",
       "      <td>None</td>\n",
       "      <td>None</td>\n",
       "      <td>None</td>\n",
       "      <td>None</td>\n",
       "      <td>None</td>\n",
       "      <td>2018</td>\n",
       "    </tr>\n",
       "  </tbody>\n",
       "</table>\n",
       "<p>5 rows x 146 columns</p>\n",
       "</div>"
      ],
      "text/plain": [
       "     id member_id  loan_amnt  funded_amnt  funded_amnt_inv        term  \\\n",
       "0  None      None       2500         2500             2500   36 months   \n",
       "1  None      None      30000        30000            30000   60 months   \n",
       "2  None      None       5000         5000             5000   36 months   \n",
       "3  None      None       4000         4000             4000   36 months   \n",
       "4  None      None      30000        30000            30000   60 months   \n",
       "\n",
       "   int_rate  installment grade sub_grade  ... hardship_last_payment_amount  \\\n",
       "0     13.56        84.92     C        C1  ...                         None   \n",
       "1     18.94       777.23     D        D2  ...                         None   \n",
       "2     17.97       180.69     D        D1  ...                         None   \n",
       "3     18.94       146.51     D        D2  ...                         None   \n",
       "4     16.14       731.78     C        C4  ...                         None   \n",
       "\n",
       "  disbursement_method debt_settlement_flag debt_settlement_flag_date  \\\n",
       "0                Cash                    N                      None   \n",
       "1                Cash                    N                      None   \n",
       "2                Cash                    N                      None   \n",
       "3                Cash                    N                      None   \n",
       "4                Cash                    N                      None   \n",
       "\n",
       "  settlement_status settlement_date settlement_amount settlement_percentage  \\\n",
       "0              None            None              None                  None   \n",
       "1              None            None              None                  None   \n",
       "2              None            None              None                  None   \n",
       "3              None            None              None                  None   \n",
       "4              None            None              None                  None   \n",
       "\n",
       "  settlement_term  year  \n",
       "0            None  2018  \n",
       "1            None  2018  \n",
       "2            None  2018  \n",
       "3            None  2018  \n",
       "4            None  2018  \n",
       "\n",
       "[5 rows x 146 columns]"
      ]
     },
     "execution_count": 66,
     "metadata": {},
     "output_type": "execute_result"
    }
   ],
   "source": [
    "df.head(5)"
   ]
  },
  {
   "cell_type": "markdown",
   "metadata": {},
   "source": [
    "# Ray"
   ]
  },
  {
   "cell_type": "code",
   "execution_count": null,
   "metadata": {},
   "outputs": [],
   "source": [
    "# DOCS\n",
    "# https://docs.ray.io/en/latest/\n",
    "# https://docs.ray.io/en/latest/data/data.html\n",
    "# https://docs.ray.io/en/latest/data/loading-data.html\n",
    "# https://docs.ray.io/en/latest/data/api/api.html\n",
    "\n",
    "# INSTALL\n",
    "# pip install 'ray[data]'"
   ]
  },
  {
   "cell_type": "code",
   "execution_count": 25,
   "metadata": {},
   "outputs": [],
   "source": [
    "import ray\n",
    "import ray.data as rd"
   ]
  },
  {
   "cell_type": "code",
   "execution_count": 26,
   "metadata": {},
   "outputs": [
    {
     "name": "stderr",
     "output_type": "stream",
     "text": [
      "2024-11-16 22:40:18,043\tINFO worker.py:1810 -- Started a local Ray instance. View the dashboard at \u001b[1m\u001b[32mhttp://127.0.0.1:8265 \u001b[39m\u001b[22m\n"
     ]
    },
    {
     "data": {
      "application/vnd.jupyter.widget-view+json": {
       "model_id": "38782730c03546c38aaa4f3d4c20ba93",
       "version_major": 2,
       "version_minor": 0
      },
      "text/html": [
       "<div class=\"lm-Widget p-Widget lm-Panel p-Panel jp-Cell-outputWrapper\">\n",
       "    <div style=\"margin-left: 50px;display: flex;flex-direction: row;align-items: center\">\n",
       "        <div class=\"jp-RenderedHTMLCommon\" style=\"display: flex; flex-direction: row;\">\n",
       "  <svg viewBox=\"0 0 567 224\" fill=\"none\" xmlns=\"http://www.w3.org/2000/svg\" style=\"height: 3em;\">\n",
       "    <g clip-path=\"url(#clip0_4338_178347)\">\n",
       "        <path d=\"M341.29 165.561H355.29L330.13 129.051C345.63 123.991 354.21 112.051 354.21 94.2307C354.21 71.3707 338.72 58.1807 311.88 58.1807H271V165.561H283.27V131.661H311.8C314.25 131.661 316.71 131.501 319.01 131.351L341.25 165.561H341.29ZM283.29 119.851V70.0007H311.82C331.3 70.0007 342.34 78.2907 342.34 94.5507C342.34 111.271 331.34 119.861 311.82 119.861L283.29 119.851ZM451.4 138.411L463.4 165.561H476.74L428.74 58.1807H416L367.83 165.561H380.83L392.83 138.411H451.4ZM446.19 126.601H398L422 72.1407L446.24 126.601H446.19ZM526.11 128.741L566.91 58.1807H554.35L519.99 114.181L485.17 58.1807H472.44L514.01 129.181V165.541H526.13V128.741H526.11Z\" fill=\"var(--jp-ui-font-color0)\"/>\n",
       "        <path d=\"M82.35 104.44C84.0187 97.8827 87.8248 92.0678 93.1671 87.9146C98.5094 83.7614 105.083 81.5067 111.85 81.5067C118.617 81.5067 125.191 83.7614 130.533 87.9146C135.875 92.0678 139.681 97.8827 141.35 104.44H163.75C164.476 101.562 165.622 98.8057 167.15 96.2605L127.45 56.5605C121.071 60.3522 113.526 61.6823 106.235 60.3005C98.9443 58.9187 92.4094 54.9203 87.8602 49.0574C83.3109 43.1946 81.0609 35.8714 81.5332 28.4656C82.0056 21.0599 85.1679 14.0819 90.4252 8.8446C95.6824 3.60726 102.672 0.471508 110.08 0.0272655C117.487 -0.416977 124.802 1.86091 130.647 6.4324C136.493 11.0039 140.467 17.5539 141.821 24.8501C143.175 32.1463 141.816 39.6859 138 46.0505L177.69 85.7505C182.31 82.9877 187.58 81.4995 192.962 81.4375C198.345 81.3755 203.648 82.742 208.33 85.3976C213.012 88.0532 216.907 91.9029 219.616 96.5544C222.326 101.206 223.753 106.492 223.753 111.875C223.753 117.258 222.326 122.545 219.616 127.197C216.907 131.848 213.012 135.698 208.33 138.353C203.648 141.009 198.345 142.375 192.962 142.313C187.58 142.251 182.31 140.763 177.69 138L138 177.7C141.808 184.071 143.155 191.614 141.79 198.91C140.424 206.205 136.44 212.75 130.585 217.313C124.731 221.875 117.412 224.141 110.004 223.683C102.596 223.226 95.6103 220.077 90.3621 214.828C85.1139 209.58 81.9647 202.595 81.5072 195.187C81.0497 187.779 83.3154 180.459 87.878 174.605C92.4405 168.751 98.9853 164.766 106.281 163.401C113.576 162.035 121.119 163.383 127.49 167.19L167.19 127.49C165.664 124.941 164.518 122.182 163.79 119.3H141.39C139.721 125.858 135.915 131.673 130.573 135.826C125.231 139.98 118.657 142.234 111.89 142.234C105.123 142.234 98.5494 139.98 93.2071 135.826C87.8648 131.673 84.0587 125.858 82.39 119.3H60C58.1878 126.495 53.8086 132.78 47.6863 136.971C41.5641 141.163 34.1211 142.972 26.7579 142.059C19.3947 141.146 12.6191 137.574 7.70605 132.014C2.79302 126.454 0.0813599 119.29 0.0813599 111.87C0.0813599 104.451 2.79302 97.2871 7.70605 91.7272C12.6191 86.1673 19.3947 82.5947 26.7579 81.6817C34.1211 80.7686 41.5641 82.5781 47.6863 86.7696C53.8086 90.9611 58.1878 97.2456 60 104.44H82.35ZM100.86 204.32C103.407 206.868 106.759 208.453 110.345 208.806C113.93 209.159 117.527 208.258 120.522 206.256C123.517 204.254 125.725 201.276 126.771 197.828C127.816 194.38 127.633 190.677 126.253 187.349C124.874 184.021 122.383 181.274 119.205 179.577C116.027 177.88 112.359 177.337 108.826 178.042C105.293 178.746 102.113 180.654 99.8291 183.44C97.5451 186.226 96.2979 189.718 96.3 193.32C96.2985 195.364 96.7006 197.388 97.4831 199.275C98.2656 201.163 99.4132 202.877 100.86 204.32ZM204.32 122.88C206.868 120.333 208.453 116.981 208.806 113.396C209.159 109.811 208.258 106.214 206.256 103.219C204.254 100.223 201.275 98.0151 197.827 96.97C194.38 95.9249 190.676 96.1077 187.348 97.4873C184.02 98.8669 181.274 101.358 179.577 104.536C177.879 107.714 177.337 111.382 178.041 114.915C178.746 118.448 180.653 121.627 183.439 123.911C186.226 126.195 189.717 127.443 193.32 127.44C195.364 127.443 197.388 127.042 199.275 126.259C201.163 125.476 202.878 124.328 204.32 122.88ZM122.88 19.4205C120.333 16.8729 116.981 15.2876 113.395 14.9347C109.81 14.5817 106.213 15.483 103.218 17.4849C100.223 19.4868 98.0146 22.4654 96.9696 25.9131C95.9245 29.3608 96.1073 33.0642 97.4869 36.3922C98.8665 39.7202 101.358 42.4668 104.535 44.1639C107.713 45.861 111.381 46.4036 114.914 45.6992C118.447 44.9949 121.627 43.0871 123.911 40.301C126.195 37.515 127.442 34.0231 127.44 30.4205C127.44 28.3772 127.038 26.3539 126.255 24.4664C125.473 22.5788 124.326 20.8642 122.88 19.4205ZM19.42 100.86C16.8725 103.408 15.2872 106.76 14.9342 110.345C14.5813 113.93 15.4826 117.527 17.4844 120.522C19.4863 123.518 22.4649 125.726 25.9127 126.771C29.3604 127.816 33.0638 127.633 36.3918 126.254C39.7198 124.874 42.4664 122.383 44.1635 119.205C45.8606 116.027 46.4032 112.359 45.6988 108.826C44.9944 105.293 43.0866 102.114 40.3006 99.8296C37.5145 97.5455 34.0227 96.2983 30.42 96.3005C26.2938 96.3018 22.337 97.9421 19.42 100.86ZM100.86 100.86C98.3125 103.408 96.7272 106.76 96.3742 110.345C96.0213 113.93 96.9226 117.527 98.9244 120.522C100.926 123.518 103.905 125.726 107.353 126.771C110.8 127.816 114.504 127.633 117.832 126.254C121.16 124.874 123.906 122.383 125.604 119.205C127.301 116.027 127.843 112.359 127.139 108.826C126.434 105.293 124.527 102.114 121.741 99.8296C118.955 97.5455 115.463 96.2983 111.86 96.3005C109.817 96.299 107.793 96.701 105.905 97.4835C104.018 98.2661 102.303 99.4136 100.86 100.86Z\" fill=\"#00AEEF\"/>\n",
       "    </g>\n",
       "    <defs>\n",
       "        <clipPath id=\"clip0_4338_178347\">\n",
       "            <rect width=\"566.93\" height=\"223.75\" fill=\"white\"/>\n",
       "        </clipPath>\n",
       "    </defs>\n",
       "  </svg>\n",
       "</div>\n",
       "\n",
       "        <table class=\"jp-RenderedHTMLCommon\" style=\"border-collapse: collapse;color: var(--jp-ui-font-color1);font-size: var(--jp-ui-font-size1);\">\n",
       "    <tr>\n",
       "        <td style=\"text-align: left\"><b>Python version:</b></td>\n",
       "        <td style=\"text-align: left\"><b>3.11.10</b></td>\n",
       "    </tr>\n",
       "    <tr>\n",
       "        <td style=\"text-align: left\"><b>Ray version:</b></td>\n",
       "        <td style=\"text-align: left\"><b>2.39.0</b></td>\n",
       "    </tr>\n",
       "    <tr>\n",
       "    <td style=\"text-align: left\"><b>Dashboard:</b></td>\n",
       "    <td style=\"text-align: left\"><b><a href=\"http://127.0.0.1:8265\" target=\"_blank\">http://127.0.0.1:8265</a></b></td>\n",
       "</tr>\n",
       "\n",
       "</table>\n",
       "\n",
       "    </div>\n",
       "</div>\n"
      ],
      "text/plain": [
       "RayContext(dashboard_url='127.0.0.1:8265', python_version='3.11.10', ray_version='2.39.0', ray_commit='5a6c33536df3f6ed5e987a169b82739bb7e3d80e')"
      ]
     },
     "execution_count": 26,
     "metadata": {},
     "output_type": "execute_result"
    }
   ],
   "source": [
    "ray.init()"
   ]
  },
  {
   "cell_type": "code",
   "execution_count": null,
   "metadata": {},
   "outputs": [],
   "source": [
    "# ds = ray.data.from_pandas(df)\n",
    "# ds = ray.data.from_dask(ddf)\n",
    "# ds = ray.data.from_spark(df)\n",
    "# ds = ray.data.from_modin(mdf)\n",
    "# ds = ray.data.from_mars(mdf)\n",
    "# ds = ray.data.from_arrow(table)\n",
    "# dataset = ray.data.read_sql(\"SELECT * FROM movie\", conn)"
   ]
  },
  {
   "cell_type": "code",
   "execution_count": 27,
   "metadata": {},
   "outputs": [
    {
     "data": {
      "application/vnd.jupyter.widget-view+json": {
       "model_id": "d0a2e3d36ca74bd79e9998d8eca9b3da",
       "version_major": 2,
       "version_minor": 0
      },
      "text/plain": [
       "Parquet Files Sample 0:   0%|          | 0.00/1.00 [00:00<?, ? file/s]"
      ]
     },
     "metadata": {},
     "output_type": "display_data"
    }
   ],
   "source": [
    "ds = ray.data.read_parquet(s3_file)"
   ]
  },
  {
   "cell_type": "code",
   "execution_count": 29,
   "metadata": {},
   "outputs": [
    {
     "name": "stderr",
     "output_type": "stream",
     "text": [
      "2024-11-16 22:44:39,487\tINFO streaming_executor.py:108 -- Starting execution of Dataset. Full logs are in /tmp/ray/session_2024-11-16_22-40-16_269828_403022/logs/ray-data\n",
      "2024-11-16 22:44:39,487\tINFO streaming_executor.py:109 -- Execution plan of Dataset: InputDataBuffer[Input] -> TaskPoolMapOperator[ReadParquet]\n"
     ]
    },
    {
     "data": {
      "application/vnd.jupyter.widget-view+json": {
       "model_id": "0d057bca3a3a4cba98191f6045777f1f",
       "version_major": 2,
       "version_minor": 0
      },
      "text/plain": [
       "Running 0: 0.00 row [00:00, ? row/s]"
      ]
     },
     "metadata": {},
     "output_type": "display_data"
    },
    {
     "data": {
      "application/vnd.jupyter.widget-view+json": {
       "model_id": "7e4b8100fbbc403aa94728afc45f3c6e",
       "version_major": 2,
       "version_minor": 0
      },
      "text/plain": [
       "- ReadParquet->SplitBlocks(50) 1: 0.00 row [00:00, ? row/s]"
      ]
     },
     "metadata": {},
     "output_type": "display_data"
    },
    {
     "data": {
      "application/vnd.jupyter.widget-view+json": {
       "model_id": "2aa99b10718b4e52ae7e0913c4a29ffe",
       "version_major": 2,
       "version_minor": 0
      },
      "text/plain": [
       "MaterializedDataset(\n",
       "   num_blocks=250,\n",
       "   num_rows=495242,\n",
       "   schema={\n",
       "      id: string,\n",
       "      member_id: string,\n",
       "      loan_amnt: int64,\n",
       "      funded_amnt: int64,\n",
       "      funded_amnt_inv: int64,\n",
       "      term: string,\n",
       "      int_rate: double,\n",
       "      installment: double,\n",
       "      grade: string,\n",
       "      sub_grade: string,\n",
       "      emp_title: string,\n",
       "      emp_length: string,\n",
       "      home_ownership: string,\n",
       "      annual_inc: double,\n",
       "      verification_status: string,\n",
       "      issue_d: string,\n",
       "      loan_status: string,\n",
       "      pymnt_plan: string,\n",
       "      url: string,\n",
       "      desc: string,\n",
       "      purpose: string,\n",
       "      title: string,\n",
       "      zip_code: string,\n",
       "      addr_state: string,\n",
       "      dti: double,\n",
       "      delinq_2yrs: int64,\n",
       "      earliest_cr_line: string,\n",
       "      inq_last_6mths: int64,\n",
       "      mths_since_last_delinq: int64,\n",
       "      mths_since_last_record: int64,\n",
       "      open_acc: int64,\n",
       "      pub_rec: int64,\n",
       "      revol_bal: int64,\n",
       "      revol_util: double,\n",
       "      total_acc: int64,\n",
       "      initial_list_status: string,\n",
       "      out_prncp: double,\n",
       "      out_prncp_inv: double,\n",
       "      total_pymnt: double,\n",
       "      total_pymnt_inv: double,\n",
       "      total_rec_prncp: double,\n",
       "      total_rec_int: double,\n",
       "      total_rec_late_fee: double,\n",
       "      recoveries: double,\n",
       "      collection_recovery_fee: double,\n",
       "      last_pymnt_d: string,\n",
       "      last_pymnt_amnt: double,\n",
       "      next_pymnt_d: string,\n",
       "      last_credit_pull_d: string,\n",
       "      collections_12_mths_ex_med: int64,\n",
       "      mths_since_last_major_derog: int64,\n",
       "      policy_code: int64,\n",
       "      application_type: string,\n",
       "      annual_inc_joint: double,\n",
       "      dti_joint: double,\n",
       "      verification_status_joint: string,\n",
       "      acc_now_delinq: int64,\n",
       "      tot_coll_amt: int64,\n",
       "      tot_cur_bal: int64,\n",
       "      open_acc_6m: int64,\n",
       "      open_act_il: int64,\n",
       "      open_il_12m: int64,\n",
       "      open_il_24m: int64,\n",
       "      mths_since_rcnt_il: int64,\n",
       "      total_bal_il: int64,\n",
       "      il_util: int64,\n",
       "      open_rv_12m: int64,\n",
       "      open_rv_24m: int64,\n",
       "      max_bal_bc: int64,\n",
       "      all_util: int64,\n",
       "      total_rev_hi_lim: int64,\n",
       "      inq_fi: int64,\n",
       "      total_cu_tl: int64,\n",
       "      inq_last_12m: int64,\n",
       "      acc_open_past_24mths: int64,\n",
       "      avg_cur_bal: int64,\n",
       "      bc_open_to_buy: int64,\n",
       "      bc_util: double,\n",
       "      chargeoff_within_12_mths: int64,\n",
       "      delinq_amnt: int64,\n",
       "      mo_sin_old_il_acct: int64,\n",
       "      mo_sin_old_rev_tl_op: int64,\n",
       "      mo_sin_rcnt_rev_tl_op: int64,\n",
       "      mo_sin_rcnt_tl: int64,\n",
       "      mort_acc: int64,\n",
       "      mths_since_recent_bc: int64,\n",
       "      mths_since_recent_bc_dlq: int64,\n",
       "      mths_since_recent_inq: int64,\n",
       "      mths_since_recent_revol_delinq: int64,\n",
       "      num_accts_ever_120_pd: int64,\n",
       "      num_actv_bc_tl: int64,\n",
       "      num_actv_rev_tl: int64,\n",
       "      num_bc_sats: int64,\n",
       "      num_bc_tl: int64,\n",
       "      num_il_tl: int64,\n",
       "      num_op_rev_tl: int64,\n",
       "      num_rev_accts: int64,\n",
       "      num_rev_tl_bal_gt_0: int64,\n",
       "      num_sats: int64,\n",
       "      num_tl_120dpd_2m: int64,\n",
       "      num_tl_30dpd: int64,\n",
       "      num_tl_90g_dpd_24m: int64,\n",
       "      num_tl_op_past_12m: int64,\n",
       "      pct_tl_nvr_dlq: double,\n",
       "      percent_bc_gt_75: double,\n",
       "      pub_rec_bankruptcies: int64,\n",
       "      tax_liens: int64,\n",
       "      tot_hi_cred_lim: int64,\n",
       "      total_bal_ex_mort: int64,\n",
       "      total_bc_limit: int64,\n",
       "      total_il_high_credit_limit: int64,\n",
       "      revol_bal_joint: int64,\n",
       "      sec_app_earliest_cr_line: string,\n",
       "      sec_app_inq_last_6mths: int64,\n",
       "      sec_app_mort_acc: int64,\n",
       "      sec_app_open_acc: int64,\n",
       "      sec_app_revol_util: double,\n",
       "      sec_app_open_act_il: int64,\n",
       "      sec_app_num_rev_accts: int64,\n",
       "      sec_app_chargeoff_within_12_mths: int64,\n",
       "      sec_app_collections_12_mths_ex_med: int64,\n",
       "      sec_app_mths_since_last_major_derog: int64,\n",
       "      hardship_flag: string,\n",
       "      hardship_type: string,\n",
       "      hardship_reason: string,\n",
       "      hardship_status: string,\n",
       "      deferral_term: string,\n",
       "      hardship_amount: string,\n",
       "      hardship_start_date: string,\n",
       "      hardship_end_date: string,\n",
       "      payment_plan_start_date: string,\n",
       "      hardship_length: string,\n",
       "      hardship_dpd: string,\n",
       "      hardship_loan_status: string,\n",
       "      orig_projected_additional_accrued_interest: string,\n",
       "      hardship_payoff_balance_amount: string,\n",
       "      hardship_last_payment_amount: string,\n",
       "      disbursement_method: string,\n",
       "      debt_settlement_flag: string,\n",
       "      debt_settlement_flag_date: string,\n",
       "      settlement_status: string,\n",
       "      settlement_date: string,\n",
       "      settlement_amount: string,\n",
       "      settlement_percentage: string,\n",
       "      settlement_term: string,\n",
       "      year: string\n",
       "   }\n",
       ")"
      ]
     },
     "execution_count": 29,
     "metadata": {},
     "output_type": "execute_result"
    }
   ],
   "source": [
    "ds.materialize()"
   ]
  },
  {
   "cell_type": "code",
   "execution_count": 30,
   "metadata": {},
   "outputs": [
    {
     "name": "stderr",
     "output_type": "stream",
     "text": [
      "2024-11-16 22:49:38,342\tINFO streaming_executor.py:108 -- Starting execution of Dataset. Full logs are in /tmp/ray/session_2024-11-16_22-40-16_269828_403022/logs/ray-data\n",
      "2024-11-16 22:49:38,342\tINFO streaming_executor.py:109 -- Execution plan of Dataset: InputDataBuffer[Input] -> TaskPoolMapOperator[ReadParquet] -> LimitOperator[limit=1]\n"
     ]
    },
    {
     "data": {
      "application/vnd.jupyter.widget-view+json": {
       "model_id": "2f83d210f55c4da4b2c4bf7ddec52e07",
       "version_major": 2,
       "version_minor": 0
      },
      "text/plain": [
       "Running 0: 0.00 row [00:00, ? row/s]"
      ]
     },
     "metadata": {},
     "output_type": "display_data"
    },
    {
     "data": {
      "application/vnd.jupyter.widget-view+json": {
       "model_id": "d933af7ffd8f4bd9a2c38d5557f30eae",
       "version_major": 2,
       "version_minor": 0
      },
      "text/plain": [
       "- ReadParquet->SplitBlocks(50) 1: 0.00 row [00:00, ? row/s]"
      ]
     },
     "metadata": {},
     "output_type": "display_data"
    },
    {
     "data": {
      "application/vnd.jupyter.widget-view+json": {
       "model_id": "26b095c0efa349faa13db2039eb56dd7",
       "version_major": 2,
       "version_minor": 0
      },
      "text/plain": [
       "- limit=1 2: 0.00 row [00:00, ? row/s]"
      ]
     },
     "metadata": {},
     "output_type": "display_data"
    },
    {
     "name": "stdout",
     "output_type": "stream",
     "text": [
      "{'id': None, 'member_id': None, 'loan_amnt': 2500, 'funded_amnt': 2500, 'funded_amnt_inv': 2500, 'term': ' 36 months', 'int_rate': 13.56, 'installment': 84.92, 'grade': 'C', 'sub_grade': 'C1', 'emp_title': 'Chef', 'emp_length': '10+ years', 'home_ownership': 'RENT', 'annual_inc': 55000.0, 'verification_status': 'Not Verified', 'issue_d': 'Dec-2018', 'loan_status': 'Current', 'pymnt_plan': 'n', 'url': None, 'desc': None, 'purpose': 'debt_consolidation', 'title': 'Debt consolidation', 'zip_code': '109xx', 'addr_state': 'NY', 'dti': 18.24, 'delinq_2yrs': 0, 'earliest_cr_line': 'Apr-2001', 'inq_last_6mths': 1, 'mths_since_last_delinq': None, 'mths_since_last_record': 45, 'open_acc': 9, 'pub_rec': 1, 'revol_bal': 4341, 'revol_util': 10.3, 'total_acc': 34, 'initial_list_status': 'w', 'out_prncp': 2386.02, 'out_prncp_inv': 2386.02, 'total_pymnt': 167.02, 'total_pymnt_inv': 167.02, 'total_rec_prncp': 113.98, 'total_rec_int': 53.04, 'total_rec_late_fee': 0.0, 'recoveries': 0.0, 'collection_recovery_fee': 0.0, 'last_pymnt_d': 'Feb-2019', 'last_pymnt_amnt': 84.92, 'next_pymnt_d': 'Mar-2019', 'last_credit_pull_d': 'Feb-2019', 'collections_12_mths_ex_med': 0, 'mths_since_last_major_derog': None, 'policy_code': 1, 'application_type': 'Individual', 'annual_inc_joint': None, 'dti_joint': None, 'verification_status_joint': None, 'acc_now_delinq': 0, 'tot_coll_amt': 0, 'tot_cur_bal': 16901, 'open_acc_6m': 2, 'open_act_il': 2, 'open_il_12m': 1, 'open_il_24m': 2, 'mths_since_rcnt_il': 2, 'total_bal_il': 12560, 'il_util': 69, 'open_rv_12m': 2, 'open_rv_24m': 7, 'max_bal_bc': 2137, 'all_util': 28, 'total_rev_hi_lim': 42000, 'inq_fi': 1, 'total_cu_tl': 11, 'inq_last_12m': 2, 'acc_open_past_24mths': 9, 'avg_cur_bal': 1878, 'bc_open_to_buy': 34360, 'bc_util': 5.9, 'chargeoff_within_12_mths': 0, 'delinq_amnt': 0, 'mo_sin_old_il_acct': 140, 'mo_sin_old_rev_tl_op': 212, 'mo_sin_rcnt_rev_tl_op': 1, 'mo_sin_rcnt_tl': 1, 'mort_acc': 0, 'mths_since_recent_bc': 1, 'mths_since_recent_bc_dlq': None, 'mths_since_recent_inq': 2, 'mths_since_recent_revol_delinq': None, 'num_accts_ever_120_pd': 0, 'num_actv_bc_tl': 2, 'num_actv_rev_tl': 5, 'num_bc_sats': 3, 'num_bc_tl': 3, 'num_il_tl': 16, 'num_op_rev_tl': 7, 'num_rev_accts': 18, 'num_rev_tl_bal_gt_0': 5, 'num_sats': 9, 'num_tl_120dpd_2m': 0, 'num_tl_30dpd': 0, 'num_tl_90g_dpd_24m': 0, 'num_tl_op_past_12m': 3, 'pct_tl_nvr_dlq': 100.0, 'percent_bc_gt_75': 0.0, 'pub_rec_bankruptcies': 1, 'tax_liens': 0, 'tot_hi_cred_lim': 60124, 'total_bal_ex_mort': 16901, 'total_bc_limit': 36500, 'total_il_high_credit_limit': 18124, 'revol_bal_joint': None, 'sec_app_earliest_cr_line': None, 'sec_app_inq_last_6mths': None, 'sec_app_mort_acc': None, 'sec_app_open_acc': None, 'sec_app_revol_util': None, 'sec_app_open_act_il': None, 'sec_app_num_rev_accts': None, 'sec_app_chargeoff_within_12_mths': None, 'sec_app_collections_12_mths_ex_med': None, 'sec_app_mths_since_last_major_derog': None, 'hardship_flag': 'N', 'hardship_type': None, 'hardship_reason': None, 'hardship_status': None, 'deferral_term': None, 'hardship_amount': None, 'hardship_start_date': None, 'hardship_end_date': None, 'payment_plan_start_date': None, 'hardship_length': None, 'hardship_dpd': None, 'hardship_loan_status': None, 'orig_projected_additional_accrued_interest': None, 'hardship_payoff_balance_amount': None, 'hardship_last_payment_amount': None, 'disbursement_method': 'Cash', 'debt_settlement_flag': 'N', 'debt_settlement_flag_date': None, 'settlement_status': None, 'settlement_date': None, 'settlement_amount': None, 'settlement_percentage': None, 'settlement_term': None, 'year': '2018'}\n"
     ]
    }
   ],
   "source": [
    "ds.show(1)"
   ]
  },
  {
   "cell_type": "code",
   "execution_count": null,
   "metadata": {},
   "outputs": [],
   "source": []
  },
  {
   "cell_type": "markdown",
   "metadata": {},
   "source": [
    "# Fugue"
   ]
  },
  {
   "cell_type": "code",
   "execution_count": null,
   "metadata": {},
   "outputs": [],
   "source": [
    "# DOCS\n",
    "# https://fugue-tutorials.readthedocs.io/index.html\n",
    "# https://fugue-tutorials.readthedocs.io/tutorials/quick_look/ten_minutes.html\n",
    "# https://fugue-tutorials.readthedocs.io/tutorials/integrations/backends/index.html\n",
    "# https://fugue-tutorials.readthedocs.io/tutorials/advanced/execution_engine.html\n",
    "# https://github.com/fugue-project/tutorials/tree/master/tutorials\n",
    "# https://github.com/fugue-project/tutorials/blob/master/tutorials/beginner/execution_engine.ipynb\n",
    "# https://fugue.readthedocs.io/en/latest/top_api.html\n",
    "\n",
    "# INSTALL\n",
    "# pip install fugue[sql]\n",
    "# pip install fugue[duckdb,sql]"
   ]
  },
  {
   "cell_type": "code",
   "execution_count": 35,
   "metadata": {},
   "outputs": [],
   "source": [
    "import fugue_duckdb\n",
    "import fugue.api as fa\n",
    "from fugue.api import fugue_sql_flow\n",
    "from fugue.api import fugue_sql\n",
    "from fugue import transform\n",
    "from fugue_sql import fsql\n",
    "from fugue_sql import FugueSQLWorkflow\n",
    "from fugue import FugueWorkflow\n",
    "# from dask_sql.integrations.fugue import DaskSQLExecutionEngine\n",
    "# from fugue_ibis import run_ibis\n",
    "# from fugue_jupyter import setup\n",
    "from fugue_notebook import setup"
   ]
  },
  {
   "cell_type": "code",
   "execution_count": 36,
   "metadata": {},
   "outputs": [
    {
     "data": {
      "application/javascript": "\nrequire([\"codemirror/lib/codemirror\"]);\nfunction set(str) {\n    var obj = {}, words = str.split(\" \");\n    for (var i = 0; i < words.length; ++i) obj[words[i]] = true;\n    return obj;\n  }\nvar fugue_keywords = \"fill hash rand even presort persist broadcast params process output outtransform rowcount concurrency prepartition zip print title save append parquet csv json single checkpoint weak strong deterministic yield connect sample seed take sub callback dataframe file\";\nCodeMirror.defineMIME(\"text/x-fsql\", {\n    name: \"sql\",\n    keywords: set(fugue_keywords + \" add after all alter analyze and anti archive array as asc at between bucket buckets by cache cascade case cast change clear cluster clustered codegen collection column columns comment commit compact compactions compute concatenate cost create cross cube current current_date current_timestamp database databases data dbproperties defined delete delimited deny desc describe dfs directories distinct distribute drop else end escaped except exchange exists explain export extended external false fields fileformat first following for format formatted from full function functions global grant group grouping having if ignore import in index indexes inner inpath inputformat insert intersect interval into is items join keys last lateral lazy left like limit lines list load local location lock locks logical macro map minus msck natural no not null nulls of on optimize option options or order out outer outputformat over overwrite partition partitioned partitions percent preceding principals purge range recordreader recordwriter recover reduce refresh regexp rename repair replace reset restrict revoke right rlike role roles rollback rollup row rows schema schemas select semi separated serde serdeproperties set sets show skewed sort sorted start statistics stored stratify struct table tables tablesample tblproperties temp temporary terminated then to touch transaction transactions transform true truncate unarchive unbounded uncache union unlock unset use using values view when where window with\"),\n    builtin: set(\"date datetime tinyint smallint int bigint boolean float double string binary timestamp decimal array map struct uniontype delimited serde sequencefile textfile rcfile inputformat outputformat\"),\n    atoms: set(\"false true null\"),\n    operatorChars: /^[*\\/+\\-%<>!=~&|^]/,\n    dateSQL: set(\"time\"),\n    support: set(\"ODBCdotTable doubleQuote zerolessFloat\")\n  });\n\nCodeMirror.modeInfo.push( {\n            name: \"Fugue SQL\",\n            mime: \"text/x-fsql\",\n            mode: \"sql\"\n          } );\n\nrequire(['notebook/js/codecell'], function(codecell) {\n    codecell.CodeCell.options_default.highlight_modes['magic_text/x-fsql'] = {'reg':[/%%fsql/]} ;\n    Jupyter.notebook.events.on('kernel_ready.Kernel', function(){\n    Jupyter.notebook.get_cells().map(function(cell){\n        if (cell.cell_type == 'code'){ cell.auto_highlight(); } }) ;\n    });\n  });\n",
      "text/plain": [
       "<IPython.core.display.Javascript object>"
      ]
     },
     "metadata": {},
     "output_type": "display_data"
    }
   ],
   "source": [
    "setup()"
   ]
  },
  {
   "cell_type": "code",
   "execution_count": 69,
   "metadata": {},
   "outputs": [],
   "source": [
    "# engine: None, pandas, dask, spark, duckdb\n",
    "df = fa.load(s3_file, engine=\"pandas\")"
   ]
  },
  {
   "cell_type": "code",
   "execution_count": 70,
   "metadata": {},
   "outputs": [
    {
     "data": {
      "text/plain": [
       "pandas.core.frame.DataFrame"
      ]
     },
     "execution_count": 70,
     "metadata": {},
     "output_type": "execute_result"
    }
   ],
   "source": [
    "type(df)"
   ]
  },
  {
   "cell_type": "code",
   "execution_count": 77,
   "metadata": {},
   "outputs": [
    {
     "data": {
      "text/html": [
       "<div>\n",
       "<style scoped>\n",
       "    .dataframe tbody tr th:only-of-type {\n",
       "        vertical-align: middle;\n",
       "    }\n",
       "\n",
       "    .dataframe tbody tr th {\n",
       "        vertical-align: top;\n",
       "    }\n",
       "\n",
       "    .dataframe thead th {\n",
       "        text-align: right;\n",
       "    }\n",
       "</style>\n",
       "<table border=\"1\" class=\"dataframe\">\n",
       "  <thead>\n",
       "    <tr style=\"text-align: right;\">\n",
       "      <th></th>\n",
       "      <th>id:int</th>\n",
       "      <th>member_id:int</th>\n",
       "      <th>loan_amnt:long</th>\n",
       "      <th>funded_amnt:long</th>\n",
       "      <th>funded_amnt_inv:long</th>\n",
       "      <th>term:str</th>\n",
       "      <th>int_rate:double</th>\n",
       "      <th>installment:double</th>\n",
       "      <th>grade:str</th>\n",
       "      <th>sub_grade:str</th>\n",
       "      <th>emp_title:str</th>\n",
       "      <th>emp_length:str</th>\n",
       "      <th>home_ownership:str</th>\n",
       "      <th>annual_inc:double</th>\n",
       "      <th>verification_status:str</th>\n",
       "      <th>issue_d:str</th>\n",
       "      <th>loan_status:str</th>\n",
       "      <th>pymnt_plan:str</th>\n",
       "      <th>url:int</th>\n",
       "      <th>desc:int</th>\n",
       "      <th>purpose:str</th>\n",
       "      <th>title:str</th>\n",
       "      <th>zip_code:str</th>\n",
       "      <th>addr_state:str</th>\n",
       "      <th>dti:double</th>\n",
       "      <th>delinq_2yrs:long</th>\n",
       "      <th>earliest_cr_line:str</th>\n",
       "      <th>inq_last_6mths:long</th>\n",
       "      <th>mths_since_last_delinq:double</th>\n",
       "      <th>mths_since_last_record:double</th>\n",
       "      <th>open_acc:long</th>\n",
       "      <th>pub_rec:long</th>\n",
       "      <th>revol_bal:long</th>\n",
       "      <th>revol_util:double</th>\n",
       "      <th>total_acc:long</th>\n",
       "      <th>initial_list_status:str</th>\n",
       "      <th>out_prncp:double</th>\n",
       "      <th>out_prncp_inv:double</th>\n",
       "      <th>total_pymnt:double</th>\n",
       "      <th>total_pymnt_inv:double</th>\n",
       "      <th>...</th>\n",
       "      <th>tax_liens:long</th>\n",
       "      <th>tot_hi_cred_lim:long</th>\n",
       "      <th>total_bal_ex_mort:long</th>\n",
       "      <th>total_bc_limit:long</th>\n",
       "      <th>total_il_high_credit_limit:long</th>\n",
       "      <th>revol_bal_joint:double</th>\n",
       "      <th>sec_app_earliest_cr_line:str</th>\n",
       "      <th>sec_app_inq_last_6mths:double</th>\n",
       "      <th>sec_app_mort_acc:double</th>\n",
       "      <th>sec_app_open_acc:double</th>\n",
       "      <th>sec_app_revol_util:double</th>\n",
       "      <th>sec_app_open_act_il:double</th>\n",
       "      <th>sec_app_num_rev_accts:double</th>\n",
       "      <th>sec_app_chargeoff_within_12_mths:double</th>\n",
       "      <th>sec_app_collections_12_mths_ex_med:double</th>\n",
       "      <th>sec_app_mths_since_last_major_derog:double</th>\n",
       "      <th>hardship_flag:str</th>\n",
       "      <th>hardship_type:str</th>\n",
       "      <th>hardship_reason:str</th>\n",
       "      <th>hardship_status:str</th>\n",
       "      <th>deferral_term:str</th>\n",
       "      <th>hardship_amount:str</th>\n",
       "      <th>hardship_start_date:str</th>\n",
       "      <th>hardship_end_date:str</th>\n",
       "      <th>payment_plan_start_date:str</th>\n",
       "      <th>hardship_length:str</th>\n",
       "      <th>hardship_dpd:str</th>\n",
       "      <th>hardship_loan_status:str</th>\n",
       "      <th>orig_projected_additional_accrued_interest:str</th>\n",
       "      <th>hardship_payoff_balance_amount:str</th>\n",
       "      <th>hardship_last_payment_amount:str</th>\n",
       "      <th>disbursement_method:str</th>\n",
       "      <th>debt_settlement_flag:str</th>\n",
       "      <th>debt_settlement_flag_date:str</th>\n",
       "      <th>settlement_status:str</th>\n",
       "      <th>settlement_date:str</th>\n",
       "      <th>settlement_amount:str</th>\n",
       "      <th>settlement_percentage:str</th>\n",
       "      <th>settlement_term:str</th>\n",
       "      <th>year:str</th>\n",
       "    </tr>\n",
       "  </thead>\n",
       "  <tbody>\n",
       "    <tr>\n",
       "      <th>0</th>\n",
       "      <td>&lt;NA&gt;</td>\n",
       "      <td>&lt;NA&gt;</td>\n",
       "      <td>2500</td>\n",
       "      <td>2500</td>\n",
       "      <td>2500</td>\n",
       "      <td>36 months</td>\n",
       "      <td>13.56</td>\n",
       "      <td>84.92</td>\n",
       "      <td>C</td>\n",
       "      <td>C1</td>\n",
       "      <td>Chef</td>\n",
       "      <td>10+ years</td>\n",
       "      <td>RENT</td>\n",
       "      <td>55000.0</td>\n",
       "      <td>Not Verified</td>\n",
       "      <td>Dec-2018</td>\n",
       "      <td>Current</td>\n",
       "      <td>n</td>\n",
       "      <td>&lt;NA&gt;</td>\n",
       "      <td>&lt;NA&gt;</td>\n",
       "      <td>debt_consolidation</td>\n",
       "      <td>Debt consolidation</td>\n",
       "      <td>109xx</td>\n",
       "      <td>NY</td>\n",
       "      <td>18.24</td>\n",
       "      <td>0</td>\n",
       "      <td>Apr-2001</td>\n",
       "      <td>1</td>\n",
       "      <td>&lt;NA&gt;</td>\n",
       "      <td>45.0</td>\n",
       "      <td>9</td>\n",
       "      <td>1</td>\n",
       "      <td>4341</td>\n",
       "      <td>10.3</td>\n",
       "      <td>34</td>\n",
       "      <td>w</td>\n",
       "      <td>2386.02</td>\n",
       "      <td>2386.02</td>\n",
       "      <td>167.02</td>\n",
       "      <td>167.02</td>\n",
       "      <td>...</td>\n",
       "      <td>0</td>\n",
       "      <td>60124</td>\n",
       "      <td>16901</td>\n",
       "      <td>36500</td>\n",
       "      <td>18124</td>\n",
       "      <td>&lt;NA&gt;</td>\n",
       "      <td>&lt;NA&gt;</td>\n",
       "      <td>&lt;NA&gt;</td>\n",
       "      <td>&lt;NA&gt;</td>\n",
       "      <td>&lt;NA&gt;</td>\n",
       "      <td>&lt;NA&gt;</td>\n",
       "      <td>&lt;NA&gt;</td>\n",
       "      <td>&lt;NA&gt;</td>\n",
       "      <td>&lt;NA&gt;</td>\n",
       "      <td>&lt;NA&gt;</td>\n",
       "      <td>&lt;NA&gt;</td>\n",
       "      <td>N</td>\n",
       "      <td>&lt;NA&gt;</td>\n",
       "      <td>&lt;NA&gt;</td>\n",
       "      <td>&lt;NA&gt;</td>\n",
       "      <td>&lt;NA&gt;</td>\n",
       "      <td>&lt;NA&gt;</td>\n",
       "      <td>&lt;NA&gt;</td>\n",
       "      <td>&lt;NA&gt;</td>\n",
       "      <td>&lt;NA&gt;</td>\n",
       "      <td>&lt;NA&gt;</td>\n",
       "      <td>&lt;NA&gt;</td>\n",
       "      <td>&lt;NA&gt;</td>\n",
       "      <td>&lt;NA&gt;</td>\n",
       "      <td>&lt;NA&gt;</td>\n",
       "      <td>&lt;NA&gt;</td>\n",
       "      <td>Cash</td>\n",
       "      <td>N</td>\n",
       "      <td>&lt;NA&gt;</td>\n",
       "      <td>&lt;NA&gt;</td>\n",
       "      <td>&lt;NA&gt;</td>\n",
       "      <td>&lt;NA&gt;</td>\n",
       "      <td>&lt;NA&gt;</td>\n",
       "      <td>&lt;NA&gt;</td>\n",
       "      <td>2018</td>\n",
       "    </tr>\n",
       "    <tr>\n",
       "      <th>1</th>\n",
       "      <td>&lt;NA&gt;</td>\n",
       "      <td>&lt;NA&gt;</td>\n",
       "      <td>30000</td>\n",
       "      <td>30000</td>\n",
       "      <td>30000</td>\n",
       "      <td>60 months</td>\n",
       "      <td>18.94</td>\n",
       "      <td>777.23</td>\n",
       "      <td>D</td>\n",
       "      <td>D2</td>\n",
       "      <td>Postmaster</td>\n",
       "      <td>10+ years</td>\n",
       "      <td>MORTGAGE</td>\n",
       "      <td>90000.0</td>\n",
       "      <td>Source Verified</td>\n",
       "      <td>Dec-2018</td>\n",
       "      <td>Current</td>\n",
       "      <td>n</td>\n",
       "      <td>&lt;NA&gt;</td>\n",
       "      <td>&lt;NA&gt;</td>\n",
       "      <td>debt_consolidation</td>\n",
       "      <td>Debt consolidation</td>\n",
       "      <td>713xx</td>\n",
       "      <td>LA</td>\n",
       "      <td>26.52</td>\n",
       "      <td>0</td>\n",
       "      <td>Jun-1987</td>\n",
       "      <td>0</td>\n",
       "      <td>71.0</td>\n",
       "      <td>75.0</td>\n",
       "      <td>13</td>\n",
       "      <td>1</td>\n",
       "      <td>12315</td>\n",
       "      <td>24.2</td>\n",
       "      <td>44</td>\n",
       "      <td>w</td>\n",
       "      <td>29387.75</td>\n",
       "      <td>29387.75</td>\n",
       "      <td>1507.11</td>\n",
       "      <td>1507.11</td>\n",
       "      <td>...</td>\n",
       "      <td>0</td>\n",
       "      <td>372872</td>\n",
       "      <td>99468</td>\n",
       "      <td>15000</td>\n",
       "      <td>94072</td>\n",
       "      <td>&lt;NA&gt;</td>\n",
       "      <td>&lt;NA&gt;</td>\n",
       "      <td>&lt;NA&gt;</td>\n",
       "      <td>&lt;NA&gt;</td>\n",
       "      <td>&lt;NA&gt;</td>\n",
       "      <td>&lt;NA&gt;</td>\n",
       "      <td>&lt;NA&gt;</td>\n",
       "      <td>&lt;NA&gt;</td>\n",
       "      <td>&lt;NA&gt;</td>\n",
       "      <td>&lt;NA&gt;</td>\n",
       "      <td>&lt;NA&gt;</td>\n",
       "      <td>N</td>\n",
       "      <td>&lt;NA&gt;</td>\n",
       "      <td>&lt;NA&gt;</td>\n",
       "      <td>&lt;NA&gt;</td>\n",
       "      <td>&lt;NA&gt;</td>\n",
       "      <td>&lt;NA&gt;</td>\n",
       "      <td>&lt;NA&gt;</td>\n",
       "      <td>&lt;NA&gt;</td>\n",
       "      <td>&lt;NA&gt;</td>\n",
       "      <td>&lt;NA&gt;</td>\n",
       "      <td>&lt;NA&gt;</td>\n",
       "      <td>&lt;NA&gt;</td>\n",
       "      <td>&lt;NA&gt;</td>\n",
       "      <td>&lt;NA&gt;</td>\n",
       "      <td>&lt;NA&gt;</td>\n",
       "      <td>Cash</td>\n",
       "      <td>N</td>\n",
       "      <td>&lt;NA&gt;</td>\n",
       "      <td>&lt;NA&gt;</td>\n",
       "      <td>&lt;NA&gt;</td>\n",
       "      <td>&lt;NA&gt;</td>\n",
       "      <td>&lt;NA&gt;</td>\n",
       "      <td>&lt;NA&gt;</td>\n",
       "      <td>2018</td>\n",
       "    </tr>\n",
       "    <tr>\n",
       "      <th>2</th>\n",
       "      <td>&lt;NA&gt;</td>\n",
       "      <td>&lt;NA&gt;</td>\n",
       "      <td>5000</td>\n",
       "      <td>5000</td>\n",
       "      <td>5000</td>\n",
       "      <td>36 months</td>\n",
       "      <td>17.97</td>\n",
       "      <td>180.69</td>\n",
       "      <td>D</td>\n",
       "      <td>D1</td>\n",
       "      <td>Administrative</td>\n",
       "      <td>6 years</td>\n",
       "      <td>MORTGAGE</td>\n",
       "      <td>59280.0</td>\n",
       "      <td>Source Verified</td>\n",
       "      <td>Dec-2018</td>\n",
       "      <td>Current</td>\n",
       "      <td>n</td>\n",
       "      <td>&lt;NA&gt;</td>\n",
       "      <td>&lt;NA&gt;</td>\n",
       "      <td>debt_consolidation</td>\n",
       "      <td>Debt consolidation</td>\n",
       "      <td>490xx</td>\n",
       "      <td>MI</td>\n",
       "      <td>10.51</td>\n",
       "      <td>0</td>\n",
       "      <td>Apr-2011</td>\n",
       "      <td>0</td>\n",
       "      <td>&lt;NA&gt;</td>\n",
       "      <td>&lt;NA&gt;</td>\n",
       "      <td>8</td>\n",
       "      <td>0</td>\n",
       "      <td>4599</td>\n",
       "      <td>19.1</td>\n",
       "      <td>13</td>\n",
       "      <td>w</td>\n",
       "      <td>4787.21</td>\n",
       "      <td>4787.21</td>\n",
       "      <td>353.89</td>\n",
       "      <td>353.89</td>\n",
       "      <td>...</td>\n",
       "      <td>0</td>\n",
       "      <td>136927</td>\n",
       "      <td>11749</td>\n",
       "      <td>13800</td>\n",
       "      <td>10000</td>\n",
       "      <td>&lt;NA&gt;</td>\n",
       "      <td>&lt;NA&gt;</td>\n",
       "      <td>&lt;NA&gt;</td>\n",
       "      <td>&lt;NA&gt;</td>\n",
       "      <td>&lt;NA&gt;</td>\n",
       "      <td>&lt;NA&gt;</td>\n",
       "      <td>&lt;NA&gt;</td>\n",
       "      <td>&lt;NA&gt;</td>\n",
       "      <td>&lt;NA&gt;</td>\n",
       "      <td>&lt;NA&gt;</td>\n",
       "      <td>&lt;NA&gt;</td>\n",
       "      <td>N</td>\n",
       "      <td>&lt;NA&gt;</td>\n",
       "      <td>&lt;NA&gt;</td>\n",
       "      <td>&lt;NA&gt;</td>\n",
       "      <td>&lt;NA&gt;</td>\n",
       "      <td>&lt;NA&gt;</td>\n",
       "      <td>&lt;NA&gt;</td>\n",
       "      <td>&lt;NA&gt;</td>\n",
       "      <td>&lt;NA&gt;</td>\n",
       "      <td>&lt;NA&gt;</td>\n",
       "      <td>&lt;NA&gt;</td>\n",
       "      <td>&lt;NA&gt;</td>\n",
       "      <td>&lt;NA&gt;</td>\n",
       "      <td>&lt;NA&gt;</td>\n",
       "      <td>&lt;NA&gt;</td>\n",
       "      <td>Cash</td>\n",
       "      <td>N</td>\n",
       "      <td>&lt;NA&gt;</td>\n",
       "      <td>&lt;NA&gt;</td>\n",
       "      <td>&lt;NA&gt;</td>\n",
       "      <td>&lt;NA&gt;</td>\n",
       "      <td>&lt;NA&gt;</td>\n",
       "      <td>&lt;NA&gt;</td>\n",
       "      <td>2018</td>\n",
       "    </tr>\n",
       "  </tbody>\n",
       "</table>\n",
       "<p>3 rows × 146 columns</p>\n",
       "</div>\n",
       "<font size=\"-1\">DuckDataFrame: id:int,member_id:int,loan_amnt:long,funded_amnt:long,funded_amnt_inv:long,term:str,int_rate:double,installment:double,grade:str,sub_grade:str,emp_title:str,emp_length:str,home_ownership:str,annual_inc:double,verification_status:str,issue_d:str,loan_status:str,pymnt_plan:str,url:int,desc:int,purpose:str,title:str,zip_code:str,addr_state:str,dti:double,delinq_2yrs:long,earliest_cr_line:str,inq_last_6mths:long,mths_since_last_delinq:double,mths_since_last_record:double,open_acc:long,pub_rec:long,revol_bal:long,revol_util:double,total_acc:long,initial_list_status:str,out_prncp:double,out_prncp_inv:double,total_pymnt:double,total_pymnt_inv:double,total_rec_prncp:double,total_rec_int:double,total_rec_late_fee:double,recoveries:double,collection_recovery_fee:double,last_pymnt_d:str,last_pymnt_amnt:double,next_pymnt_d:str,last_credit_pull_d:str,collections_12_mths_ex_med:long,mths_since_last_major_derog:double,policy_code:long,application_type:str,annual_inc_joint:double,dti_joint:double,verification_status_joint:str,acc_now_delinq:long,tot_coll_amt:long,tot_cur_bal:long,open_acc_6m:long,open_act_il:long,open_il_12m:long,open_il_24m:long,mths_since_rcnt_il:double,total_bal_il:long,il_util:double,open_rv_12m:long,open_rv_24m:long,max_bal_bc:long,all_util:double,total_rev_hi_lim:long,inq_fi:long,total_cu_tl:long,inq_last_12m:long,acc_open_past_24mths:long,avg_cur_bal:double,bc_open_to_buy:double,bc_util:double,chargeoff_within_12_mths:long,delinq_amnt:long,mo_sin_old_il_acct:double,mo_sin_old_rev_tl_op:long,mo_sin_rcnt_rev_tl_op:long,mo_sin_rcnt_tl:long,mort_acc:long,mths_since_recent_bc:double,mths_since_recent_bc_dlq:double,mths_since_recent_inq:double,mths_since_recent_revol_delinq:double,num_accts_ever_120_pd:long,num_actv_bc_tl:long,num_actv_rev_tl:long,num_bc_sats:long,num_bc_tl:long,num_il_tl:long,num_op_rev_tl:long,num_rev_accts:long,num_rev_tl_bal_gt_0:long,num_sats:long,num_tl_120dpd_2m:double,num_tl_30dpd:long,num_tl_90g_dpd_24m:long,num_tl_op_past_12m:long,pct_tl_nvr_dlq:double,percent_bc_gt_75:double,pub_rec_bankruptcies:long,tax_liens:long,tot_hi_cred_lim:long,total_bal_ex_mort:long,total_bc_limit:long,total_il_high_credit_limit:long,revol_bal_joint:double,sec_app_earliest_cr_line:str,sec_app_inq_last_6mths:double,sec_app_mort_acc:double,sec_app_open_acc:double,sec_app_revol_util:double,sec_app_open_act_il:double,sec_app_num_rev_accts:double,sec_app_chargeoff_within_12_mths:double,sec_app_collections_12_mths_ex_med:double,sec_app_mths_since_last_major_derog:double,hardship_flag:str,hardship_type:str,hardship_reason:str,hardship_status:str,deferral_term:str,hardship_amount:str,hardship_start_date:str,hardship_end_date:str,payment_plan_start_date:str,hardship_length:str,hardship_dpd:str,hardship_loan_status:str,orig_projected_additional_accrued_interest:str,hardship_payoff_balance_amount:str,hardship_last_payment_amount:str,disbursement_method:str,debt_settlement_flag:str,debt_settlement_flag_date:str,settlement_status:str,settlement_date:str,settlement_amount:str,settlement_percentage:str,settlement_term:str,year:str</font>"
      ],
      "text/plain": [
       "<IPython.core.display.HTML object>"
      ]
     },
     "metadata": {},
     "output_type": "display_data"
    }
   ],
   "source": [
    "%%fsql duck\n",
    "SELECT * FROM df LIMIT 3\n",
    "PRINT"
   ]
  },
  {
   "cell_type": "code",
   "execution_count": null,
   "metadata": {},
   "outputs": [],
   "source": [
    "df = fugue_sql(f\"\"\"\n",
    "LOAD \"{s3_file}\" duck\n",
    "SELECT *\n",
    "\"\"\",\n",
    "engine=None\n",
    ")"
   ]
  },
  {
   "cell_type": "code",
   "execution_count": null,
   "metadata": {},
   "outputs": [
    {
     "data": {
      "text/plain": [
       "pandas.core.frame.DataFrame"
      ]
     },
     "execution_count": 38,
     "metadata": {},
     "output_type": "execute_result"
    }
   ],
   "source": [
    "type(df)"
   ]
  },
  {
   "cell_type": "code",
   "execution_count": null,
   "metadata": {},
   "outputs": [
    {
     "data": {
      "text/html": [
       "<div>\n",
       "<style scoped>\n",
       "    .dataframe tbody tr th:only-of-type {\n",
       "        vertical-align: middle;\n",
       "    }\n",
       "\n",
       "    .dataframe tbody tr th {\n",
       "        vertical-align: top;\n",
       "    }\n",
       "\n",
       "    .dataframe thead th {\n",
       "        text-align: right;\n",
       "    }\n",
       "</style>\n",
       "<table border=\"1\" class=\"dataframe\">\n",
       "  <thead>\n",
       "    <tr style=\"text-align: right;\">\n",
       "      <th></th>\n",
       "      <th>id</th>\n",
       "      <th>member_id</th>\n",
       "      <th>loan_amnt</th>\n",
       "      <th>funded_amnt</th>\n",
       "      <th>funded_amnt_inv</th>\n",
       "      <th>term</th>\n",
       "      <th>int_rate</th>\n",
       "      <th>installment</th>\n",
       "      <th>grade</th>\n",
       "      <th>sub_grade</th>\n",
       "      <th>emp_title</th>\n",
       "      <th>emp_length</th>\n",
       "      <th>home_ownership</th>\n",
       "      <th>annual_inc</th>\n",
       "      <th>verification_status</th>\n",
       "      <th>issue_d</th>\n",
       "      <th>loan_status</th>\n",
       "      <th>pymnt_plan</th>\n",
       "      <th>url</th>\n",
       "      <th>desc</th>\n",
       "      <th>purpose</th>\n",
       "      <th>title</th>\n",
       "      <th>zip_code</th>\n",
       "      <th>addr_state</th>\n",
       "      <th>dti</th>\n",
       "      <th>delinq_2yrs</th>\n",
       "      <th>earliest_cr_line</th>\n",
       "      <th>inq_last_6mths</th>\n",
       "      <th>mths_since_last_delinq</th>\n",
       "      <th>mths_since_last_record</th>\n",
       "      <th>open_acc</th>\n",
       "      <th>pub_rec</th>\n",
       "      <th>revol_bal</th>\n",
       "      <th>revol_util</th>\n",
       "      <th>total_acc</th>\n",
       "      <th>initial_list_status</th>\n",
       "      <th>out_prncp</th>\n",
       "      <th>out_prncp_inv</th>\n",
       "      <th>total_pymnt</th>\n",
       "      <th>total_pymnt_inv</th>\n",
       "      <th>...</th>\n",
       "      <th>tax_liens</th>\n",
       "      <th>tot_hi_cred_lim</th>\n",
       "      <th>total_bal_ex_mort</th>\n",
       "      <th>total_bc_limit</th>\n",
       "      <th>total_il_high_credit_limit</th>\n",
       "      <th>revol_bal_joint</th>\n",
       "      <th>sec_app_earliest_cr_line</th>\n",
       "      <th>sec_app_inq_last_6mths</th>\n",
       "      <th>sec_app_mort_acc</th>\n",
       "      <th>sec_app_open_acc</th>\n",
       "      <th>sec_app_revol_util</th>\n",
       "      <th>sec_app_open_act_il</th>\n",
       "      <th>sec_app_num_rev_accts</th>\n",
       "      <th>sec_app_chargeoff_within_12_mths</th>\n",
       "      <th>sec_app_collections_12_mths_ex_med</th>\n",
       "      <th>sec_app_mths_since_last_major_derog</th>\n",
       "      <th>hardship_flag</th>\n",
       "      <th>hardship_type</th>\n",
       "      <th>hardship_reason</th>\n",
       "      <th>hardship_status</th>\n",
       "      <th>deferral_term</th>\n",
       "      <th>hardship_amount</th>\n",
       "      <th>hardship_start_date</th>\n",
       "      <th>hardship_end_date</th>\n",
       "      <th>payment_plan_start_date</th>\n",
       "      <th>hardship_length</th>\n",
       "      <th>hardship_dpd</th>\n",
       "      <th>hardship_loan_status</th>\n",
       "      <th>orig_projected_additional_accrued_interest</th>\n",
       "      <th>hardship_payoff_balance_amount</th>\n",
       "      <th>hardship_last_payment_amount</th>\n",
       "      <th>disbursement_method</th>\n",
       "      <th>debt_settlement_flag</th>\n",
       "      <th>debt_settlement_flag_date</th>\n",
       "      <th>settlement_status</th>\n",
       "      <th>settlement_date</th>\n",
       "      <th>settlement_amount</th>\n",
       "      <th>settlement_percentage</th>\n",
       "      <th>settlement_term</th>\n",
       "      <th>year</th>\n",
       "    </tr>\n",
       "  </thead>\n",
       "  <tbody>\n",
       "    <tr>\n",
       "      <th>0</th>\n",
       "      <td>None</td>\n",
       "      <td>None</td>\n",
       "      <td>2500</td>\n",
       "      <td>2500</td>\n",
       "      <td>2500</td>\n",
       "      <td>36 months</td>\n",
       "      <td>13.56</td>\n",
       "      <td>84.92</td>\n",
       "      <td>C</td>\n",
       "      <td>C1</td>\n",
       "      <td>Chef</td>\n",
       "      <td>10+ years</td>\n",
       "      <td>RENT</td>\n",
       "      <td>55000.0</td>\n",
       "      <td>Not Verified</td>\n",
       "      <td>Dec-2018</td>\n",
       "      <td>Current</td>\n",
       "      <td>n</td>\n",
       "      <td>None</td>\n",
       "      <td>None</td>\n",
       "      <td>debt_consolidation</td>\n",
       "      <td>Debt consolidation</td>\n",
       "      <td>109xx</td>\n",
       "      <td>NY</td>\n",
       "      <td>18.24</td>\n",
       "      <td>0</td>\n",
       "      <td>Apr-2001</td>\n",
       "      <td>1</td>\n",
       "      <td>NaN</td>\n",
       "      <td>45.0</td>\n",
       "      <td>9</td>\n",
       "      <td>1</td>\n",
       "      <td>4341</td>\n",
       "      <td>10.3</td>\n",
       "      <td>34</td>\n",
       "      <td>w</td>\n",
       "      <td>2386.02</td>\n",
       "      <td>2386.02</td>\n",
       "      <td>167.02</td>\n",
       "      <td>167.02</td>\n",
       "      <td>...</td>\n",
       "      <td>0</td>\n",
       "      <td>60124</td>\n",
       "      <td>16901</td>\n",
       "      <td>36500</td>\n",
       "      <td>18124</td>\n",
       "      <td>NaN</td>\n",
       "      <td>None</td>\n",
       "      <td>NaN</td>\n",
       "      <td>NaN</td>\n",
       "      <td>NaN</td>\n",
       "      <td>NaN</td>\n",
       "      <td>NaN</td>\n",
       "      <td>NaN</td>\n",
       "      <td>NaN</td>\n",
       "      <td>NaN</td>\n",
       "      <td>NaN</td>\n",
       "      <td>N</td>\n",
       "      <td>None</td>\n",
       "      <td>None</td>\n",
       "      <td>None</td>\n",
       "      <td>None</td>\n",
       "      <td>None</td>\n",
       "      <td>None</td>\n",
       "      <td>None</td>\n",
       "      <td>None</td>\n",
       "      <td>None</td>\n",
       "      <td>None</td>\n",
       "      <td>None</td>\n",
       "      <td>None</td>\n",
       "      <td>None</td>\n",
       "      <td>None</td>\n",
       "      <td>Cash</td>\n",
       "      <td>N</td>\n",
       "      <td>None</td>\n",
       "      <td>None</td>\n",
       "      <td>None</td>\n",
       "      <td>None</td>\n",
       "      <td>None</td>\n",
       "      <td>None</td>\n",
       "      <td>2018</td>\n",
       "    </tr>\n",
       "    <tr>\n",
       "      <th>1</th>\n",
       "      <td>None</td>\n",
       "      <td>None</td>\n",
       "      <td>30000</td>\n",
       "      <td>30000</td>\n",
       "      <td>30000</td>\n",
       "      <td>60 months</td>\n",
       "      <td>18.94</td>\n",
       "      <td>777.23</td>\n",
       "      <td>D</td>\n",
       "      <td>D2</td>\n",
       "      <td>Postmaster</td>\n",
       "      <td>10+ years</td>\n",
       "      <td>MORTGAGE</td>\n",
       "      <td>90000.0</td>\n",
       "      <td>Source Verified</td>\n",
       "      <td>Dec-2018</td>\n",
       "      <td>Current</td>\n",
       "      <td>n</td>\n",
       "      <td>None</td>\n",
       "      <td>None</td>\n",
       "      <td>debt_consolidation</td>\n",
       "      <td>Debt consolidation</td>\n",
       "      <td>713xx</td>\n",
       "      <td>LA</td>\n",
       "      <td>26.52</td>\n",
       "      <td>0</td>\n",
       "      <td>Jun-1987</td>\n",
       "      <td>0</td>\n",
       "      <td>71.0</td>\n",
       "      <td>75.0</td>\n",
       "      <td>13</td>\n",
       "      <td>1</td>\n",
       "      <td>12315</td>\n",
       "      <td>24.2</td>\n",
       "      <td>44</td>\n",
       "      <td>w</td>\n",
       "      <td>29387.75</td>\n",
       "      <td>29387.75</td>\n",
       "      <td>1507.11</td>\n",
       "      <td>1507.11</td>\n",
       "      <td>...</td>\n",
       "      <td>0</td>\n",
       "      <td>372872</td>\n",
       "      <td>99468</td>\n",
       "      <td>15000</td>\n",
       "      <td>94072</td>\n",
       "      <td>NaN</td>\n",
       "      <td>None</td>\n",
       "      <td>NaN</td>\n",
       "      <td>NaN</td>\n",
       "      <td>NaN</td>\n",
       "      <td>NaN</td>\n",
       "      <td>NaN</td>\n",
       "      <td>NaN</td>\n",
       "      <td>NaN</td>\n",
       "      <td>NaN</td>\n",
       "      <td>NaN</td>\n",
       "      <td>N</td>\n",
       "      <td>None</td>\n",
       "      <td>None</td>\n",
       "      <td>None</td>\n",
       "      <td>None</td>\n",
       "      <td>None</td>\n",
       "      <td>None</td>\n",
       "      <td>None</td>\n",
       "      <td>None</td>\n",
       "      <td>None</td>\n",
       "      <td>None</td>\n",
       "      <td>None</td>\n",
       "      <td>None</td>\n",
       "      <td>None</td>\n",
       "      <td>None</td>\n",
       "      <td>Cash</td>\n",
       "      <td>N</td>\n",
       "      <td>None</td>\n",
       "      <td>None</td>\n",
       "      <td>None</td>\n",
       "      <td>None</td>\n",
       "      <td>None</td>\n",
       "      <td>None</td>\n",
       "      <td>2018</td>\n",
       "    </tr>\n",
       "    <tr>\n",
       "      <th>2</th>\n",
       "      <td>None</td>\n",
       "      <td>None</td>\n",
       "      <td>5000</td>\n",
       "      <td>5000</td>\n",
       "      <td>5000</td>\n",
       "      <td>36 months</td>\n",
       "      <td>17.97</td>\n",
       "      <td>180.69</td>\n",
       "      <td>D</td>\n",
       "      <td>D1</td>\n",
       "      <td>Administrative</td>\n",
       "      <td>6 years</td>\n",
       "      <td>MORTGAGE</td>\n",
       "      <td>59280.0</td>\n",
       "      <td>Source Verified</td>\n",
       "      <td>Dec-2018</td>\n",
       "      <td>Current</td>\n",
       "      <td>n</td>\n",
       "      <td>None</td>\n",
       "      <td>None</td>\n",
       "      <td>debt_consolidation</td>\n",
       "      <td>Debt consolidation</td>\n",
       "      <td>490xx</td>\n",
       "      <td>MI</td>\n",
       "      <td>10.51</td>\n",
       "      <td>0</td>\n",
       "      <td>Apr-2011</td>\n",
       "      <td>0</td>\n",
       "      <td>NaN</td>\n",
       "      <td>NaN</td>\n",
       "      <td>8</td>\n",
       "      <td>0</td>\n",
       "      <td>4599</td>\n",
       "      <td>19.1</td>\n",
       "      <td>13</td>\n",
       "      <td>w</td>\n",
       "      <td>4787.21</td>\n",
       "      <td>4787.21</td>\n",
       "      <td>353.89</td>\n",
       "      <td>353.89</td>\n",
       "      <td>...</td>\n",
       "      <td>0</td>\n",
       "      <td>136927</td>\n",
       "      <td>11749</td>\n",
       "      <td>13800</td>\n",
       "      <td>10000</td>\n",
       "      <td>NaN</td>\n",
       "      <td>None</td>\n",
       "      <td>NaN</td>\n",
       "      <td>NaN</td>\n",
       "      <td>NaN</td>\n",
       "      <td>NaN</td>\n",
       "      <td>NaN</td>\n",
       "      <td>NaN</td>\n",
       "      <td>NaN</td>\n",
       "      <td>NaN</td>\n",
       "      <td>NaN</td>\n",
       "      <td>N</td>\n",
       "      <td>None</td>\n",
       "      <td>None</td>\n",
       "      <td>None</td>\n",
       "      <td>None</td>\n",
       "      <td>None</td>\n",
       "      <td>None</td>\n",
       "      <td>None</td>\n",
       "      <td>None</td>\n",
       "      <td>None</td>\n",
       "      <td>None</td>\n",
       "      <td>None</td>\n",
       "      <td>None</td>\n",
       "      <td>None</td>\n",
       "      <td>None</td>\n",
       "      <td>Cash</td>\n",
       "      <td>N</td>\n",
       "      <td>None</td>\n",
       "      <td>None</td>\n",
       "      <td>None</td>\n",
       "      <td>None</td>\n",
       "      <td>None</td>\n",
       "      <td>None</td>\n",
       "      <td>2018</td>\n",
       "    </tr>\n",
       "    <tr>\n",
       "      <th>3</th>\n",
       "      <td>None</td>\n",
       "      <td>None</td>\n",
       "      <td>4000</td>\n",
       "      <td>4000</td>\n",
       "      <td>4000</td>\n",
       "      <td>36 months</td>\n",
       "      <td>18.94</td>\n",
       "      <td>146.51</td>\n",
       "      <td>D</td>\n",
       "      <td>D2</td>\n",
       "      <td>IT Supervisor</td>\n",
       "      <td>10+ years</td>\n",
       "      <td>MORTGAGE</td>\n",
       "      <td>92000.0</td>\n",
       "      <td>Source Verified</td>\n",
       "      <td>Dec-2018</td>\n",
       "      <td>Current</td>\n",
       "      <td>n</td>\n",
       "      <td>None</td>\n",
       "      <td>None</td>\n",
       "      <td>debt_consolidation</td>\n",
       "      <td>Debt consolidation</td>\n",
       "      <td>985xx</td>\n",
       "      <td>WA</td>\n",
       "      <td>16.74</td>\n",
       "      <td>0</td>\n",
       "      <td>Feb-2006</td>\n",
       "      <td>0</td>\n",
       "      <td>NaN</td>\n",
       "      <td>NaN</td>\n",
       "      <td>10</td>\n",
       "      <td>0</td>\n",
       "      <td>5468</td>\n",
       "      <td>78.1</td>\n",
       "      <td>13</td>\n",
       "      <td>w</td>\n",
       "      <td>3831.93</td>\n",
       "      <td>3831.93</td>\n",
       "      <td>286.71</td>\n",
       "      <td>286.71</td>\n",
       "      <td>...</td>\n",
       "      <td>0</td>\n",
       "      <td>385183</td>\n",
       "      <td>36151</td>\n",
       "      <td>5000</td>\n",
       "      <td>44984</td>\n",
       "      <td>NaN</td>\n",
       "      <td>None</td>\n",
       "      <td>NaN</td>\n",
       "      <td>NaN</td>\n",
       "      <td>NaN</td>\n",
       "      <td>NaN</td>\n",
       "      <td>NaN</td>\n",
       "      <td>NaN</td>\n",
       "      <td>NaN</td>\n",
       "      <td>NaN</td>\n",
       "      <td>NaN</td>\n",
       "      <td>N</td>\n",
       "      <td>None</td>\n",
       "      <td>None</td>\n",
       "      <td>None</td>\n",
       "      <td>None</td>\n",
       "      <td>None</td>\n",
       "      <td>None</td>\n",
       "      <td>None</td>\n",
       "      <td>None</td>\n",
       "      <td>None</td>\n",
       "      <td>None</td>\n",
       "      <td>None</td>\n",
       "      <td>None</td>\n",
       "      <td>None</td>\n",
       "      <td>None</td>\n",
       "      <td>Cash</td>\n",
       "      <td>N</td>\n",
       "      <td>None</td>\n",
       "      <td>None</td>\n",
       "      <td>None</td>\n",
       "      <td>None</td>\n",
       "      <td>None</td>\n",
       "      <td>None</td>\n",
       "      <td>2018</td>\n",
       "    </tr>\n",
       "    <tr>\n",
       "      <th>4</th>\n",
       "      <td>None</td>\n",
       "      <td>None</td>\n",
       "      <td>30000</td>\n",
       "      <td>30000</td>\n",
       "      <td>30000</td>\n",
       "      <td>60 months</td>\n",
       "      <td>16.14</td>\n",
       "      <td>731.78</td>\n",
       "      <td>C</td>\n",
       "      <td>C4</td>\n",
       "      <td>Mechanic</td>\n",
       "      <td>10+ years</td>\n",
       "      <td>MORTGAGE</td>\n",
       "      <td>57250.0</td>\n",
       "      <td>Not Verified</td>\n",
       "      <td>Dec-2018</td>\n",
       "      <td>Current</td>\n",
       "      <td>n</td>\n",
       "      <td>None</td>\n",
       "      <td>None</td>\n",
       "      <td>debt_consolidation</td>\n",
       "      <td>Debt consolidation</td>\n",
       "      <td>212xx</td>\n",
       "      <td>MD</td>\n",
       "      <td>26.35</td>\n",
       "      <td>0</td>\n",
       "      <td>Dec-2000</td>\n",
       "      <td>0</td>\n",
       "      <td>NaN</td>\n",
       "      <td>NaN</td>\n",
       "      <td>12</td>\n",
       "      <td>0</td>\n",
       "      <td>829</td>\n",
       "      <td>3.6</td>\n",
       "      <td>26</td>\n",
       "      <td>w</td>\n",
       "      <td>29339.02</td>\n",
       "      <td>29339.02</td>\n",
       "      <td>1423.21</td>\n",
       "      <td>1423.21</td>\n",
       "      <td>...</td>\n",
       "      <td>0</td>\n",
       "      <td>157548</td>\n",
       "      <td>29674</td>\n",
       "      <td>9300</td>\n",
       "      <td>32332</td>\n",
       "      <td>NaN</td>\n",
       "      <td>None</td>\n",
       "      <td>NaN</td>\n",
       "      <td>NaN</td>\n",
       "      <td>NaN</td>\n",
       "      <td>NaN</td>\n",
       "      <td>NaN</td>\n",
       "      <td>NaN</td>\n",
       "      <td>NaN</td>\n",
       "      <td>NaN</td>\n",
       "      <td>NaN</td>\n",
       "      <td>N</td>\n",
       "      <td>None</td>\n",
       "      <td>None</td>\n",
       "      <td>None</td>\n",
       "      <td>None</td>\n",
       "      <td>None</td>\n",
       "      <td>None</td>\n",
       "      <td>None</td>\n",
       "      <td>None</td>\n",
       "      <td>None</td>\n",
       "      <td>None</td>\n",
       "      <td>None</td>\n",
       "      <td>None</td>\n",
       "      <td>None</td>\n",
       "      <td>None</td>\n",
       "      <td>Cash</td>\n",
       "      <td>N</td>\n",
       "      <td>None</td>\n",
       "      <td>None</td>\n",
       "      <td>None</td>\n",
       "      <td>None</td>\n",
       "      <td>None</td>\n",
       "      <td>None</td>\n",
       "      <td>2018</td>\n",
       "    </tr>\n",
       "  </tbody>\n",
       "</table>\n",
       "<p>5 rows × 146 columns</p>\n",
       "</div>"
      ],
      "text/plain": [
       "     id member_id  loan_amnt  ...  settlement_percentage  settlement_term  year\n",
       "0  None      None       2500  ...                   None             None  2018\n",
       "1  None      None      30000  ...                   None             None  2018\n",
       "2  None      None       5000  ...                   None             None  2018\n",
       "3  None      None       4000  ...                   None             None  2018\n",
       "4  None      None      30000  ...                   None             None  2018\n",
       "\n",
       "[5 rows x 146 columns]"
      ]
     },
     "execution_count": 39,
     "metadata": {},
     "output_type": "execute_result"
    }
   ],
   "source": [
    "df.head()"
   ]
  },
  {
   "cell_type": "code",
   "execution_count": null,
   "metadata": {},
   "outputs": [],
   "source": [
    "# %%fsql duckdb\n",
    "# data = LOAD \"s3://data-us-east-1-891377318910/datasets/loan/part-loan-2018.parquet\"\n",
    "\n",
    "# df = SELECT * data LIMIT 5"
   ]
  },
  {
   "cell_type": "code",
   "execution_count": null,
   "metadata": {},
   "outputs": [],
   "source": [
    "# query = \"\"\n",
    "# fsql(query, {\"hive.src_table\": df, \"path\": s3_file}).run(\"duckdb\")"
   ]
  },
  {
   "cell_type": "code",
   "execution_count": null,
   "metadata": {},
   "outputs": [],
   "source": [
    "fsql(\"\"\"\n",
    "SELECT * FROM df\n",
    "PRINT\n",
    "\"\"\", df=df).run(\"duckdb\")"
   ]
  },
  {
   "cell_type": "code",
   "execution_count": null,
   "metadata": {},
   "outputs": [],
   "source": []
  }
 ],
 "metadata": {
  "kernelspec": {
   "display_name": "itau_tools",
   "language": "python",
   "name": "python3"
  },
  "language_info": {
   "codemirror_mode": {
    "name": "ipython",
    "version": 3
   },
   "file_extension": ".py",
   "mimetype": "text/x-python",
   "name": "python",
   "nbconvert_exporter": "python",
   "pygments_lexer": "ipython3",
   "version": "3.11.10"
  }
 },
 "nbformat": 4,
 "nbformat_minor": 2
}
