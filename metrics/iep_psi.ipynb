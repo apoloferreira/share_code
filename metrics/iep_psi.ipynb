{
 "cells": [
  {
   "cell_type": "code",
   "execution_count": 1,
   "metadata": {},
   "outputs": [
    {
     "name": "stderr",
     "output_type": "stream",
     "text": [
      "WARNING:root:'PYARROW_IGNORE_TIMEZONE' environment variable was not set. It is required to set this environment variable to '1' in both driver and executor sides if you use pyarrow>=2.0.0. pandas-on-Spark will set it for you but it does not work if there is a Spark context already launched.\n"
     ]
    }
   ],
   "source": [
    "from pyspark.context import SparkContext, SparkConf\n",
    "from pyspark.sql import SparkSession, SQLContext\n",
    "from pyspark.sql import functions as F\n",
    "from pyspark.sql import types as T\n",
    "from pyspark.sql.window import Window\n",
    "from pyspark.sql import udf\n",
    "from pyspark.sql import DataFrame\n",
    "from pyspark.sql import Row, Column\n",
    "from pyspark.sql.utils import AnalysisException\n",
    "from pyspark.pandas.typedef import as_spark_type\n",
    "\n",
    "from pyspark.ml.feature import Bucketizer"
   ]
  },
  {
   "cell_type": "code",
   "execution_count": 213,
   "metadata": {},
   "outputs": [],
   "source": [
    "from typing import Tuple, Optional, Callable, Union, Any, overload\n",
    "from enum import Enum, auto\n",
    "from itertools import chain\n",
    "from decimal import Decimal\n",
    "from datetime import datetime, date\n",
    "import contextlib\n",
    "import sys\n",
    "import math\n",
    "import io\n",
    "import re\n",
    "import math\n",
    "import pandas as pd\n",
    "import numpy as np\n",
    "import matplotlib.pyplot as plt\n",
    "import seaborn as sns"
   ]
  },
  {
   "cell_type": "code",
   "execution_count": 3,
   "metadata": {},
   "outputs": [
    {
     "name": "stdout",
     "output_type": "stream",
     "text": [
      "24/08/24 17:03:14 WARN Utils: Your hostname, dell resolves to a loopback address: 127.0.1.1; using 192.168.15.6 instead (on interface wlp0s20f3)\n",
      "24/08/24 17:03:14 WARN Utils: Set SPARK_LOCAL_IP if you need to bind to another address\n"
     ]
    },
    {
     "name": "stderr",
     "output_type": "stream",
     "text": [
      "Setting default log level to \"WARN\".\n",
      "To adjust logging level use sc.setLogLevel(newLevel). For SparkR, use setLogLevel(newLevel).\n"
     ]
    },
    {
     "name": "stdout",
     "output_type": "stream",
     "text": [
      "24/08/24 17:03:14 WARN NativeCodeLoader: Unable to load native-hadoop library for your platform... using builtin-java classes where applicable\n"
     ]
    }
   ],
   "source": [
    "spark = (\n",
    "    SparkSession.builder.appName(\"Testes\")\n",
    "    .config('spark.sql.adaptive.enabled', 'true')\n",
    "    .config('spark.sql.adaptive.optimizerEnabled', 'true')\n",
    "    .config('spark.sql.execution.arrow.pyspark.enabled', 'true')\n",
    "    .config(\"spark.sql.parquet.datetimeRebaseModeInRead\", \"CORRECTED\")\n",
    "    .config(\"spark.sql.parquet.datetimeRebaseModeInWrite\", \"CORRECTED\")\n",
    "    .config(\"spark.sql.legacy.timeParserPolicy\", \"CORRECTED\")\n",
    "    .config(\"spark.sql.repl.eagerEval.enabled\", \"true\")\n",
    "    .config(\"spark.sql.debug.maxToStringFields\", \"100000\")\n",
    "    .enableHiveSupport()\n",
    "    .getOrCreate()\n",
    ")\n",
    "\n",
    "spark.sparkContext.setLogLevel(\"ERROR\")\n",
    "sc = spark.sparkContext"
   ]
  },
  {
   "cell_type": "markdown",
   "metadata": {},
   "source": [
    "# ChatGPT"
   ]
  },
  {
   "cell_type": "code",
   "execution_count": 4,
   "metadata": {},
   "outputs": [],
   "source": [
    "# Sample DataFrames for expected (reference) and actual distributions\n",
    "expected_data = [(1,), (2,), (2,), (3,), (4,), (4,), (5,), (5,), (6,), (7,)]\n",
    "actual_data = [(1,), (2,), (2,), (3,), (4,), (5,), (5,), (50,), (7,), (8,)]\n",
    "\n",
    "expected_df = spark.createDataFrame(expected_data, [\"value\"])\n",
    "actual_df = spark.createDataFrame(actual_data, [\"value\"])"
   ]
  },
  {
   "cell_type": "code",
   "execution_count": 5,
   "metadata": {},
   "outputs": [
    {
     "name": "stdout",
     "output_type": "stream",
     "text": [
      "+-----+\n",
      "|value|\n",
      "+-----+\n",
      "|    1|\n",
      "|    2|\n",
      "|    2|\n",
      "|    3|\n",
      "|    4|\n",
      "|    5|\n",
      "|    5|\n",
      "|   50|\n",
      "|    7|\n",
      "|    8|\n",
      "+-----+\n",
      "\n"
     ]
    }
   ],
   "source": [
    "actual_df.show()"
   ]
  },
  {
   "cell_type": "code",
   "execution_count": 6,
   "metadata": {},
   "outputs": [],
   "source": [
    "# Define binning boundaries (you can adjust this based on your data)\n",
    "splits = [-float(\"inf\"), 2, 4, 6, float(\"inf\")]"
   ]
  },
  {
   "cell_type": "code",
   "execution_count": 7,
   "metadata": {},
   "outputs": [],
   "source": [
    "# Apply bucketizer to both expected and actual DataFrames\n",
    "bucketizer = Bucketizer(splits=splits, inputCol=\"value\", outputCol=\"bucket\")\n",
    "expected_binned = bucketizer.transform(expected_df)\n",
    "actual_binned = bucketizer.transform(actual_df)"
   ]
  },
  {
   "cell_type": "code",
   "execution_count": 8,
   "metadata": {},
   "outputs": [
    {
     "name": "stdout",
     "output_type": "stream",
     "text": [
      "+-----+------+\n",
      "|value|bucket|\n",
      "+-----+------+\n",
      "|    1|   0.0|\n",
      "|    2|   1.0|\n",
      "|    2|   1.0|\n",
      "|    3|   1.0|\n",
      "|    4|   2.0|\n",
      "|    5|   2.0|\n",
      "|    5|   2.0|\n",
      "|   50|   3.0|\n",
      "|    7|   3.0|\n",
      "|    8|   3.0|\n",
      "+-----+------+\n",
      "\n"
     ]
    }
   ],
   "source": [
    "actual_binned.show()"
   ]
  },
  {
   "cell_type": "code",
   "execution_count": 9,
   "metadata": {},
   "outputs": [],
   "source": [
    "# Calculate the distribution for expected and actual\n",
    "expected_distribution = expected_binned.groupBy(\"bucket\").agg(F.count(\"value\").alias(\"expected_count\"))\n",
    "actual_distribution = actual_binned.groupBy(\"bucket\").agg(F.count(\"value\").alias(\"actual_count\"))"
   ]
  },
  {
   "cell_type": "code",
   "execution_count": 10,
   "metadata": {},
   "outputs": [
    {
     "name": "stdout",
     "output_type": "stream",
     "text": [
      "+------+------------+\n",
      "|bucket|actual_count|\n",
      "+------+------------+\n",
      "|   0.0|           1|\n",
      "|   1.0|           3|\n",
      "|   2.0|           3|\n",
      "|   3.0|           3|\n",
      "+------+------------+\n",
      "\n"
     ]
    }
   ],
   "source": [
    "actual_distribution.show()"
   ]
  },
  {
   "cell_type": "code",
   "execution_count": 11,
   "metadata": {},
   "outputs": [],
   "source": [
    "# Join expected and actual distributions on bucket\n",
    "distribution = expected_distribution.join(actual_distribution, \"bucket\", \"outer\").fillna(0)\n",
    "\n",
    "# Add columns for expected and actual percentages\n",
    "total_expected = expected_df.count()\n",
    "total_actual = actual_df.count()"
   ]
  },
  {
   "cell_type": "code",
   "execution_count": 12,
   "metadata": {},
   "outputs": [],
   "source": [
    "distribution = distribution\\\n",
    "    .withColumn(\"expected_percent\", F.col(\"expected_count\") / total_expected)\\\n",
    "    .withColumn(\"actual_percent\", F.col(\"actual_count\") / total_actual)"
   ]
  },
  {
   "cell_type": "code",
   "execution_count": 13,
   "metadata": {},
   "outputs": [
    {
     "name": "stdout",
     "output_type": "stream",
     "text": [
      "+------+--------------+------------+----------------+--------------+\n",
      "|bucket|expected_count|actual_count|expected_percent|actual_percent|\n",
      "+------+--------------+------------+----------------+--------------+\n",
      "|   0.0|             1|           1|             0.1|           0.1|\n",
      "|   1.0|             3|           3|             0.3|           0.3|\n",
      "|   2.0|             4|           3|             0.4|           0.3|\n",
      "|   3.0|             2|           3|             0.2|           0.3|\n",
      "+------+--------------+------------+----------------+--------------+\n",
      "\n"
     ]
    }
   ],
   "source": [
    "distribution.show()"
   ]
  },
  {
   "cell_type": "code",
   "execution_count": 14,
   "metadata": {},
   "outputs": [],
   "source": [
    "# Calculate PSI\n",
    "distribution = distribution.withColumn(\"psi_component\", \n",
    "    (F.col(\"actual_percent\") - F.col(\"expected_percent\")) * \n",
    "    F.when(F.col(\"actual_percent\") == 0, F.lit(0.0)).otherwise(F.log(F.col(\"actual_percent\") / F.col(\"expected_percent\")))\n",
    ")"
   ]
  },
  {
   "cell_type": "code",
   "execution_count": 15,
   "metadata": {},
   "outputs": [
    {
     "name": "stdout",
     "output_type": "stream",
     "text": [
      "PSI: 0.06931471805599454\n"
     ]
    }
   ],
   "source": [
    "# Sum PSI components to get the final PSI value\n",
    "psi_value = distribution.agg({\"psi_component\": \"sum\"}).collect()[0][0]\n",
    "print(f\"PSI: {psi_value}\")"
   ]
  },
  {
   "cell_type": "markdown",
   "metadata": {},
   "source": [
    "# EvidentlyAI"
   ]
  },
  {
   "cell_type": "code",
   "execution_count": 46,
   "metadata": {},
   "outputs": [],
   "source": [
    "def calculate_stats(df: DataFrame, column_name: str, *funcs: Callable[[str], Column]) -> Union[Tuple, Any]:\n",
    "    cols = [f(column_name).alias(str(i)) for i, f in enumerate(funcs)]\n",
    "    result = df.select(cols).first()\n",
    "    if result is None:\n",
    "        raise ValueError(\"Empty DataFrame\")\n",
    "    if len(funcs) == 1:\n",
    "        return result[\"0\"]\n",
    "    return tuple(result[str(i)] for i in range(len(funcs)))"
   ]
  },
  {
   "cell_type": "code",
   "execution_count": 47,
   "metadata": {},
   "outputs": [],
   "source": [
    "def get_histogram(\n",
    "    df: DataFrame,\n",
    "    column_name: str,\n",
    "    nbinsx: int,\n",
    "    density: bool,\n",
    "    *,\n",
    "    dmax: Optional[float] = None,\n",
    "    dmin: Optional[float] = None,\n",
    ") -> Tuple[np.ndarray, np.ndarray]:\n",
    "    if dmax is None or dmin is None:\n",
    "        min_val, max_val = calculate_stats(df, column_name, F.min, F.max)\n",
    "        if min_val == max_val:\n",
    "            min_val -= 0.5\n",
    "            max_val += 0.5\n",
    "    else:\n",
    "        min_val, max_val = dmin, dmax\n",
    "    step = (max_val - min_val) / nbinsx\n",
    "    hist = (\n",
    "        df.select(column_name, F.floor((F.col(column_name) - min_val) / step).alias(\"bucket\"))\n",
    "        .select(\n",
    "            column_name, \n",
    "            F.when(F.col(\"bucket\") >= nbinsx, nbinsx - 1).otherwise(F.col(\"bucket\")).alias(\"bucket\")\n",
    "        )\n",
    "        .groupby(\"bucket\")\n",
    "        .count()\n",
    "    )\n",
    "    hist_values = {r.bucket: r[\"count\"] for r in hist.collect()}\n",
    "    n = np.array([hist_values.get(i, 0) for i in range(nbinsx)])\n",
    "    bin_edges = np.array([min_val + step * i for i in range(nbinsx + 1)])\n",
    "\n",
    "    if density:\n",
    "        db = np.array(np.diff(bin_edges), float)\n",
    "        return (n / db / n.sum()).tolist(), bin_edges\n",
    "\n",
    "    return n, bin_edges"
   ]
  },
  {
   "cell_type": "code",
   "execution_count": 48,
   "metadata": {},
   "outputs": [],
   "source": [
    "def hist_bin_doane(data: DataFrame, column_name: str) -> Tuple[int, Optional[float], Optional[float]]:\n",
    "    \"\"\"\n",
    "    Doane's histogram bin estimator.\n",
    "\n",
    "    Improved version of Sturges' formula which works better for\n",
    "    non-normal data. See\n",
    "    stats.stackexchange.com/questions/55134/doanes-formula-for-histogram-binning\n",
    "    \"\"\"\n",
    "    data = data.cache()\n",
    "    size = data.count()\n",
    "    if size > 2:\n",
    "        sg1 = np.sqrt(6.0 * (size - 2) / ((size + 1.0) * (size + 3)))\n",
    "        dmax, dmin, dmean, sigma = calculate_stats(data, column_name, F.max, F.min, F.mean, F.stddev_pop)\n",
    "        if sigma > 0.0:\n",
    "            g1 = calculate_stats(data, column_name, lambda x: F.mean(F.pow(((F.col(x) - dmean) / sigma), 3)))\n",
    "            width = (dmax - dmin) / (1.0 + np.log2(size) + np.log2(1.0 + np.absolute(g1) / sg1))\n",
    "            return int(np.ceil((dmax - dmin) / width)), dmax, dmin\n",
    "    return 1, None, None"
   ]
  },
  {
   "cell_type": "code",
   "execution_count": 55,
   "metadata": {},
   "outputs": [],
   "source": [
    "def get_binned_data(\n",
    "    reference_data: DataFrame,\n",
    "    current_data: DataFrame,\n",
    "    column_name: str,\n",
    "    feature_type: str,\n",
    "    fill_zeroes: bool = True,\n",
    "):\n",
    "    \"\"\"Split variable into n buckets based on reference quantiles\n",
    "    Args:\n",
    "        reference_data: reference data\n",
    "        current_data: current data\n",
    "        feature_type: feature type\n",
    "        n: number of quantiles\n",
    "    Returns:\n",
    "        reference_percents: % of records in each bucket for reference\n",
    "        current_percents: % of records in each bucket for current\n",
    "    \"\"\"\n",
    "    # n_vals = reference_data.distinct().count()\n",
    "\n",
    "    if feature_type == \"num\":  # and n_vals > 20:\n",
    "        bins, dmax, dmin = hist_bin_doane(\n",
    "            current_data.dropna(subset=[column_name]).union(reference_data.dropna(subset=[column_name])), column_name\n",
    "        )\n",
    "        print(f\"Bins: {bins}  |  Dmax: {dmax}  |  Dmin: {dmin}\")\n",
    "\n",
    "        reference_percents = (\n",
    "            get_histogram(reference_data, column_name=column_name, nbinsx=bins, density=False, dmax=dmax, dmin=dmin)[0]\n",
    "            / reference_data.count()\n",
    "        )\n",
    "        current_percents = (\n",
    "            get_histogram(current_data, column_name=column_name, nbinsx=bins, density=False, dmax=dmax, dmin=dmin)[0]\n",
    "            / current_data.count()\n",
    "        )\n",
    "\n",
    "    else:\n",
    "        ref_stats = reference_data.groupby(column_name).agg(F.count(column_name).alias(\"ref\"))\n",
    "        cur_stats = current_data.groupby(column_name).agg(F.count(column_name).alias(\"cur\"))\n",
    "        stats = ref_stats.join(cur_stats, on=column_name, how=\"fullouter\").collect()\n",
    "\n",
    "        reference_percents = np.array([r[\"ref\"] or 0 for r in stats])\n",
    "        reference_percents = reference_percents / reference_percents.sum()\n",
    "        current_percents = np.array([r[\"cur\"] or 0 for r in stats])\n",
    "        current_percents = current_percents / current_percents.sum()\n",
    "\n",
    "    if fill_zeroes:\n",
    "        np.place(\n",
    "            reference_percents,\n",
    "            reference_percents == 0,\n",
    "            min(reference_percents[reference_percents != 0]) / 10**6\n",
    "            if min(reference_percents[reference_percents != 0]) <= 0.0001\n",
    "            else 0.0001,\n",
    "        )\n",
    "        np.place(\n",
    "            current_percents,\n",
    "            current_percents == 0,\n",
    "            min(current_percents[current_percents != 0]) / 10**6\n",
    "            if min(current_percents[current_percents != 0]) <= 0.0001\n",
    "            else 0.0001,\n",
    "        )\n",
    "\n",
    "    return reference_percents, current_percents"
   ]
  },
  {
   "cell_type": "code",
   "execution_count": 200,
   "metadata": {},
   "outputs": [],
   "source": [
    "ref_data =     [(2,), (2,), (2,), (3,), (4,), (4,), (5,), (5,), (6,), (7,)]\n",
    "current_data = [(2,), (2,), (2,), (3,), (3,), (4,), (5,), (5,), (7,), (8,)]\n",
    "\n",
    "# ref_data = [(\"a\",), (\"a\",), (\"a\",), (\"b\",), (\"c\",), (\"c\",), (\"d\",), (\"d\",), (\"e\",), (\"f\",)]\n",
    "# current_data = [(\"a\",), (\"a\",), (\"a\",), (\"b\",), (\"c\",), (\"d\",), (\"d\",), (\"x\",), (\"f\",), (\"g\",)]\n",
    "\n",
    "\n",
    "df_ref = spark.createDataFrame(ref_data, [\"value\"])\n",
    "df_current = spark.createDataFrame(current_data, [\"value\"])\n",
    "column_name = \"value\""
   ]
  },
  {
   "cell_type": "code",
   "execution_count": 201,
   "metadata": {},
   "outputs": [
    {
     "name": "stdout",
     "output_type": "stream",
     "text": [
      "Bins: 7  |  Dmax: 8  |  Dmin: 2\n"
     ]
    }
   ],
   "source": [
    "feature_type = \"num\"\n",
    "\n",
    "reference_percents, current_percents = get_binned_data(df_ref, df_current, column_name, feature_type)"
   ]
  },
  {
   "cell_type": "code",
   "execution_count": 202,
   "metadata": {},
   "outputs": [
    {
     "name": "stdout",
     "output_type": "stream",
     "text": [
      "[0.0, 0.06931471805599453, 0.06931471805599453, 0.0, 0.6900847523703155, 0.0, 0.6900847523703155]\n"
     ]
    }
   ],
   "source": [
    "psi_values = (reference_percents - current_percents) * np.log(reference_percents / current_percents)\n",
    "print(list(psi_values))"
   ]
  },
  {
   "cell_type": "code",
   "execution_count": 203,
   "metadata": {},
   "outputs": [],
   "source": [
    "psi_value = np.sum(psi_values)"
   ]
  },
  {
   "cell_type": "code",
   "execution_count": 204,
   "metadata": {},
   "outputs": [
    {
     "data": {
      "text/plain": [
       "1.5187989408526201"
      ]
     },
     "execution_count": 204,
     "metadata": {},
     "output_type": "execute_result"
    }
   ],
   "source": [
    "psi_value"
   ]
  },
  {
   "cell_type": "markdown",
   "metadata": {},
   "source": [
    "# Pandas 1"
   ]
  },
  {
   "cell_type": "code",
   "execution_count": null,
   "metadata": {},
   "outputs": [],
   "source": [
    "# https://www.aporia.com/learn/data-science/practical-introduction-to-population-stability-index-psi/"
   ]
  },
  {
   "cell_type": "code",
   "execution_count": 205,
   "metadata": {},
   "outputs": [],
   "source": [
    "def prepare_data_for_plotting(dev_data, val_data, col_name, num_bins=10):\n",
    "    bins = np.linspace(dev_data[col_name].min(), dev_data[col_name].max(), num_bins + 1)\n",
    "    print(f\"Bins: {list(bins)}\", end=\"\\n\\n\")\n",
    "    dev_data['bin'] = pd.cut(dev_data[col_name], bins=bins, include_lowest=True)\n",
    "    val_data['bin'] = pd.cut(val_data[col_name], bins=bins, include_lowest=True)\n",
    "    dev_group = dev_data.groupby('bin', observed=True)[col_name].count().reset_index(name='dev_count')\n",
    "    val_group = val_data.groupby('bin', observed=True)[col_name].count().reset_index(name='val_count')\n",
    "    # Merge dev and val counts\n",
    "    merged_counts = dev_group.merge(val_group, on='bin', how='left')\n",
    "    # Calculate percentages\n",
    "    merged_counts['dev_pct'] = merged_counts['dev_count'] / len(dev_data) * 100\n",
    "    merged_counts['val_pct'] = merged_counts['val_count'] / len(val_data) * 100\n",
    "    return merged_counts"
   ]
  },
  {
   "cell_type": "code",
   "execution_count": 206,
   "metadata": {},
   "outputs": [],
   "source": [
    "def plot_psi(dev_data, val_data, psi_value, col_name, num_bins=10):\n",
    "    plot_data = prepare_data_for_plotting(dev_data, val_data, col_name, num_bins)\n",
    "    fig, ax = plt.subplots(figsize=(12, 6))  # Adjust the chart size here\n",
    "    index = np.arange(len(plot_data))\n",
    "    bar_width = 0.35\n",
    "    dev_bars = ax.bar(index, plot_data['dev_pct'], bar_width, label='Development')\n",
    "    val_bars = ax.bar(index + bar_width, plot_data['val_pct'], bar_width, label='Validation')\n",
    "    ax.set_xlabel('Bins')\n",
    "    ax.set_ylabel('Percentage')\n",
    "    ax.set_title(f'Population Stability Index (PSI): {psi_value:.4f}')\n",
    "    ax.set_xticks(index + bar_width / 2)\n",
    "    ax.set_xticklabels(plot_data['bin'].apply(lambda x: f\"{x.left:.2f}-{x.right:.2f}\"))\n",
    "    ax.legend()\n",
    "    fig.tight_layout()\n",
    "    plt.show()"
   ]
  },
  {
   "cell_type": "code",
   "execution_count": 207,
   "metadata": {},
   "outputs": [],
   "source": [
    "def population_stability_index(dev_data, val_data, col_name, num_bins=10):\n",
    "    bins = np.linspace(dev_data[col_name].min(), dev_data[col_name].max(), num_bins + 1)\n",
    "    print(f\"Bins: {list(bins)}\", end=\"\\n\\n\")\n",
    "    dev_data['bin'] = pd.cut(dev_data[col_name], bins=bins, include_lowest=True)\n",
    "    val_data['bin'] = pd.cut(val_data[col_name], bins=bins, include_lowest=True)\n",
    "\n",
    "    dev_group = dev_data.groupby('bin', observed=True)[col_name].count().reset_index(name='dev_count')\n",
    "    val_group = val_data.groupby('bin', observed=True)[col_name].count().reset_index(name='val_count')\n",
    "\n",
    "    merged_counts = dev_group.merge(val_group, on='bin', how='left')\n",
    "\n",
    "    small_constant = 1e-10\n",
    "    merged_counts['dev_pct'] = (merged_counts['dev_count'] / len(dev_data)) + small_constant\n",
    "    merged_counts['val_pct'] = (merged_counts['val_count'] / len(val_data)) + small_constant\n",
    "    merged_counts['psi'] = (merged_counts['val_pct'] - merged_counts['dev_pct']) * np.log(merged_counts['val_pct'] / merged_counts['dev_pct'])\n",
    "\n",
    "    return merged_counts['psi'].sum()"
   ]
  },
  {
   "cell_type": "code",
   "execution_count": 208,
   "metadata": {},
   "outputs": [],
   "source": [
    "ref_data =     [(2,), (2,), (2,), (3,), (4,), (4,), (5,), (5,), (6,), (7,)]\n",
    "current_data = [(2,), (2,), (2,), (3,), (3,), (4,), (5,), (5,), (7,), (8,)]\n",
    "\n",
    "# ref_data = [(\"a\",), (\"a\",), (\"a\",), (\"b\",), (\"c\",), (\"c\",), (\"d\",), (\"d\",), (\"e\",), (\"f\",)]\n",
    "# current_data = [(\"a\",), (\"a\",), (\"a\",), (\"b\",), (\"c\",), (\"d\",), (\"d\",), (\"x\",), (\"f\",), (\"g\",)]\n",
    "\n",
    "\n",
    "df_ref = pd.DataFrame(ref_data, columns=[\"value\"])\n",
    "df_current = pd.DataFrame(current_data, columns=[\"value\"])\n",
    "column_name = \"value\"\n",
    "n_bins = 6"
   ]
  },
  {
   "cell_type": "code",
   "execution_count": 209,
   "metadata": {},
   "outputs": [
    {
     "name": "stdout",
     "output_type": "stream",
     "text": [
      "Bins: [2.0, 2.8333333333333335, 3.666666666666667, 4.5, 5.333333333333334, 6.166666666666667, 7.0]\n",
      "\n",
      "PSI Value: 0.13862943601198913\n"
     ]
    }
   ],
   "source": [
    "psi_value = population_stability_index(df_ref, df_current, column_name, n_bins)\n",
    "print(f\"PSI Value: {psi_value}\")"
   ]
  },
  {
   "cell_type": "code",
   "execution_count": null,
   "metadata": {},
   "outputs": [],
   "source": [
    "# [0.0, 0.06931471805599453, 0.06931471805599453, 0.0, 0.6900847523703155, 0.0, 0.6900847523703155]"
   ]
  },
  {
   "cell_type": "code",
   "execution_count": 210,
   "metadata": {},
   "outputs": [
    {
     "name": "stdout",
     "output_type": "stream",
     "text": [
      "Bins: [2.0, 2.8333333333333335, 3.666666666666667, 4.5, 5.333333333333334, 6.166666666666667, 7.0]\n",
      "\n"
     ]
    },
    {
     "data": {
      "image/png": "[encoded data removed]",
      "text/plain": [
       "<Figure size 1200x600 with 1 Axes>"
      ]
     },
     "metadata": {},
     "output_type": "display_data"
    }
   ],
   "source": [
    "plot_psi(df_ref, df_current, psi_value, column_name, n_bins)"
   ]
  },
  {
   "cell_type": "markdown",
   "metadata": {},
   "source": [
    "# Pandas 2"
   ]
  },
  {
   "cell_type": "code",
   "execution_count": null,
   "metadata": {},
   "outputs": [],
   "source": [
    "# https://mwburke.github.io/data%20science/2018/04/29/population-stability-index.html\n",
    "# https://github.com/mwburke/population-stability-index"
   ]
  },
  {
   "cell_type": "code",
   "execution_count": 214,
   "metadata": {},
   "outputs": [],
   "source": [
    "sns.set_style(\"white\")"
   ]
  },
  {
   "cell_type": "code",
   "execution_count": 211,
   "metadata": {},
   "outputs": [],
   "source": [
    "def calculate_psi(expected, actual, buckettype='bins', buckets=10, axis=0):\n",
    "    '''Calculate the PSI (population stability index) across all variables\n",
    "\n",
    "    Args:\n",
    "       expected: numpy matrix of original values\n",
    "       actual: numpy matrix of new values\n",
    "       buckettype: type of strategy for creating buckets, bins splits into even splits, quantiles splits into quantile buckets\n",
    "       buckets: number of quantiles to use in bucketing variables\n",
    "       axis: axis by which variables are defined, 0 for vertical, 1 for horizontal\n",
    "\n",
    "    Returns:\n",
    "       psi_values: ndarray of psi values for each variable\n",
    "\n",
    "    Author:\n",
    "       Matthew Burke\n",
    "       github.com/mwburke\n",
    "       mwburke.github.io.com\n",
    "    '''\n",
    "\n",
    "    def psi(expected_array, actual_array, buckets):\n",
    "        '''Calculate the PSI for a single variable\n",
    "\n",
    "        Args:\n",
    "           expected_array: numpy array of original values\n",
    "           actual_array: numpy array of new values, same size as expected\n",
    "           buckets: number of percentile ranges to bucket the values into\n",
    "\n",
    "        Returns:\n",
    "           psi_value: calculated PSI value\n",
    "        '''\n",
    "\n",
    "        def scale_range (input, min, max):\n",
    "            input += -(np.min(input))\n",
    "            input /= np.max(input) / (max - min)\n",
    "            input += min\n",
    "            return input\n",
    "\n",
    "        breakpoints = np.arange(0, buckets + 1) / (buckets) * 100\n",
    "\n",
    "        if buckettype == 'bins':\n",
    "            breakpoints = scale_range(breakpoints, np.min(expected_array), np.max(expected_array))\n",
    "        elif buckettype == 'quantiles':\n",
    "            breakpoints = np.stack([np.percentile(expected_array, b) for b in breakpoints])\n",
    "\n",
    "        expected_fractions = np.histogram(expected_array, breakpoints)[0] / len(expected_array)\n",
    "        actual_fractions = np.histogram(actual_array, breakpoints)[0] / len(actual_array)\n",
    "\n",
    "        def sub_psi(e_perc, a_perc):\n",
    "            '''Calculate the actual PSI value from comparing the values.\n",
    "               Update the actual value to a very small number if equal to zero\n",
    "            '''\n",
    "            if a_perc == 0:\n",
    "                a_perc = 0.0001\n",
    "            if e_perc == 0:\n",
    "                e_perc = 0.0001\n",
    "\n",
    "            value = (e_perc - a_perc) * np.log(e_perc / a_perc)\n",
    "            return(value)\n",
    "\n",
    "        psi_value = sum(sub_psi(expected_fractions[i], actual_fractions[i]) for i in range(0, len(expected_fractions)))\n",
    "\n",
    "        return(psi_value)\n",
    "\n",
    "    if len(expected.shape) == 1:\n",
    "        psi_values = np.empty(len(expected.shape))\n",
    "    else:\n",
    "        psi_values = np.empty(expected.shape[1 - axis])\n",
    "\n",
    "    for i in range(0, len(psi_values)):\n",
    "        if len(psi_values) == 1:\n",
    "            psi_values = psi(expected, actual, buckets)\n",
    "        elif axis == 0:\n",
    "            psi_values[i] = psi(expected[:,i], actual[:,i], buckets)\n",
    "        elif axis == 1:\n",
    "            psi_values[i] = psi(expected[i,:], actual[i,:], buckets)\n",
    "\n",
    "    return(psi_values)"
   ]
  },
  {
   "cell_type": "code",
   "execution_count": 225,
   "metadata": {},
   "outputs": [],
   "source": [
    "ref_data =     [2, 2, 2, 3, 4, 4, 5, 5, 6, 7]\n",
    "current_data = [2, 2, 2, 3, 3, 4, 5, 5, 7, 8]\n",
    "\n",
    "# ref_data = [(\"a\",), (\"a\",), (\"a\",), (\"b\",), (\"c\",), (\"c\",), (\"d\",), (\"d\",), (\"e\",), (\"f\",)]\n",
    "# current_data = [(\"a\",), (\"a\",), (\"a\",), (\"b\",), (\"c\",), (\"d\",), (\"d\",), (\"x\",), (\"f\",), (\"g\",)]\n",
    "\n",
    "\n",
    "df = pd.DataFrame({\n",
    "    \"ref\": ref_data,\n",
    "    \"current\": current_data\n",
    "})\n",
    "\n",
    "df_ref = df[['ref']]\n",
    "df_current = df[['current']]\n",
    "\n",
    "n_bins = 6"
   ]
  },
  {
   "cell_type": "code",
   "execution_count": 226,
   "metadata": {},
   "outputs": [
    {
     "data": {
      "text/html": [
       "<div>\n",
       "<style scoped>\n",
       "    .dataframe tbody tr th:only-of-type {\n",
       "        vertical-align: middle;\n",
       "    }\n",
       "\n",
       "    .dataframe tbody tr th {\n",
       "        vertical-align: top;\n",
       "    }\n",
       "\n",
       "    .dataframe thead th {\n",
       "        text-align: right;\n",
       "    }\n",
       "</style>\n",
       "<table border=\"1\" class=\"dataframe\">\n",
       "  <thead>\n",
       "    <tr style=\"text-align: right;\">\n",
       "      <th></th>\n",
       "      <th>ref</th>\n",
       "      <th>current</th>\n",
       "    </tr>\n",
       "  </thead>\n",
       "  <tbody>\n",
       "    <tr>\n",
       "      <th>0</th>\n",
       "      <td>2</td>\n",
       "      <td>2</td>\n",
       "    </tr>\n",
       "    <tr>\n",
       "      <th>1</th>\n",
       "      <td>2</td>\n",
       "      <td>2</td>\n",
       "    </tr>\n",
       "    <tr>\n",
       "      <th>2</th>\n",
       "      <td>2</td>\n",
       "      <td>2</td>\n",
       "    </tr>\n",
       "    <tr>\n",
       "      <th>3</th>\n",
       "      <td>3</td>\n",
       "      <td>3</td>\n",
       "    </tr>\n",
       "    <tr>\n",
       "      <th>4</th>\n",
       "      <td>4</td>\n",
       "      <td>3</td>\n",
       "    </tr>\n",
       "  </tbody>\n",
       "</table>\n",
       "</div>"
      ],
      "text/plain": [
       "   ref  current\n",
       "0    2        2\n",
       "1    2        2\n",
       "2    2        2\n",
       "3    3        3\n",
       "4    4        3"
      ]
     },
     "execution_count": 226,
     "metadata": {},
     "output_type": "execute_result"
    }
   ],
   "source": [
    "df.head()"
   ]
  },
  {
   "cell_type": "code",
   "execution_count": 219,
   "metadata": {},
   "outputs": [
    {
     "data": {
      "text/html": [
       "<div>\n",
       "<style scoped>\n",
       "    .dataframe tbody tr th:only-of-type {\n",
       "        vertical-align: middle;\n",
       "    }\n",
       "\n",
       "    .dataframe tbody tr th {\n",
       "        vertical-align: top;\n",
       "    }\n",
       "\n",
       "    .dataframe thead th {\n",
       "        text-align: right;\n",
       "    }\n",
       "</style>\n",
       "<table border=\"1\" class=\"dataframe\">\n",
       "  <thead>\n",
       "    <tr style=\"text-align: right;\">\n",
       "      <th></th>\n",
       "      <th>ref</th>\n",
       "      <th>current</th>\n",
       "      <th>PSI</th>\n",
       "    </tr>\n",
       "  </thead>\n",
       "  <tbody>\n",
       "    <tr>\n",
       "      <th>0</th>\n",
       "      <td>2</td>\n",
       "      <td>2</td>\n",
       "      <td>0.000000</td>\n",
       "    </tr>\n",
       "    <tr>\n",
       "      <th>1</th>\n",
       "      <td>2</td>\n",
       "      <td>2</td>\n",
       "      <td>0.000000</td>\n",
       "    </tr>\n",
       "    <tr>\n",
       "      <th>2</th>\n",
       "      <td>2</td>\n",
       "      <td>2</td>\n",
       "      <td>0.000000</td>\n",
       "    </tr>\n",
       "    <tr>\n",
       "      <th>3</th>\n",
       "      <td>3</td>\n",
       "      <td>3</td>\n",
       "      <td>0.000000</td>\n",
       "    </tr>\n",
       "    <tr>\n",
       "      <th>4</th>\n",
       "      <td>4</td>\n",
       "      <td>3</td>\n",
       "      <td>0.287682</td>\n",
       "    </tr>\n",
       "  </tbody>\n",
       "</table>\n",
       "</div>"
      ],
      "text/plain": [
       "   ref  current       PSI\n",
       "0    2        2  0.000000\n",
       "1    2        2  0.000000\n",
       "2    2        2  0.000000\n",
       "3    3        3  0.000000\n",
       "4    4        3  0.287682"
      ]
     },
     "execution_count": 219,
     "metadata": {},
     "output_type": "execute_result"
    }
   ],
   "source": [
    "df['PSI'] = (df['current'] - df['ref']) * np.log(df['current'] / df['ref'])\n",
    "df.head()"
   ]
  },
  {
   "cell_type": "code",
   "execution_count": 220,
   "metadata": {},
   "outputs": [
    {
     "data": {
      "text/plain": [
       "0.5753641449035618"
      ]
     },
     "execution_count": 220,
     "metadata": {},
     "output_type": "execute_result"
    }
   ],
   "source": [
    "np.sum(df['PSI'])"
   ]
  },
  {
   "cell_type": "code",
   "execution_count": 228,
   "metadata": {},
   "outputs": [],
   "source": [
    "calculate_psi(df_ref, df_current, buckettype='quantiles', buckets=10, axis=1)"
   ]
  },
  {
   "cell_type": "markdown",
   "metadata": {},
   "source": [
    "# Pandas 3"
   ]
  },
  {
   "cell_type": "code",
   "execution_count": null,
   "metadata": {},
   "outputs": [],
   "source": [
    "# https://github.com/feature-engine/feature_engine/blob/main/feature_engine/selection/drop_psi_features.py\n",
    "# https://feature-engine.trainindata.com/en/latest/api_doc/selection/DropHighPSIFeatures.html"
   ]
  },
  {
   "cell_type": "code",
   "execution_count": null,
   "metadata": {},
   "outputs": [],
   "source": [
    "class DropHighPSIFeatures(BaseSelector):\n",
    "\n",
    "    def __init__(\n",
    "        self,\n",
    "        split_col: Union[str, None] = None,\n",
    "        split_frac: float = 0.5,\n",
    "        split_distinct: bool = False,\n",
    "        cut_off: Union[None, int, float, datetime.date, List] = None,\n",
    "        switch: bool = False,\n",
    "        threshold: Union[float, int, str] = 0.25,\n",
    "        bins: int = 10,\n",
    "        strategy: str = \"equal_frequency\",\n",
    "        min_pct_empty_bins: float = 0.0001,\n",
    "        missing_values: str = \"raise\",\n",
    "        variables: Variables = None,\n",
    "        confirm_variables: bool = False,\n",
    "        p_value: float = 0.001,\n",
    "    ):\n",
    "\n",
    "        if not isinstance(split_col, (str, int, type(None))):\n",
    "            raise ValueError(\n",
    "                f\"split_col must be a string an integer or None. Got \"\n",
    "                f\"{split_col} instead.\"\n",
    "            )\n",
    "\n",
    "        # split_frac and cut_off can't be None at the same time\n",
    "        if not split_frac and not cut_off:\n",
    "            raise ValueError(\n",
    "                f\"cut_off and split_frac cannot be both set to None \"\n",
    "                f\"The current values are {split_frac, cut_off}. Please \"\n",
    "                f\"specify a value for at least one of these parameters.\"\n",
    "            )\n",
    "\n",
    "        # check split_frac only if it will be used.\n",
    "        if split_frac and not cut_off:\n",
    "            if not (0 < split_frac < 1):\n",
    "                raise ValueError(\n",
    "                    f\"split_frac must be a float between 0 and 1. Got {split_frac} \"\n",
    "                    f\"instead.\"\n",
    "                )\n",
    "\n",
    "        if not isinstance(split_distinct, bool):\n",
    "            raise ValueError(\n",
    "                f\"split_distinct must be a boolean. Got {split_distinct} instead.\"\n",
    "            )\n",
    "\n",
    "        if not isinstance(switch, bool):\n",
    "            raise ValueError(f\"switch must be a boolean. Got {switch} instead.\")\n",
    "\n",
    "        if (isinstance(threshold, str) and (threshold != \"auto\")) or (\n",
    "            isinstance(threshold, (float, int)) and threshold < 0\n",
    "        ):\n",
    "            raise ValueError(\n",
    "                f\"threshold must be greater than 0 or 'auto'. Got {threshold} instead.\"\n",
    "            )\n",
    "\n",
    "        if not isinstance(bins, int) or bins <= 1:\n",
    "            raise ValueError(f\"bins must be an integer >= 1. Got {bins} instead.\")\n",
    "\n",
    "        if strategy not in [\"equal_width\", \"equal_frequency\"]:\n",
    "            raise ValueError(\n",
    "                \"strategy takes only values equal_width or equal_frequency. Got \"\n",
    "                f\"{strategy} instead.\"\n",
    "            )\n",
    "\n",
    "        if not isinstance(min_pct_empty_bins, (float, int)) or min_pct_empty_bins < 0:\n",
    "            raise ValueError(\n",
    "                f\"min_pct_empty_bins must be >= 0. Got {min_pct_empty_bins} \"\n",
    "                f\"instead.\"\n",
    "            )\n",
    "\n",
    "        if missing_values not in [\"raise\", \"ignore\"]:\n",
    "            raise ValueError(\n",
    "                f\"missing_values takes only values 'raise' or 'ignore'. Got \"\n",
    "                f\"{missing_values} instead.\"\n",
    "            )\n",
    "\n",
    "        if isinstance(variables, list):\n",
    "            if split_col in variables:\n",
    "                raise ValueError(\n",
    "                    f\"{split_col} cannot be used to split the data and be evaluated at \"\n",
    "                    f\"the same time. Either remove {split_col} from the variables list \"\n",
    "                    f\"or choose another splitting criteria.\"\n",
    "                )\n",
    "\n",
    "        if not isinstance(p_value, float) or p_value < 0 or p_value > 1:\n",
    "            raise ValueError(\n",
    "                f\"p_value must be a float between 0 and 1. Got {p_value} instead.\"\n",
    "            )\n",
    "\n",
    "        super().__init__(confirm_variables)\n",
    "\n",
    "        # Check the variables before assignment.\n",
    "        self.variables = _check_variables_input_value(variables)\n",
    "\n",
    "        # Set all remaining arguments as attributes.\n",
    "        self.split_col = split_col\n",
    "        self.split_frac = split_frac\n",
    "        self.split_distinct = split_distinct\n",
    "        self.cut_off = cut_off\n",
    "        self.switch = switch\n",
    "        self.threshold = threshold\n",
    "        self.bins = bins\n",
    "        self.strategy = strategy\n",
    "        self.min_pct_empty_bins = min_pct_empty_bins\n",
    "        self.missing_values = missing_values\n",
    "        self.p_value = p_value\n",
    "\n",
    "    def fit(self, X: pd.DataFrame, y: pd.Series = None):\n",
    "        \"\"\"\n",
    "        Find features with high PSI values.\n",
    "\n",
    "        Parameters\n",
    "        ----------\n",
    "        X : pandas dataframe of shape = [n_samples, n_features]\n",
    "            The training dataset.\n",
    "\n",
    "        y : pandas series. Default = None\n",
    "            y is not needed in this transformer. You can pass y or None.\n",
    "        \"\"\"\n",
    "        # check input dataframe\n",
    "        X = check_X(X)\n",
    "\n",
    "        # select variables to evaluate\n",
    "        cat_variables_, num_variables_ = self._select_variables(X)\n",
    "\n",
    "        # check that split column is in the dataframe and remove from variable lists\n",
    "        cat_variables_, num_variables_ = self._check_split_column(\n",
    "            X, cat_variables_, num_variables_\n",
    "        )\n",
    "\n",
    "        if self.missing_values == \"raise\":\n",
    "            # check if dataset contains na or inf\n",
    "            _check_contains_na(X, num_variables_ + cat_variables_)\n",
    "            _check_contains_inf(X, num_variables_)\n",
    "\n",
    "        # Split the dataframe into basis and test.\n",
    "        basis_df, test_df = self._split_dataframe(X)\n",
    "\n",
    "        # Check the shape of the returned dataframes for PSI calculations.\n",
    "        # The number of observations must be at least equal to the\n",
    "        # number of bins.\n",
    "        if min(basis_df.shape[0], test_df.shape[0]) < self.bins:\n",
    "            raise ValueError(\n",
    "                \"The number of rows in the basis and test datasets that will be used \"\n",
    "                f\"in the PSI calculations must be at least larger than {self.bins}. \"\n",
    "                \"After slitting the original dataset based on the given cut_off or\"\n",
    "                f\"split_frac we have {basis_df.shape[0]} samples in the basis set, \"\n",
    "                f\"and {test_df.shape[0]} samples in the test set. \"\n",
    "                \"Please adjust the value of the cut_off or split_frac.\"\n",
    "            )\n",
    "\n",
    "        # Switch basis and test dataframes if required.\n",
    "        if self.switch:\n",
    "            test_df, basis_df = basis_df, test_df\n",
    "\n",
    "        # Set up parameters for numerical features\n",
    "        if len(num_variables_) > 0:\n",
    "\n",
    "            # Set up the discretizer for numerical features\n",
    "            if self.strategy == \"equal_width\":\n",
    "                bucketer = EqualWidthDiscretiser(bins=self.bins)\n",
    "            else:\n",
    "                bucketer = EqualFrequencyDiscretiser(q=self.bins)\n",
    "\n",
    "            # Set up the threshold for numerical features\n",
    "            if self.threshold == \"auto\":\n",
    "                threshold_num = self._calculate_auto_threshold(\n",
    "                    basis_df.shape[0],\n",
    "                    test_df.shape[0],\n",
    "                    self.bins,\n",
    "                )\n",
    "            else:\n",
    "                threshold_num = self.threshold\n",
    "\n",
    "        # Set up the generic threshold for categorical features if used\n",
    "        if len(cat_variables_) > 0:\n",
    "            if self.threshold != \"auto\":\n",
    "                threshold_cat = self.threshold\n",
    "\n",
    "        # Compute the PSI by looping over the features\n",
    "        self.psi_values_: Dict = {}\n",
    "        self.features_to_drop_ = []\n",
    "\n",
    "        # Compute PSI for numerical features\n",
    "        for feature in num_variables_:\n",
    "            # Discretize feature\n",
    "            basis_discrete = bucketer.fit_transform(basis_df[[feature]].dropna())\n",
    "            test_discrete = bucketer.transform(test_df[[feature]].dropna())\n",
    "\n",
    "            # Determine percentage of observations per bin\n",
    "            basis_distrib, test_distrib = self._observation_frequency_per_bin(\n",
    "                basis_discrete, test_discrete\n",
    "            )\n",
    "\n",
    "            # Calculate the PSI value\n",
    "            self.psi_values_[feature] = np.sum(\n",
    "                (test_distrib - basis_distrib) * np.log(test_distrib / basis_distrib)\n",
    "            )\n",
    "\n",
    "            # Assess if feature should be dropped\n",
    "            if self.psi_values_[feature] > threshold_num:\n",
    "                self.features_to_drop_.append(feature)\n",
    "\n",
    "        # Compute the PSI for categorical features\n",
    "        for feature in cat_variables_:\n",
    "            basis_discrete = basis_df[[feature]]\n",
    "            test_discrete = test_df[[feature]]\n",
    "\n",
    "            # Determine percentage of observations per bin\n",
    "            basis_distrib, test_distrib = self._observation_frequency_per_bin(\n",
    "                basis_discrete, test_discrete\n",
    "            )\n",
    "\n",
    "            # Calculate the PSI value\n",
    "            self.psi_values_[feature] = np.sum(\n",
    "                (test_distrib - basis_distrib) * np.log(test_distrib / basis_distrib)\n",
    "            )\n",
    "\n",
    "            # Determine the appropriate threshold for the categorical feature\n",
    "            if self.threshold == \"auto\":\n",
    "                n_bins_cat = X[feature].nunique()\n",
    "                threshold_cat = self._calculate_auto_threshold(\n",
    "                    basis_df.shape[0],\n",
    "                    test_df.shape[0],\n",
    "                    n_bins_cat,\n",
    "                )\n",
    "\n",
    "            # Assess if feature should be dropped\n",
    "            if self.psi_values_[feature] > threshold_cat:\n",
    "                self.features_to_drop_.append(feature)\n",
    "\n",
    "        # store analyzed variables\n",
    "        self.variables_ = num_variables_ + cat_variables_\n",
    "        # save input features\n",
    "        self._get_feature_names_in(X)\n",
    "\n",
    "        return self\n",
    "\n",
    "    def _select_variables(self, X: pd.DataFrame):\n",
    "        \"\"\"Based on the user input to the `variables` attribute in init, find the\n",
    "        numerical and categorical variables for which the PSI should be calculated.\n",
    "\n",
    "        If `None`, select all numerical variables.\n",
    "        If `\"all\", select all numerical and categorical variables.\n",
    "        If string, int, or list, split into lists of numerical or categorical variables.\n",
    "        \"\"\"\n",
    "\n",
    "        if self.variables is None:\n",
    "            num_variables = find_numerical_variables(X)\n",
    "            cat_variables: List[Union[str, int]] = []\n",
    "\n",
    "        elif self.variables == \"all\":\n",
    "            (\n",
    "                cat_variables,\n",
    "                num_variables,\n",
    "            ) = find_categorical_and_numerical_variables(X, None)\n",
    "\n",
    "        else:\n",
    "            if self.confirm_variables is True:\n",
    "                variables = retain_variables_if_in_df(X, self.variables)\n",
    "            else:\n",
    "                variables = self.variables\n",
    "\n",
    "            (\n",
    "                cat_variables,\n",
    "                num_variables,\n",
    "            ) = find_categorical_and_numerical_variables(X, variables)\n",
    "\n",
    "        return cat_variables, num_variables\n",
    "\n",
    "    def _check_split_column(\n",
    "        self,\n",
    "        X: pd.DataFrame,\n",
    "        cat_variables: List[Union[str, int]],\n",
    "        num_variables: List[Union[str, int]],\n",
    "    ):\n",
    "        \"\"\"Check that split_col is in the dataframe and remove from numerical and\n",
    "        categorical variable lists if necessary.\n",
    "\n",
    "        It will get added if the variables are selected automatically.\n",
    "        \"\"\"\n",
    "        if self.split_col is not None:\n",
    "            # check that split_col is in the dataframe.\n",
    "            if self.split_col not in X.columns:\n",
    "                raise ValueError(f\"{self.split_col} is not in the dataframe.\")\n",
    "\n",
    "            # Remove the split_col from variables lists. Happens when variables are\n",
    "            # selected automatically by the transformer.\n",
    "            if self.variables is None or self.variables == \"all\":\n",
    "                if self.split_col in num_variables:\n",
    "                    num_variables.remove(self.split_col)\n",
    "                elif self.split_col in cat_variables:\n",
    "                    cat_variables.remove(self.split_col)\n",
    "\n",
    "        return cat_variables, num_variables\n",
    "\n",
    "    def _observation_frequency_per_bin(self, basis, test):\n",
    "        \"\"\"\n",
    "        Obtain the fraction of observations per interval.\n",
    "\n",
    "        Parameters\n",
    "        ----------\n",
    "        basis : pd.DataFrame.\n",
    "            The basis Pandas DataFrame with discretised (i.e., binned) values.\n",
    "\n",
    "        test: pd.DataFrame.\n",
    "            The test Pandas DataFrame with discretised (i.e., binned) values.\n",
    "\n",
    "        Returns\n",
    "        -------\n",
    "        distribution.basis: pd.Series.\n",
    "            Basis Pandas Series with percentage of observations per bin.\n",
    "\n",
    "        distribution.meas: pd.Series.\n",
    "            Test Pandas Series with percentage of observations per bin.\n",
    "        \"\"\"\n",
    "        # Compute the feature distribution for basis and test\n",
    "        basis_distrib = basis.value_counts(normalize=True)\n",
    "        test_distrib = test.value_counts(normalize=True)\n",
    "\n",
    "        # Align the two distributions by merging the buckets (bins). This ensures\n",
    "        # the number of bins is the same for the two distributions (in case of\n",
    "        # empty buckets).\n",
    "        distributions = (\n",
    "            pd.DataFrame(basis_distrib)\n",
    "            .merge(\n",
    "                pd.DataFrame(test_distrib),\n",
    "                right_index=True,\n",
    "                left_index=True,\n",
    "                how=\"outer\",\n",
    "            )\n",
    "            .fillna(self.min_pct_empty_bins)\n",
    "            .replace(to_replace=0, value=self.min_pct_empty_bins)\n",
    "        )\n",
    "        distributions.columns = [\"basis\", \"test\"]\n",
    "\n",
    "        return distributions.basis, distributions.test\n",
    "\n",
    "    def _split_dataframe(self, X: pd.DataFrame):\n",
    "        \"\"\"\n",
    "        Split dataframe according to a cut-off value and return two dataframes: the\n",
    "        basis dataframe contains all observations <= cut_off and the test dataframe the\n",
    "        observations > cut_off.\n",
    "\n",
    "        If cut-off is a list, then the basis dataframe will contain all observations\n",
    "        which values are within the list, and the test dataframe all remaining\n",
    "        observations.\n",
    "\n",
    "        The cut-off value is associated to a specific column.\n",
    "\n",
    "        Parameters\n",
    "        ----------\n",
    "        X : pandas dataframe\n",
    "\n",
    "        Returns\n",
    "        -------\n",
    "        basis_df: pd.DataFrame\n",
    "            pandas dataframe with observations which value <= cut_off\n",
    "\n",
    "        test_df: pd.DataFrame\n",
    "            pandas dataframe with observations which value > cut_off\n",
    "        \"\"\"\n",
    "\n",
    "        # Identify the values according to which the split must be done.\n",
    "        if self.split_col is None:\n",
    "            reference = pd.Series(X.index)\n",
    "        else:\n",
    "            reference = X[self.split_col]\n",
    "\n",
    "        # Raise an error if there are missing values in the reference column.\n",
    "        if reference.isna().any():\n",
    "            raise ValueError(\n",
    "                f\"There are {reference.isna().sum()} missing values in the reference\"\n",
    "                \"variable. Missing data are not allowed in the variable used to \"\n",
    "                \"split the dataframe.\"\n",
    "            )\n",
    "\n",
    "        # If cut_off is not pre-defined, compute it.\n",
    "        if not self.cut_off:\n",
    "            self.cut_off_ = self._get_cut_off_value(reference)\n",
    "        else:\n",
    "            self.cut_off_ = self.cut_off\n",
    "\n",
    "        # Split the original dataframe\n",
    "        if isinstance(self.cut_off_, list):\n",
    "            is_within_cut_off = np.array(reference.isin(self.cut_off_))\n",
    "\n",
    "        else:\n",
    "            is_within_cut_off = np.array(reference <= self.cut_off_)\n",
    "\n",
    "        basis_df = X[is_within_cut_off]\n",
    "        test_df = X[~is_within_cut_off]\n",
    "\n",
    "        return basis_df, test_df\n",
    "\n",
    "    def _get_cut_off_value(self, split_column):\n",
    "        \"\"\"\n",
    "        Find the cut-off value to split the dataframe. It is implemented when the user\n",
    "        does not enter a cut_off value as a parameter. It is calculated based on\n",
    "        split_frac.\n",
    "\n",
    "        Finds the value in a pandas series at which we find the split_frac percentage\n",
    "        of observations.\n",
    "\n",
    "        If the reference column is numerical, the cut-off value is determined using\n",
    "        np.quantile. Otherwise, the cut-off value is based on the value_counts:\n",
    "\n",
    "            - The distinct values are sorted and the cumulative sum is\n",
    "            used to compute the quantile. The value with the quantile that\n",
    "            is the closest to the chosen split fraction is used as cut-off.\n",
    "\n",
    "            - The procedure assumes that categorical values are sorted alphabetically\n",
    "            and cut accordingly.\n",
    "\n",
    "        Parameters\n",
    "        ----------\n",
    "        split_column: pd.Series.\n",
    "            Series for which the nth quantile will be computed.\n",
    "\n",
    "        Returns\n",
    "        -------\n",
    "        cut_off: (float, int, str, object).\n",
    "            value for the cut-off.\n",
    "        \"\"\"\n",
    "\n",
    "        # In case split_distinct is used, extract series with unique values\n",
    "        if self.split_distinct:\n",
    "            split_column = pd.Series(split_column.unique())\n",
    "\n",
    "        # If the value is numerical, use numpy functionality\n",
    "        if is_numeric_dtype(split_column):\n",
    "            cut_off = np.quantile(split_column, self.split_frac)\n",
    "\n",
    "        # Otherwise use value_counts combined with cumsum\n",
    "        else:\n",
    "            reference = pd.DataFrame(\n",
    "                split_column.value_counts(normalize=True).sort_index().cumsum()\n",
    "            )\n",
    "\n",
    "            # Get the index (i.e. value) with the quantile that is the closest\n",
    "            # to the split_frac defined at initialization.\n",
    "            distance = abs(reference - self.split_frac)\n",
    "            cut_off = (distance.idxmin()).values[0]\n",
    "\n",
    "        return cut_off\n",
    "\n",
    "    def _calculate_auto_threshold(self, N, M, bins):\n",
    "        \"\"\"Threshold computation for chi-square test.\n",
    "\n",
    "        The threshold is given by:\n",
    "\n",
    "            threshold = χ2(q,B−1) × (1/N + 1/M)\n",
    "\n",
    "        where:\n",
    "\n",
    "        q = quantile of the distribution (or 1 - p-value),\n",
    "        B = number of bins/categories,\n",
    "        N = size of basis dataset,\n",
    "        M = size of test dataset.\n",
    "        See formula (5.2) from reference [1] in the class docstring.\n",
    "\n",
    "        Parameters\n",
    "        ----------\n",
    "        N: float or int\n",
    "        M: float or int\n",
    "        bins: int\n",
    "\n",
    "        Returns\n",
    "        -------\n",
    "        float\n",
    "        \"\"\"\n",
    "        return stats.chi2.ppf(1 - self.p_value, bins - 1) * (1.0 / N + 1.0 / M)\n",
    "\n",
    "    def _more_tags(self):\n",
    "        tags_dict = _return_tags()\n",
    "        tags_dict[\"variables\"] = \"pass\"\n",
    "        # add additional test that fails\n",
    "        tags_dict[\"_xfail_checks\"][\"check_estimators_nan_inf\"] = \"transformer allows NA\"\n",
    "\n",
    "        return tags_dict"
   ]
  },
  {
   "cell_type": "code",
   "execution_count": null,
   "metadata": {},
   "outputs": [],
   "source": []
  },
  {
   "cell_type": "code",
   "execution_count": null,
   "metadata": {},
   "outputs": [],
   "source": []
  },
  {
   "cell_type": "code",
   "execution_count": null,
   "metadata": {},
   "outputs": [],
   "source": []
  },
  {
   "cell_type": "code",
   "execution_count": null,
   "metadata": {},
   "outputs": [],
   "source": []
  },
  {
   "cell_type": "code",
   "execution_count": null,
   "metadata": {},
   "outputs": [],
   "source": []
  }
 ],
 "metadata": {
  "kernelspec": {
   "display_name": "pyspark",
   "language": "python",
   "name": "python3"
  },
  "language_info": {
   "codemirror_mode": {
    "name": "ipython",
    "version": 3
   },
   "file_extension": ".py",
   "mimetype": "text/x-python",
   "name": "python",
   "nbconvert_exporter": "python",
   "pygments_lexer": "ipython3",
   "version": "3.10.0"
  }
 },
 "nbformat": 4,
 "nbformat_minor": 2
}
