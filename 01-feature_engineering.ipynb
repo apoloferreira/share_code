{
 "cells": [
  {
   "cell_type": "code",
   "execution_count": 25,
   "id": "e0e30aeb-a6a6-4eea-8710-3dc22790b554",
   "metadata": {},
   "outputs": [],
   "source": [
    "# !pip install pyspark"
   ]
  },
  {
   "cell_type": "code",
   "execution_count": 186,
   "id": "9d8dd86e-740e-4375-a034-835b90dcba6f",
   "metadata": {
    "tags": []
   },
   "outputs": [],
   "source": [
    "import os\n",
    "import re\n",
    "import sys\n",
    "import math\n",
    "import json\n",
    "import time\n",
    "import warnings\n",
    "import boto3\n",
    "import botocore\n",
    "import sagemaker\n",
    "import sklearn\n",
    "import numpy as np\n",
    "import pandas as pd\n",
    "import matplotlib.pyplot as plt\n",
    "import seaborn as sns\n",
    "\n",
    "from datetime import datetime, timezone, date\n",
    "from IPython.display import Image\n",
    "from IPython.display import display\n",
    "from IPython.display import FileLink, FileLinks\n",
    "from platformdirs import site_config_dir, user_config_dir\n",
    "from time import gmtime, strftime\n",
    "\n",
    "from sagemaker import Session\n",
    "from sagemaker import get_execution_role\n",
    "from sagemaker.experiments.run import Run, load_run\n",
    "from sagemaker.sklearn.processing import SKLearnProcessor\n",
    "from sagemaker.spark.processing import PySparkProcessor\n",
    "from sagemaker.processing import ProcessingInput, ProcessingOutput\n",
    "from sagemaker.debugger import Rule, ProfilerRule, rule_configs\n",
    "from sagemaker.remote_function import remote, RemoteExecutor\n",
    "from sagemaker.tuner import (\n",
    "    CategoricalParameter, ContinuousParameter,\n",
    "    HyperparameterTuner, IntegerParameter,\n",
    ")\n",
    "from sagemaker.feature_store.feature_group import FeatureGroup\n",
    "from sagemaker.feature_store.feature_store import FeatureStore\n",
    "from sagemaker.feature_store.inputs import FeatureParameter, TableFormatEnum\n",
    "from sagemaker.feature_store.feature_definition import StringFeatureDefinition\n",
    "# from sagemaker.feature_store.feature_processor import CSVDataSource, feature_processor, to_pipeline\n",
    "\n",
    "from sklearn.metrics import roc_auc_score\n",
    "from sklearn.preprocessing import MinMaxScaler, LabelEncoder"
   ]
  },
  {
   "cell_type": "code",
   "execution_count": 187,
   "id": "eca91069-711e-41bc-9471-7c8b5a79f066",
   "metadata": {
    "tags": []
   },
   "outputs": [
    {
     "name": "stdout",
     "output_type": "stream",
     "text": [
      "2.2.2\n",
      "1.4.2\n",
      "2.215.0\n",
      "1.34.84\n"
     ]
    }
   ],
   "source": [
    "print(pd.__version__)\n",
    "print(sklearn.__version__)\n",
    "print(sagemaker.__version__)\n",
    "print(boto3.__version__)"
   ]
  },
  {
   "cell_type": "code",
   "execution_count": 3,
   "id": "c7fcc702-6fc2-4524-808d-4224c49c49f6",
   "metadata": {},
   "outputs": [
    {
     "name": "stdout",
     "output_type": "stream",
     "text": [
      "environ({'REGION_NAME': 'us-east-1', 'HOSTNAME': 'sagemaker-data-scienc-ml-t3-medium-ccb588b5efaf671be41927273f0c', 'HOME': '/root', 'AWS_CONTAINER_CREDENTIALS_RELATIVE_URI': '/_sagemaker-instance-credentials/7ea481b200984547cac93df38123bfc460ae454c09b1b2a1a09b94b251ef8978', 'PYTHONNOUSERSITE': '0', 'AWS_DEFAULT_REGION': 'us-east-1', 'PATH': '/opt/conda/bin:/usr/local/sbin:/usr/local/bin:/usr/sbin:/usr/bin:/sbin:/bin:/opt/amazon/bin:/tmp/miniconda3/condabin:/tmp/anaconda3/condabin:/tmp/miniconda2/condabin:/tmp/anaconda2/condabin:/tmp/mambaforge/condabin', 'AWS_ACCOUNT_ID': '891377318910', 'DEBIAN_FRONTEND': 'noninteractive', 'SHELL': '/bin/bash', 'AWS_REGION': 'us-east-1', 'AWS_INTERNAL_IMAGE_OWNER': 'Studio', 'CONDA_DIR': '/opt/.sagemakerinternal/conda', 'PWD': '/root', 'AWS_SAGEMAKER_PYTHONNOUSERSITE': '0', 'SAGEMAKER_LOG_FILE': '/var/log/studio/kernel_gateway.log', 'SAGEMAKER_JOB_CONDA_ENV': 'base', 'SAGEMAKER_INTERNAL_IMAGE_URI': '081325390199.dkr.ecr.us-east-1.amazonaws.com/sagemaker-data-science-310@sha256:5241121f7771b6862a8e0653292f2d3ff46ad09dd8341875ac7a167072858616', 'JUPYTER_PATH': '/opt/conda/share/jupyter/', 'LC_CTYPE': 'C.UTF-8', 'KERNEL_LAUNCH_TIMEOUT': '40', 'PYDEVD_USE_FRAME_EVAL': 'NO', 'KERNEL_WORKING_PATH': 'itau', 'KERNEL_GATEWAY': '1', 'JPY_PARENT_PID': '8', 'TERM': 'xterm-color', 'CLICOLOR': '1', 'FORCE_COLOR': '1', 'CLICOLOR_FORCE': '1', 'PAGER': 'cat', 'GIT_PAGER': 'cat', 'MPLBACKEND': 'module://matplotlib_inline.backend_inline', 'KMP_DUPLICATE_LIB_OK': 'True', 'KMP_INIT_AT_FORK': 'FALSE'})\n"
     ]
    }
   ],
   "source": [
    "print(os.environ)\n",
    "# os.environ['SAGEMAKER_JOB_CONDA_ENV']"
   ]
  },
  {
   "cell_type": "code",
   "execution_count": 4,
   "id": "45081ce8-0742-4223-bdc0-96bc74f6249b",
   "metadata": {
    "tags": []
   },
   "outputs": [],
   "source": [
    "pd.set_option('display.max_columns', 500)\n",
    "pd.set_option('display.max_rows', 30)\n",
    "\n",
    "warnings.filterwarnings(\"ignore\")"
   ]
  },
  {
   "cell_type": "code",
   "execution_count": 68,
   "id": "56e26d34-6123-4dad-a5c9-075770cc67fc",
   "metadata": {
    "tags": []
   },
   "outputs": [],
   "source": [
    "boto_session = boto3.Session()\n",
    "client_sagemaker = boto_session.client(\"sagemaker\")\n",
    "client_s3 = boto_session.client(\"s3\")\n",
    "sagemaker_session = sagemaker.Session()\n",
    "sagemaker_role = sagemaker.get_execution_role()\n",
    "bucket_name = sagemaker_session.default_bucket()"
   ]
  },
  {
   "cell_type": "code",
   "execution_count": 69,
   "id": "ba879ca3-839f-47ae-a3a7-ae2f7357f44c",
   "metadata": {
    "tags": []
   },
   "outputs": [
    {
     "name": "stdout",
     "output_type": "stream",
     "text": [
      "Stored variables and their in-db values:\n",
      "bucket_name                       -> 'sagemaker-us-east-1-891377318910'\n",
      "dataset_raw                       -> 'bank-additional-full.csv'\n",
      "experiment_name                   -> 'itau-experiment-23-16-11-28'\n",
      "initialized                       -> True\n",
      "input_s3_url                      -> 's3://sagemaker-us-east-1-891377318910/workshop/da\n",
      "loca_transformed_path             -> './data/transformed'\n",
      "local_prefix                      -> './data/raw'\n",
      "region_name                       -> 'us-east-1'\n",
      "s3_data_raw_prefix                -> 'data/raw'\n",
      "s3_prefix                         -> 'workshop'\n",
      "sagemaker_role                    -> 'arn:aws:iam::891377318910:role/service-role/SageM\n"
     ]
    }
   ],
   "source": [
    "%store -r\n",
    "\n",
    "%store"
   ]
  },
  {
   "cell_type": "code",
   "execution_count": 12,
   "id": "eda93d08-b551-4765-bf4c-ce93107ebdb2",
   "metadata": {
    "tags": []
   },
   "outputs": [
    {
     "name": "stdout",
     "output_type": "stream",
     "text": [
      "Stored 'loca_transformed_path' (str)\n"
     ]
    }
   ],
   "source": [
    "loca_transformed_path = \"./data/transformed\"\n",
    "%store loca_transformed_path"
   ]
  },
  {
   "cell_type": "markdown",
   "id": "13e430f9-4d59-4f68-a998-9959b3896ac6",
   "metadata": {},
   "source": [
    "# Create an experiment"
   ]
  },
  {
   "cell_type": "code",
   "execution_count": 14,
   "id": "beaba8f7-96ee-4963-84f6-2fc03cee85d6",
   "metadata": {
    "tags": []
   },
   "outputs": [
    {
     "name": "stdout",
     "output_type": "stream",
     "text": [
      "itau-experiment-23-16-11-28\n"
     ]
    }
   ],
   "source": [
    "experiment_name = f\"itau-experiment-{strftime('%d-%H-%M-%S', gmtime())}\"\n",
    "print(experiment_name)"
   ]
  },
  {
   "cell_type": "code",
   "execution_count": 15,
   "id": "c2b70386-e788-497f-aecd-546f5f1bd756",
   "metadata": {
    "tags": []
   },
   "outputs": [
    {
     "name": "stdout",
     "output_type": "stream",
     "text": [
      "Stored 'experiment_name' (str)\n"
     ]
    }
   ],
   "source": [
    "%store experiment_name"
   ]
  },
  {
   "cell_type": "markdown",
   "id": "4dbe80aa-4982-48ce-8a5c-da09540fd1d5",
   "metadata": {},
   "source": [
    "# Feature engineering"
   ]
  },
  {
   "cell_type": "markdown",
   "id": "c18661df-3dbf-471f-93eb-b675f25d6d27",
   "metadata": {},
   "source": [
    "- selecao de atributos\n",
    "- criacao e extracao de atributos\n",
    "- transformacao de atributos\n",
    "- codificacao de atributos categoricos\n",
    "- tratamento de valores ausentes\n",
    "- deteccao e tratamento de outliers\n",
    "- normalizacao ou padronizacao\n",
    "- tratamento de dados desbalanceados"
   ]
  },
  {
   "cell_type": "markdown",
   "id": "037a72dc-a4ba-4ede-96f3-2382cf1a6ff5",
   "metadata": {},
   "source": [
    "## Option 1:"
   ]
  },
  {
   "cell_type": "markdown",
   "id": "05f2fa99-b1f1-4ba2-8b1f-335e8f51d284",
   "metadata": {
    "tags": []
   },
   "source": [
    "### Load dataset"
   ]
  },
  {
   "cell_type": "code",
   "execution_count": 19,
   "id": "f4f68661-9d18-4453-8311-298f25d7f05b",
   "metadata": {
    "tags": []
   },
   "outputs": [],
   "source": [
    "local_dataset_path = f\"{local_prefix}/{dataset_raw}\"\n",
    "\n",
    "df_raw = pd.read_csv(local_dataset_path, sep=\";\")"
   ]
  },
  {
   "cell_type": "code",
   "execution_count": 20,
   "id": "50ca7fcb-9b7b-4205-aef1-cd698ba7ffe8",
   "metadata": {
    "tags": []
   },
   "outputs": [
    {
     "data": {
      "text/html": [
       "<div>\n",
       "<style scoped>\n",
       "    .dataframe tbody tr th:only-of-type {\n",
       "        vertical-align: middle;\n",
       "    }\n",
       "\n",
       "    .dataframe tbody tr th {\n",
       "        vertical-align: top;\n",
       "    }\n",
       "\n",
       "    .dataframe thead th {\n",
       "        text-align: right;\n",
       "    }\n",
       "</style>\n",
       "<table border=\"1\" class=\"dataframe\">\n",
       "  <thead>\n",
       "    <tr style=\"text-align: right;\">\n",
       "      <th></th>\n",
       "      <th>age</th>\n",
       "      <th>job</th>\n",
       "      <th>marital</th>\n",
       "      <th>education</th>\n",
       "      <th>default</th>\n",
       "      <th>housing</th>\n",
       "      <th>loan</th>\n",
       "      <th>contact</th>\n",
       "      <th>month</th>\n",
       "      <th>day_of_week</th>\n",
       "      <th>duration</th>\n",
       "      <th>campaign</th>\n",
       "      <th>pdays</th>\n",
       "      <th>previous</th>\n",
       "      <th>poutcome</th>\n",
       "      <th>emp.var.rate</th>\n",
       "      <th>cons.price.idx</th>\n",
       "      <th>cons.conf.idx</th>\n",
       "      <th>euribor3m</th>\n",
       "      <th>nr.employed</th>\n",
       "      <th>y</th>\n",
       "    </tr>\n",
       "  </thead>\n",
       "  <tbody>\n",
       "    <tr>\n",
       "      <th>0</th>\n",
       "      <td>56</td>\n",
       "      <td>housemaid</td>\n",
       "      <td>married</td>\n",
       "      <td>basic.4y</td>\n",
       "      <td>no</td>\n",
       "      <td>no</td>\n",
       "      <td>no</td>\n",
       "      <td>telephone</td>\n",
       "      <td>may</td>\n",
       "      <td>mon</td>\n",
       "      <td>261</td>\n",
       "      <td>1</td>\n",
       "      <td>999</td>\n",
       "      <td>0</td>\n",
       "      <td>nonexistent</td>\n",
       "      <td>1.1</td>\n",
       "      <td>93.994</td>\n",
       "      <td>-36.4</td>\n",
       "      <td>4.857</td>\n",
       "      <td>5191.0</td>\n",
       "      <td>no</td>\n",
       "    </tr>\n",
       "    <tr>\n",
       "      <th>1</th>\n",
       "      <td>57</td>\n",
       "      <td>services</td>\n",
       "      <td>married</td>\n",
       "      <td>high.school</td>\n",
       "      <td>unknown</td>\n",
       "      <td>no</td>\n",
       "      <td>no</td>\n",
       "      <td>telephone</td>\n",
       "      <td>may</td>\n",
       "      <td>mon</td>\n",
       "      <td>149</td>\n",
       "      <td>1</td>\n",
       "      <td>999</td>\n",
       "      <td>0</td>\n",
       "      <td>nonexistent</td>\n",
       "      <td>1.1</td>\n",
       "      <td>93.994</td>\n",
       "      <td>-36.4</td>\n",
       "      <td>4.857</td>\n",
       "      <td>5191.0</td>\n",
       "      <td>no</td>\n",
       "    </tr>\n",
       "    <tr>\n",
       "      <th>2</th>\n",
       "      <td>37</td>\n",
       "      <td>services</td>\n",
       "      <td>married</td>\n",
       "      <td>high.school</td>\n",
       "      <td>no</td>\n",
       "      <td>yes</td>\n",
       "      <td>no</td>\n",
       "      <td>telephone</td>\n",
       "      <td>may</td>\n",
       "      <td>mon</td>\n",
       "      <td>226</td>\n",
       "      <td>1</td>\n",
       "      <td>999</td>\n",
       "      <td>0</td>\n",
       "      <td>nonexistent</td>\n",
       "      <td>1.1</td>\n",
       "      <td>93.994</td>\n",
       "      <td>-36.4</td>\n",
       "      <td>4.857</td>\n",
       "      <td>5191.0</td>\n",
       "      <td>no</td>\n",
       "    </tr>\n",
       "    <tr>\n",
       "      <th>3</th>\n",
       "      <td>40</td>\n",
       "      <td>admin.</td>\n",
       "      <td>married</td>\n",
       "      <td>basic.6y</td>\n",
       "      <td>no</td>\n",
       "      <td>no</td>\n",
       "      <td>no</td>\n",
       "      <td>telephone</td>\n",
       "      <td>may</td>\n",
       "      <td>mon</td>\n",
       "      <td>151</td>\n",
       "      <td>1</td>\n",
       "      <td>999</td>\n",
       "      <td>0</td>\n",
       "      <td>nonexistent</td>\n",
       "      <td>1.1</td>\n",
       "      <td>93.994</td>\n",
       "      <td>-36.4</td>\n",
       "      <td>4.857</td>\n",
       "      <td>5191.0</td>\n",
       "      <td>no</td>\n",
       "    </tr>\n",
       "    <tr>\n",
       "      <th>4</th>\n",
       "      <td>56</td>\n",
       "      <td>services</td>\n",
       "      <td>married</td>\n",
       "      <td>high.school</td>\n",
       "      <td>no</td>\n",
       "      <td>no</td>\n",
       "      <td>yes</td>\n",
       "      <td>telephone</td>\n",
       "      <td>may</td>\n",
       "      <td>mon</td>\n",
       "      <td>307</td>\n",
       "      <td>1</td>\n",
       "      <td>999</td>\n",
       "      <td>0</td>\n",
       "      <td>nonexistent</td>\n",
       "      <td>1.1</td>\n",
       "      <td>93.994</td>\n",
       "      <td>-36.4</td>\n",
       "      <td>4.857</td>\n",
       "      <td>5191.0</td>\n",
       "      <td>no</td>\n",
       "    </tr>\n",
       "    <tr>\n",
       "      <th>...</th>\n",
       "      <td>...</td>\n",
       "      <td>...</td>\n",
       "      <td>...</td>\n",
       "      <td>...</td>\n",
       "      <td>...</td>\n",
       "      <td>...</td>\n",
       "      <td>...</td>\n",
       "      <td>...</td>\n",
       "      <td>...</td>\n",
       "      <td>...</td>\n",
       "      <td>...</td>\n",
       "      <td>...</td>\n",
       "      <td>...</td>\n",
       "      <td>...</td>\n",
       "      <td>...</td>\n",
       "      <td>...</td>\n",
       "      <td>...</td>\n",
       "      <td>...</td>\n",
       "      <td>...</td>\n",
       "      <td>...</td>\n",
       "      <td>...</td>\n",
       "    </tr>\n",
       "    <tr>\n",
       "      <th>41183</th>\n",
       "      <td>73</td>\n",
       "      <td>retired</td>\n",
       "      <td>married</td>\n",
       "      <td>professional.course</td>\n",
       "      <td>no</td>\n",
       "      <td>yes</td>\n",
       "      <td>no</td>\n",
       "      <td>cellular</td>\n",
       "      <td>nov</td>\n",
       "      <td>fri</td>\n",
       "      <td>334</td>\n",
       "      <td>1</td>\n",
       "      <td>999</td>\n",
       "      <td>0</td>\n",
       "      <td>nonexistent</td>\n",
       "      <td>-1.1</td>\n",
       "      <td>94.767</td>\n",
       "      <td>-50.8</td>\n",
       "      <td>1.028</td>\n",
       "      <td>4963.6</td>\n",
       "      <td>yes</td>\n",
       "    </tr>\n",
       "    <tr>\n",
       "      <th>41184</th>\n",
       "      <td>46</td>\n",
       "      <td>blue-collar</td>\n",
       "      <td>married</td>\n",
       "      <td>professional.course</td>\n",
       "      <td>no</td>\n",
       "      <td>no</td>\n",
       "      <td>no</td>\n",
       "      <td>cellular</td>\n",
       "      <td>nov</td>\n",
       "      <td>fri</td>\n",
       "      <td>383</td>\n",
       "      <td>1</td>\n",
       "      <td>999</td>\n",
       "      <td>0</td>\n",
       "      <td>nonexistent</td>\n",
       "      <td>-1.1</td>\n",
       "      <td>94.767</td>\n",
       "      <td>-50.8</td>\n",
       "      <td>1.028</td>\n",
       "      <td>4963.6</td>\n",
       "      <td>no</td>\n",
       "    </tr>\n",
       "    <tr>\n",
       "      <th>41185</th>\n",
       "      <td>56</td>\n",
       "      <td>retired</td>\n",
       "      <td>married</td>\n",
       "      <td>university.degree</td>\n",
       "      <td>no</td>\n",
       "      <td>yes</td>\n",
       "      <td>no</td>\n",
       "      <td>cellular</td>\n",
       "      <td>nov</td>\n",
       "      <td>fri</td>\n",
       "      <td>189</td>\n",
       "      <td>2</td>\n",
       "      <td>999</td>\n",
       "      <td>0</td>\n",
       "      <td>nonexistent</td>\n",
       "      <td>-1.1</td>\n",
       "      <td>94.767</td>\n",
       "      <td>-50.8</td>\n",
       "      <td>1.028</td>\n",
       "      <td>4963.6</td>\n",
       "      <td>no</td>\n",
       "    </tr>\n",
       "    <tr>\n",
       "      <th>41186</th>\n",
       "      <td>44</td>\n",
       "      <td>technician</td>\n",
       "      <td>married</td>\n",
       "      <td>professional.course</td>\n",
       "      <td>no</td>\n",
       "      <td>no</td>\n",
       "      <td>no</td>\n",
       "      <td>cellular</td>\n",
       "      <td>nov</td>\n",
       "      <td>fri</td>\n",
       "      <td>442</td>\n",
       "      <td>1</td>\n",
       "      <td>999</td>\n",
       "      <td>0</td>\n",
       "      <td>nonexistent</td>\n",
       "      <td>-1.1</td>\n",
       "      <td>94.767</td>\n",
       "      <td>-50.8</td>\n",
       "      <td>1.028</td>\n",
       "      <td>4963.6</td>\n",
       "      <td>yes</td>\n",
       "    </tr>\n",
       "    <tr>\n",
       "      <th>41187</th>\n",
       "      <td>74</td>\n",
       "      <td>retired</td>\n",
       "      <td>married</td>\n",
       "      <td>professional.course</td>\n",
       "      <td>no</td>\n",
       "      <td>yes</td>\n",
       "      <td>no</td>\n",
       "      <td>cellular</td>\n",
       "      <td>nov</td>\n",
       "      <td>fri</td>\n",
       "      <td>239</td>\n",
       "      <td>3</td>\n",
       "      <td>999</td>\n",
       "      <td>1</td>\n",
       "      <td>failure</td>\n",
       "      <td>-1.1</td>\n",
       "      <td>94.767</td>\n",
       "      <td>-50.8</td>\n",
       "      <td>1.028</td>\n",
       "      <td>4963.6</td>\n",
       "      <td>no</td>\n",
       "    </tr>\n",
       "  </tbody>\n",
       "</table>\n",
       "<p>41188 rows × 21 columns</p>\n",
       "</div>"
      ],
      "text/plain": [
       "       age          job  marital            education  default housing loan  \\\n",
       "0       56    housemaid  married             basic.4y       no      no   no   \n",
       "1       57     services  married          high.school  unknown      no   no   \n",
       "2       37     services  married          high.school       no     yes   no   \n",
       "3       40       admin.  married             basic.6y       no      no   no   \n",
       "4       56     services  married          high.school       no      no  yes   \n",
       "...    ...          ...      ...                  ...      ...     ...  ...   \n",
       "41183   73      retired  married  professional.course       no     yes   no   \n",
       "41184   46  blue-collar  married  professional.course       no      no   no   \n",
       "41185   56      retired  married    university.degree       no     yes   no   \n",
       "41186   44   technician  married  professional.course       no      no   no   \n",
       "41187   74      retired  married  professional.course       no     yes   no   \n",
       "\n",
       "         contact month day_of_week  duration  campaign  pdays  previous  \\\n",
       "0      telephone   may         mon       261         1    999         0   \n",
       "1      telephone   may         mon       149         1    999         0   \n",
       "2      telephone   may         mon       226         1    999         0   \n",
       "3      telephone   may         mon       151         1    999         0   \n",
       "4      telephone   may         mon       307         1    999         0   \n",
       "...          ...   ...         ...       ...       ...    ...       ...   \n",
       "41183   cellular   nov         fri       334         1    999         0   \n",
       "41184   cellular   nov         fri       383         1    999         0   \n",
       "41185   cellular   nov         fri       189         2    999         0   \n",
       "41186   cellular   nov         fri       442         1    999         0   \n",
       "41187   cellular   nov         fri       239         3    999         1   \n",
       "\n",
       "          poutcome  emp.var.rate  cons.price.idx  cons.conf.idx  euribor3m  \\\n",
       "0      nonexistent           1.1          93.994          -36.4      4.857   \n",
       "1      nonexistent           1.1          93.994          -36.4      4.857   \n",
       "2      nonexistent           1.1          93.994          -36.4      4.857   \n",
       "3      nonexistent           1.1          93.994          -36.4      4.857   \n",
       "4      nonexistent           1.1          93.994          -36.4      4.857   \n",
       "...            ...           ...             ...            ...        ...   \n",
       "41183  nonexistent          -1.1          94.767          -50.8      1.028   \n",
       "41184  nonexistent          -1.1          94.767          -50.8      1.028   \n",
       "41185  nonexistent          -1.1          94.767          -50.8      1.028   \n",
       "41186  nonexistent          -1.1          94.767          -50.8      1.028   \n",
       "41187      failure          -1.1          94.767          -50.8      1.028   \n",
       "\n",
       "       nr.employed    y  \n",
       "0           5191.0   no  \n",
       "1           5191.0   no  \n",
       "2           5191.0   no  \n",
       "3           5191.0   no  \n",
       "4           5191.0   no  \n",
       "...            ...  ...  \n",
       "41183       4963.6  yes  \n",
       "41184       4963.6   no  \n",
       "41185       4963.6   no  \n",
       "41186       4963.6  yes  \n",
       "41187       4963.6   no  \n",
       "\n",
       "[41188 rows x 21 columns]"
      ]
     },
     "execution_count": 20,
     "metadata": {},
     "output_type": "execute_result"
    }
   ],
   "source": [
    "df_raw"
   ]
  },
  {
   "cell_type": "markdown",
   "id": "d368a8eb-2e84-44d2-b9fc-4de56e4a8f74",
   "metadata": {},
   "source": [
    "### Option 1.1"
   ]
  },
  {
   "cell_type": "code",
   "execution_count": 17,
   "id": "ebf92dfd-229c-4056-970e-22dae81f1d56",
   "metadata": {
    "tags": []
   },
   "outputs": [],
   "source": [
    "df = df_raw.copy()\n",
    "\n",
    "# remove unnecessary data\n",
    "df = df.drop(\n",
    "    [\"duration\", \"emp.var.rate\", \"cons.price.idx\", \"cons.conf.idx\", \"euribor3m\", \"nr.employed\"],\n",
    "    axis=1,\n",
    ")\n",
    "\n",
    "# Indicator variable to capture when pdays takes a value of 999\n",
    "df[\"no_previous_contact\"] = np.where(df[\"pdays\"] == 999, 1, 0)\n",
    "\n",
    "# Indicator for individuals not actively employed\n",
    "df[\"not_working\"] = np.where(np.in1d(df[\"job\"], [\"student\", \"retired\", \"unemployed\"]), 1, 0)\n",
    "\n",
    "bins = [18, 30, 40, 50, 60, 70, 90]\n",
    "labels = ['18-29', '30-39', '40-49', '50-59', '60-69', '70-plus']\n",
    "\n",
    "df['age_range'] = pd.cut(df.age, bins, labels=labels, include_lowest=True)\n",
    "df = pd.concat([df, pd.get_dummies(df['age_range'], prefix='age', dtype=int)], axis=1)\n",
    "df.drop('age', axis=1, inplace=True)\n",
    "df.drop('age_range', axis=1, inplace=True)\n",
    "\n",
    "scaled_features = ['pdays', 'previous', 'campaign']\n",
    "df[scaled_features] = MinMaxScaler().fit_transform(df[scaled_features])\n",
    "\n",
    "# Convert categorical variables to sets of indicators\n",
    "df = pd.get_dummies(df, dtype=int)\n",
    "\n",
    "# Replace \"y_no\" and \"y_yes\" with a single label column, and bring it to the front\n",
    "df = pd.concat(\n",
    "    [\n",
    "        df[\"y_yes\"].rename(target_col),\n",
    "        df.drop([\"y_no\", \"y_yes\"], axis=1),\n",
    "    ],\n",
    "    axis=1,\n",
    ")"
   ]
  },
  {
   "cell_type": "markdown",
   "id": "4f597fa8-4eef-4bab-8759-9138e37728da",
   "metadata": {},
   "source": [
    "### Split data"
   ]
  },
  {
   "cell_type": "code",
   "execution_count": null,
   "id": "3d4c3c77-02a6-414d-94b2-8fc184b516e4",
   "metadata": {},
   "outputs": [],
   "source": [
    "# Shuffle and splitting dataset\n",
    "train_data, validation_data, test_data = np.split(\n",
    "    df.sample(frac=1, random_state=1729),\n",
    "    [int(0.7 * len(df)), int(0.9 * len(df))],\n",
    ")\n",
    "\n",
    "print(f\"Data split > train:{train_data.shape} | validation:{validation_data.shape} | test:{test_data.shape}\")"
   ]
  },
  {
   "cell_type": "markdown",
   "id": "c6ec8996-31bc-4b4b-ba95-7604bbeae7f3",
   "metadata": {},
   "source": [
    "### Option 1.2"
   ]
  },
  {
   "cell_type": "code",
   "execution_count": null,
   "id": "adf86111-4627-4d1e-bc99-0aff2fd281f3",
   "metadata": {},
   "outputs": [],
   "source": [
    "def preprocess(df_data):\n",
    "    target_col = \"y\"\n",
    "    \n",
    "    # Indicator variable to capture when pdays takes a value of 999\n",
    "    df_data[\"no_previous_contact\"] = np.where(df_data[\"pdays\"] == 999, 1, 0)\n",
    "\n",
    "    # Indicator for individuals not actively employed\n",
    "    df_data[\"not_working\"] = np.where(np.in1d(df_data[\"job\"], [\"student\", \"retired\", \"unemployed\"]), 1, 0)\n",
    "\n",
    "    # remove unnecessary data\n",
    "    df_model_data = df_data.drop(\n",
    "        [\"duration\", \"emp.var.rate\", \"cons.price.idx\", \"cons.conf.idx\", \"euribor3m\", \"nr.employed\"],\n",
    "        axis=1,\n",
    "    )\n",
    "\n",
    "    bins = [18, 30, 40, 50, 60, 70, 90]\n",
    "    labels = ['18-29', '30-39', '40-49', '50-59', '60-69', '70-plus']\n",
    "\n",
    "    df_model_data['age_range'] = pd.cut(df_model_data.age, bins, labels=labels, include_lowest=True)\n",
    "    df_model_data = pd.concat([df_model_data, pd.get_dummies(df_model_data['age_range'], prefix='age', dtype=int)], axis=1)\n",
    "    df_model_data.drop('age', axis=1, inplace=True)\n",
    "    df_model_data.drop('age_range', axis=1, inplace=True)\n",
    "\n",
    "    scaled_features = ['pdays', 'previous', 'campaign']\n",
    "    df_model_data[scaled_features] = MinMaxScaler().fit_transform(df_model_data[scaled_features])\n",
    "\n",
    "    df_model_data = pd.get_dummies(df_model_data, dtype=int)  # Convert categorical variables to sets of indicators\n",
    "\n",
    "    # Replace \"y_no\" and \"y_yes\" with a single label column, and bring it to the front:\n",
    "    df_model_data = pd.concat(\n",
    "        [\n",
    "            df_model_data[\"y_yes\"].rename(target_col),\n",
    "            df_model_data.drop([\"y_no\", \"y_yes\"], axis=1),\n",
    "        ],\n",
    "        axis=1,\n",
    "    )\n",
    "\n",
    "    # Shuffle and splitting dataset\n",
    "    train_data, validation_data, test_data = np.split(\n",
    "        df_model_data.sample(frac=1, random_state=1729),\n",
    "        [int(0.7 * len(df_model_data)), int(0.9 * len(df_model_data))],\n",
    "    )\n",
    "\n",
    "    print(f\"Data split > train:{train_data.shape} | validation:{validation_data.shape} | test:{test_data.shape}\")\n",
    "    \n",
    "    baseline_data = df_model_data.drop([target_col], axis=1)\n",
    "    \n",
    "    print(\"## Processing complete. Exiting.\")\n",
    "        \n",
    "    return train_data, validation_data, test_data, baseline_data"
   ]
  },
  {
   "cell_type": "code",
   "execution_count": null,
   "id": "5788ca22-c1a3-46ab-abd0-4d2c1f1c7b13",
   "metadata": {},
   "outputs": [],
   "source": [
    "%%time\n",
    "\n",
    "df = df_raw.copy()\n",
    "\n",
    "# Call the function locally\n",
    "train_data, validation_data, test_data, baseline_data = preprocess(df)"
   ]
  },
  {
   "cell_type": "markdown",
   "id": "52daefc5-eaf1-42b6-a5a5-16ebe47b0189",
   "metadata": {},
   "source": [
    "### Save result"
   ]
  },
  {
   "cell_type": "code",
   "execution_count": 26,
   "id": "0cb41c42-1d53-4730-b28d-e5e72cbd5a63",
   "metadata": {
    "tags": []
   },
   "outputs": [
    {
     "name": "stdout",
     "output_type": "stream",
     "text": [
      "./data/transformed\n"
     ]
    }
   ],
   "source": [
    "print(loca_transformed_path)"
   ]
  },
  {
   "cell_type": "code",
   "execution_count": 31,
   "id": "4771024d-c9b3-4bc3-95a5-d2a9582abb29",
   "metadata": {
    "tags": []
   },
   "outputs": [],
   "source": [
    "train_data.to_csv(os.path.join(loca_transformed_path, \"train.csv\"), index=False, header=False)\n",
    "validation_data.to_csv(os.path.join(loca_transformed_path, \"validation.csv\"), index=False, header=False)\n",
    "test_data.to_csv(os.path.join(loca_transformed_path, \"test.csv\"), index=False, header=False)"
   ]
  },
  {
   "cell_type": "markdown",
   "id": "6d72bdbe-7855-4bbe-8cb9-322d4651474d",
   "metadata": {},
   "source": [
    "## Option 2:"
   ]
  },
  {
   "cell_type": "markdown",
   "id": "3d87217b-6f72-4106-826f-bd6d1e6dbfef",
   "metadata": {},
   "source": [
    "### Load data"
   ]
  },
  {
   "cell_type": "code",
   "execution_count": null,
   "id": "04578879-9c2a-42d1-b425-5e7142f3dbd2",
   "metadata": {},
   "outputs": [],
   "source": [
    "local_dataset_path = f\"{local_prefix}/{dataset_raw}\"\n",
    "df_raw = pd.read_csv(local_dataset_path, sep=\";\")"
   ]
  },
  {
   "cell_type": "code",
   "execution_count": null,
   "id": "d8153657-4b58-488b-8984-6c418fb828c5",
   "metadata": {},
   "outputs": [],
   "source": [
    "df = df_raw.copy()"
   ]
  },
  {
   "cell_type": "code",
   "execution_count": null,
   "id": "e8bcf3c3-2218-4860-b966-6fc7a14db42b",
   "metadata": {},
   "outputs": [],
   "source": [
    "df"
   ]
  },
  {
   "cell_type": "code",
   "execution_count": null,
   "id": "19569dea-adaf-4396-9828-49fae9a66c1a",
   "metadata": {},
   "outputs": [],
   "source": [
    "# s3_data_transformed_prefix = \"data/transformed\"\n",
    "\n",
    "# train_s3_url = f\"s3://{bucket_name}/{s3_prefix}/{s3_data_transformed_prefix}/train\"\n",
    "# validation_s3_url = f\"s3://{bucket_name}/{s3_prefix}/{s3_data_transformed_prefix}/validation\"\n",
    "# test_s3_url = f\"s3://{bucket_name}/{s3_prefix}/{s3_data_transformed_prefix}/test\"\n",
    "# baseline_s3_url = f\"s3://{bucket_name}/{s3_prefix}/{s3_data_transformed_prefix}/baseline\""
   ]
  },
  {
   "cell_type": "code",
   "execution_count": null,
   "id": "1046fc77-9510-400b-abb3-257708cfc10a",
   "metadata": {},
   "outputs": [],
   "source": [
    "def preprocess(df_data):\n",
    "    target_col = \"y\"\n",
    "    \n",
    "    # Indicator variable to capture when pdays takes a value of 999\n",
    "    df_data[\"no_previous_contact\"] = np.where(df_data[\"pdays\"] == 999, 1, 0)\n",
    "\n",
    "    # Indicator for individuals not actively employed\n",
    "    df_data[\"not_working\"] = np.where(np.in1d(df_data[\"job\"], [\"student\", \"retired\", \"unemployed\"]), 1, 0)\n",
    "\n",
    "    # remove unnecessary data\n",
    "    df_model_data = df_data.drop(\n",
    "        [\"duration\", \"emp.var.rate\", \"cons.price.idx\", \"cons.conf.idx\", \"euribor3m\", \"nr.employed\"],\n",
    "        axis=1,\n",
    "    )\n",
    "\n",
    "    bins = [18, 30, 40, 50, 60, 70, 90]\n",
    "    labels = ['18-29', '30-39', '40-49', '50-59', '60-69', '70-plus']\n",
    "\n",
    "    df_model_data['age_range'] = pd.cut(df_model_data.age, bins, labels=labels, include_lowest=True)\n",
    "    df_model_data = pd.concat([df_model_data, pd.get_dummies(df_model_data['age_range'], prefix='age', dtype=int)], axis=1)\n",
    "    df_model_data.drop('age', axis=1, inplace=True)\n",
    "    df_model_data.drop('age_range', axis=1, inplace=True)\n",
    "\n",
    "    scaled_features = ['pdays', 'previous', 'campaign']\n",
    "    df_model_data[scaled_features] = MinMaxScaler().fit_transform(df_model_data[scaled_features])\n",
    "\n",
    "    df_model_data = pd.get_dummies(df_model_data, dtype=int)  # Convert categorical variables to sets of indicators\n",
    "\n",
    "    # Replace \"y_no\" and \"y_yes\" with a single label column, and bring it to the front:\n",
    "    df_model_data = pd.concat(\n",
    "        [\n",
    "            df_model_data[\"y_yes\"].rename(target_col),\n",
    "            df_model_data.drop([\"y_no\", \"y_yes\"], axis=1),\n",
    "        ],\n",
    "        axis=1,\n",
    "    )\n",
    "\n",
    "    # Shuffle and splitting dataset\n",
    "    train_data, validation_data, test_data = np.split(\n",
    "        df_model_data.sample(frac=1, random_state=1729),\n",
    "        [int(0.7 * len(df_model_data)), int(0.9 * len(df_model_data))],\n",
    "    )\n",
    "\n",
    "    print(f\"Data split > train:{train_data.shape} | validation:{validation_data.shape} | test:{test_data.shape}\")\n",
    "    \n",
    "    baseline_data = df_model_data.drop([target_col], axis=1)\n",
    "    \n",
    "    print(\"## Processing complete. Exiting.\")\n",
    "        \n",
    "    return train_data, validation_data, test_data, baseline_data"
   ]
  },
  {
   "cell_type": "code",
   "execution_count": null,
   "id": "4a81ecb7-729c-4945-8527-754d18897c81",
   "metadata": {},
   "outputs": [],
   "source": [
    "s3_root_uri = f\"s3://{bucket_name}/{s3_prefix}\"\n",
    "s3_root_uri"
   ]
  },
  {
   "cell_type": "code",
   "execution_count": null,
   "id": "cea1855a-6a8a-4a69-9958-669b2a91e6ad",
   "metadata": {},
   "outputs": [],
   "source": [
    "%%writefile requirements.txt\n",
    "pandas\n",
    "numpy\n",
    "scikit-learn"
   ]
  },
  {
   "cell_type": "code",
   "execution_count": null,
   "id": "e38944b2-a127-42b4-a1d3-c595fad1f01f",
   "metadata": {},
   "outputs": [],
   "source": [
    "sklearn_processor = SKLearnProcessor(\n",
    "    framework_version=skprocessor_framework_version,\n",
    "    role=sm_role,\n",
    "    instance_type=processing_instance_type,\n",
    "    instance_count=processing_instance_count, \n",
    "    base_job_name='itau-processing',\n",
    "    sagemaker_session=sagemaker_session,\n",
    ")"
   ]
  },
  {
   "cell_type": "code",
   "execution_count": null,
   "id": "3b755b4d-57c7-47d5-a52e-cd8ef0157c88",
   "metadata": {},
   "outputs": [],
   "source": [
    "print(f\"{processing_instance_type = }\")\n",
    "print(f\"{processing_instance_count = }\")"
   ]
  },
  {
   "cell_type": "code",
   "execution_count": null,
   "id": "fa34c804-59bc-43bf-b90b-816b11af1172",
   "metadata": {},
   "outputs": [],
   "source": [
    "# https://sagemaker.readthedocs.io/en/stable/remote_function/sagemaker.remote_function.html#remoteexecutor\n",
    "\n",
    "with RemoteExecutor(\n",
    "    dependencies=\"./requirements.txt\",\n",
    "    s3_root_uri=s3_root_uri,\n",
    "    sagemaker_session=sagemaker_session,\n",
    "    instance_type=processing_instance_type,\n",
    "    instance_count=processing_instance_count,\n",
    "    max_parallel_jobs=1\n",
    ") as e:\n",
    "    future = e.submit(preprocess, df)"
   ]
  },
  {
   "cell_type": "code",
   "execution_count": null,
   "id": "bbed1267-2e7f-47e4-b09a-23475e0a8395",
   "metadata": {},
   "outputs": [],
   "source": [
    "train_data, validation_data, test_data, baseline_data = future.result()"
   ]
  },
  {
   "cell_type": "code",
   "execution_count": null,
   "id": "d162398a-ce8d-4fd2-b480-f41b844d73fb",
   "metadata": {},
   "outputs": [],
   "source": [
    "train_data.head()"
   ]
  },
  {
   "cell_type": "markdown",
   "id": "c8158214-6ab8-4ef7-9c45-7d84d7eaa28e",
   "metadata": {},
   "source": [
    "## Option 3:"
   ]
  },
  {
   "cell_type": "markdown",
   "id": "1b1c865b-0158-431c-9d5e-9d533a8029a6",
   "metadata": {},
   "source": [
    "### Load dataset"
   ]
  },
  {
   "cell_type": "code",
   "execution_count": null,
   "id": "f851b92e-9c00-499d-b9b8-47657775fc01",
   "metadata": {},
   "outputs": [],
   "source": [
    "local_dataset_path = f\"{local_prefix}/{dataset_raw}\"\n",
    "df_raw = pd.read_csv(local_dataset_path, sep=\";\")"
   ]
  },
  {
   "cell_type": "code",
   "execution_count": null,
   "id": "30984580-4019-49c6-9ced-c24012e08a5a",
   "metadata": {},
   "outputs": [],
   "source": [
    "df = df_raw.copy()"
   ]
  },
  {
   "cell_type": "code",
   "execution_count": null,
   "id": "1de4ed62-14b9-4687-88ad-02ccece0fc19",
   "metadata": {},
   "outputs": [],
   "source": [
    "print(f\"{processing_instance_type = }\")\n",
    "print(f\"{processing_instance_count = }\")"
   ]
  },
  {
   "cell_type": "code",
   "execution_count": null,
   "id": "e39d6809-45df-429b-a6c1-6a6517c04dc2",
   "metadata": {},
   "outputs": [],
   "source": [
    "#Prints the location of the admin config file\n",
    "print(os.path.join(site_config_dir(\"sagemaker\"), \"config.yaml\"))\n",
    "\n",
    "#Prints the location of the user config file\n",
    "print(os.path.join(user_config_dir(\"sagemaker\"), \"config.yaml\"))\n",
    "\n",
    "print(sys.executable)"
   ]
  },
  {
   "cell_type": "code",
   "execution_count": null,
   "id": "7b09ad2c-7781-4efd-b807-5e7cf381b022",
   "metadata": {},
   "outputs": [],
   "source": [
    "%%writefile config.yaml\n",
    "\n",
    "SchemaVersion: '1.0'\n",
    "SageMaker:\n",
    "  PythonSDK:\n",
    "    Modules:\n",
    "      RemoteFunction:\n",
    "        Dependencies: './requirements.txt'\n",
    "        EnableInterContainerTrafficEncryption: true\n",
    "        EnvironmentVariables: {'EnvVarKey': 'EnvVarValue'}\n",
    "        IncludeLocalWorkDir: true\n",
    "        CustomFileFilter: \n",
    "          IgnoreNamePatterns:\n",
    "            - \"*.ipynb\"\n",
    "            - \"data\"\n",
    "            - \"__pycache__\"\n",
    "        InstanceType: 'ml.m5.large'\n",
    "        JobCondaEnvironment: 'python'"
   ]
  },
  {
   "cell_type": "code",
   "execution_count": null,
   "id": "bc9e7767-aabf-4a7a-8a8d-d678827fee72",
   "metadata": {},
   "outputs": [],
   "source": [
    "@remote(s3_root_uri=s3_root_uri, instance_type=processing_instance_type)\n",
    "def preprocess(df_data):\n",
    "    target_col = \"y\"\n",
    "    \n",
    "    # Indicator variable to capture when pdays takes a value of 999\n",
    "    df_data[\"no_previous_contact\"] = np.where(df_data[\"pdays\"] == 999, 1, 0)\n",
    "\n",
    "    # Indicator for individuals not actively employed\n",
    "    df_data[\"not_working\"] = np.where(\n",
    "        np.in1d(df_data[\"job\"], [\"student\", \"retired\", \"unemployed\"]), 1, 0\n",
    "    )\n",
    "\n",
    "    # remove unnecessary data\n",
    "    df_model_data = df_data.drop(\n",
    "        [\"duration\", \"emp.var.rate\", \"cons.price.idx\", \"cons.conf.idx\", \"euribor3m\", \"nr.employed\"],\n",
    "        axis=1,\n",
    "    )\n",
    "\n",
    "    bins = [18, 30, 40, 50, 60, 70, 90]\n",
    "    labels = ['18-29', '30-39', '40-49', '50-59', '60-69', '70-plus']\n",
    "\n",
    "    df_model_data['age_range'] = pd.cut(df_model_data.age, bins, labels=labels, include_lowest=True)\n",
    "    df_model_data = pd.concat([df_model_data, pd.get_dummies(df_model_data['age_range'], prefix='age', dtype=int)], axis=1)\n",
    "    df_model_data.drop('age', axis=1, inplace=True)\n",
    "    df_model_data.drop('age_range', axis=1, inplace=True)\n",
    "\n",
    "    scaled_features = ['pdays', 'previous', 'campaign']\n",
    "    df_model_data[scaled_features] = MinMaxScaler().fit_transform(df_model_data[scaled_features])\n",
    "\n",
    "    df_model_data = pd.get_dummies(df_model_data, dtype=int)  # Convert categorical variables to sets of indicators\n",
    "\n",
    "    # Replace \"y_no\" and \"y_yes\" with a single label column, and bring it to the front:\n",
    "    df_model_data = pd.concat(\n",
    "        [\n",
    "            df_model_data[\"y_yes\"].rename(target_col),\n",
    "            df_model_data.drop([\"y_no\", \"y_yes\"], axis=1),\n",
    "        ],\n",
    "        axis=1,\n",
    "    )\n",
    "\n",
    "    # Shuffle and splitting dataset\n",
    "    train_data, validation_data, test_data = np.split(\n",
    "        df_model_data.sample(frac=1, random_state=1729),\n",
    "        [int(0.7 * len(df_model_data)), int(0.9 * len(df_model_data))],\n",
    "    )\n",
    "\n",
    "    print(f\"Data split > train:{train_data.shape} | validation:{validation_data.shape} | test:{test_data.shape}\")\n",
    "    \n",
    "    baseline_data = df_model_data.drop([target_col], axis=1)\n",
    "    \n",
    "    print(\"## Processing complete. Exiting.\")\n",
    "        \n",
    "    return train_data, validation_data, test_data, baseline_data"
   ]
  },
  {
   "cell_type": "code",
   "execution_count": null,
   "id": "fa0013ce-caa6-41cd-aee6-3025571dc9d7",
   "metadata": {},
   "outputs": [],
   "source": [
    "run_suffix = strftime('%Y-%m-%M-%S', gmtime())\n",
    "run_name = f\"remote-function-processing-{run_suffix}\"\n",
    "\n",
    "# Create an experiment run and run the function remotely as a SageMaker job\n",
    "with Run(\n",
    "    experiment_name=experiment_name,\n",
    "    run_name=run_name,\n",
    "    run_display_name=\"remote-function-processing\",\n",
    "    sagemaker_session=sagemaker_session\n",
    ") as run:\n",
    "    train_data, validation_data, test_data, baseline_data = preprocess(df)"
   ]
  },
  {
   "cell_type": "code",
   "execution_count": null,
   "id": "16de644b-19e3-4a38-9371-dd5ea83f8034",
   "metadata": {},
   "outputs": [],
   "source": [
    "train_data.head()"
   ]
  },
  {
   "cell_type": "markdown",
   "id": "38bc9902-d6fb-4b0a-b93b-6000d2b3a991",
   "metadata": {},
   "source": [
    "## Option 4:"
   ]
  },
  {
   "cell_type": "code",
   "execution_count": 8,
   "id": "5a1cc76b-7bce-49d6-bd9d-733a13a2a3bb",
   "metadata": {
    "tags": []
   },
   "outputs": [
    {
     "name": "stdout",
     "output_type": "stream",
     "text": [
      "2024-06-16 21:13:20    5834924 workshop/data/raw/bank-additional-full.csv\n"
     ]
    }
   ],
   "source": [
    "!aws s3 ls {bucket_name}/{s3_prefix}/{s3_data_raw_prefix}/{dataset_raw} --recursive"
   ]
  },
  {
   "cell_type": "code",
   "execution_count": 24,
   "id": "3c9105a5-039c-4b27-9ba2-81b52ece72fb",
   "metadata": {
    "tags": []
   },
   "outputs": [
    {
     "name": "stdout",
     "output_type": "stream",
     "text": [
      "Overwriting preprocessing.py\n"
     ]
    }
   ],
   "source": [
    "%%writefile preprocessing.py\n",
    "\n",
    "import os\n",
    "import pandas as pd\n",
    "import numpy as np\n",
    "import argparse\n",
    "from sklearn.model_selection import train_test_split\n",
    "from sklearn.preprocessing import MinMaxScaler, LabelEncoder\n",
    "\n",
    "\n",
    "def _parse_args():\n",
    "    parser = argparse.ArgumentParser()\n",
    "    # Data, model, and output directories\n",
    "    # model_dir is always passed in from SageMaker. By default this is a S3 path under the default bucket.\n",
    "    parser.add_argument('--filepath', type=str, default='/opt/ml/processing/input/')\n",
    "    parser.add_argument('--filename', type=str, default='bank-additional-full.csv')\n",
    "    parser.add_argument('--outputpath', type=str, default='/opt/ml/processing/output/')\n",
    "    return parser.parse_known_args()\n",
    "\n",
    "\n",
    "def process_data(df_data):\n",
    "    # Indicator variable to capture when pdays takes a value of 999\n",
    "    df_data[\"no_previous_contact\"] = np.where(df_data[\"pdays\"] == 999, 1, 0)\n",
    "\n",
    "    # Indicator for individuals not actively employed\n",
    "    df_data[\"not_working\"] = np.where(\n",
    "        np.in1d(df_data[\"job\"], [\"student\", \"retired\", \"unemployed\"]), 1, 0\n",
    "    )\n",
    "\n",
    "    # remove unnecessary data\n",
    "    df_model_data = df_data.drop(\n",
    "        [\"duration\", \"emp.var.rate\", \"cons.price.idx\", \"cons.conf.idx\", \"euribor3m\", \"nr.employed\"],\n",
    "        axis=1,\n",
    "    )\n",
    "\n",
    "    bins = [18, 30, 40, 50, 60, 70, 90]\n",
    "    labels = ['18-29', '30-39', '40-49', '50-59', '60-69', '70-plus']\n",
    "\n",
    "    df_model_data['age_range'] = pd.cut(df_model_data.age, bins, labels=labels, include_lowest=True)\n",
    "    df_model_data = pd.concat([df_model_data, pd.get_dummies(df_model_data['age_range'], prefix='age', dtype=int)], axis=1)\n",
    "    df_model_data.drop('age', axis=1, inplace=True)\n",
    "    df_model_data.drop('age_range', axis=1, inplace=True)\n",
    "\n",
    "    scaled_features = ['pdays', 'previous', 'campaign']\n",
    "    df_model_data[scaled_features] = MinMaxScaler().fit_transform(df_model_data[scaled_features])\n",
    "\n",
    "    df_model_data = pd.get_dummies(df_model_data, dtype=int)  # Convert categorical variables to sets of indicators\n",
    "\n",
    "    # Replace \"y_no\" and \"y_yes\" with a single label column, and bring it to the front:\n",
    "    df_model_data = pd.concat(\n",
    "        [\n",
    "            df_model_data[\"y_yes\"].rename(target_col),\n",
    "            df_model_data.drop([\"y_no\", \"y_yes\"], axis=1),\n",
    "        ],\n",
    "        axis=1,\n",
    "    )\n",
    "    \n",
    "    return df_model_data\n",
    "\n",
    "\n",
    "if __name__==\"__main__\":\n",
    "    # Process arguments\n",
    "    args, _ = _parse_args()\n",
    "    target_col = \"y\"\n",
    "    \n",
    "    # process data\n",
    "    df_model_data = process_data(pd.read_csv(os.path.join(args.filepath, args.filename), sep=\";\"))\n",
    "\n",
    "    # Shuffle and splitting dataset\n",
    "    # train_data, validation_data, test_data = np.split(\n",
    "    #     df_model_data.sample(frac=1, random_state=1729),\n",
    "    #     [int(0.7 * len(df_model_data)), int(0.9 * len(df_model_data))],\n",
    "    # )\n",
    "    \n",
    "    # print(f\"Data split > train:{train_data.shape} | validation:{validation_data.shape} | test:{test_data.shape}\")\n",
    "    \n",
    "    # Save datasets locally\n",
    "    # train_data.to_csv(os.path.join(args.outputpath, 'train/train.csv'), index=False, header=False)\n",
    "    # validation_data.to_csv(os.path.join(args.outputpath, 'validation/validation.csv'), index=False, header=False)\n",
    "    # test_data[target_col].to_csv(os.path.join(args.outputpath, 'test/test_y.csv'), index=False, header=False)\n",
    "    # test_data.drop([target_col], axis=1).to_csv(os.path.join(args.outputpath, 'test/test_x.csv'), index=False, header=False)\n",
    "    \n",
    "    # Save the baseline dataset for model monitoring\n",
    "    # df_model_data.drop([target_col], axis=1).to_csv(os.path.join(args.outputpath, 'baseline/baseline.csv'), index=False, header=False)\n",
    "    \n",
    "    train_data, temp_data = train_test_split(df_model_data, test_size=0.3, random_state=42, shuffle=True)\n",
    "    validation_data, test_data = train_test_split(temp_data, test_size=0.5, random_state=42, shuffle=True)\n",
    "\n",
    "    print(f\"Data split > train:{train_data.shape} | validation:{validation_data.shape} | test:{test_data.shape}\")\n",
    "    \n",
    "    # Save datasets locally\n",
    "    train_data.to_csv(os.path.join(args.outputpath, 'train/train.csv'), index=False, header=True)\n",
    "    validation_data.to_csv(os.path.join(args.outputpath, 'validation/validation.csv'), index=False, header=True)\n",
    "    test_data[target_col].to_csv(os.path.join(args.outputpath, 'test/test_y.csv'), index=False, header=True)\n",
    "    test_data.drop([target_col], axis=1).to_csv(os.path.join(args.outputpath, 'test/test_x.csv'), index=False, header=True)\n",
    "    \n",
    "    # Save the baseline dataset for model monitoring\n",
    "    df_model_data.drop([target_col], axis=1).to_csv(os.path.join(args.outputpath, 'baseline/baseline.csv'), index=False, header=True)\n",
    "    \n",
    "    print(\"## Processing complete. Exiting.\")"
   ]
  },
  {
   "cell_type": "code",
   "execution_count": 25,
   "id": "330f8804-a170-4c56-bb28-0a2d2f784b5c",
   "metadata": {
    "tags": []
   },
   "outputs": [],
   "source": [
    "s3_data_transformed_prefix = \"data/transformed\"\n",
    "\n",
    "train_s3_url = f\"s3://{bucket_name}/{s3_prefix}/{s3_data_transformed_prefix}/train\"\n",
    "validation_s3_url = f\"s3://{bucket_name}/{s3_prefix}/{s3_data_transformed_prefix}/validation\"\n",
    "test_s3_url = f\"s3://{bucket_name}/{s3_prefix}/{s3_data_transformed_prefix}/test\"\n",
    "baseline_s3_url = f\"s3://{bucket_name}/{s3_prefix}/{s3_data_transformed_prefix}/baseline\""
   ]
  },
  {
   "cell_type": "code",
   "execution_count": 26,
   "id": "d375c94d-3d90-4f86-a296-543bf77ba071",
   "metadata": {
    "tags": []
   },
   "outputs": [
    {
     "name": "stdout",
     "output_type": "stream",
     "text": [
      "train_s3_url = 's3://sagemaker-us-east-1-891377318910/workshop/data/transformed/train'\n",
      "validation_s3_url = 's3://sagemaker-us-east-1-891377318910/workshop/data/transformed/validation'\n",
      "test_s3_url = 's3://sagemaker-us-east-1-891377318910/workshop/data/transformed/test'\n",
      "baseline_s3_url = 's3://sagemaker-us-east-1-891377318910/workshop/data/transformed/baseline'\n"
     ]
    }
   ],
   "source": [
    "print(f\"{train_s3_url = }\")\n",
    "print(f\"{validation_s3_url = }\")\n",
    "print(f\"{test_s3_url = }\")\n",
    "print(f\"{baseline_s3_url = }\")"
   ]
  },
  {
   "cell_type": "code",
   "execution_count": 11,
   "id": "5dfd318a-ea7f-49aa-8abe-70c1709db8c0",
   "metadata": {
    "tags": []
   },
   "outputs": [
    {
     "name": "stdout",
     "output_type": "stream",
     "text": [
      "Stored 'train_s3_url' (str)\n",
      "Stored 'validation_s3_url' (str)\n",
      "Stored 'test_s3_url' (str)\n",
      "Stored 'baseline_s3_url' (str)\n"
     ]
    }
   ],
   "source": [
    "%store train_s3_url\n",
    "%store validation_s3_url\n",
    "%store test_s3_url\n",
    "%store baseline_s3_url"
   ]
  },
  {
   "cell_type": "markdown",
   "id": "628be041-9fc3-431e-88b5-2f593d4934bc",
   "metadata": {},
   "source": [
    "### Create a experiment run"
   ]
  },
  {
   "cell_type": "code",
   "execution_count": 20,
   "id": "58211be3-5ca7-4fe6-9537-a8727acb29ea",
   "metadata": {
    "tags": []
   },
   "outputs": [],
   "source": [
    "run_suffix = strftime('%Y-%m-%M-%S', gmtime())\n",
    "run_name = f\"preprocessing-{run_suffix}\"\n",
    "\n",
    "with Run(experiment_name=experiment_name,\n",
    "         run_name=run_name,\n",
    "         run_display_name=\"preprocessing\",\n",
    "         sagemaker_session=sagemaker_session\n",
    "    ) as run:\n",
    "    run.log_parameters(\n",
    "        {\n",
    "            \"train\": 0.7,\n",
    "            \"validate\": 0.2,\n",
    "            \"test\": 0.1\n",
    "        }\n",
    "    )\n",
    "   \n",
    "    experiment_config = run.experiment_config\n",
    "    time.sleep(5)"
   ]
  },
  {
   "cell_type": "markdown",
   "id": "f41bb737-b01b-410a-8e94-83e05c17f6f4",
   "metadata": {},
   "source": [
    "### Create a processor"
   ]
  },
  {
   "cell_type": "code",
   "execution_count": 21,
   "id": "307fb778-688d-4b7f-b3d0-19f06e199d92",
   "metadata": {},
   "outputs": [],
   "source": [
    "skprocessor_framework_version = \"1.2-1\"\n",
    "processing_instance_type = \"ml.m5.large\"\n",
    "processing_instance_count = 1"
   ]
  },
  {
   "cell_type": "code",
   "execution_count": 27,
   "id": "8f27502e-b916-4770-ba47-e9c2e0e401a9",
   "metadata": {
    "tags": []
   },
   "outputs": [
    {
     "name": "stderr",
     "output_type": "stream",
     "text": [
      "INFO:sagemaker.image_uris:Defaulting to only available Python version: py3\n"
     ]
    }
   ],
   "source": [
    "sklearn_processor = SKLearnProcessor(\n",
    "    framework_version=skprocessor_framework_version,\n",
    "    role=sm_role,\n",
    "    instance_type=processing_instance_type,\n",
    "    instance_count=processing_instance_count, \n",
    "    base_job_name='itau-processing',\n",
    "    sagemaker_session=sagemaker_session,\n",
    ")\n",
    "\n",
    "processing_inputs = [\n",
    "        ProcessingInput(\n",
    "            source=input_s3_url, \n",
    "            destination=\"/opt/ml/processing/input\",\n",
    "            s3_input_mode=\"File\",\n",
    "            s3_data_distribution_type=\"ShardedByS3Key\"\n",
    "        )\n",
    "    ]\n",
    "\n",
    "processing_outputs = [\n",
    "        ProcessingOutput(\n",
    "            output_name=\"train_data\", \n",
    "            source=\"/opt/ml/processing/output/train\",\n",
    "            destination=train_s3_url,\n",
    "        ),\n",
    "        ProcessingOutput(\n",
    "            output_name=\"validation_data\", \n",
    "            source=\"/opt/ml/processing/output/validation\", \n",
    "            destination=validation_s3_url\n",
    "        ),\n",
    "        ProcessingOutput(\n",
    "            output_name=\"test_data\", \n",
    "            source=\"/opt/ml/processing/output/test\", \n",
    "            destination=test_s3_url\n",
    "        ),\n",
    "        ProcessingOutput(\n",
    "            output_name=\"baseline_data\", \n",
    "            source=\"/opt/ml/processing/output/baseline\", \n",
    "            destination=baseline_s3_url\n",
    "        ),\n",
    "    ]"
   ]
  },
  {
   "cell_type": "code",
   "execution_count": 28,
   "id": "e786a318-672e-4afe-9639-d8a94bbd1196",
   "metadata": {
    "tags": []
   },
   "outputs": [
    {
     "name": "stderr",
     "output_type": "stream",
     "text": [
      "INFO:sagemaker:Creating processing-job with name itau-processing-2024-06-17-23-33-55-180\n"
     ]
    },
    {
     "name": "stdout",
     "output_type": "stream",
     "text": [
      "............\u001b[34mData split > train:(28831, 65) | validation:(6178, 65) | test:(6179, 65)\u001b[0m\n",
      "\u001b[34m## Processing complete. Exiting.\u001b[0m\n",
      "\n"
     ]
    }
   ],
   "source": [
    "try:\n",
    "    sklearn_processor.run(\n",
    "        inputs=processing_inputs,\n",
    "        outputs=processing_outputs,\n",
    "        code='preprocessing.py',\n",
    "        wait=True,\n",
    "        experiment_config=experiment_config,\n",
    "        # arguments = ['arg1', 'arg2'],\n",
    "    )\n",
    "\n",
    "except botocore.exceptions.ClientError as e:\n",
    "    if e.response['Error']['Code'] == 'AccessDeniedException':\n",
    "        print(f\"Ignore AccessDeniedException: {e.response['Error']['Message']} because of the slow resource tag auto propagation\")\n",
    "    else:\n",
    "        raise e"
   ]
  },
  {
   "cell_type": "code",
   "execution_count": 29,
   "id": "8f6632ec-221d-4e5c-81b3-01eb4d6ce064",
   "metadata": {
    "tags": []
   },
   "outputs": [
    {
     "name": "stdout",
     "output_type": "stream",
     "text": [
      "Finished!\n"
     ]
    }
   ],
   "source": [
    "# If you set wait to False in the previous code cell, wait until the job completes\n",
    "while client_sagemaker.describe_processing_job(ProcessingJobName=sklearn_processor._current_job_name)[\"ProcessingJobStatus\"] != \"Completed\":\n",
    "    time.sleep(10)\n",
    "    print(f\"Wait until {sklearn_processor._current_job_name} completed\")\n",
    "print(\"Finished!\")"
   ]
  },
  {
   "cell_type": "code",
   "execution_count": 30,
   "id": "8034816e-218e-420c-bf39-155fd7db4016",
   "metadata": {
    "tags": []
   },
   "outputs": [
    {
     "name": "stdout",
     "output_type": "stream",
     "text": [
      "2024-06-17 23:36:06    6010885 workshop/data/transformed/baseline/baseline.csv\n",
      "2024-06-17 23:36:06     901714 workshop/data/transformed/test/test_x.csv\n",
      "2024-06-17 23:36:06      12360 workshop/data/transformed/test/test_y.csv\n",
      "2024-06-17 23:36:06    4266258 workshop/data/transformed/train/train.csv\n",
      "2024-06-17 23:36:06     914747 workshop/data/transformed/validation/validation.csv\n"
     ]
    }
   ],
   "source": [
    "# list the uploaded files\n",
    "!aws s3 ls {bucket_name}/{s3_prefix}/{s3_data_transformed_prefix} --recursive"
   ]
  },
  {
   "cell_type": "markdown",
   "id": "e212fa8c-fd24-46d3-a42d-b1f435603c20",
   "metadata": {},
   "source": [
    "## Option 5:"
   ]
  },
  {
   "cell_type": "code",
   "execution_count": 21,
   "id": "77a1489f-5d17-498e-9daf-53c1b56be978",
   "metadata": {
    "tags": []
   },
   "outputs": [
    {
     "name": "stdout",
     "output_type": "stream",
     "text": [
      "2024-06-16 21:13:20    5834924 workshop/data/raw/bank-additional-full.csv\n"
     ]
    }
   ],
   "source": [
    "!aws s3 ls {bucket_name}/{s3_prefix}/{s3_data_raw_prefix}/{dataset_raw} --recursive"
   ]
  },
  {
   "cell_type": "code",
   "execution_count": null,
   "id": "6ee5407e-455b-4476-addd-f54565dd5705",
   "metadata": {},
   "outputs": [],
   "source": [
    "s3_prefix_fs = 'feature-store'\n",
    "feature_group_name = 'itau-feature-group'"
   ]
  },
  {
   "cell_type": "code",
   "execution_count": null,
   "id": "16c80aee-f0e8-4034-bcbb-fadffcf451db",
   "metadata": {},
   "outputs": [],
   "source": []
  },
  {
   "cell_type": "code",
   "execution_count": 201,
   "id": "f30afaf3-2171-40f6-89cd-db11008be362",
   "metadata": {
    "tags": []
   },
   "outputs": [
    {
     "name": "stdout",
     "output_type": "stream",
     "text": [
      "Writing preprocessing_fs.py\n"
     ]
    }
   ],
   "source": [
    "%%writefile preprocessing_fs.py\n",
    "\n",
    "import os\n",
    "import sys\n",
    "import time\n",
    "import subprocess\n",
    "import pandas as pd\n",
    "import numpy as np\n",
    "import argparse\n",
    "import boto3\n",
    "# import sagemaker\n",
    "from datetime import datetime, timezone, date\n",
    "from sklearn.model_selection import train_test_split\n",
    "from sklearn.preprocessing import MinMaxScaler, LabelEncoder\n",
    "# from sagemaker import get_execution_role\n",
    "# from sagemaker.feature_store.feature_group import FeatureGroup\n",
    "# from sagemaker.feature_store.inputs import FeatureParameter, TableFormatEnum\n",
    "# from sagemaker.feature_store.feature_definition import StringFeatureDefinition\n",
    "\n",
    "\n",
    "class FeatureGroupHandler:\n",
    "    \n",
    "    def __init__(self, sm_session, name: str, sm_role):\n",
    "        self.sagemaker_session = sm_session\n",
    "        self.client_sm = self.create_client_sm_fs(sm_session)\n",
    "        self.name = name\n",
    "        self.sm_role = sm_role\n",
    "        self._feature_group = FeatureGroup(name=name, sagemaker_session=sm_session)\n",
    "\n",
    "    @property\n",
    "    def feature_group(self):\n",
    "        return self._feature_group\n",
    "\n",
    "    def create_client_sm_fs(self, sm_session):\n",
    "        return sm_session.boto_session.client(\n",
    "            service_name=\"sagemaker-featurestore-runtime\",\n",
    "            region_name=sm_session.boto_session.region_name\n",
    "        )\n",
    "\n",
    "    def check_if_exist(self) -> bool:\n",
    "        feature_groups = client_sagemaker.search(Resource=\"FeatureGroup\")\n",
    "        fg_names = [ft['FeatureGroup']['FeatureGroupName'] for ft in feature_groups['Results']]\n",
    "        return self.name in fg_names\n",
    "\n",
    "    def get_or_create_by_df(self, df: pd.DataFrame, bucket: str, prefix: str, ft_id_name: str, ft_time_name: str = \"event_time\"):\n",
    "        # self._feature_group = FeatureGroup(name=self.name, sagemaker_session=self.sagemaker_session)\n",
    "        if not check_if_exist():\n",
    "            self._feature_group.load_feature_definitions(data_frame=df)\n",
    "            self.create(bucket, prefix, ft_id_name, ft_time_name)\n",
    "            self.wait_for_creation_complete()\n",
    "\n",
    "    def create(self, bucket: str, prefix: str, ft_id_name: str, ft_time_name: str):\n",
    "        self._feature_group.create(\n",
    "            s3_uri=f's3://{bucket}/{prefix}/{self.name}', \n",
    "            record_identifier_name=ft_id_name, \n",
    "            event_time_feature_name=ft_time_name, \n",
    "            role_arn=self.sm_role, \n",
    "            enable_online_store=False,\n",
    "            table_format=TableFormatEnum.ICEBERG \n",
    "        )\n",
    "\n",
    "    def wait_for_creation_complete(self):\n",
    "        status = self._feature_group.describe().get('FeatureGroupStatus')\n",
    "        while status == 'Creating':\n",
    "            print(f'Waiting for feature group: {self._feature_group.name} to be created ...')\n",
    "            time.sleep(5)\n",
    "            status = self._feature_group.describe().get('FeatureGroupStatus')\n",
    "        if status != 'Created':\n",
    "            raise SystemExit(f'Failed to create feature group {self._feature_group.name}: {status}')\n",
    "        print(f'FeatureGroup {self._feature_group.name} was successfully created.')\n",
    "\n",
    "    def update_feature(self, ft_name: str, ft_desc: str):\n",
    "        self._feature_group.update_feature_metadata(\n",
    "            feature_name=ft_name,\n",
    "            description=ft_desc,\n",
    "            # feature_additions=[StringFeatureDefinition(ft_name)]\n",
    "            # parameter_additions=[FeatureParameter(key=\"idType\", value=\"primarykey\")]\n",
    "        )\n",
    "\n",
    "    def ingest_data(self, df: pd.DataFrame, max_workers: int = 10, wait: bool = True):\n",
    "        self._feature_group.ingest(\n",
    "            data_frame=df,\n",
    "            max_workers=max_workers,\n",
    "            wait=wait\n",
    "        )\n",
    "\n",
    "    def get_description(self):\n",
    "        return self._feature_group.describe()\n",
    "\n",
    "    def get_feature_description(self, ft_name: str):\n",
    "        return self._feature_group.describe_feature_metadata(ft_name)\n",
    "\n",
    "    def get_record(self, ft_name):\n",
    "        return self.sagemaker_session.boto_session.client(\n",
    "            service_name=\"sagemaker-featurestore-runtime\",\n",
    "            region_name=self.sagemaker_session.boto_session.region_name\n",
    "        ).get_record(\n",
    "            FeatureGroupName=self.name,\n",
    "            RecordIdentifierValueAsString=str(ft_name)\n",
    "        )\n",
    "\n",
    "    def delete(self):\n",
    "        self._feature_group.delete()\n",
    "\n",
    "\n",
    "def _parse_args():\n",
    "    parser = argparse.ArgumentParser()\n",
    "    # Data, model, and output directories\n",
    "    # model_dir is always passed in from SageMaker. By default this is a S3 path under the default bucket.\n",
    "    parser.add_argument('--filepath', type=str, default='/opt/ml/processing/input/')\n",
    "    parser.add_argument('--filename', type=str, default='bank-additional-full.csv')\n",
    "    parser.add_argument('--outputpath', type=str, default='/opt/ml/processing/output/')\n",
    "    parser.add_argument('--bucket_fs', type=str, default='sagemaker-us-east-1-891377318910')\n",
    "    parser.add_argument('--prefix_fs', type=str, default='workshop/feature-store')\n",
    "    return parser.parse_known_args()\n",
    "\n",
    "def generate_event_timestamp():\n",
    "    naive_dt = datetime.now()\n",
    "    aware_dt = naive_dt.astimezone()\n",
    "    utc_dt = aware_dt.astimezone(timezone.utc)\n",
    "    event_time = utc_dt.isoformat(timespec='milliseconds')\n",
    "    event_time = event_time.replace('+00:00', 'Z')\n",
    "    return event_time\n",
    "\n",
    "def convert_col_name(col):\n",
    "    return col.replace('.', '_').replace('-', '_').rstrip('_')\n",
    "\n",
    "def process_data(df_data):\n",
    "    # Indicator variable to capture when pdays takes a value of 999\n",
    "    df_data[\"no_previous_contact\"] = np.where(df_data[\"pdays\"] == 999, 1, 0)\n",
    "\n",
    "    # Indicator for individuals not actively employed\n",
    "    df_data[\"not_working\"] = np.where(\n",
    "        np.in1d(df_data[\"job\"], [\"student\", \"retired\", \"unemployed\"]), 1, 0\n",
    "    )\n",
    "\n",
    "    # remove unnecessary data\n",
    "    df_model_data = df_data.drop(\n",
    "        [\"duration\", \"emp.var.rate\", \"cons.price.idx\", \"cons.conf.idx\", \"euribor3m\", \"nr.employed\"],\n",
    "        axis=1,\n",
    "    )\n",
    "\n",
    "    bins = [18, 30, 40, 50, 60, 70, 90]\n",
    "    labels = ['18-29', '30-39', '40-49', '50-59', '60-69', '70-plus']\n",
    "\n",
    "    df_model_data['age_range'] = pd.cut(df_model_data.age, bins, labels=labels, include_lowest=True)\n",
    "    df_model_data = pd.concat([df_model_data, pd.get_dummies(df_model_data['age_range'], prefix='age', dtype=int)], axis=1)\n",
    "    df_model_data.drop('age', axis=1, inplace=True)\n",
    "    df_model_data.drop('age_range', axis=1, inplace=True)\n",
    "\n",
    "    scaled_features = ['pdays', 'previous', 'campaign']\n",
    "    df_model_data[scaled_features] = MinMaxScaler().fit_transform(df_model_data[scaled_features])\n",
    "\n",
    "    df_model_data = pd.get_dummies(df_model_data, dtype=int)  # Convert categorical variables to sets of indicators\n",
    "\n",
    "    # Replace \"y_no\" and \"y_yes\" with a single label column, and bring it to the front:\n",
    "    df_model_data = pd.concat(\n",
    "        [\n",
    "            df_model_data[\"y_yes\"].rename(target_col),\n",
    "            df_model_data.drop([\"y_no\", \"y_yes\"], axis=1),\n",
    "        ],\n",
    "        axis=1,\n",
    "    )\n",
    "    \n",
    "    return df_model_data\n",
    "\n",
    "\n",
    "if __name__==\"__main__\":\n",
    "    args, _ = _parse_args()\n",
    "    target_col = \"y\"\n",
    "    \n",
    "    region = boto3.Session().region_name\n",
    "    if region is None:\n",
    "        region = \"us-east-1\"\n",
    "    boto_session = boto3.Session(region_name=region)\n",
    "    os.environ['AWS_DEFAULT_REGION'] = region\n",
    "    \n",
    "    subprocess.check_call([sys.executable, \"-m\", \"pip\", \"install\", \"sagemaker==2.135.0\"])\n",
    "    import sagemaker\n",
    "    from sagemaker import get_execution_role\n",
    "    from sagemaker.session import Session\n",
    "    from sagemaker.feature_store.feature_group import FeatureGroup\n",
    "    from sagemaker.feature_store.inputs import FeatureParameter, TableFormatEnum\n",
    "    from sagemaker.feature_store.feature_definition import StringFeatureDefinition\n",
    "    \n",
    "    sagemaker_client = boto_session.client(service_name=\"sagemaker\", region_name=region)\n",
    "    featurestore_runtime = boto_session.client(service_name=\"sagemaker-featurestore-runtime\", region_name=region)\n",
    "\n",
    "    sagemaker_session = Session(\n",
    "        boto_session=boto_session,\n",
    "        sagemaker_client=sagemaker_client,\n",
    "        sagemaker_featurestore_runtime_client=featurestore_runtime,\n",
    "    )\n",
    "    \n",
    "    # sagemaker_session = sagemaker.Session()\n",
    "    sagemaker_role = sagemaker.get_execution_role()\n",
    "    feature_group_name = \"itau-feature-group\"\n",
    "    \n",
    "    # process data\n",
    "    df_model_data = process_data(pd.read_csv(os.path.join(args.filepath, args.filename), sep=\";\"))\n",
    "    \n",
    "    df_train, df_temp = train_test_split(df_model_data, test_size=0.3, random_state=42)\n",
    "    df_valid, df_test = train_test_split(df_temp, test_size=0.5, random_state=42) \n",
    "    df_model_data['set'] = 'train'\n",
    "    df_model_data.loc[df_valid.index, 'set'] = 'validation'\n",
    "    df_model_dataf.loc[df_test.index, 'set'] = 'test'\n",
    "    \n",
    "    del df_train\n",
    "    del df_temp\n",
    "    del df_valid\n",
    "    del df_test\n",
    "    \n",
    "    df_model_data['event_time'] = generate_event_timestamp()\n",
    "    df_model_data['record_id'] = [f'R{i}' for i in range(len(df_model_data))]\n",
    "    df_model_data = df_model_data.rename(columns=convert_col_name)\n",
    "    df_model_data = df_model_data.convert_dtypes(infer_objects=True, convert_boolean=False)\n",
    "    df_model_data['record_id'] = df_model_data['record_id'].astype('string')\n",
    "    df_model_data['event_time'] = df_model_data['event_time'].astype('string')\n",
    "    df_model_data=df_model_data.astype(str) # Nao faca isso\n",
    "\n",
    "    feature_group = FeatureGroupHandler(\n",
    "        sm_session = sagemaker_session,\n",
    "        name = feature_group_name,\n",
    "        sm_role = sagemaker_role\n",
    "    )\n",
    "\n",
    "    feature_group.get_or_create_by_df(\n",
    "        df=df_model_data,\n",
    "        bucket=args.bucket_fs,\n",
    "        prefix=args.prefix_fs,\n",
    "        ft_id_name=\"record_id\",\n",
    "        ft_time_name=\"event_time\"\n",
    "    )\n",
    "    \n",
    "    feature_group.ingest_data(df_model_data)\n",
    "\n",
    "    # train_data, temp_data = train_test_split(df_model_data, test_size=0.3, random_state=42, shuffle=True)\n",
    "    # validation_data, test_data = train_test_split(temp_data, test_size=0.5, random_state=42, shuffle=True)\n",
    "    \n",
    "    # Save datasets locally\n",
    "    # train_data.to_csv(os.path.join(args.outputpath, 'train/train.csv'), index=False, header=True)\n",
    "    # validation_data.to_csv(os.path.join(args.outputpath, 'validation/validation.csv'), index=False, header=True)\n",
    "    # test_data[target_col].to_csv(os.path.join(args.outputpath, 'test/test_y.csv'), index=False, header=True)\n",
    "    # test_data.drop([target_col], axis=1).to_csv(os.path.join(args.outputpath, 'test/test_x.csv'), index=False, header=True)\n",
    "    \n",
    "    # Save the baseline dataset for model monitoring\n",
    "    # df_model_data.drop([target_col], axis=1).to_csv(os.path.join(args.outputpath, 'baseline/baseline.csv'), index=False, header=True)\n",
    "    \n",
    "    print(\"## Processing complete. Exiting.\")"
   ]
  },
  {
   "cell_type": "code",
   "execution_count": 202,
   "id": "ddd6521f-41d4-4f59-b8f9-a30c574ab69c",
   "metadata": {
    "tags": []
   },
   "outputs": [],
   "source": [
    "s3_data_transformed_prefix = \"data/transformed\"\n",
    "\n",
    "train_s3_url = f\"s3://{bucket_name}/{s3_prefix}/{s3_data_transformed_prefix}/train\"\n",
    "validation_s3_url = f\"s3://{bucket_name}/{s3_prefix}/{s3_data_transformed_prefix}/validation\"\n",
    "test_s3_url = f\"s3://{bucket_name}/{s3_prefix}/{s3_data_transformed_prefix}/test\"\n",
    "baseline_s3_url = f\"s3://{bucket_name}/{s3_prefix}/{s3_data_transformed_prefix}/baseline\""
   ]
  },
  {
   "cell_type": "code",
   "execution_count": 203,
   "id": "e74071b1-8f03-4bb7-afbe-cde38ff3b71c",
   "metadata": {
    "tags": []
   },
   "outputs": [
    {
     "name": "stdout",
     "output_type": "stream",
     "text": [
      "train_s3_url = 's3://sagemaker-us-east-1-891377318910/workshop/data/transformed/train'\n",
      "validation_s3_url = 's3://sagemaker-us-east-1-891377318910/workshop/data/transformed/validation'\n",
      "test_s3_url = 's3://sagemaker-us-east-1-891377318910/workshop/data/transformed/test'\n",
      "baseline_s3_url = 's3://sagemaker-us-east-1-891377318910/workshop/data/transformed/baseline'\n",
      "input_s3_url = 's3://sagemaker-us-east-1-891377318910/workshop/data/raw/bank-additional-full.csv'\n"
     ]
    }
   ],
   "source": [
    "print(f\"{train_s3_url = }\")\n",
    "print(f\"{validation_s3_url = }\")\n",
    "print(f\"{test_s3_url = }\")\n",
    "print(f\"{baseline_s3_url = }\")\n",
    "\n",
    "print(f\"{input_s3_url = }\")"
   ]
  },
  {
   "cell_type": "code",
   "execution_count": 204,
   "id": "725a8c08-7e4d-479d-a59a-6a18db9a0b8b",
   "metadata": {
    "tags": []
   },
   "outputs": [],
   "source": [
    "skprocessor_framework_version = \"1.2-1\"\n",
    "processing_instance_type = \"ml.m5.large\"\n",
    "processing_instance_count = 1"
   ]
  },
  {
   "cell_type": "code",
   "execution_count": 205,
   "id": "56df1627-3be7-482a-813d-ddb5d6575d77",
   "metadata": {
    "tags": []
   },
   "outputs": [
    {
     "name": "stderr",
     "output_type": "stream",
     "text": [
      "INFO:sagemaker.image_uris:Defaulting to only available Python version: py3\n"
     ]
    }
   ],
   "source": [
    "sklearn_processor = SKLearnProcessor(\n",
    "    framework_version=skprocessor_framework_version,\n",
    "    role=sagemaker_role,\n",
    "    instance_type=processing_instance_type,\n",
    "    instance_count=processing_instance_count, \n",
    "    base_job_name='itau-processing',\n",
    "    sagemaker_session=sagemaker_session,\n",
    ")\n",
    "\n",
    "processing_inputs = [\n",
    "        ProcessingInput(\n",
    "            source=input_s3_url, \n",
    "            destination=\"/opt/ml/processing/input\",\n",
    "            s3_input_mode=\"File\",\n",
    "            s3_data_distribution_type=\"ShardedByS3Key\"\n",
    "        )\n",
    "    ]\n",
    "\n",
    "processing_outputs = [\n",
    "        ProcessingOutput(\n",
    "            output_name=\"train_data\", \n",
    "            source=\"/opt/ml/processing/output/train\",\n",
    "            destination=train_s3_url,\n",
    "        ),\n",
    "        ProcessingOutput(\n",
    "            output_name=\"validation_data\", \n",
    "            source=\"/opt/ml/processing/output/validation\", \n",
    "            destination=validation_s3_url\n",
    "        ),\n",
    "        ProcessingOutput(\n",
    "            output_name=\"test_data\", \n",
    "            source=\"/opt/ml/processing/output/test\", \n",
    "            destination=test_s3_url\n",
    "        ),\n",
    "        ProcessingOutput(\n",
    "            output_name=\"baseline_data\", \n",
    "            source=\"/opt/ml/processing/output/baseline\", \n",
    "            destination=baseline_s3_url\n",
    "        ),\n",
    "    ]"
   ]
  },
  {
   "cell_type": "code",
   "execution_count": 206,
   "id": "ce7a5af0-f682-439e-9742-7c5043a29085",
   "metadata": {
    "tags": []
   },
   "outputs": [
    {
     "name": "stderr",
     "output_type": "stream",
     "text": [
      "INFO:sagemaker:Creating processing-job with name itau-processing-2024-06-23-22-59-52-179\n"
     ]
    },
    {
     "name": "stdout",
     "output_type": "stream",
     "text": [
      "..............\u001b[34mCollecting sagemaker==2.135.0\n",
      "  Downloading sagemaker-2.135.0.tar.gz (673 kB)\n",
      "     ━━━━━━━━━━━━━━━━━━━━━━━━━━━━━━━━━━━━━━ 673.8/673.8 kB 33.7 MB/s eta 0:00:00\n",
      "  Preparing metadata (setup.py): started\n",
      "  Preparing metadata (setup.py): finished with status 'done'\u001b[0m\n",
      "\u001b[34mCollecting attrs<23,>=20.3.0 (from sagemaker==2.135.0)\n",
      "  Downloading attrs-22.2.0-py3-none-any.whl.metadata (13 kB)\u001b[0m\n",
      "\u001b[34mRequirement already satisfied: boto3<2.0,>=1.26.28 in /miniconda3/lib/python3.8/site-packages (from sagemaker==2.135.0) (1.28.57)\u001b[0m\n",
      "\u001b[34mCollecting google-pasta (from sagemaker==2.135.0)\n",
      "  Downloading google_pasta-0.2.0-py3-none-any.whl.metadata (814 bytes)\u001b[0m\n",
      "\u001b[34mRequirement already satisfied: numpy<2.0,>=1.9.0 in /miniconda3/lib/python3.8/site-packages (from sagemaker==2.135.0) (1.24.1)\u001b[0m\n",
      "\u001b[34mRequirement already satisfied: protobuf<4.0,>=3.1 in /miniconda3/lib/python3.8/site-packages (from sagemaker==2.135.0) (3.20.2)\u001b[0m\n",
      "\u001b[34mCollecting protobuf3-to-dict<1.0,>=0.1.5 (from sagemaker==2.135.0)\n",
      "  Downloading protobuf3-to-dict-0.1.5.tar.gz (3.5 kB)\n",
      "  Preparing metadata (setup.py): started\n",
      "  Preparing metadata (setup.py): finished with status 'done'\u001b[0m\n",
      "\u001b[34mCollecting smdebug_rulesconfig==1.0.1 (from sagemaker==2.135.0)\n",
      "  Downloading smdebug_rulesconfig-1.0.1-py2.py3-none-any.whl.metadata (943 bytes)\u001b[0m\n",
      "\u001b[34mCollecting importlib-metadata<5.0,>=1.4.0 (from sagemaker==2.135.0)\n",
      "  Downloading importlib_metadata-4.13.0-py3-none-any.whl.metadata (4.9 kB)\u001b[0m\n",
      "\u001b[34mCollecting packaging>=20.0 (from sagemaker==2.135.0)\n",
      "  Downloading packaging-24.1-py3-none-any.whl.metadata (3.2 kB)\u001b[0m\n",
      "\u001b[34mRequirement already satisfied: pandas in /miniconda3/lib/python3.8/site-packages (from sagemaker==2.135.0) (1.1.3)\u001b[0m\n",
      "\u001b[34mCollecting pathos (from sagemaker==2.135.0)\n",
      "  Downloading pathos-0.3.2-py3-none-any.whl.metadata (11 kB)\u001b[0m\n",
      "\u001b[34mCollecting schema (from sagemaker==2.135.0)\n",
      "  Downloading schema-0.7.7-py2.py3-none-any.whl.metadata (34 kB)\u001b[0m\n",
      "\u001b[34mRequirement already satisfied: botocore<1.32.0,>=1.31.57 in /miniconda3/lib/python3.8/site-packages (from boto3<2.0,>=1.26.28->sagemaker==2.135.0) (1.31.85)\u001b[0m\n",
      "\u001b[34mRequirement already satisfied: jmespath<2.0.0,>=0.7.1 in /miniconda3/lib/python3.8/site-packages (from boto3<2.0,>=1.26.28->sagemaker==2.135.0) (1.0.1)\u001b[0m\n",
      "\u001b[34mRequirement already satisfied: s3transfer<0.8.0,>=0.7.0 in /miniconda3/lib/python3.8/site-packages (from boto3<2.0,>=1.26.28->sagemaker==2.135.0) (0.7.0)\u001b[0m\n",
      "\u001b[34mCollecting zipp>=0.5 (from importlib-metadata<5.0,>=1.4.0->sagemaker==2.135.0)\n",
      "  Downloading zipp-3.19.2-py3-none-any.whl.metadata (3.6 kB)\u001b[0m\n",
      "\u001b[34mRequirement already satisfied: six in /miniconda3/lib/python3.8/site-packages (from protobuf3-to-dict<1.0,>=0.1.5->sagemaker==2.135.0) (1.15.0)\u001b[0m\n",
      "\u001b[34mRequirement already satisfied: python-dateutil>=2.7.3 in /miniconda3/lib/python3.8/site-packages (from pandas->sagemaker==2.135.0) (2.8.1)\u001b[0m\n",
      "\u001b[34mRequirement already satisfied: pytz>=2017.2 in /miniconda3/lib/python3.8/site-packages (from pandas->sagemaker==2.135.0) (2024.1)\u001b[0m\n",
      "\u001b[34mCollecting ppft>=1.7.6.8 (from pathos->sagemaker==2.135.0)\n",
      "  Downloading ppft-1.7.6.8-py3-none-any.whl.metadata (12 kB)\u001b[0m\n",
      "\u001b[34mCollecting dill>=0.3.8 (from pathos->sagemaker==2.135.0)\n",
      "  Downloading dill-0.3.8-py3-none-any.whl.metadata (10 kB)\u001b[0m\n",
      "\u001b[34mCollecting pox>=0.3.4 (from pathos->sagemaker==2.135.0)\n",
      "  Downloading pox-0.3.4-py3-none-any.whl.metadata (8.0 kB)\u001b[0m\n",
      "\u001b[34mCollecting multiprocess>=0.70.16 (from pathos->sagemaker==2.135.0)\n",
      "  Downloading multiprocess-0.70.16-py38-none-any.whl.metadata (7.1 kB)\u001b[0m\n",
      "\u001b[34mRequirement already satisfied: urllib3<1.27,>=1.25.4 in /miniconda3/lib/python3.8/site-packages (from botocore<1.32.0,>=1.31.57->boto3<2.0,>=1.26.28->sagemaker==2.135.0) (1.26.18)\u001b[0m\n",
      "\u001b[34mDownloading smdebug_rulesconfig-1.0.1-py2.py3-none-any.whl (20 kB)\u001b[0m\n",
      "\u001b[34mDownloading attrs-22.2.0-py3-none-any.whl (60 kB)\n",
      "   ━━━━━━━━━━━━━━━━━━━━━━━━━━━━━━━━━━━━━━━━ 60.0/60.0 kB 11.6 MB/s eta 0:00:00\u001b[0m\n",
      "\u001b[34mDownloading importlib_metadata-4.13.0-py3-none-any.whl (23 kB)\u001b[0m\n",
      "\u001b[34mDownloading packaging-24.1-py3-none-any.whl (53 kB)\n",
      "   ━━━━━━━━━━━━━━━━━━━━━━━━━━━━━━━━━━━━━━━━ 54.0/54.0 kB 7.3 MB/s eta 0:00:00\u001b[0m\n",
      "\u001b[34mDownloading google_pasta-0.2.0-py3-none-any.whl (57 kB)\n",
      "   ━━━━━━━━━━━━━━━━━━━━━━━━━━━━━━━━━━━━━━━━ 57.5/57.5 kB 9.4 MB/s eta 0:00:00\u001b[0m\n",
      "\u001b[34mDownloading pathos-0.3.2-py3-none-any.whl (82 kB)\n",
      "   ━━━━━━━━━━━━━━━━━━━━━━━━━━━━━━━━━━━━━━━━ 82.1/82.1 kB 14.2 MB/s eta 0:00:00\u001b[0m\n",
      "\u001b[34mDownloading schema-0.7.7-py2.py3-none-any.whl (18 kB)\u001b[0m\n",
      "\u001b[34mDownloading dill-0.3.8-py3-none-any.whl (116 kB)\n",
      "   ━━━━━━━━━━━━━━━━━━━━━━━━━━━━━━━━━━━━━━━━ 116.3/116.3 kB 21.1 MB/s eta 0:00:00\u001b[0m\n",
      "\u001b[34mDownloading multiprocess-0.70.16-py38-none-any.whl (132 kB)\n",
      "   ━━━━━━━━━━━━━━━━━━━━━━━━━━━━━━━━━━━━━━━━ 132.6/132.6 kB 15.8 MB/s eta 0:00:00\u001b[0m\n",
      "\u001b[34mDownloading pox-0.3.4-py3-none-any.whl (29 kB)\u001b[0m\n",
      "\u001b[34mDownloading ppft-1.7.6.8-py3-none-any.whl (56 kB)\n",
      "   ━━━━━━━━━━━━━━━━━━━━━━━━━━━━━━━━━━━━━━━━ 56.8/56.8 kB 998.4 kB/s eta 0:00:00\u001b[0m\n",
      "\u001b[34mDownloading zipp-3.19.2-py3-none-any.whl (9.0 kB)\u001b[0m\n",
      "\u001b[34mBuilding wheels for collected packages: sagemaker, protobuf3-to-dict\n",
      "  Building wheel for sagemaker (setup.py): started\u001b[0m\n",
      "\u001b[34m  Building wheel for sagemaker (setup.py): finished with status 'done'\n",
      "  Created wheel for sagemaker: filename=sagemaker-2.135.0-py2.py3-none-any.whl size=911426 sha256=27fd48e24dbbce69c666e5a266807e1cd0371af023cb9f5a5f8dd6070065e54c\n",
      "  Stored in directory: /root/.cache/pip/wheels/ce/c2/3f/c92ead9fc44bb07546f1cba2aa9cb93d01b8f8e52a787e62ec\n",
      "  Building wheel for protobuf3-to-dict (setup.py): started\n",
      "  Building wheel for protobuf3-to-dict (setup.py): finished with status 'done'\n",
      "  Created wheel for protobuf3-to-dict: filename=protobuf3_to_dict-0.1.5-py3-none-any.whl size=4014 sha256=9d30d6299bbaa3ea60c8119dba82f8ef6a87c42dbd1f91e764534d3acbd3b7e9\n",
      "  Stored in directory: /root/.cache/pip/wheels/fc/10/27/2d1e23d8b9a9013a83fbb418a0b17b1e6f81c8db8f53b53934\u001b[0m\n",
      "\u001b[34mSuccessfully built sagemaker protobuf3-to-dict\u001b[0m\n",
      "\u001b[34mInstalling collected packages: schema, zipp, smdebug_rulesconfig, protobuf3-to-dict, ppft, pox, packaging, google-pasta, dill, attrs, multiprocess, importlib-metadata, pathos, sagemaker\u001b[0m\n",
      "\u001b[34mSuccessfully installed attrs-22.2.0 dill-0.3.8 google-pasta-0.2.0 importlib-metadata-4.13.0 multiprocess-0.70.16 packaging-24.1 pathos-0.3.2 pox-0.3.4 ppft-1.7.6.8 protobuf3-to-dict-0.1.5 sagemaker-2.135.0 schema-0.7.7 smdebug_rulesconfig-1.0.1 zipp-3.19.2\u001b[0m\n",
      "\u001b[34mWaiting for feature group: itau-feature-group to be created ...\u001b[0m\n",
      "\u001b[34mWaiting for feature group: itau-feature-group to be created ...\u001b[0m\n",
      "\u001b[34mWaiting for feature group: itau-feature-group to be created ...\u001b[0m\n",
      "\u001b[34mWaiting for feature group: itau-feature-group to be created ...\u001b[0m\n",
      "\u001b[34mWaiting for feature group: itau-feature-group to be created ...\u001b[0m\n",
      "\u001b[34mFeatureGroup itau-feature-group was successfully created.\u001b[0m\n",
      "\u001b[34m## Processing complete. Exiting.\u001b[0m\n",
      "\n"
     ]
    }
   ],
   "source": [
    "try:\n",
    "    sklearn_processor.run(\n",
    "        inputs=processing_inputs,\n",
    "        outputs=processing_outputs,\n",
    "        code='preprocessing_fs.py',\n",
    "        wait=True,\n",
    "        # experiment_config=experiment_config,\n",
    "        # arguments = ['arg1', 'arg2'],\n",
    "    )\n",
    "except botocore.exceptions.ClientError as e:\n",
    "    if e.response['Error']['Code'] == 'AccessDeniedException':\n",
    "        print(f\"Ignore AccessDeniedException: {e.response['Error']['Message']} because of the slow resource tag auto propagation\")\n",
    "    else:\n",
    "        raise e"
   ]
  },
  {
   "cell_type": "code",
   "execution_count": 207,
   "id": "e4550007-d41b-402f-8de8-80629087cf79",
   "metadata": {
    "tags": []
   },
   "outputs": [
    {
     "name": "stdout",
     "output_type": "stream",
     "text": [
      "Finished!\n"
     ]
    }
   ],
   "source": [
    "while client_sagemaker.describe_processing_job(ProcessingJobName=sklearn_processor._current_job_name)[\"ProcessingJobStatus\"] != \"Completed\":\n",
    "    time.sleep(10)\n",
    "    print(f\"Wait until {sklearn_processor._current_job_name} completed\")\n",
    "print(\"Finished!\")"
   ]
  },
  {
   "cell_type": "code",
   "execution_count": null,
   "id": "1bfd1c16-e10a-4999-ada0-ab604d365ffe",
   "metadata": {},
   "outputs": [],
   "source": []
  },
  {
   "cell_type": "code",
   "execution_count": null,
   "id": "f4b5073c-e0de-40af-a8b5-f8d72672ea42",
   "metadata": {},
   "outputs": [],
   "source": []
  },
  {
   "cell_type": "code",
   "execution_count": null,
   "id": "6599194e-14ee-4458-81a2-d1e0eb1156dc",
   "metadata": {},
   "outputs": [],
   "source": []
  },
  {
   "cell_type": "code",
   "execution_count": null,
   "id": "2d401abf-ee6d-473c-9c7d-b17d916dfa17",
   "metadata": {},
   "outputs": [],
   "source": []
  },
  {
   "cell_type": "code",
   "execution_count": null,
   "id": "34c9d671-4327-43cb-8b34-094bc64b8db5",
   "metadata": {},
   "outputs": [],
   "source": []
  },
  {
   "cell_type": "code",
   "execution_count": null,
   "id": "5f924a9c-3e24-4a1b-afd5-1071f1d63e1a",
   "metadata": {},
   "outputs": [],
   "source": []
  },
  {
   "cell_type": "code",
   "execution_count": null,
   "id": "9b2f9cff-dd44-4191-b7b9-375197f95af8",
   "metadata": {},
   "outputs": [],
   "source": []
  }
 ],
 "metadata": {
  "availableInstances": [
   {
    "_defaultOrder": 0,
    "_isFastLaunch": true,
    "category": "General purpose",
    "gpuNum": 0,
    "hideHardwareSpecs": false,
    "memoryGiB": 4,
    "name": "ml.t3.medium",
    "vcpuNum": 2
   },
   {
    "_defaultOrder": 1,
    "_isFastLaunch": false,
    "category": "General purpose",
    "gpuNum": 0,
    "hideHardwareSpecs": false,
    "memoryGiB": 8,
    "name": "ml.t3.large",
    "vcpuNum": 2
   },
   {
    "_defaultOrder": 2,
    "_isFastLaunch": false,
    "category": "General purpose",
    "gpuNum": 0,
    "hideHardwareSpecs": false,
    "memoryGiB": 16,
    "name": "ml.t3.xlarge",
    "vcpuNum": 4
   },
   {
    "_defaultOrder": 3,
    "_isFastLaunch": false,
    "category": "General purpose",
    "gpuNum": 0,
    "hideHardwareSpecs": false,
    "memoryGiB": 32,
    "name": "ml.t3.2xlarge",
    "vcpuNum": 8
   },
   {
    "_defaultOrder": 4,
    "_isFastLaunch": true,
    "category": "General purpose",
    "gpuNum": 0,
    "hideHardwareSpecs": false,
    "memoryGiB": 8,
    "name": "ml.m5.large",
    "vcpuNum": 2
   },
   {
    "_defaultOrder": 5,
    "_isFastLaunch": false,
    "category": "General purpose",
    "gpuNum": 0,
    "hideHardwareSpecs": false,
    "memoryGiB": 16,
    "name": "ml.m5.xlarge",
    "vcpuNum": 4
   },
   {
    "_defaultOrder": 6,
    "_isFastLaunch": false,
    "category": "General purpose",
    "gpuNum": 0,
    "hideHardwareSpecs": false,
    "memoryGiB": 32,
    "name": "ml.m5.2xlarge",
    "vcpuNum": 8
   },
   {
    "_defaultOrder": 7,
    "_isFastLaunch": false,
    "category": "General purpose",
    "gpuNum": 0,
    "hideHardwareSpecs": false,
    "memoryGiB": 64,
    "name": "ml.m5.4xlarge",
    "vcpuNum": 16
   },
   {
    "_defaultOrder": 8,
    "_isFastLaunch": false,
    "category": "General purpose",
    "gpuNum": 0,
    "hideHardwareSpecs": false,
    "memoryGiB": 128,
    "name": "ml.m5.8xlarge",
    "vcpuNum": 32
   },
   {
    "_defaultOrder": 9,
    "_isFastLaunch": false,
    "category": "General purpose",
    "gpuNum": 0,
    "hideHardwareSpecs": false,
    "memoryGiB": 192,
    "name": "ml.m5.12xlarge",
    "vcpuNum": 48
   },
   {
    "_defaultOrder": 10,
    "_isFastLaunch": false,
    "category": "General purpose",
    "gpuNum": 0,
    "hideHardwareSpecs": false,
    "memoryGiB": 256,
    "name": "ml.m5.16xlarge",
    "vcpuNum": 64
   },
   {
    "_defaultOrder": 11,
    "_isFastLaunch": false,
    "category": "General purpose",
    "gpuNum": 0,
    "hideHardwareSpecs": false,
    "memoryGiB": 384,
    "name": "ml.m5.24xlarge",
    "vcpuNum": 96
   },
   {
    "_defaultOrder": 12,
    "_isFastLaunch": false,
    "category": "General purpose",
    "gpuNum": 0,
    "hideHardwareSpecs": false,
    "memoryGiB": 8,
    "name": "ml.m5d.large",
    "vcpuNum": 2
   },
   {
    "_defaultOrder": 13,
    "_isFastLaunch": false,
    "category": "General purpose",
    "gpuNum": 0,
    "hideHardwareSpecs": false,
    "memoryGiB": 16,
    "name": "ml.m5d.xlarge",
    "vcpuNum": 4
   },
   {
    "_defaultOrder": 14,
    "_isFastLaunch": false,
    "category": "General purpose",
    "gpuNum": 0,
    "hideHardwareSpecs": false,
    "memoryGiB": 32,
    "name": "ml.m5d.2xlarge",
    "vcpuNum": 8
   },
   {
    "_defaultOrder": 15,
    "_isFastLaunch": false,
    "category": "General purpose",
    "gpuNum": 0,
    "hideHardwareSpecs": false,
    "memoryGiB": 64,
    "name": "ml.m5d.4xlarge",
    "vcpuNum": 16
   },
   {
    "_defaultOrder": 16,
    "_isFastLaunch": false,
    "category": "General purpose",
    "gpuNum": 0,
    "hideHardwareSpecs": false,
    "memoryGiB": 128,
    "name": "ml.m5d.8xlarge",
    "vcpuNum": 32
   },
   {
    "_defaultOrder": 17,
    "_isFastLaunch": false,
    "category": "General purpose",
    "gpuNum": 0,
    "hideHardwareSpecs": false,
    "memoryGiB": 192,
    "name": "ml.m5d.12xlarge",
    "vcpuNum": 48
   },
   {
    "_defaultOrder": 18,
    "_isFastLaunch": false,
    "category": "General purpose",
    "gpuNum": 0,
    "hideHardwareSpecs": false,
    "memoryGiB": 256,
    "name": "ml.m5d.16xlarge",
    "vcpuNum": 64
   },
   {
    "_defaultOrder": 19,
    "_isFastLaunch": false,
    "category": "General purpose",
    "gpuNum": 0,
    "hideHardwareSpecs": false,
    "memoryGiB": 384,
    "name": "ml.m5d.24xlarge",
    "vcpuNum": 96
   },
   {
    "_defaultOrder": 20,
    "_isFastLaunch": false,
    "category": "General purpose",
    "gpuNum": 0,
    "hideHardwareSpecs": true,
    "memoryGiB": 0,
    "name": "ml.geospatial.interactive",
    "supportedImageNames": [
     "sagemaker-geospatial-v1-0"
    ],
    "vcpuNum": 0
   },
   {
    "_defaultOrder": 21,
    "_isFastLaunch": true,
    "category": "Compute optimized",
    "gpuNum": 0,
    "hideHardwareSpecs": false,
    "memoryGiB": 4,
    "name": "ml.c5.large",
    "vcpuNum": 2
   },
   {
    "_defaultOrder": 22,
    "_isFastLaunch": false,
    "category": "Compute optimized",
    "gpuNum": 0,
    "hideHardwareSpecs": false,
    "memoryGiB": 8,
    "name": "ml.c5.xlarge",
    "vcpuNum": 4
   },
   {
    "_defaultOrder": 23,
    "_isFastLaunch": false,
    "category": "Compute optimized",
    "gpuNum": 0,
    "hideHardwareSpecs": false,
    "memoryGiB": 16,
    "name": "ml.c5.2xlarge",
    "vcpuNum": 8
   },
   {
    "_defaultOrder": 24,
    "_isFastLaunch": false,
    "category": "Compute optimized",
    "gpuNum": 0,
    "hideHardwareSpecs": false,
    "memoryGiB": 32,
    "name": "ml.c5.4xlarge",
    "vcpuNum": 16
   },
   {
    "_defaultOrder": 25,
    "_isFastLaunch": false,
    "category": "Compute optimized",
    "gpuNum": 0,
    "hideHardwareSpecs": false,
    "memoryGiB": 72,
    "name": "ml.c5.9xlarge",
    "vcpuNum": 36
   },
   {
    "_defaultOrder": 26,
    "_isFastLaunch": false,
    "category": "Compute optimized",
    "gpuNum": 0,
    "hideHardwareSpecs": false,
    "memoryGiB": 96,
    "name": "ml.c5.12xlarge",
    "vcpuNum": 48
   },
   {
    "_defaultOrder": 27,
    "_isFastLaunch": false,
    "category": "Compute optimized",
    "gpuNum": 0,
    "hideHardwareSpecs": false,
    "memoryGiB": 144,
    "name": "ml.c5.18xlarge",
    "vcpuNum": 72
   },
   {
    "_defaultOrder": 28,
    "_isFastLaunch": false,
    "category": "Compute optimized",
    "gpuNum": 0,
    "hideHardwareSpecs": false,
    "memoryGiB": 192,
    "name": "ml.c5.24xlarge",
    "vcpuNum": 96
   },
   {
    "_defaultOrder": 29,
    "_isFastLaunch": true,
    "category": "Accelerated computing",
    "gpuNum": 1,
    "hideHardwareSpecs": false,
    "memoryGiB": 16,
    "name": "ml.g4dn.xlarge",
    "vcpuNum": 4
   },
   {
    "_defaultOrder": 30,
    "_isFastLaunch": false,
    "category": "Accelerated computing",
    "gpuNum": 1,
    "hideHardwareSpecs": false,
    "memoryGiB": 32,
    "name": "ml.g4dn.2xlarge",
    "vcpuNum": 8
   },
   {
    "_defaultOrder": 31,
    "_isFastLaunch": false,
    "category": "Accelerated computing",
    "gpuNum": 1,
    "hideHardwareSpecs": false,
    "memoryGiB": 64,
    "name": "ml.g4dn.4xlarge",
    "vcpuNum": 16
   },
   {
    "_defaultOrder": 32,
    "_isFastLaunch": false,
    "category": "Accelerated computing",
    "gpuNum": 1,
    "hideHardwareSpecs": false,
    "memoryGiB": 128,
    "name": "ml.g4dn.8xlarge",
    "vcpuNum": 32
   },
   {
    "_defaultOrder": 33,
    "_isFastLaunch": false,
    "category": "Accelerated computing",
    "gpuNum": 4,
    "hideHardwareSpecs": false,
    "memoryGiB": 192,
    "name": "ml.g4dn.12xlarge",
    "vcpuNum": 48
   },
   {
    "_defaultOrder": 34,
    "_isFastLaunch": false,
    "category": "Accelerated computing",
    "gpuNum": 1,
    "hideHardwareSpecs": false,
    "memoryGiB": 256,
    "name": "ml.g4dn.16xlarge",
    "vcpuNum": 64
   },
   {
    "_defaultOrder": 35,
    "_isFastLaunch": false,
    "category": "Accelerated computing",
    "gpuNum": 1,
    "hideHardwareSpecs": false,
    "memoryGiB": 61,
    "name": "ml.p3.2xlarge",
    "vcpuNum": 8
   },
   {
    "_defaultOrder": 36,
    "_isFastLaunch": false,
    "category": "Accelerated computing",
    "gpuNum": 4,
    "hideHardwareSpecs": false,
    "memoryGiB": 244,
    "name": "ml.p3.8xlarge",
    "vcpuNum": 32
   },
   {
    "_defaultOrder": 37,
    "_isFastLaunch": false,
    "category": "Accelerated computing",
    "gpuNum": 8,
    "hideHardwareSpecs": false,
    "memoryGiB": 488,
    "name": "ml.p3.16xlarge",
    "vcpuNum": 64
   },
   {
    "_defaultOrder": 38,
    "_isFastLaunch": false,
    "category": "Accelerated computing",
    "gpuNum": 8,
    "hideHardwareSpecs": false,
    "memoryGiB": 768,
    "name": "ml.p3dn.24xlarge",
    "vcpuNum": 96
   },
   {
    "_defaultOrder": 39,
    "_isFastLaunch": false,
    "category": "Memory Optimized",
    "gpuNum": 0,
    "hideHardwareSpecs": false,
    "memoryGiB": 16,
    "name": "ml.r5.large",
    "vcpuNum": 2
   },
   {
    "_defaultOrder": 40,
    "_isFastLaunch": false,
    "category": "Memory Optimized",
    "gpuNum": 0,
    "hideHardwareSpecs": false,
    "memoryGiB": 32,
    "name": "ml.r5.xlarge",
    "vcpuNum": 4
   },
   {
    "_defaultOrder": 41,
    "_isFastLaunch": false,
    "category": "Memory Optimized",
    "gpuNum": 0,
    "hideHardwareSpecs": false,
    "memoryGiB": 64,
    "name": "ml.r5.2xlarge",
    "vcpuNum": 8
   },
   {
    "_defaultOrder": 42,
    "_isFastLaunch": false,
    "category": "Memory Optimized",
    "gpuNum": 0,
    "hideHardwareSpecs": false,
    "memoryGiB": 128,
    "name": "ml.r5.4xlarge",
    "vcpuNum": 16
   },
   {
    "_defaultOrder": 43,
    "_isFastLaunch": false,
    "category": "Memory Optimized",
    "gpuNum": 0,
    "hideHardwareSpecs": false,
    "memoryGiB": 256,
    "name": "ml.r5.8xlarge",
    "vcpuNum": 32
   },
   {
    "_defaultOrder": 44,
    "_isFastLaunch": false,
    "category": "Memory Optimized",
    "gpuNum": 0,
    "hideHardwareSpecs": false,
    "memoryGiB": 384,
    "name": "ml.r5.12xlarge",
    "vcpuNum": 48
   },
   {
    "_defaultOrder": 45,
    "_isFastLaunch": false,
    "category": "Memory Optimized",
    "gpuNum": 0,
    "hideHardwareSpecs": false,
    "memoryGiB": 512,
    "name": "ml.r5.16xlarge",
    "vcpuNum": 64
   },
   {
    "_defaultOrder": 46,
    "_isFastLaunch": false,
    "category": "Memory Optimized",
    "gpuNum": 0,
    "hideHardwareSpecs": false,
    "memoryGiB": 768,
    "name": "ml.r5.24xlarge",
    "vcpuNum": 96
   },
   {
    "_defaultOrder": 47,
    "_isFastLaunch": false,
    "category": "Accelerated computing",
    "gpuNum": 1,
    "hideHardwareSpecs": false,
    "memoryGiB": 16,
    "name": "ml.g5.xlarge",
    "vcpuNum": 4
   },
   {
    "_defaultOrder": 48,
    "_isFastLaunch": false,
    "category": "Accelerated computing",
    "gpuNum": 1,
    "hideHardwareSpecs": false,
    "memoryGiB": 32,
    "name": "ml.g5.2xlarge",
    "vcpuNum": 8
   },
   {
    "_defaultOrder": 49,
    "_isFastLaunch": false,
    "category": "Accelerated computing",
    "gpuNum": 1,
    "hideHardwareSpecs": false,
    "memoryGiB": 64,
    "name": "ml.g5.4xlarge",
    "vcpuNum": 16
   },
   {
    "_defaultOrder": 50,
    "_isFastLaunch": false,
    "category": "Accelerated computing",
    "gpuNum": 1,
    "hideHardwareSpecs": false,
    "memoryGiB": 128,
    "name": "ml.g5.8xlarge",
    "vcpuNum": 32
   },
   {
    "_defaultOrder": 51,
    "_isFastLaunch": false,
    "category": "Accelerated computing",
    "gpuNum": 1,
    "hideHardwareSpecs": false,
    "memoryGiB": 256,
    "name": "ml.g5.16xlarge",
    "vcpuNum": 64
   },
   {
    "_defaultOrder": 52,
    "_isFastLaunch": false,
    "category": "Accelerated computing",
    "gpuNum": 4,
    "hideHardwareSpecs": false,
    "memoryGiB": 192,
    "name": "ml.g5.12xlarge",
    "vcpuNum": 48
   },
   {
    "_defaultOrder": 53,
    "_isFastLaunch": false,
    "category": "Accelerated computing",
    "gpuNum": 4,
    "hideHardwareSpecs": false,
    "memoryGiB": 384,
    "name": "ml.g5.24xlarge",
    "vcpuNum": 96
   },
   {
    "_defaultOrder": 54,
    "_isFastLaunch": false,
    "category": "Accelerated computing",
    "gpuNum": 8,
    "hideHardwareSpecs": false,
    "memoryGiB": 768,
    "name": "ml.g5.48xlarge",
    "vcpuNum": 192
   },
   {
    "_defaultOrder": 55,
    "_isFastLaunch": false,
    "category": "Accelerated computing",
    "gpuNum": 8,
    "hideHardwareSpecs": false,
    "memoryGiB": 1152,
    "name": "ml.p4d.24xlarge",
    "vcpuNum": 96
   },
   {
    "_defaultOrder": 56,
    "_isFastLaunch": false,
    "category": "Accelerated computing",
    "gpuNum": 8,
    "hideHardwareSpecs": false,
    "memoryGiB": 1152,
    "name": "ml.p4de.24xlarge",
    "vcpuNum": 96
   },
   {
    "_defaultOrder": 57,
    "_isFastLaunch": false,
    "category": "Accelerated computing",
    "gpuNum": 0,
    "hideHardwareSpecs": false,
    "memoryGiB": 32,
    "name": "ml.trn1.2xlarge",
    "vcpuNum": 8
   },
   {
    "_defaultOrder": 58,
    "_isFastLaunch": false,
    "category": "Accelerated computing",
    "gpuNum": 0,
    "hideHardwareSpecs": false,
    "memoryGiB": 512,
    "name": "ml.trn1.32xlarge",
    "vcpuNum": 128
   },
   {
    "_defaultOrder": 59,
    "_isFastLaunch": false,
    "category": "Accelerated computing",
    "gpuNum": 0,
    "hideHardwareSpecs": false,
    "memoryGiB": 512,
    "name": "ml.trn1n.32xlarge",
    "vcpuNum": 128
   }
  ],
  "instance_type": "ml.t3.medium",
  "kernelspec": {
   "display_name": "Python 3 (Data Science 3.0)",
   "language": "python",
   "name": "python3__SAGEMAKER_INTERNAL__arn:aws:sagemaker:us-east-1:081325390199:image/sagemaker-data-science-310-v1"
  },
  "language_info": {
   "codemirror_mode": {
    "name": "ipython",
    "version": 3
   },
   "file_extension": ".py",
   "mimetype": "text/x-python",
   "name": "python",
   "nbconvert_exporter": "python",
   "pygments_lexer": "ipython3",
   "version": "3.10.6"
  }
 },
 "nbformat": 4,
 "nbformat_minor": 5
}
