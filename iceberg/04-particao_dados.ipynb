{
 "cells": [
  {
   "cell_type": "code",
   "execution_count": 1,
   "metadata": {},
   "outputs": [],
   "source": [
    "import os\n",
    "\n",
    "from pyspark.sql import SparkSession\n",
    "from pyspark.sql import functions as F"
   ]
  },
  {
   "cell_type": "code",
   "execution_count": 2,
   "metadata": {},
   "outputs": [],
   "source": [
    "current_dir = os.getcwd()\n",
    "dir_warehouse = f\"{current_dir}/warehouse\""
   ]
  },
  {
   "cell_type": "code",
   "execution_count": 3,
   "metadata": {},
   "outputs": [
    {
     "name": "stdout",
     "output_type": "stream",
     "text": [
      "25/01/07 20:38:27 WARN Utils: Your hostname, dell resolves to a loopback address: 127.0.1.1; using 192.168.15.6 instead (on interface wlp0s20f3)\n",
      "25/01/07 20:38:27 WARN Utils: Set SPARK_LOCAL_IP if you need to bind to another address\n"
     ]
    },
    {
     "name": "stderr",
     "output_type": "stream",
     "text": [
      "Setting default log level to \"WARN\".\n",
      "To adjust logging level use sc.setLogLevel(newLevel). For SparkR, use setLogLevel(newLevel).\n"
     ]
    },
    {
     "name": "stdout",
     "output_type": "stream",
     "text": [
      "25/01/07 20:38:27 WARN NativeCodeLoader: Unable to load native-hadoop library for your platform... using builtin-java classes where applicable\n"
     ]
    }
   ],
   "source": [
    "spark = SparkSession.builder \\\n",
    "    .appName(\"IcebergWithSpark\") \\\n",
    "    .config(\"spark.sql.extensions\", \"org.apache.iceberg.spark.extensions.IcebergSparkSessionExtensions\") \\\n",
    "    .config(\"spark.sql.catalog.hadoop_catalog\", \"org.apache.iceberg.spark.SparkCatalog\") \\\n",
    "    .config(\"spark.sql.catalog.hadoop_catalog.type\", \"hadoop\") \\\n",
    "    .config(\"spark.sql.catalog.hadoop_catalog.warehouse\", dir_warehouse) \\\n",
    "    .config(\"spark.sql.default.catalog\", \"hadoop_catalog\") \\\n",
    "    .getOrCreate()"
   ]
  },
  {
   "cell_type": "code",
   "execution_count": 8,
   "metadata": {},
   "outputs": [
    {
     "data": {
      "text/plain": [
       "DataFrame[]"
      ]
     },
     "execution_count": 8,
     "metadata": {},
     "output_type": "execute_result"
    }
   ],
   "source": [
    "# Exclui a tabela se existir\n",
    "spark.sql(\"DROP TABLE IF EXISTS hadoop_catalog.default.vendas_partitioned\")"
   ]
  },
  {
   "cell_type": "code",
   "execution_count": 9,
   "metadata": {},
   "outputs": [
    {
     "data": {
      "text/plain": [
       "DataFrame[]"
      ]
     },
     "execution_count": 9,
     "metadata": {},
     "output_type": "execute_result"
    }
   ],
   "source": [
    "# Cria tabela particionada Iceberg\n",
    "spark.sql(\"\"\"\n",
    "CREATE TABLE hadoop_catalog.default.vendas_partitioned (\n",
    "    id INT,\n",
    "    produto STRING,\n",
    "    quantidade INT,\n",
    "    preco DOUBLE,\n",
    "    data_venda DATE,\n",
    "    categoria STRING\n",
    ")\n",
    "USING iceberg\n",
    "PARTITIONED BY (categoria, days(data_venda))\n",
    "\"\"\")"
   ]
  },
  {
   "cell_type": "code",
   "execution_count": 10,
   "metadata": {},
   "outputs": [],
   "source": [
    "# inserimos vendas\n",
    "data = [\n",
    "    (1, \"Produto A\", 10, 15.5, \"2023-11-01\", \"Eletronicos\"),\n",
    "    (2, \"Produto B\", 5, 22.0, \"2023-11-02\", \"Vestuario\"),\n",
    "    (3, \"Produto C\", 8, 30.0, \"2023-11-03\", \"Eletronicos\"),\n",
    "    (4, \"Produto D\", 12, 25.0, \"2023-11-04\", \"Alimentos\"),\n",
    "    (5, \"Produto E\", 7, 18.5, \"2023-11-05\", \"Vestuario\"),\n",
    "    (6, \"Produto F\", 9, 20.0, \"2023-11-06\", \"Alimentos\"),\n",
    "    (7, \"Produto G\", 15, 35.0, \"2023-11-07\", \"Eletronicos\"),\n",
    "    (8, \"Produto H\", 1, 35.0, \"2023-11-07\", \"Eletronicos\")\n",
    "]\n",
    "columns = [\"id\", \"produto\", \"quantidade\", \"preco\", \"data_venda\", \"categoria\"]\n",
    "\n",
    "df = spark.createDataFrame(data, columns)\n",
    "df = df.withColumn(\"data_venda\", F.to_date(F.col(\"data_venda\"), \"yyyy-MM-dd\"))\n",
    "\n",
    "df.writeTo(\"hadoop_catalog.default.vendas_partitioned\").append()"
   ]
  },
  {
   "cell_type": "code",
   "execution_count": 12,
   "metadata": {},
   "outputs": [
    {
     "name": "stdout",
     "output_type": "stream",
     "text": [
      "+-------------------------+-------+------------+----------+-----------------------------+----------------------------+--------------------------+----------------------------+--------------------------+-----------------------+------------------------+\n",
      "|partition                |spec_id|record_count|file_count|total_data_file_size_in_bytes|position_delete_record_count|position_delete_file_count|equality_delete_record_count|equality_delete_file_count|last_updated_at        |last_updated_snapshot_id|\n",
      "+-------------------------+-------+------------+----------+-----------------------------+----------------------------+--------------------------+----------------------------+--------------------------+-----------------------+------------------------+\n",
      "|{Alimentos, 2023-11-04}  |0      |1           |1         |1711                         |0                           |0                         |0                           |0                         |2025-01-07 20:52:58.273|272615915861596972      |\n",
      "|{Alimentos, 2023-11-06}  |0      |1           |1         |1711                         |0                           |0                         |0                           |0                         |2025-01-07 20:52:58.273|272615915861596972      |\n",
      "|{Eletronicos, 2023-11-01}|0      |1           |1         |1724                         |0                           |0                         |0                           |0                         |2025-01-07 20:52:58.273|272615915861596972      |\n",
      "|{Eletronicos, 2023-11-03}|0      |1           |1         |1725                         |0                           |0                         |0                           |0                         |2025-01-07 20:52:58.273|272615915861596972      |\n",
      "|{Eletronicos, 2023-11-07}|0      |2           |1         |1841                         |0                           |0                         |0                           |0                         |2025-01-07 20:52:58.273|272615915861596972      |\n",
      "|{Vestuario, 2023-11-02}  |0      |1           |1         |1711                         |0                           |0                         |0                           |0                         |2025-01-07 20:52:58.273|272615915861596972      |\n",
      "|{Vestuario, 2023-11-05}  |0      |1           |1         |1710                         |0                           |0                         |0                           |0                         |2025-01-07 20:52:58.273|272615915861596972      |\n",
      "+-------------------------+-------+------------+----------+-----------------------------+----------------------------+--------------------------+----------------------------+--------------------------+-----------------------+------------------------+\n",
      "\n"
     ]
    }
   ],
   "source": [
    "# Listamos as Partições\n",
    "partitions_df = spark.sql(\"SELECT * FROM hadoop_catalog.default.vendas_partitioned.partitions\")\n",
    "partitions_df.orderBy(\"partition\").show(truncate=False)"
   ]
  },
  {
   "cell_type": "code",
   "execution_count": 13,
   "metadata": {},
   "outputs": [
    {
     "data": {
      "text/plain": [
       "DataFrame[]"
      ]
     },
     "execution_count": 13,
     "metadata": {},
     "output_type": "execute_result"
    }
   ],
   "source": [
    "# Deve excluir registro de número 5, partição  Vestuário, 2023-11-05\n",
    "spark.sql(\"\"\"\n",
    "DELETE FROM hadoop_catalog.default.vendas_partitioned\n",
    "WHERE categoria = 'Vestuario' AND data_venda = '2023-11-05'\n",
    "\"\"\")"
   ]
  },
  {
   "cell_type": "code",
   "execution_count": 14,
   "metadata": {},
   "outputs": [
    {
     "name": "stdout",
     "output_type": "stream",
     "text": [
      "+-------------------------+-------+------------+----------+-----------------------------+----------------------------+--------------------------+----------------------------+--------------------------+-----------------------+------------------------+\n",
      "|partition                |spec_id|record_count|file_count|total_data_file_size_in_bytes|position_delete_record_count|position_delete_file_count|equality_delete_record_count|equality_delete_file_count|last_updated_at        |last_updated_snapshot_id|\n",
      "+-------------------------+-------+------------+----------+-----------------------------+----------------------------+--------------------------+----------------------------+--------------------------+-----------------------+------------------------+\n",
      "|{Alimentos, 2023-11-04}  |0      |1           |1         |1711                         |0                           |0                         |0                           |0                         |2025-01-07 20:52:58.273|272615915861596972      |\n",
      "|{Alimentos, 2023-11-06}  |0      |1           |1         |1711                         |0                           |0                         |0                           |0                         |2025-01-07 20:52:58.273|272615915861596972      |\n",
      "|{Eletronicos, 2023-11-01}|0      |1           |1         |1724                         |0                           |0                         |0                           |0                         |2025-01-07 20:52:58.273|272615915861596972      |\n",
      "|{Eletronicos, 2023-11-03}|0      |1           |1         |1725                         |0                           |0                         |0                           |0                         |2025-01-07 20:52:58.273|272615915861596972      |\n",
      "|{Eletronicos, 2023-11-07}|0      |2           |1         |1841                         |0                           |0                         |0                           |0                         |2025-01-07 20:52:58.273|272615915861596972      |\n",
      "|{Vestuario, 2023-11-02}  |0      |1           |1         |1711                         |0                           |0                         |0                           |0                         |2025-01-07 20:52:58.273|272615915861596972      |\n",
      "+-------------------------+-------+------------+----------+-----------------------------+----------------------------+--------------------------+----------------------------+--------------------------+-----------------------+------------------------+\n",
      "\n"
     ]
    }
   ],
   "source": [
    "# Partições Atualizadas\n",
    "partitions_df = spark.sql(\"SELECT * FROM hadoop_catalog.default.vendas_partitioned.partitions\")\n",
    "partitions_df.orderBy(\"partition\").show(truncate=False)"
   ]
  },
  {
   "cell_type": "code",
   "execution_count": 15,
   "metadata": {},
   "outputs": [
    {
     "name": "stdout",
     "output_type": "stream",
     "text": [
      "+---+---------+----------+-----+----------+-----------+\n",
      "| id|  produto|quantidade|preco|data_venda|  categoria|\n",
      "+---+---------+----------+-----+----------+-----------+\n",
      "|  7|Produto G|        15| 35.0|2023-11-07|Eletronicos|\n",
      "|  8|Produto H|         1| 35.0|2023-11-07|Eletronicos|\n",
      "+---+---------+----------+-----+----------+-----------+\n",
      "\n"
     ]
    }
   ],
   "source": [
    "# Categoria Eletrônicos em 7 / 11\n",
    "filtered_df = spark.sql(\"\"\"\n",
    "SELECT * FROM hadoop_catalog.default.vendas_partitioned\n",
    "WHERE categoria = 'Eletronicos' AND data_venda = '2023-11-07'\n",
    "\"\"\")\n",
    "filtered_df.show()"
   ]
  },
  {
   "cell_type": "code",
   "execution_count": 16,
   "metadata": {},
   "outputs": [
    {
     "data": {
      "text/plain": [
       "DataFrame[]"
      ]
     },
     "execution_count": 16,
     "metadata": {},
     "output_type": "execute_result"
    }
   ],
   "source": [
    "# Vamos criar uma tabela clientes. Primeiro verificamos se existe\n",
    "spark.sql(\"DROP TABLE IF EXISTS hadoop_catalog.default.clientes_partitioned\")\n",
    "\n",
    "# Partição por cidade - categoria preferida deve ser as existentes em vendas\n",
    "spark.sql(\"\"\"\n",
    "CREATE TABLE hadoop_catalog.default.clientes_partitioned (\n",
    "    cliente_id INT,\n",
    "    nome STRING,\n",
    "    cidade STRING,\n",
    "    categoria_preferida STRING\n",
    ")\n",
    "USING iceberg\n",
    "PARTITIONED BY (cidade)\n",
    "\"\"\")"
   ]
  },
  {
   "cell_type": "code",
   "execution_count": 17,
   "metadata": {},
   "outputs": [],
   "source": [
    "# Dados\n",
    "customer_data = [\n",
    "    (1, \"Alice\", \"São Paulo\", \"Eletronicos\"),\n",
    "    (2, \"Bob\", \"Rio de Janeiro\", \"Vestuario\"),\n",
    "    (3, \"Carol\", \"São Paulo\", \"Alimentos\"),\n",
    "    (4, \"David\", \"Porto Alegre\", \"Eletronicos\"),\n",
    "    (5, \"Eve\", \"Novo Hamburgo\", \"Vestuario\")\n",
    "]\n",
    "customer_columns = [\"cliente_id\", \"nome\", \"cidade\", \"categoria_preferida\"]\n",
    "\n",
    "df_customers = spark.createDataFrame(customer_data, customer_columns)\n",
    "df_customers.writeTo(\"hadoop_catalog.default.clientes_partitioned\").append()"
   ]
  },
  {
   "cell_type": "code",
   "execution_count": 18,
   "metadata": {},
   "outputs": [
    {
     "name": "stdout",
     "output_type": "stream",
     "text": [
      "+---+---------+----------+-----+----------+-----------+----------+-----+--------------+\n",
      "| id|  produto|quantidade|preco|data_venda|  categoria|cliente_id| nome|        cidade|\n",
      "+---+---------+----------+-----+----------+-----------+----------+-----+--------------+\n",
      "|  7|Produto G|        15| 35.0|2023-11-07|Eletronicos|         4|David|  Porto Alegre|\n",
      "|  7|Produto G|        15| 35.0|2023-11-07|Eletronicos|         1|Alice|     São Paulo|\n",
      "|  8|Produto H|         1| 35.0|2023-11-07|Eletronicos|         4|David|  Porto Alegre|\n",
      "|  8|Produto H|         1| 35.0|2023-11-07|Eletronicos|         1|Alice|     São Paulo|\n",
      "|  4|Produto D|        12| 25.0|2023-11-04|  Alimentos|         3|Carol|     São Paulo|\n",
      "|  2|Produto B|         5| 22.0|2023-11-02|  Vestuario|         2|  Bob|Rio de Janeiro|\n",
      "|  2|Produto B|         5| 22.0|2023-11-02|  Vestuario|         5|  Eve| Novo Hamburgo|\n",
      "|  1|Produto A|        10| 15.5|2023-11-01|Eletronicos|         4|David|  Porto Alegre|\n",
      "|  1|Produto A|        10| 15.5|2023-11-01|Eletronicos|         1|Alice|     São Paulo|\n",
      "|  6|Produto F|         9| 20.0|2023-11-06|  Alimentos|         3|Carol|     São Paulo|\n",
      "|  3|Produto C|         8| 30.0|2023-11-03|Eletronicos|         4|David|  Porto Alegre|\n",
      "|  3|Produto C|         8| 30.0|2023-11-03|Eletronicos|         1|Alice|     São Paulo|\n",
      "+---+---------+----------+-----+----------+-----------+----------+-----+--------------+\n",
      "\n"
     ]
    }
   ],
   "source": [
    "# Join vendas e clientes pela categoria\n",
    "join_df = spark.sql(\"\"\"\n",
    "SELECT v.id, v.produto, v.quantidade, v.preco, v.data_venda, v.categoria,\n",
    "        c.cliente_id, c.nome, c.cidade\n",
    "FROM hadoop_catalog.default.vendas_partitioned v\n",
    "INNER JOIN hadoop_catalog.default.clientes_partitioned c\n",
    "        ON v.categoria = c.categoria_preferida\n",
    "\"\"\")\n",
    "\n",
    "join_df.show()"
   ]
  },
  {
   "cell_type": "code",
   "execution_count": 19,
   "metadata": {},
   "outputs": [
    {
     "name": "stdout",
     "output_type": "stream",
     "text": [
      "+---+---------+----------+-----+----------+-----------+----------+-----+---------+\n",
      "| id|  produto|quantidade|preco|data_venda|  categoria|cliente_id| nome|   cidade|\n",
      "+---+---------+----------+-----+----------+-----------+----------+-----+---------+\n",
      "|  7|Produto G|        15| 35.0|2023-11-07|Eletronicos|         1|Alice|São Paulo|\n",
      "|  8|Produto H|         1| 35.0|2023-11-07|Eletronicos|         1|Alice|São Paulo|\n",
      "|  4|Produto D|        12| 25.0|2023-11-04|  Alimentos|         3|Carol|São Paulo|\n",
      "|  6|Produto F|         9| 20.0|2023-11-06|  Alimentos|         3|Carol|São Paulo|\n",
      "|  3|Produto C|         8| 30.0|2023-11-03|Eletronicos|         1|Alice|São Paulo|\n",
      "+---+---------+----------+-----+----------+-----------+----------+-----+---------+\n",
      "\n"
     ]
    }
   ],
   "source": [
    "# Join com filtro baseado em cidade e data\n",
    "filtered_join_df = spark.sql(\"\"\"\n",
    "SELECT \n",
    "    v.id, v.produto, v.quantidade, v.preco, v.data_venda, v.categoria,\n",
    "    c.cliente_id, c.nome, c.cidade\n",
    "FROM hadoop_catalog.default.vendas_partitioned v\n",
    "INNER JOIN hadoop_catalog.default.clientes_partitioned c\n",
    "    ON v.categoria = c.categoria_preferida\n",
    "WHERE c.cidade = 'São Paulo' AND v.data_venda >= '2023-11-03'\n",
    "\"\"\")\n",
    "\n",
    "filtered_join_df.show()"
   ]
  },
  {
   "cell_type": "code",
   "execution_count": null,
   "metadata": {},
   "outputs": [],
   "source": []
  },
  {
   "cell_type": "code",
   "execution_count": null,
   "metadata": {},
   "outputs": [],
   "source": []
  },
  {
   "cell_type": "code",
   "execution_count": null,
   "metadata": {},
   "outputs": [],
   "source": []
  },
  {
   "cell_type": "code",
   "execution_count": null,
   "metadata": {},
   "outputs": [],
   "source": []
  }
 ],
 "metadata": {
  "kernelspec": {
   "display_name": "pyspark",
   "language": "python",
   "name": "python3"
  },
  "language_info": {
   "codemirror_mode": {
    "name": "ipython",
    "version": 3
   },
   "file_extension": ".py",
   "mimetype": "text/x-python",
   "name": "python",
   "nbconvert_exporter": "python",
   "pygments_lexer": "ipython3",
   "version": "3.10.0"
  }
 },
 "nbformat": 4,
 "nbformat_minor": 2
}
