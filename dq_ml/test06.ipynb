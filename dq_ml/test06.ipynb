{
 "cells": [
  {
   "cell_type": "code",
   "execution_count": 1,
   "metadata": {},
   "outputs": [],
   "source": [
    "import yaml\n",
    "import json\n",
    "import pandas as pd\n",
    "import numpy as np\n",
    "from pprint import pprint\n",
    "from types import SimpleNamespace\n",
    "from typing import Any, Union, Callable, NamedTuple\n",
    "from functools import wraps\n",
    "from enum import Enum, auto\n",
    "from collections import namedtuple, defaultdict\n",
    "from random import choice\n",
    "from abc import ABC, ABCMeta, abstractmethod\n",
    "from sklearn import datasets\n",
    "from pydantic import (\n",
    "    BaseModel,\n",
    "    ValidationError,\n",
    "    field_validator,\n",
    "    field_serializer,\n",
    "    model_validator,\n",
    "    computed_field,\n",
    "    ValidatorFunctionWrapHandler,\n",
    "    ValidationInfo,\n",
    "    Field,\n",
    "    ConfigDict,\n",
    ")"
   ]
  },
  {
   "cell_type": "code",
   "execution_count": 2,
   "metadata": {},
   "outputs": [
    {
     "name": "stderr",
     "output_type": "stream",
     "text": [
      "WARNING:root:'PYARROW_IGNORE_TIMEZONE' environment variable was not set. It is required to set this environment variable to '1' in both driver and executor sides if you use pyarrow>=2.0.0. pandas-on-Spark will set it for you but it does not work if there is a Spark context already launched.\n"
     ]
    }
   ],
   "source": [
    "from pyspark.context import SparkContext, SparkConf\n",
    "from pyspark.sql import SparkSession, SQLContext\n",
    "from pyspark.sql import functions as F\n",
    "from pyspark.sql import types as T\n",
    "from pyspark.sql.window import Window\n",
    "from pyspark.sql import udf\n",
    "from pyspark.sql import DataFrame\n",
    "from pyspark.sql import Row, Column\n",
    "from pyspark.sql.utils import AnalysisException\n",
    "from pyspark.pandas.typedef import as_spark_type"
   ]
  },
  {
   "cell_type": "code",
   "execution_count": 3,
   "metadata": {},
   "outputs": [],
   "source": [
    "pd.DataFrame.iteritems = pd.DataFrame.items"
   ]
  },
  {
   "cell_type": "code",
   "execution_count": 4,
   "metadata": {},
   "outputs": [
    {
     "name": "stderr",
     "output_type": "stream",
     "text": [
      "Warning: Ignoring non-Spark config property: park.sql.execution.arrow.pyspark.fallback.enabled\n"
     ]
    },
    {
     "name": "stdout",
     "output_type": "stream",
     "text": [
      "24/08/18 10:10:26 WARN Utils: Your hostname, dell resolves to a loopback address: 127.0.1.1; using 192.168.15.6 instead (on interface wlp0s20f3)\n",
      "24/08/18 10:10:26 WARN Utils: Set SPARK_LOCAL_IP if you need to bind to another address\n"
     ]
    },
    {
     "name": "stderr",
     "output_type": "stream",
     "text": [
      "Setting default log level to \"WARN\".\n",
      "To adjust logging level use sc.setLogLevel(newLevel). For SparkR, use setLogLevel(newLevel).\n"
     ]
    },
    {
     "name": "stdout",
     "output_type": "stream",
     "text": [
      "24/08/18 10:10:26 WARN NativeCodeLoader: Unable to load native-hadoop library for your platform... using builtin-java classes where applicable\n"
     ]
    }
   ],
   "source": [
    "spark = (\n",
    "    SparkSession.builder.appName(\"Testes\")\n",
    "    .config('spark.sql.adaptive.enabled', 'true')\n",
    "    .config('spark.sql.adaptive.optimizerEnabled', 'true')\n",
    "    .config('spark.sql.execution.arrow.enabled', 'true')\n",
    "    .config('spark.sql.execution.arrow.pyspark.enabled', 'true')\n",
    "    .config(\"spark.sql.parquet.datetimeRebaseModeInRead\", \"CORRECTED\")\n",
    "    .config(\"spark.sql.parquet.datetimeRebaseModeInWrite\", \"CORRECTED\")\n",
    "    .config(\"spark.sql.legacy.timeParserPolicy\", \"CORRECTED\")\n",
    "    .config(\"spark.sql.repl.eagerEval.enabled\", \"true\")\n",
    "    .config(\"spark.sql.debug.maxToStringFields\", \"100000\")\n",
    "    .config(\"park.sql.execution.arrow.pyspark.fallback.enabled\", \"false\")\n",
    "    .enableHiveSupport()\n",
    "    .getOrCreate()\n",
    ")\n",
    "\n",
    "spark.sparkContext.setLogLevel(\"ERROR\")"
   ]
  },
  {
   "cell_type": "markdown",
   "metadata": {},
   "source": [
    "## Load data"
   ]
  },
  {
   "cell_type": "code",
   "execution_count": 5,
   "metadata": {},
   "outputs": [],
   "source": [
    "iris_data = datasets.load_iris(as_frame=True) # classification\n",
    "df_iris = iris_data.frame\n",
    "\n",
    "# bcancer_data = datasets.load_breast_cancer(as_frame=True) # classification\n",
    "# df_bcancer = bcancer_data.frame\n",
    "\n",
    "# diabetes_data = datasets.load_diabetes(as_frame=True) # regression\n",
    "# df_diabetes = diabetes_data.frame\n",
    "\n",
    "# wine_data = datasets.load_wine(as_frame=True) # classification\n",
    "# df_wine = wine_data.frame"
   ]
  },
  {
   "cell_type": "code",
   "execution_count": 6,
   "metadata": {},
   "outputs": [],
   "source": [
    "dfp = df_iris.rename({\n",
    "    \"sepal length (cm)\": \"sepal_length\",\n",
    "    \"sepal width (cm)\": \"sepal_width\",\n",
    "    \"petal length (cm)\": \"petal_length\",\n",
    "    \"petal width (cm)\": \"petal_width\",\n",
    "}, axis=1)"
   ]
  },
  {
   "cell_type": "code",
   "execution_count": 7,
   "metadata": {},
   "outputs": [
    {
     "data": {
      "text/html": [
       "<div>\n",
       "<style scoped>\n",
       "    .dataframe tbody tr th:only-of-type {\n",
       "        vertical-align: middle;\n",
       "    }\n",
       "\n",
       "    .dataframe tbody tr th {\n",
       "        vertical-align: top;\n",
       "    }\n",
       "\n",
       "    .dataframe thead th {\n",
       "        text-align: right;\n",
       "    }\n",
       "</style>\n",
       "<table border=\"1\" class=\"dataframe\">\n",
       "  <thead>\n",
       "    <tr style=\"text-align: right;\">\n",
       "      <th></th>\n",
       "      <th>sepal_length</th>\n",
       "      <th>sepal_width</th>\n",
       "      <th>petal_length</th>\n",
       "      <th>petal_width</th>\n",
       "      <th>target</th>\n",
       "    </tr>\n",
       "  </thead>\n",
       "  <tbody>\n",
       "    <tr>\n",
       "      <th>0</th>\n",
       "      <td>5.1</td>\n",
       "      <td>3.5</td>\n",
       "      <td>1.4</td>\n",
       "      <td>0.2</td>\n",
       "      <td>0</td>\n",
       "    </tr>\n",
       "    <tr>\n",
       "      <th>1</th>\n",
       "      <td>4.9</td>\n",
       "      <td>3.0</td>\n",
       "      <td>1.4</td>\n",
       "      <td>0.2</td>\n",
       "      <td>0</td>\n",
       "    </tr>\n",
       "    <tr>\n",
       "      <th>2</th>\n",
       "      <td>4.7</td>\n",
       "      <td>3.2</td>\n",
       "      <td>1.3</td>\n",
       "      <td>0.2</td>\n",
       "      <td>0</td>\n",
       "    </tr>\n",
       "    <tr>\n",
       "      <th>3</th>\n",
       "      <td>4.6</td>\n",
       "      <td>3.1</td>\n",
       "      <td>1.5</td>\n",
       "      <td>0.2</td>\n",
       "      <td>0</td>\n",
       "    </tr>\n",
       "    <tr>\n",
       "      <th>4</th>\n",
       "      <td>5.0</td>\n",
       "      <td>3.6</td>\n",
       "      <td>1.4</td>\n",
       "      <td>0.2</td>\n",
       "      <td>0</td>\n",
       "    </tr>\n",
       "  </tbody>\n",
       "</table>\n",
       "</div>"
      ],
      "text/plain": [
       "   sepal_length  sepal_width  petal_length  petal_width  target\n",
       "0           5.1          3.5           1.4          0.2       0\n",
       "1           4.9          3.0           1.4          0.2       0\n",
       "2           4.7          3.2           1.3          0.2       0\n",
       "3           4.6          3.1           1.5          0.2       0\n",
       "4           5.0          3.6           1.4          0.2       0"
      ]
     },
     "execution_count": 7,
     "metadata": {},
     "output_type": "execute_result"
    }
   ],
   "source": [
    "dfp.head()"
   ]
  },
  {
   "cell_type": "code",
   "execution_count": 8,
   "metadata": {},
   "outputs": [],
   "source": [
    "# https://stackoverflow.com/questions/39109045/numpy-where-with-multiple-conditions\n",
    "\n",
    "def energy_class(x: float):\n",
    "    if x > 6:\n",
    "        return 'high'\n",
    "    elif x > 5:\n",
    "        return 'medium'\n",
    "    else:\n",
    "        return 'low'\n",
    "\n",
    "\n",
    "dfp['tipo'] = pd.cut(dfp['sepal_length'], bins=[0, 5, 6, np.inf], labels=['low', 'medium', 'high'])\n",
    "# dfp['tipo'] = np.where(dfp['sepal_length'] > 7, 'high', np.where(dfp['sepal_length'] > 5, 'medium', 'low'))\n",
    "# dfp['tipo'] = dfp['sepal_length'].apply(energy_class)\n",
    "# dfp['tipo'] = np.select([dfp['sepal_length'] > 7, dfp['sepal_length'] > 5], ['high', 'medium'], default='low')\n",
    "# dfp['tipo'] = np.vectorize(lambda x: 'high' if x > 5 else ('medium' if x > 3 else 'low'))(dfp['sepal_length'])\n",
    "# dfp['tipo'] = dfp['sepal_length'].apply(lambda x: 'high' if x > 6 else ('medium' if x > 5 else 'low'))"
   ]
  },
  {
   "cell_type": "code",
   "execution_count": 9,
   "metadata": {},
   "outputs": [
    {
     "data": {
      "text/plain": [
       "tipo\n",
       "high      61\n",
       "medium    57\n",
       "low       32\n",
       "Name: count, dtype: int64"
      ]
     },
     "execution_count": 9,
     "metadata": {},
     "output_type": "execute_result"
    }
   ],
   "source": [
    "dfp['tipo'].value_counts()"
   ]
  },
  {
   "cell_type": "code",
   "execution_count": 10,
   "metadata": {},
   "outputs": [],
   "source": [
    "def suit():\n",
    "    return choice(('Spade', 'Heart', 'Diamond', 'Club'))\n",
    "\n",
    "dfp['suit'] = [suit() for _ in range(len(dfp))]"
   ]
  },
  {
   "cell_type": "code",
   "execution_count": 11,
   "metadata": {},
   "outputs": [],
   "source": [
    "dfp['id'] = [i for i, _ in enumerate(range(len(dfp)), start=1)]"
   ]
  },
  {
   "cell_type": "code",
   "execution_count": 12,
   "metadata": {},
   "outputs": [],
   "source": [
    "# Missing\n",
    "dfp.iloc[3, 6] = None\n",
    "dfp.iloc[9, 6] = None\n",
    "\n",
    "# Duplicates\n",
    "dfp.iloc[1, 7] = 1"
   ]
  },
  {
   "cell_type": "code",
   "execution_count": 13,
   "metadata": {},
   "outputs": [
    {
     "data": {
      "text/html": [
       "<div>\n",
       "<style scoped>\n",
       "    .dataframe tbody tr th:only-of-type {\n",
       "        vertical-align: middle;\n",
       "    }\n",
       "\n",
       "    .dataframe tbody tr th {\n",
       "        vertical-align: top;\n",
       "    }\n",
       "\n",
       "    .dataframe thead th {\n",
       "        text-align: right;\n",
       "    }\n",
       "</style>\n",
       "<table border=\"1\" class=\"dataframe\">\n",
       "  <thead>\n",
       "    <tr style=\"text-align: right;\">\n",
       "      <th></th>\n",
       "      <th>sepal_length</th>\n",
       "      <th>sepal_width</th>\n",
       "      <th>petal_length</th>\n",
       "      <th>petal_width</th>\n",
       "      <th>target</th>\n",
       "      <th>tipo</th>\n",
       "      <th>suit</th>\n",
       "      <th>id</th>\n",
       "    </tr>\n",
       "  </thead>\n",
       "  <tbody>\n",
       "    <tr>\n",
       "      <th>0</th>\n",
       "      <td>5.1</td>\n",
       "      <td>3.5</td>\n",
       "      <td>1.4</td>\n",
       "      <td>0.2</td>\n",
       "      <td>0</td>\n",
       "      <td>medium</td>\n",
       "      <td>Diamond</td>\n",
       "      <td>1</td>\n",
       "    </tr>\n",
       "    <tr>\n",
       "      <th>1</th>\n",
       "      <td>4.9</td>\n",
       "      <td>3.0</td>\n",
       "      <td>1.4</td>\n",
       "      <td>0.2</td>\n",
       "      <td>0</td>\n",
       "      <td>low</td>\n",
       "      <td>Club</td>\n",
       "      <td>1</td>\n",
       "    </tr>\n",
       "    <tr>\n",
       "      <th>2</th>\n",
       "      <td>4.7</td>\n",
       "      <td>3.2</td>\n",
       "      <td>1.3</td>\n",
       "      <td>0.2</td>\n",
       "      <td>0</td>\n",
       "      <td>low</td>\n",
       "      <td>Heart</td>\n",
       "      <td>3</td>\n",
       "    </tr>\n",
       "    <tr>\n",
       "      <th>3</th>\n",
       "      <td>4.6</td>\n",
       "      <td>3.1</td>\n",
       "      <td>1.5</td>\n",
       "      <td>0.2</td>\n",
       "      <td>0</td>\n",
       "      <td>low</td>\n",
       "      <td>None</td>\n",
       "      <td>4</td>\n",
       "    </tr>\n",
       "    <tr>\n",
       "      <th>4</th>\n",
       "      <td>5.0</td>\n",
       "      <td>3.6</td>\n",
       "      <td>1.4</td>\n",
       "      <td>0.2</td>\n",
       "      <td>0</td>\n",
       "      <td>low</td>\n",
       "      <td>Club</td>\n",
       "      <td>5</td>\n",
       "    </tr>\n",
       "    <tr>\n",
       "      <th>5</th>\n",
       "      <td>5.4</td>\n",
       "      <td>3.9</td>\n",
       "      <td>1.7</td>\n",
       "      <td>0.4</td>\n",
       "      <td>0</td>\n",
       "      <td>medium</td>\n",
       "      <td>Diamond</td>\n",
       "      <td>6</td>\n",
       "    </tr>\n",
       "    <tr>\n",
       "      <th>6</th>\n",
       "      <td>4.6</td>\n",
       "      <td>3.4</td>\n",
       "      <td>1.4</td>\n",
       "      <td>0.3</td>\n",
       "      <td>0</td>\n",
       "      <td>low</td>\n",
       "      <td>Club</td>\n",
       "      <td>7</td>\n",
       "    </tr>\n",
       "    <tr>\n",
       "      <th>7</th>\n",
       "      <td>5.0</td>\n",
       "      <td>3.4</td>\n",
       "      <td>1.5</td>\n",
       "      <td>0.2</td>\n",
       "      <td>0</td>\n",
       "      <td>low</td>\n",
       "      <td>Diamond</td>\n",
       "      <td>8</td>\n",
       "    </tr>\n",
       "    <tr>\n",
       "      <th>8</th>\n",
       "      <td>4.4</td>\n",
       "      <td>2.9</td>\n",
       "      <td>1.4</td>\n",
       "      <td>0.2</td>\n",
       "      <td>0</td>\n",
       "      <td>low</td>\n",
       "      <td>Club</td>\n",
       "      <td>9</td>\n",
       "    </tr>\n",
       "    <tr>\n",
       "      <th>9</th>\n",
       "      <td>4.9</td>\n",
       "      <td>3.1</td>\n",
       "      <td>1.5</td>\n",
       "      <td>0.1</td>\n",
       "      <td>0</td>\n",
       "      <td>low</td>\n",
       "      <td>None</td>\n",
       "      <td>10</td>\n",
       "    </tr>\n",
       "  </tbody>\n",
       "</table>\n",
       "</div>"
      ],
      "text/plain": [
       "   sepal_length  sepal_width  petal_length  petal_width  target    tipo  \\\n",
       "0           5.1          3.5           1.4          0.2       0  medium   \n",
       "1           4.9          3.0           1.4          0.2       0     low   \n",
       "2           4.7          3.2           1.3          0.2       0     low   \n",
       "3           4.6          3.1           1.5          0.2       0     low   \n",
       "4           5.0          3.6           1.4          0.2       0     low   \n",
       "5           5.4          3.9           1.7          0.4       0  medium   \n",
       "6           4.6          3.4           1.4          0.3       0     low   \n",
       "7           5.0          3.4           1.5          0.2       0     low   \n",
       "8           4.4          2.9           1.4          0.2       0     low   \n",
       "9           4.9          3.1           1.5          0.1       0     low   \n",
       "\n",
       "      suit  id  \n",
       "0  Diamond   1  \n",
       "1     Club   1  \n",
       "2    Heart   3  \n",
       "3     None   4  \n",
       "4     Club   5  \n",
       "5  Diamond   6  \n",
       "6     Club   7  \n",
       "7  Diamond   8  \n",
       "8     Club   9  \n",
       "9     None  10  "
      ]
     },
     "execution_count": 13,
     "metadata": {},
     "output_type": "execute_result"
    }
   ],
   "source": [
    "dfp.head(10)"
   ]
  },
  {
   "cell_type": "code",
   "execution_count": 15,
   "metadata": {},
   "outputs": [],
   "source": [
    "df = spark.createDataFrame(dfp)\\\n",
    "    .select(\"id\", \"sepal_length\", \"sepal_width\", \"petal_length\", \"petal_width\", \"tipo\", \"suit\", \"target\")\\\n",
    "    .cache()"
   ]
  },
  {
   "cell_type": "code",
   "execution_count": 213,
   "metadata": {},
   "outputs": [
    {
     "name": "stdout",
     "output_type": "stream",
     "text": [
      "+------------+-----------+------------+-----------+------+------+-------+---+\n",
      "|sepal_length|sepal_width|petal_length|petal_width|target|  tipo|   suit| id|\n",
      "+------------+-----------+------------+-----------+------+------+-------+---+\n",
      "|         5.1|        3.5|         1.4|        0.2|     0|medium|Diamond|  1|\n",
      "|         4.9|        3.0|         1.4|        0.2|     0|   low|   Club|  1|\n",
      "|         4.7|        3.2|         1.3|        0.2|     0|   low|  Heart|  3|\n",
      "|         4.6|        3.1|         1.5|        0.2|     0|   low|   null|  4|\n",
      "|         5.0|        3.6|         1.4|        0.2|     0|   low|   Club|  5|\n",
      "+------------+-----------+------------+-----------+------+------+-------+---+\n",
      "only showing top 5 rows\n",
      "\n"
     ]
    }
   ],
   "source": [
    "df.show(5)"
   ]
  },
  {
   "cell_type": "code",
   "execution_count": 239,
   "metadata": {},
   "outputs": [],
   "source": [
    "attr = \"suit\"\n",
    "distribution_df = df.groupBy(attr).count()\n",
    "distribution_dict = {row[attr]: row[\"count\"] for row in distribution_df.collect()}"
   ]
  },
  {
   "cell_type": "code",
   "execution_count": 240,
   "metadata": {},
   "outputs": [],
   "source": [
    "# attr = \"suit\"\n",
    "\n",
    "# window = Window.partitionBy(attr)\n",
    "\n",
    "# df_d = df.select(\n",
    "#     F.col(attr),\n",
    "#     F.count(attr).over(window).alias(\"count\")\n",
    "# ).distinct()\n",
    "\n",
    "# distribution_dict = {row[attr]: row[\"count\"] for row in df_d.collect()}"
   ]
  },
  {
   "cell_type": "code",
   "execution_count": 241,
   "metadata": {},
   "outputs": [
    {
     "data": {
      "text/plain": [
       "{None: 2, 'Diamond': 39, 'Heart': 41, 'Club': 34, 'Spade': 34}"
      ]
     },
     "execution_count": 241,
     "metadata": {},
     "output_type": "execute_result"
    }
   ],
   "source": [
    "distribution_dict"
   ]
  },
  {
   "cell_type": "code",
   "execution_count": 250,
   "metadata": {},
   "outputs": [],
   "source": [
    "attr = \"sepal_length\"\n",
    "# window = Window.partitionBy(attr).orderBy(F.col(attr))\n",
    "# df.withColumn(\"ntile\", F.ntile(2).over(window)).show(10, truncate=False)"
   ]
  },
  {
   "cell_type": "code",
   "execution_count": 252,
   "metadata": {},
   "outputs": [
    {
     "data": {
      "text/plain": [
       "[5.1, 5.8, 6.4]"
      ]
     },
     "execution_count": 252,
     "metadata": {},
     "output_type": "execute_result"
    }
   ],
   "source": [
    "cutoff_points = df.approxQuantile(attr, [0.25, 0.5, 0.75], 0.01)\n",
    "cutoff_points"
   ]
  },
  {
   "cell_type": "code",
   "execution_count": 264,
   "metadata": {},
   "outputs": [
    {
     "name": "stdout",
     "output_type": "stream",
     "text": [
      "+---------+-----+------+\n",
      "|  quartil|count|  perc|\n",
      "+---------+-----+------+\n",
      "|   0-0.25|   32|0.2133|\n",
      "|0.25-0.50|   41|0.2733|\n",
      "|0.50-0.75|   35|0.2333|\n",
      "|0.75-1.00|   42|  0.28|\n",
      "+---------+-----+------+\n",
      "\n"
     ]
    }
   ],
   "source": [
    "df_quartil = df.select(\n",
    "    F.when(F.col(attr) < cutoff_points[0], \"0-0.25\")\\\n",
    "    .when((F.col(attr) >= cutoff_points[0]) & (F.col(attr) < cutoff_points[1]), \"0.25-0.50\")\\\n",
    "    .when((F.col(attr) >= cutoff_points[1]) & (F.col(attr) < cutoff_points[2]), \"0.50-0.75\")\\\n",
    "    .when(F.col(attr) >= cutoff_points[2], \"0.75-1.00\")\\\n",
    "    .alias(\"quartil\")\n",
    ").groupBy(\"quartil\").count()\n",
    "\n",
    "total = df.count()\n",
    "df_quartil.withColumn(\"perc\", F.round(F.col(\"count\") / total, 4)).show()"
   ]
  },
  {
   "cell_type": "markdown",
   "metadata": {},
   "source": [
    "## Config"
   ]
  },
  {
   "cell_type": "code",
   "execution_count": 16,
   "metadata": {},
   "outputs": [],
   "source": [
    "file_path = \"mrm.yaml\"\n",
    "\n",
    "with open(file_path) as f:\n",
    "    config = yaml.safe_load(f)"
   ]
  },
  {
   "cell_type": "code",
   "execution_count": 17,
   "metadata": {},
   "outputs": [
    {
     "data": {
      "text/plain": [
       "{'reference': {'database': 'workspace_db',\n",
       "  'table': 'tb_spec_dataset',\n",
       "  'train_data': {'start': 202001, 'end': 202212}},\n",
       " 'metrics': {'table': ['volumetry'],\n",
       "  'keys': {'names': ['id'],\n",
       "   '_keys': ['duplicity'],\n",
       "   'individual': {'id': ['missing']}},\n",
       "  'features': {'numerical': {'sepal_length': ['mean', 'missing'],\n",
       "    'sepal_width': ['mean'],\n",
       "    'petal_length': ['mean']},\n",
       "   'categorical': {'tipo': ['missing'], 'suit': ['missing']}},\n",
       "  'target': {'target': ['missing']}}}"
      ]
     },
     "execution_count": 17,
     "metadata": {},
     "output_type": "execute_result"
    }
   ],
   "source": [
    "config"
   ]
  },
  {
   "cell_type": "code",
   "execution_count": 18,
   "metadata": {},
   "outputs": [],
   "source": [
    "def key_columns(config: dict) -> dict:\n",
    "    return {\"_keys\": config['keys']['names']}"
   ]
  },
  {
   "cell_type": "code",
   "execution_count": 19,
   "metadata": {},
   "outputs": [
    {
     "name": "stdout",
     "output_type": "stream",
     "text": [
      "{'_keys': ['id']}\n"
     ]
    }
   ],
   "source": [
    "map_key_columns = key_columns(config['metrics'])\n",
    "print(map_key_columns)"
   ]
  },
  {
   "cell_type": "code",
   "execution_count": 20,
   "metadata": {},
   "outputs": [],
   "source": [
    "def columns_classification(config: dict):\n",
    "    response = {}\n",
    "    temp = {\n",
    "        # \"chaves\": config['keys']['names'],\n",
    "        \"chave\": [\"_keys\"],\n",
    "        \"numerica\": list(config['features']['numerical'].keys()),\n",
    "        \"categorical\": list(config['features']['categorical'].keys()),\n",
    "        \"target\": list(config['target'].keys())\n",
    "    }\n",
    "    for key, values in temp.items():\n",
    "        if isinstance(values, list):\n",
    "            for value in values:\n",
    "                response[value] = key\n",
    "        else:\n",
    "            response[values] = key\n",
    "    return response"
   ]
  },
  {
   "cell_type": "code",
   "execution_count": 21,
   "metadata": {},
   "outputs": [
    {
     "data": {
      "text/plain": [
       "{'_keys': 'chave',\n",
       " 'sepal_length': 'numerica',\n",
       " 'sepal_width': 'numerica',\n",
       " 'petal_length': 'numerica',\n",
       " 'tipo': 'categorical',\n",
       " 'suit': 'categorical',\n",
       " 'target': 'target'}"
      ]
     },
     "execution_count": 21,
     "metadata": {},
     "output_type": "execute_result"
    }
   ],
   "source": [
    "cols_classification = columns_classification(config['metrics'])\n",
    "cols_classification"
   ]
  },
  {
   "cell_type": "markdown",
   "metadata": {},
   "source": [
    "## Dev"
   ]
  },
  {
   "cell_type": "code",
   "execution_count": 22,
   "metadata": {},
   "outputs": [],
   "source": [
    "class ExtendEnum(Enum):\n",
    "\n",
    "    def _generate_next_value_(name: str, start, count, last_values):\n",
    "        return name.lower()\n",
    "    \n",
    "    @classmethod\n",
    "    def __getitem__(cls, name: str):\n",
    "        return cls(name.lower())\n",
    "    \n",
    "    @classmethod\n",
    "    def to_dict(cls):\n",
    "        return {e.name: e.value for e in cls}\n",
    "    \n",
    "    @classmethod\n",
    "    def keys(cls):\n",
    "        return cls._member_names_\n",
    "    \n",
    "    @classmethod\n",
    "    def values(cls):\n",
    "        return list(map(lambda c: c.value, cls))\n",
    "    \n",
    "    def __str__(self):\n",
    "        return str(self.value)\n",
    "    \n",
    "    def __repr__(self) -> str:\n",
    "        return str(self.value)"
   ]
  },
  {
   "cell_type": "code",
   "execution_count": 23,
   "metadata": {},
   "outputs": [],
   "source": [
    "class MetricType(ExtendEnum):\n",
    "    COLUMN = \"COLUMN\"\n",
    "    TABLE = \"TABLE\""
   ]
  },
  {
   "cell_type": "code",
   "execution_count": 24,
   "metadata": {},
   "outputs": [],
   "source": [
    "class MetricName(ExtendEnum):\n",
    "    MISSING = auto()\n",
    "    VOLUMETRY = auto()\n",
    "    DUPLICITY = auto()\n",
    "    MEAN = auto()\n",
    "    TESTE = auto()"
   ]
  },
  {
   "cell_type": "code",
   "execution_count": 158,
   "metadata": {},
   "outputs": [],
   "source": [
    "# def replace_key_value(func: Callable) -> Callable:\n",
    "#     @wraps\n",
    "#     def wrapper(*args, **kwargs) -> Any:\n",
    "#         return func(*args, **kwargs)\n",
    "#     return wrapper\n",
    "\n",
    "\n",
    "# def teste(*args, **kwargs):\n",
    "#     print(f\"{args = }\")\n",
    "#     new_args = list(map(lambda x: x.replace('a', 'A'), args))\n",
    "#     print(f\"{new_args = }\")\n",
    "\n",
    "\n",
    "# teste(\"a\", \"b\")"
   ]
  },
  {
   "cell_type": "code",
   "execution_count": 159,
   "metadata": {},
   "outputs": [],
   "source": [
    "def replace_key_value(replace_map: dict[str, list]):\n",
    "    def decorator(func: Callable):\n",
    "        @wraps(func)\n",
    "        def wrapper(cls, df, *args, **kwargs) -> Any:\n",
    "            # print(f\"{type(df) = }\")\n",
    "            # print(f\"{args = }\")\n",
    "            # print(f\"{kwargs = }\")\n",
    "\n",
    "            new_args = [replace_map.get(item, item) for item in args]\n",
    "            new_kwargs = {key: replace_map.get(value, value) for key, value in kwargs.items()}\n",
    "\n",
    "            # new_args = []\n",
    "            # new_kwargs = {}\n",
    "\n",
    "            # for item in args:\n",
    "            #     if item in replace_map.keys():\n",
    "            #         new_args.append(replace_map[item])\n",
    "            #     else:\n",
    "            #          new_args.append(item)\n",
    "            \n",
    "            # for key, value in kwargs.items():\n",
    "            #     if key in replace_map.keys():\n",
    "            #         new_kwargs[key] = replace_map[key]\n",
    "            #     else:\n",
    "            #         new_kwargs[key] = value\n",
    "\n",
    "            # if set(replace_map.keys()).intersection(args):\n",
    "            #     args = list(map(lambda x: x.replace('_key', replace_map.get('_key')), args))\n",
    "            # if set(replace_map.keys()).intersection(kwargs.keys()):\n",
    "            #     kwargs[param_name] = new_value\n",
    "            return func(cls, df, *new_args, **new_kwargs)\n",
    "        return wrapper\n",
    "    return decorator"
   ]
  },
  {
   "cell_type": "code",
   "execution_count": 160,
   "metadata": {},
   "outputs": [],
   "source": [
    "class MetricMetaClass(type):\n",
    "\n",
    "    def __new__(cls, *args, **kwargs):\n",
    "        return super().__new__(cls, *args, **kwargs)\n",
    "    \n",
    "    @replace_key_value(map_key_columns)\n",
    "    def __call__(cls, df: DataFrame, *args, **kwargs):\n",
    "        # print(f\"{type(df) = }\")\n",
    "        # print(f\"{args = }\")\n",
    "        # print(f\"{kwargs = }\")\n",
    "        return cls.evaluate(df, *args, **kwargs)\n",
    "    \n",
    "    @abstractmethod\n",
    "    def evaluate(self):\n",
    "        raise NotImplementedError"
   ]
  },
  {
   "cell_type": "code",
   "execution_count": 161,
   "metadata": {},
   "outputs": [],
   "source": [
    "class CombineMeta(ABCMeta, MetricMetaClass):\n",
    "    pass"
   ]
  },
  {
   "cell_type": "code",
   "execution_count": 162,
   "metadata": {},
   "outputs": [],
   "source": [
    "class MetricBase(ABC):\n",
    "\n",
    "    spark_session = SparkSession.getActiveSession()\n",
    "\n",
    "    @classmethod\n",
    "    def all_metrics(cls) -> list:\n",
    "        return list(set([subclass.name for subclass in cls.__subclasses__()]))\n",
    "\n",
    "    @classmethod\n",
    "    def metrics_by_type(cls, metric_type: MetricType) -> list:\n",
    "        metrics = []\n",
    "        for subclass in cls.__subclasses__():\n",
    "            if metric_type == subclass.type:\n",
    "                metrics.append(subclass.name)\n",
    "        return metrics\n",
    "\n",
    "    @classmethod\n",
    "    def get_metric(cls, metric_name: str) -> 'MetricBase':\n",
    "        for subclass in cls.__subclasses__():\n",
    "            if metric_name == subclass.name:\n",
    "                return subclass\n",
    "\n",
    "    @property\n",
    "    @abstractmethod\n",
    "    def name(self) -> str:\n",
    "        raise NotImplementedError\n",
    "\n",
    "    @staticmethod\n",
    "    @abstractmethod\n",
    "    def calculate(self, df: DataFrame, col: str | list) -> Any:\n",
    "        \"Metodo executa metrica\"\n",
    "    \n",
    "    @staticmethod\n",
    "    @abstractmethod\n",
    "    def evaluate(self) -> Any:\n",
    "        \"Metodo executa metrica\"\n"
   ]
  },
  {
   "cell_type": "code",
   "execution_count": 163,
   "metadata": {},
   "outputs": [],
   "source": [
    "class ColumnMissing(MetricBase, metaclass=CombineMeta):\n",
    "    \n",
    "    name: MetricName = MetricName.MISSING.value\n",
    "    type: MetricType = MetricType.COLUMN\n",
    "    schema: T.StructField = T.StructField(name, T.FloatType(), True)\n",
    "    \n",
    "    @classmethod\n",
    "    def calculate(cls):\n",
    "        print(type(cls.spark))\n",
    "\n",
    "    @staticmethod\n",
    "    def evaluate(df: DataFrame, col: str) -> int:\n",
    "        missing = df.select(col).where(F.col(col).isNull()).count()\n",
    "        return missing "
   ]
  },
  {
   "cell_type": "code",
   "execution_count": 164,
   "metadata": {},
   "outputs": [],
   "source": [
    "class TableVolumetry(MetricBase, metaclass=CombineMeta):\n",
    "    \n",
    "    name: MetricName = MetricName.VOLUMETRY.value\n",
    "    type: MetricType = MetricType.TABLE\n",
    "    schema: T.StructField = T.StructField(name, T.FloatType(), True)\n",
    "    \n",
    "    @classmethod\n",
    "    def calculate(cls):\n",
    "        print(type(cls.spark))\n",
    "\n",
    "    @staticmethod\n",
    "    def evaluate(df: DataFrame, *args, **kwargs) -> int:\n",
    "        count = df.count()\n",
    "        return count "
   ]
  },
  {
   "cell_type": "code",
   "execution_count": 165,
   "metadata": {},
   "outputs": [],
   "source": [
    "class ColumnDuplicity(MetricBase, metaclass=CombineMeta):\n",
    "    \n",
    "    name: MetricName = MetricName.DUPLICITY.value\n",
    "    type: MetricType = MetricType.COLUMN\n",
    "    schema: T.StructField = T.StructField(name, T.FloatType(), True)\n",
    "    \n",
    "    @classmethod\n",
    "    def calculate(cls):\n",
    "        print(type(cls.spark))\n",
    "\n",
    "    @staticmethod\n",
    "    def evaluate(df: DataFrame, col: Union[str, list]) -> int:\n",
    "        print(f\"{col = }\")\n",
    "        if isinstance(col, str):\n",
    "            col = col = [col]\n",
    "        distinct = df.select(col).dropDuplicates(subset=col).count()\n",
    "        total = df.count()\n",
    "        return total - distinct"
   ]
  },
  {
   "cell_type": "code",
   "execution_count": 166,
   "metadata": {},
   "outputs": [],
   "source": [
    "class ColumnTeste(MetricBase, metaclass=CombineMeta):\n",
    "    \n",
    "    name: MetricName = MetricName.TESTE.value\n",
    "    type: MetricType = MetricType.COLUMN\n",
    "    schema: T.StructField = T.StructField(name, T.FloatType(), True)\n",
    "    \n",
    "    @classmethod\n",
    "    def calculate(cls):\n",
    "        print(type(cls.spark))\n",
    "\n",
    "    @staticmethod\n",
    "    def evaluate(df: DataFrame, *args, **kwargs) -> int:\n",
    "        ..."
   ]
  },
  {
   "cell_type": "code",
   "execution_count": 167,
   "metadata": {},
   "outputs": [],
   "source": [
    "class ColumnMean(MetricBase, metaclass=CombineMeta):\n",
    "    \n",
    "    name: MetricName = MetricName.MEAN.value\n",
    "    type: MetricType = MetricType.COLUMN\n",
    "    schema: T.StructField = T.StructField(name, T.FloatType(), True)\n",
    "    \n",
    "    @classmethod\n",
    "    def calculate(cls):\n",
    "        print(type(cls.spark))\n",
    "\n",
    "    @staticmethod\n",
    "    def evaluate(df: DataFrame, col: str) -> int:\n",
    "        mean = df.select(F.mean(col)).first()[0]\n",
    "        return mean"
   ]
  },
  {
   "cell_type": "code",
   "execution_count": 168,
   "metadata": {},
   "outputs": [
    {
     "data": {
      "text/plain": [
       "['mean', 'missing', 'volumetry', 'duplicity', 'teste']"
      ]
     },
     "execution_count": 168,
     "metadata": {},
     "output_type": "execute_result"
    }
   ],
   "source": [
    "all_metrics = MetricBase.all_metrics()\n",
    "all_metrics"
   ]
  },
  {
   "cell_type": "markdown",
   "metadata": {},
   "source": [
    "## Measures"
   ]
  },
  {
   "cell_type": "code",
   "execution_count": 169,
   "metadata": {},
   "outputs": [],
   "source": [
    "column_metrics = MetricBase.metrics_by_type(MetricType.COLUMN)\n",
    "table_metrics = MetricBase.metrics_by_type(MetricType.TABLE)"
   ]
  },
  {
   "cell_type": "code",
   "execution_count": 170,
   "metadata": {},
   "outputs": [],
   "source": [
    "def process_dict(config: dict, condition: Callable, output: dict | None = None):\n",
    "    if output is None:\n",
    "        output: dict[str, list] = {}\n",
    "    for key, value in config.items():\n",
    "        if condition(key):\n",
    "            if isinstance(value, dict):\n",
    "                process_dict(value, condition, output)\n",
    "            if isinstance(value, list):\n",
    "                for item in value:\n",
    "                    if key not in output:\n",
    "                        output[key] = []\n",
    "                    output[key].append(item)\n",
    "    return output\n",
    "\n",
    "\n",
    "def process_config_metrics(metric_config: dict, type: MetricType) -> dict:\n",
    "    if type == MetricType.COLUMN:\n",
    "        condition = lambda x: x not in {\"table\", \"names\"}\n",
    "    else:\n",
    "        condition = lambda x: x == \"table\"\n",
    "\n",
    "    metrics_output: dict[str, list[str]] = process_dict(metric_config, condition)\n",
    "    return {key: list(set(value)) for key, value in metrics_output.items()}"
   ]
  },
  {
   "cell_type": "code",
   "execution_count": 171,
   "metadata": {},
   "outputs": [],
   "source": [
    "metrics_column_map = process_config_metrics(config['metrics'], MetricType.COLUMN)\n",
    "metrics_table_map = process_config_metrics(config['metrics'], MetricType.TABLE)"
   ]
  },
  {
   "cell_type": "code",
   "execution_count": 172,
   "metadata": {},
   "outputs": [],
   "source": [
    "metrics_map = metrics_column_map | {\"_table\": metrics_table_map[\"table\"]}"
   ]
  },
  {
   "cell_type": "code",
   "execution_count": 173,
   "metadata": {},
   "outputs": [
    {
     "name": "stdout",
     "output_type": "stream",
     "text": [
      "{'_keys': ['duplicity'],\n",
      " '_table': ['volumetry'],\n",
      " 'id': ['missing'],\n",
      " 'petal_length': ['mean'],\n",
      " 'sepal_length': ['mean', 'missing'],\n",
      " 'sepal_width': ['mean'],\n",
      " 'suit': ['missing'],\n",
      " 'target': ['missing'],\n",
      " 'tipo': ['missing']}\n"
     ]
    }
   ],
   "source": [
    "pprint(metrics_map)"
   ]
  },
  {
   "cell_type": "code",
   "execution_count": 174,
   "metadata": {},
   "outputs": [],
   "source": [
    "# reponse_fileds = [\"atributo\", \"classificacao\", \"tipo\", \"metrica_medida\", \"valor_medido\"]\n",
    "# ResponseTemplate = namedtuple(\"ResponseTemplate\", reponse_fileds)\n",
    "# ResponseTemplate.__new__.__defaults__ = (None, ) * len(reponse_fileds)"
   ]
  },
  {
   "cell_type": "code",
   "execution_count": 175,
   "metadata": {},
   "outputs": [],
   "source": [
    "class Measures:\n",
    "\n",
    "    def __init__(self, name: str, classification: str):\n",
    "        self._name = name\n",
    "        self._classification = classification\n",
    "    #     # self._metrics: list[MetricBase] = []\n",
    "    #     for metric in MetricName.values():\n",
    "    #         setattr(self, metric, None)\n",
    "\n",
    "    def set_attribute(self, attr_name, value) -> None:\n",
    "        setattr(self, attr_name, value)\n",
    "        # if hasattr(self, attr_name):\n",
    "        #     setattr(self, attr_name, value)\n",
    "        # else:\n",
    "        #     raise AttributeError(f\"Attribute {attr_name} does not exist.\")\n",
    "\n",
    "    def calculate(self, df: DataFrame) -> list[dict]:\n",
    "        # results = [metric() for metric in self._metrics]\n",
    "        response: list[dict] = []\n",
    "        for value in self.__dict__.values():\n",
    "            if isinstance(value, CombineMeta):\n",
    "                metric_result = value(df, self._name)\n",
    "                result = {\n",
    "                    \"atributo\": self._name,\n",
    "                    \"classificacao\": self._classification,\n",
    "                    \"tipo\": value.type.value,\n",
    "                    \"metrica_medida\": value.name,\n",
    "                    \"valor_medido\": metric_result\n",
    "                }\n",
    "                response.append(result)\n",
    "            # elif isinstance(value, str):\n",
    "            #     if value == \"_key\":\n",
    "            #         result = {\n",
    "            #             \"atributo\": self._name,\n",
    "            #             \"classificacao\": self._classification,\n",
    "            #             \"tipo\": value.type.value,\n",
    "            #             \"metrica_medida\": value.name,\n",
    "            #             \"valor_medido\": metric_result\n",
    "            #         }\n",
    "            #     elif value == \"_table\":\n",
    "            #         result = {\n",
    "            #             \"atributo\": self._name,\n",
    "            #             \"classificacao\": self._classification,\n",
    "            #             \"tipo\": value.type.value,\n",
    "            #             \"metrica_medida\": value.name,\n",
    "            #             \"valor_medido\": metric_result\n",
    "            #         } \n",
    "        return response"
   ]
  },
  {
   "cell_type": "code",
   "execution_count": 201,
   "metadata": {},
   "outputs": [],
   "source": [
    "class HandlerMeasure:\n",
    "\n",
    "    def __init__(self, metrics_map: dict):\n",
    "        self._metrics_map = self.clean_metrics(metrics_map)\n",
    "\n",
    "    @staticmethod\n",
    "    def clean_metrics(metrics_map: dict) -> dict[str, list]:\n",
    "        return {key: [] for key in metrics_map.keys()}\n",
    "\n",
    "    def add(self, column: str, measure: Measures) -> None:\n",
    "        self._metrics_map[column] = measure\n",
    "\n",
    "    def run(self, df: DataFrame):\n",
    "        # response_template = {metric_name: None for metric_name in all_metrics}\n",
    "        response = {}\n",
    "        for column, measure in self._metrics_map.items():\n",
    "            print(f\"--> {column = }\")\n",
    "            response[column] = measure.calculate(df)\n",
    "            print(\"==================================================\")\n",
    "        return self.response_formatter(response)\n",
    "\n",
    "    def response_formatter(self, response: dict) -> list:\n",
    "        resp_formated = []\n",
    "        for value in response.values():\n",
    "            resp_formated.extend(value)\n",
    "        return resp_formated\n"
   ]
  },
  {
   "cell_type": "code",
   "execution_count": 202,
   "metadata": {},
   "outputs": [
    {
     "data": {
      "text/plain": [
       "{'_keys': ['duplicity'],\n",
       " 'id': ['missing'],\n",
       " 'sepal_length': ['mean', 'missing'],\n",
       " 'sepal_width': ['mean'],\n",
       " 'petal_length': ['mean'],\n",
       " 'tipo': ['missing'],\n",
       " 'suit': ['missing'],\n",
       " 'target': ['missing'],\n",
       " '_table': ['volumetry']}"
      ]
     },
     "execution_count": 202,
     "metadata": {},
     "output_type": "execute_result"
    }
   ],
   "source": [
    "metrics_map"
   ]
  },
  {
   "cell_type": "code",
   "execution_count": 203,
   "metadata": {},
   "outputs": [
    {
     "data": {
      "text/plain": [
       "{'_keys': 'chave',\n",
       " 'sepal_length': 'numerica',\n",
       " 'sepal_width': 'numerica',\n",
       " 'petal_length': 'numerica',\n",
       " 'tipo': 'categorical',\n",
       " 'suit': 'categorical',\n",
       " 'target': 'target'}"
      ]
     },
     "execution_count": 203,
     "metadata": {},
     "output_type": "execute_result"
    }
   ],
   "source": [
    "cols_classification"
   ]
  },
  {
   "cell_type": "code",
   "execution_count": 204,
   "metadata": {},
   "outputs": [],
   "source": [
    "handler_measures = HandlerMeasure(metrics_map)\n",
    "\n",
    "for column, metrics in metrics_map.items():\n",
    "    measures = Measures(column, cols_classification.get(column))\n",
    "    for metric_name in metrics:       \n",
    "        Metric = MetricBase.get_metric(metric_name)\n",
    "        measures.set_attribute(metric_name, Metric)\n",
    "    handler_measures.add(column, measures)"
   ]
  },
  {
   "cell_type": "code",
   "execution_count": 205,
   "metadata": {},
   "outputs": [
    {
     "data": {
      "text/plain": [
       "{'_name': '_keys',\n",
       " '_classification': 'chave',\n",
       " 'duplicity': __main__.ColumnDuplicity}"
      ]
     },
     "execution_count": 205,
     "metadata": {},
     "output_type": "execute_result"
    }
   ],
   "source": [
    "handler_measures._metrics_map['_keys'].__dict__"
   ]
  },
  {
   "cell_type": "code",
   "execution_count": 206,
   "metadata": {},
   "outputs": [
    {
     "name": "stdout",
     "output_type": "stream",
     "text": [
      "--> column = '_keys'\n",
      "col = ['id']\n",
      "==================================================\n",
      "--> column = 'id'\n",
      "==================================================\n",
      "--> column = 'sepal_length'\n",
      "==================================================\n",
      "--> column = 'sepal_width'\n",
      "==================================================\n",
      "--> column = 'petal_length'\n",
      "==================================================\n",
      "--> column = 'tipo'\n",
      "==================================================\n",
      "--> column = 'suit'\n",
      "==================================================\n",
      "--> column = 'target'\n",
      "==================================================\n",
      "--> column = '_table'\n",
      "==================================================\n"
     ]
    }
   ],
   "source": [
    "resp = handler_measures.run(df)"
   ]
  },
  {
   "cell_type": "code",
   "execution_count": 209,
   "metadata": {},
   "outputs": [
    {
     "data": {
      "text/plain": [
       "[{'atributo': '_keys',\n",
       "  'classificacao': 'chave',\n",
       "  'tipo': 'COLUMN',\n",
       "  'metrica_medida': 'duplicity',\n",
       "  'valor_medido': 1},\n",
       " {'atributo': 'id',\n",
       "  'classificacao': None,\n",
       "  'tipo': 'COLUMN',\n",
       "  'metrica_medida': 'missing',\n",
       "  'valor_medido': 0}]"
      ]
     },
     "execution_count": 209,
     "metadata": {},
     "output_type": "execute_result"
    }
   ],
   "source": [
    "resp[:2]"
   ]
  },
  {
   "cell_type": "code",
   "execution_count": 210,
   "metadata": {},
   "outputs": [],
   "source": [
    "dfp_final = pd.DataFrame.from_records(resp)"
   ]
  },
  {
   "cell_type": "code",
   "execution_count": 211,
   "metadata": {},
   "outputs": [
    {
     "data": {
      "text/html": [
       "<div>\n",
       "<style scoped>\n",
       "    .dataframe tbody tr th:only-of-type {\n",
       "        vertical-align: middle;\n",
       "    }\n",
       "\n",
       "    .dataframe tbody tr th {\n",
       "        vertical-align: top;\n",
       "    }\n",
       "\n",
       "    .dataframe thead th {\n",
       "        text-align: right;\n",
       "    }\n",
       "</style>\n",
       "<table border=\"1\" class=\"dataframe\">\n",
       "  <thead>\n",
       "    <tr style=\"text-align: right;\">\n",
       "      <th></th>\n",
       "      <th>atributo</th>\n",
       "      <th>classificacao</th>\n",
       "      <th>tipo</th>\n",
       "      <th>metrica_medida</th>\n",
       "      <th>valor_medido</th>\n",
       "    </tr>\n",
       "  </thead>\n",
       "  <tbody>\n",
       "    <tr>\n",
       "      <th>0</th>\n",
       "      <td>_keys</td>\n",
       "      <td>chave</td>\n",
       "      <td>COLUMN</td>\n",
       "      <td>duplicity</td>\n",
       "      <td>1.000000</td>\n",
       "    </tr>\n",
       "    <tr>\n",
       "      <th>1</th>\n",
       "      <td>id</td>\n",
       "      <td>None</td>\n",
       "      <td>COLUMN</td>\n",
       "      <td>missing</td>\n",
       "      <td>0.000000</td>\n",
       "    </tr>\n",
       "    <tr>\n",
       "      <th>2</th>\n",
       "      <td>sepal_length</td>\n",
       "      <td>numerica</td>\n",
       "      <td>COLUMN</td>\n",
       "      <td>mean</td>\n",
       "      <td>5.843333</td>\n",
       "    </tr>\n",
       "    <tr>\n",
       "      <th>3</th>\n",
       "      <td>sepal_length</td>\n",
       "      <td>numerica</td>\n",
       "      <td>COLUMN</td>\n",
       "      <td>missing</td>\n",
       "      <td>0.000000</td>\n",
       "    </tr>\n",
       "    <tr>\n",
       "      <th>4</th>\n",
       "      <td>sepal_width</td>\n",
       "      <td>numerica</td>\n",
       "      <td>COLUMN</td>\n",
       "      <td>mean</td>\n",
       "      <td>3.057333</td>\n",
       "    </tr>\n",
       "    <tr>\n",
       "      <th>5</th>\n",
       "      <td>petal_length</td>\n",
       "      <td>numerica</td>\n",
       "      <td>COLUMN</td>\n",
       "      <td>mean</td>\n",
       "      <td>3.758000</td>\n",
       "    </tr>\n",
       "    <tr>\n",
       "      <th>6</th>\n",
       "      <td>tipo</td>\n",
       "      <td>categorical</td>\n",
       "      <td>COLUMN</td>\n",
       "      <td>missing</td>\n",
       "      <td>0.000000</td>\n",
       "    </tr>\n",
       "    <tr>\n",
       "      <th>7</th>\n",
       "      <td>suit</td>\n",
       "      <td>categorical</td>\n",
       "      <td>COLUMN</td>\n",
       "      <td>missing</td>\n",
       "      <td>2.000000</td>\n",
       "    </tr>\n",
       "    <tr>\n",
       "      <th>8</th>\n",
       "      <td>target</td>\n",
       "      <td>target</td>\n",
       "      <td>COLUMN</td>\n",
       "      <td>missing</td>\n",
       "      <td>0.000000</td>\n",
       "    </tr>\n",
       "    <tr>\n",
       "      <th>9</th>\n",
       "      <td>_table</td>\n",
       "      <td>None</td>\n",
       "      <td>TABLE</td>\n",
       "      <td>volumetry</td>\n",
       "      <td>150.000000</td>\n",
       "    </tr>\n",
       "  </tbody>\n",
       "</table>\n",
       "</div>"
      ],
      "text/plain": [
       "       atributo classificacao    tipo metrica_medida  valor_medido\n",
       "0         _keys         chave  COLUMN      duplicity      1.000000\n",
       "1            id          None  COLUMN        missing      0.000000\n",
       "2  sepal_length      numerica  COLUMN           mean      5.843333\n",
       "3  sepal_length      numerica  COLUMN        missing      0.000000\n",
       "4   sepal_width      numerica  COLUMN           mean      3.057333\n",
       "5  petal_length      numerica  COLUMN           mean      3.758000\n",
       "6          tipo   categorical  COLUMN        missing      0.000000\n",
       "7          suit   categorical  COLUMN        missing      2.000000\n",
       "8        target        target  COLUMN        missing      0.000000\n",
       "9        _table          None   TABLE      volumetry    150.000000"
      ]
     },
     "execution_count": 211,
     "metadata": {},
     "output_type": "execute_result"
    }
   ],
   "source": [
    "dfp_final.head(100)"
   ]
  },
  {
   "cell_type": "code",
   "execution_count": null,
   "metadata": {},
   "outputs": [],
   "source": []
  },
  {
   "cell_type": "code",
   "execution_count": null,
   "metadata": {},
   "outputs": [],
   "source": []
  },
  {
   "cell_type": "code",
   "execution_count": null,
   "metadata": {},
   "outputs": [],
   "source": []
  }
 ],
 "metadata": {
  "kernelspec": {
   "display_name": "itau",
   "language": "python",
   "name": "python3"
  },
  "language_info": {
   "codemirror_mode": {
    "name": "ipython",
    "version": 3
   },
   "file_extension": ".py",
   "mimetype": "text/x-python",
   "name": "python",
   "nbconvert_exporter": "python",
   "pygments_lexer": "ipython3",
   "version": "3.10.0"
  }
 },
 "nbformat": 4,
 "nbformat_minor": 2
}
