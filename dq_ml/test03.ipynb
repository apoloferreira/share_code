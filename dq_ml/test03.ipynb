{
 "cells": [
  {
   "cell_type": "code",
   "execution_count": 148,
   "metadata": {},
   "outputs": [],
   "source": [
    "import yaml\n",
    "import json\n",
    "import pandas as pd\n",
    "import numpy as np\n",
    "from pprint import pprint\n",
    "from typing import Any, Union, Callable\n",
    "from enum import Enum, auto\n",
    "from collections import namedtuple, defaultdict\n",
    "from random import choice\n",
    "from abc import ABC, ABCMeta, abstractmethod\n",
    "from sklearn import datasets\n",
    "from pydantic import (\n",
    "    BaseModel,\n",
    "    ValidationError,\n",
    "    field_validator,\n",
    "    field_serializer,\n",
    "    model_validator,\n",
    "    computed_field,\n",
    "    ValidatorFunctionWrapHandler,\n",
    "    ValidationInfo,\n",
    "    Field,\n",
    "    ConfigDict,\n",
    ")"
   ]
  },
  {
   "cell_type": "code",
   "execution_count": 3,
   "metadata": {},
   "outputs": [],
   "source": [
    "from pyspark.context import SparkContext, SparkConf\n",
    "from pyspark.sql import SparkSession, SQLContext\n",
    "from pyspark.sql import functions as F\n",
    "from pyspark.sql import types as T\n",
    "from pyspark.sql.window import Window\n",
    "from pyspark.sql import udf\n",
    "from pyspark.sql import DataFrame\n",
    "from pyspark.sql import Row, Column\n",
    "from pyspark.sql.utils import AnalysisException\n",
    "from pyspark.pandas.typedef import as_spark_type"
   ]
  },
  {
   "cell_type": "code",
   "execution_count": 4,
   "metadata": {},
   "outputs": [],
   "source": [
    "pd.DataFrame.iteritems = pd.DataFrame.items"
   ]
  },
  {
   "cell_type": "code",
   "execution_count": 5,
   "metadata": {},
   "outputs": [
    {
     "name": "stderr",
     "output_type": "stream",
     "text": [
      "Warning: Ignoring non-Spark config property: park.sql.execution.arrow.pyspark.fallback.enabled\n"
     ]
    },
    {
     "name": "stdout",
     "output_type": "stream",
     "text": [
      "24/08/17 11:24:55 WARN Utils: Your hostname, dell resolves to a loopback address: 127.0.1.1; using 192.168.15.6 instead (on interface wlp0s20f3)\n",
      "24/08/17 11:24:55 WARN Utils: Set SPARK_LOCAL_IP if you need to bind to another address\n"
     ]
    },
    {
     "name": "stderr",
     "output_type": "stream",
     "text": [
      "Setting default log level to \"WARN\".\n",
      "To adjust logging level use sc.setLogLevel(newLevel). For SparkR, use setLogLevel(newLevel).\n"
     ]
    },
    {
     "name": "stdout",
     "output_type": "stream",
     "text": [
      "24/08/17 11:24:55 WARN NativeCodeLoader: Unable to load native-hadoop library for your platform... using builtin-java classes where applicable\n"
     ]
    }
   ],
   "source": [
    "spark = (\n",
    "    SparkSession.builder.appName(\"Testes\")\n",
    "    .config('spark.sql.adaptive.enabled', 'true')\n",
    "    .config('spark.sql.adaptive.optimizerEnabled', 'true')\n",
    "    .config('spark.sql.execution.arrow.enabled', 'true')\n",
    "    .config('spark.sql.execution.arrow.pyspark.enabled', 'true')\n",
    "    .config(\"spark.sql.parquet.datetimeRebaseModeInRead\", \"CORRECTED\")\n",
    "    .config(\"spark.sql.parquet.datetimeRebaseModeInWrite\", \"CORRECTED\")\n",
    "    .config(\"spark.sql.legacy.timeParserPolicy\", \"CORRECTED\")\n",
    "    .config(\"spark.sql.repl.eagerEval.enabled\", \"true\")\n",
    "    .config(\"spark.sql.debug.maxToStringFields\", \"100000\")\n",
    "    .config(\"park.sql.execution.arrow.pyspark.fallback.enabled\", \"false\")\n",
    "    .enableHiveSupport()\n",
    "    .getOrCreate()\n",
    ")\n",
    "\n",
    "spark.sparkContext.setLogLevel(\"ERROR\")"
   ]
  },
  {
   "cell_type": "markdown",
   "metadata": {},
   "source": [
    "## Load data"
   ]
  },
  {
   "cell_type": "code",
   "execution_count": 6,
   "metadata": {},
   "outputs": [],
   "source": [
    "iris_data = datasets.load_iris(as_frame=True) # classification\n",
    "df_iris = iris_data.frame\n",
    "\n",
    "# bcancer_data = datasets.load_breast_cancer(as_frame=True) # classification\n",
    "# df_bcancer = bcancer_data.frame\n",
    "\n",
    "# diabetes_data = datasets.load_diabetes(as_frame=True) # regression\n",
    "# df_diabetes = diabetes_data.frame\n",
    "\n",
    "# wine_data = datasets.load_wine(as_frame=True) # classification\n",
    "# df_wine = wine_data.frame\n"
   ]
  },
  {
   "cell_type": "code",
   "execution_count": 7,
   "metadata": {},
   "outputs": [],
   "source": [
    "dfp = df_iris.rename({\n",
    "    \"sepal length (cm)\": \"sepal_length\",\n",
    "    \"sepal width (cm)\": \"sepal_width\",\n",
    "    \"petal length (cm)\": \"petal_length\",\n",
    "    \"petal width (cm)\": \"petal_width\",\n",
    "}, axis=1)"
   ]
  },
  {
   "cell_type": "code",
   "execution_count": 8,
   "metadata": {},
   "outputs": [
    {
     "data": {
      "text/html": [
       "<div>\n",
       "<style scoped>\n",
       "    .dataframe tbody tr th:only-of-type {\n",
       "        vertical-align: middle;\n",
       "    }\n",
       "\n",
       "    .dataframe tbody tr th {\n",
       "        vertical-align: top;\n",
       "    }\n",
       "\n",
       "    .dataframe thead th {\n",
       "        text-align: right;\n",
       "    }\n",
       "</style>\n",
       "<table border=\"1\" class=\"dataframe\">\n",
       "  <thead>\n",
       "    <tr style=\"text-align: right;\">\n",
       "      <th></th>\n",
       "      <th>sepal_length</th>\n",
       "      <th>sepal_width</th>\n",
       "      <th>petal_length</th>\n",
       "      <th>petal_width</th>\n",
       "      <th>target</th>\n",
       "    </tr>\n",
       "  </thead>\n",
       "  <tbody>\n",
       "    <tr>\n",
       "      <th>0</th>\n",
       "      <td>5.1</td>\n",
       "      <td>3.5</td>\n",
       "      <td>1.4</td>\n",
       "      <td>0.2</td>\n",
       "      <td>0</td>\n",
       "    </tr>\n",
       "    <tr>\n",
       "      <th>1</th>\n",
       "      <td>4.9</td>\n",
       "      <td>3.0</td>\n",
       "      <td>1.4</td>\n",
       "      <td>0.2</td>\n",
       "      <td>0</td>\n",
       "    </tr>\n",
       "    <tr>\n",
       "      <th>2</th>\n",
       "      <td>4.7</td>\n",
       "      <td>3.2</td>\n",
       "      <td>1.3</td>\n",
       "      <td>0.2</td>\n",
       "      <td>0</td>\n",
       "    </tr>\n",
       "    <tr>\n",
       "      <th>3</th>\n",
       "      <td>4.6</td>\n",
       "      <td>3.1</td>\n",
       "      <td>1.5</td>\n",
       "      <td>0.2</td>\n",
       "      <td>0</td>\n",
       "    </tr>\n",
       "    <tr>\n",
       "      <th>4</th>\n",
       "      <td>5.0</td>\n",
       "      <td>3.6</td>\n",
       "      <td>1.4</td>\n",
       "      <td>0.2</td>\n",
       "      <td>0</td>\n",
       "    </tr>\n",
       "  </tbody>\n",
       "</table>\n",
       "</div>"
      ],
      "text/plain": [
       "   sepal_length  sepal_width  petal_length  petal_width  target\n",
       "0           5.1          3.5           1.4          0.2       0\n",
       "1           4.9          3.0           1.4          0.2       0\n",
       "2           4.7          3.2           1.3          0.2       0\n",
       "3           4.6          3.1           1.5          0.2       0\n",
       "4           5.0          3.6           1.4          0.2       0"
      ]
     },
     "execution_count": 8,
     "metadata": {},
     "output_type": "execute_result"
    }
   ],
   "source": [
    "dfp.head()"
   ]
  },
  {
   "cell_type": "code",
   "execution_count": 9,
   "metadata": {},
   "outputs": [],
   "source": [
    "# https://stackoverflow.com/questions/39109045/numpy-where-with-multiple-conditions\n",
    "\n",
    "def energy_class(x: float):\n",
    "    if x > 6:\n",
    "        return 'high'\n",
    "    elif x > 5:\n",
    "        return 'medium'\n",
    "    else:\n",
    "        return 'low'\n",
    "\n",
    "\n",
    "dfp['tipo'] = pd.cut(dfp['sepal_length'], bins=[0, 5, 6, np.inf], labels=['low', 'medium', 'high'])\n",
    "# dfp['tipo'] = np.where(dfp['sepal_length'] > 7, 'high', np.where(dfp['sepal_length'] > 5, 'medium', 'low'))\n",
    "# dfp['tipo'] = dfp['sepal_length'].apply(energy_class)\n",
    "# dfp['tipo'] = np.select([dfp['sepal_length'] > 7, dfp['sepal_length'] > 5], ['high', 'medium'], default='low')\n",
    "# dfp['tipo'] = np.vectorize(lambda x: 'high' if x > 5 else ('medium' if x > 3 else 'low'))(dfp['sepal_length'])\n",
    "# dfp['tipo'] = dfp['sepal_length'].apply(lambda x: 'high' if x > 6 else ('medium' if x > 5 else 'low'))"
   ]
  },
  {
   "cell_type": "code",
   "execution_count": 10,
   "metadata": {},
   "outputs": [
    {
     "data": {
      "text/plain": [
       "tipo\n",
       "high      61\n",
       "medium    57\n",
       "low       32\n",
       "Name: count, dtype: int64"
      ]
     },
     "execution_count": 10,
     "metadata": {},
     "output_type": "execute_result"
    }
   ],
   "source": [
    "dfp['tipo'].value_counts()"
   ]
  },
  {
   "cell_type": "code",
   "execution_count": 11,
   "metadata": {},
   "outputs": [],
   "source": [
    "def suit():\n",
    "    return choice(('Spade', 'Heart', 'Diamond', 'Club'))\n",
    "\n",
    "dfp['suit'] = [suit() for _ in range(len(dfp))]"
   ]
  },
  {
   "cell_type": "code",
   "execution_count": 13,
   "metadata": {},
   "outputs": [],
   "source": [
    "dfp['id'] = [i for i, _ in enumerate(range(len(dfp)), start=1)]"
   ]
  },
  {
   "cell_type": "code",
   "execution_count": 15,
   "metadata": {},
   "outputs": [],
   "source": [
    "# Missing\n",
    "dfp.iloc[3, 6] = None\n",
    "dfp.iloc[9, 6] = None\n",
    "\n",
    "# Duplicates\n",
    "dfp.iloc[1, 7] = 1"
   ]
  },
  {
   "cell_type": "code",
   "execution_count": 17,
   "metadata": {},
   "outputs": [
    {
     "data": {
      "text/html": [
       "<div>\n",
       "<style scoped>\n",
       "    .dataframe tbody tr th:only-of-type {\n",
       "        vertical-align: middle;\n",
       "    }\n",
       "\n",
       "    .dataframe tbody tr th {\n",
       "        vertical-align: top;\n",
       "    }\n",
       "\n",
       "    .dataframe thead th {\n",
       "        text-align: right;\n",
       "    }\n",
       "</style>\n",
       "<table border=\"1\" class=\"dataframe\">\n",
       "  <thead>\n",
       "    <tr style=\"text-align: right;\">\n",
       "      <th></th>\n",
       "      <th>sepal_length</th>\n",
       "      <th>sepal_width</th>\n",
       "      <th>petal_length</th>\n",
       "      <th>petal_width</th>\n",
       "      <th>target</th>\n",
       "      <th>tipo</th>\n",
       "      <th>suit</th>\n",
       "      <th>id</th>\n",
       "    </tr>\n",
       "  </thead>\n",
       "  <tbody>\n",
       "    <tr>\n",
       "      <th>0</th>\n",
       "      <td>5.1</td>\n",
       "      <td>3.5</td>\n",
       "      <td>1.4</td>\n",
       "      <td>0.2</td>\n",
       "      <td>0</td>\n",
       "      <td>medium</td>\n",
       "      <td>Heart</td>\n",
       "      <td>1</td>\n",
       "    </tr>\n",
       "    <tr>\n",
       "      <th>1</th>\n",
       "      <td>4.9</td>\n",
       "      <td>3.0</td>\n",
       "      <td>1.4</td>\n",
       "      <td>0.2</td>\n",
       "      <td>0</td>\n",
       "      <td>low</td>\n",
       "      <td>Diamond</td>\n",
       "      <td>1</td>\n",
       "    </tr>\n",
       "    <tr>\n",
       "      <th>2</th>\n",
       "      <td>4.7</td>\n",
       "      <td>3.2</td>\n",
       "      <td>1.3</td>\n",
       "      <td>0.2</td>\n",
       "      <td>0</td>\n",
       "      <td>low</td>\n",
       "      <td>Spade</td>\n",
       "      <td>3</td>\n",
       "    </tr>\n",
       "    <tr>\n",
       "      <th>3</th>\n",
       "      <td>4.6</td>\n",
       "      <td>3.1</td>\n",
       "      <td>1.5</td>\n",
       "      <td>0.2</td>\n",
       "      <td>0</td>\n",
       "      <td>low</td>\n",
       "      <td>None</td>\n",
       "      <td>4</td>\n",
       "    </tr>\n",
       "    <tr>\n",
       "      <th>4</th>\n",
       "      <td>5.0</td>\n",
       "      <td>3.6</td>\n",
       "      <td>1.4</td>\n",
       "      <td>0.2</td>\n",
       "      <td>0</td>\n",
       "      <td>low</td>\n",
       "      <td>Heart</td>\n",
       "      <td>5</td>\n",
       "    </tr>\n",
       "    <tr>\n",
       "      <th>5</th>\n",
       "      <td>5.4</td>\n",
       "      <td>3.9</td>\n",
       "      <td>1.7</td>\n",
       "      <td>0.4</td>\n",
       "      <td>0</td>\n",
       "      <td>medium</td>\n",
       "      <td>Spade</td>\n",
       "      <td>6</td>\n",
       "    </tr>\n",
       "    <tr>\n",
       "      <th>6</th>\n",
       "      <td>4.6</td>\n",
       "      <td>3.4</td>\n",
       "      <td>1.4</td>\n",
       "      <td>0.3</td>\n",
       "      <td>0</td>\n",
       "      <td>low</td>\n",
       "      <td>Diamond</td>\n",
       "      <td>7</td>\n",
       "    </tr>\n",
       "    <tr>\n",
       "      <th>7</th>\n",
       "      <td>5.0</td>\n",
       "      <td>3.4</td>\n",
       "      <td>1.5</td>\n",
       "      <td>0.2</td>\n",
       "      <td>0</td>\n",
       "      <td>low</td>\n",
       "      <td>Heart</td>\n",
       "      <td>8</td>\n",
       "    </tr>\n",
       "    <tr>\n",
       "      <th>8</th>\n",
       "      <td>4.4</td>\n",
       "      <td>2.9</td>\n",
       "      <td>1.4</td>\n",
       "      <td>0.2</td>\n",
       "      <td>0</td>\n",
       "      <td>low</td>\n",
       "      <td>Heart</td>\n",
       "      <td>9</td>\n",
       "    </tr>\n",
       "    <tr>\n",
       "      <th>9</th>\n",
       "      <td>4.9</td>\n",
       "      <td>3.1</td>\n",
       "      <td>1.5</td>\n",
       "      <td>0.1</td>\n",
       "      <td>0</td>\n",
       "      <td>low</td>\n",
       "      <td>None</td>\n",
       "      <td>10</td>\n",
       "    </tr>\n",
       "  </tbody>\n",
       "</table>\n",
       "</div>"
      ],
      "text/plain": [
       "   sepal_length  sepal_width  petal_length  petal_width  target    tipo  \\\n",
       "0           5.1          3.5           1.4          0.2       0  medium   \n",
       "1           4.9          3.0           1.4          0.2       0     low   \n",
       "2           4.7          3.2           1.3          0.2       0     low   \n",
       "3           4.6          3.1           1.5          0.2       0     low   \n",
       "4           5.0          3.6           1.4          0.2       0     low   \n",
       "5           5.4          3.9           1.7          0.4       0  medium   \n",
       "6           4.6          3.4           1.4          0.3       0     low   \n",
       "7           5.0          3.4           1.5          0.2       0     low   \n",
       "8           4.4          2.9           1.4          0.2       0     low   \n",
       "9           4.9          3.1           1.5          0.1       0     low   \n",
       "\n",
       "      suit  id  \n",
       "0    Heart   1  \n",
       "1  Diamond   1  \n",
       "2    Spade   3  \n",
       "3     None   4  \n",
       "4    Heart   5  \n",
       "5    Spade   6  \n",
       "6  Diamond   7  \n",
       "7    Heart   8  \n",
       "8    Heart   9  \n",
       "9     None  10  "
      ]
     },
     "execution_count": 17,
     "metadata": {},
     "output_type": "execute_result"
    }
   ],
   "source": [
    "dfp.head(10)"
   ]
  },
  {
   "cell_type": "code",
   "execution_count": 18,
   "metadata": {},
   "outputs": [],
   "source": [
    "df = spark.createDataFrame(dfp)"
   ]
  },
  {
   "cell_type": "markdown",
   "metadata": {},
   "source": [
    "## Dev"
   ]
  },
  {
   "cell_type": "code",
   "execution_count": 198,
   "metadata": {},
   "outputs": [],
   "source": [
    "class ExtendEnum(Enum):\n",
    "\n",
    "    def _generate_next_value_(name: str, start, count, last_values):\n",
    "        return name.lower()\n",
    "    \n",
    "    @classmethod\n",
    "    def __getitem__(cls, name: str):\n",
    "        return cls(name.lower())\n",
    "    \n",
    "    @classmethod\n",
    "    def to_dict(cls):\n",
    "        return {e.name: e.value for e in cls}\n",
    "    \n",
    "    @classmethod\n",
    "    def keys(cls):\n",
    "        return cls._member_names_\n",
    "    \n",
    "    @classmethod\n",
    "    def values(cls):\n",
    "        return list(map(lambda c: c.value, cls))\n",
    "    \n",
    "    def __str__(self):\n",
    "        return str(self.value)\n",
    "    \n",
    "    def __repr__(self) -> str:\n",
    "        return str(self.value)"
   ]
  },
  {
   "cell_type": "code",
   "execution_count": 199,
   "metadata": {},
   "outputs": [],
   "source": [
    "class MetricType(ExtendEnum):\n",
    "    COLUMN = \"COLUMN\"\n",
    "    TABLE = \"TABLE\""
   ]
  },
  {
   "cell_type": "code",
   "execution_count": 200,
   "metadata": {},
   "outputs": [],
   "source": [
    "class MetricName(ExtendEnum):\n",
    "    MISSING = auto()\n",
    "    VOLUMETRY = auto()\n",
    "    DUPLICITY = auto()\n",
    "    MEAN = auto()\n",
    "    TESTE = auto()"
   ]
  },
  {
   "cell_type": "code",
   "execution_count": 126,
   "metadata": {},
   "outputs": [],
   "source": [
    "class MetricMetaClass(type):\n",
    "\n",
    "    def __new__(cls, *args, **kwargs):\n",
    "        return super().__new__(cls, *args, **kwargs)\n",
    "    \n",
    "    def __call__(cls, *args, **kwargs):\n",
    "        return cls.evaluate(*args, **kwargs)\n",
    "    \n",
    "    @abstractmethod\n",
    "    def evaluate(self):\n",
    "        raise NotImplementedError"
   ]
  },
  {
   "cell_type": "code",
   "execution_count": 127,
   "metadata": {},
   "outputs": [],
   "source": [
    "class CombineMeta(ABCMeta, MetricMetaClass):\n",
    "    pass"
   ]
  },
  {
   "cell_type": "code",
   "execution_count": 128,
   "metadata": {},
   "outputs": [],
   "source": [
    "class MetricBase(ABC):\n",
    "\n",
    "    spark_session = SparkSession.getActiveSession()\n",
    "\n",
    "    @classmethod\n",
    "    def all_metrics(cls) -> list:\n",
    "        return list(set([subclass.name for subclass in cls.__subclasses__()]))\n",
    "\n",
    "    @classmethod\n",
    "    def metrics_by_type(cls, metric_type: MetricType) -> list:\n",
    "        metrics = []\n",
    "        for subclass in cls.__subclasses__():\n",
    "            if metric_type == subclass.type:\n",
    "                metrics.append(subclass.name)\n",
    "        return metrics\n",
    "\n",
    "    @classmethod\n",
    "    def get_metric(cls, metric_name: str) -> 'MetricBase':\n",
    "        for subclass in cls.__subclasses__():\n",
    "            if metric_name == subclass.name:\n",
    "                return subclass\n",
    "\n",
    "    @property\n",
    "    @abstractmethod\n",
    "    def name(self) -> str:\n",
    "        raise NotImplementedError\n",
    "\n",
    "    @staticmethod\n",
    "    @abstractmethod\n",
    "    def calculate(self, df: DataFrame, col: str | list) -> Any:\n",
    "        \"Metodo executa metrica\"\n",
    "    \n",
    "    @staticmethod\n",
    "    @abstractmethod\n",
    "    def evaluate(self) -> Any:\n",
    "        \"Metodo executa metrica\"\n"
   ]
  },
  {
   "cell_type": "code",
   "execution_count": 129,
   "metadata": {},
   "outputs": [],
   "source": [
    "class ColumnMissing(MetricBase, metaclass=CombineMeta):\n",
    "    \n",
    "    name: MetricName = MetricName.MISSING.value\n",
    "    type: MetricType = MetricType.COLUMN\n",
    "    schema: T.StructField = T.StructField(name, T.FloatType(), True)\n",
    "    \n",
    "    @classmethod\n",
    "    def calculate(cls):\n",
    "        print(type(cls.spark))\n",
    "\n",
    "    @staticmethod\n",
    "    def evaluate(df: DataFrame, col: str) -> int:\n",
    "        missing = df.select(col).where(F.col(col).isNull()).count()\n",
    "        return missing "
   ]
  },
  {
   "cell_type": "code",
   "execution_count": 130,
   "metadata": {},
   "outputs": [],
   "source": [
    "class TableVolumetry(MetricBase, metaclass=CombineMeta):\n",
    "    \n",
    "    name: MetricName = MetricName.VOLUMETRY.value\n",
    "    type: MetricType = MetricType.TABLE\n",
    "    schema: T.StructField = T.StructField(name, T.FloatType(), True)\n",
    "    \n",
    "    @classmethod\n",
    "    def calculate(cls):\n",
    "        print(type(cls.spark))\n",
    "\n",
    "    @staticmethod\n",
    "    def evaluate(df: DataFrame, *args, **kwargs) -> int:\n",
    "        count = df.count()\n",
    "        return count "
   ]
  },
  {
   "cell_type": "code",
   "execution_count": 131,
   "metadata": {},
   "outputs": [],
   "source": [
    "class ColumnDuplicity(MetricBase, metaclass=CombineMeta):\n",
    "    \n",
    "    name: MetricName = MetricName.DUPLICITY.value\n",
    "    type: MetricType = MetricType.COLUMN\n",
    "    schema: T.StructField = T.StructField(name, T.FloatType(), True)\n",
    "    \n",
    "    @classmethod\n",
    "    def calculate(cls):\n",
    "        print(type(cls.spark))\n",
    "\n",
    "    @staticmethod\n",
    "    def evaluate(df: DataFrame, col: Union[str, list]) -> int:\n",
    "        if isinstance(col, str):\n",
    "            col = col = [col]\n",
    "        distinct = df.select(col).dropDuplicates(subset=col).count()\n",
    "        total = df.count()\n",
    "        return total - distinct"
   ]
  },
  {
   "cell_type": "code",
   "execution_count": 132,
   "metadata": {},
   "outputs": [],
   "source": [
    "class ColumnTeste(MetricBase, metaclass=CombineMeta):\n",
    "    \n",
    "    name: MetricName = MetricName.TESTE.value\n",
    "    type: MetricType = MetricType.COLUMN\n",
    "    schema: T.StructField = T.StructField(name, T.FloatType(), True)\n",
    "    \n",
    "    @classmethod\n",
    "    def calculate(cls):\n",
    "        print(type(cls.spark))\n",
    "\n",
    "    @staticmethod\n",
    "    def evaluate(df: DataFrame, *args, **kwargs) -> int:\n",
    "        ..."
   ]
  },
  {
   "cell_type": "code",
   "execution_count": 133,
   "metadata": {},
   "outputs": [],
   "source": [
    "class ColumnMean(MetricBase, metaclass=CombineMeta):\n",
    "    \n",
    "    name: MetricName = MetricName.MEAN.value\n",
    "    type: MetricType = MetricType.COLUMN\n",
    "    schema: T.StructField = T.StructField(name, T.FloatType(), True)\n",
    "    \n",
    "    @classmethod\n",
    "    def calculate(cls):\n",
    "        print(type(cls.spark))\n",
    "\n",
    "    @staticmethod\n",
    "    def evaluate(df: DataFrame, col: str) -> int:\n",
    "        mean = df.select(F.mean(col)).first()[0]\n",
    "        return mean"
   ]
  },
  {
   "cell_type": "code",
   "execution_count": 134,
   "metadata": {},
   "outputs": [
    {
     "data": {
      "text/plain": [
       "['missing', 'volumetry', 'mean', 'duplicity', 'teste']"
      ]
     },
     "execution_count": 134,
     "metadata": {},
     "output_type": "execute_result"
    }
   ],
   "source": [
    "all_metrics = MetricBase.all_metrics()\n",
    "all_metrics"
   ]
  },
  {
   "cell_type": "code",
   "execution_count": 135,
   "metadata": {},
   "outputs": [],
   "source": [
    "# metrics_schema = {\n",
    "#     \"COLUNA\": T.StructField(\"COLUNA\", T.FloatType(), True),\n",
    "#     MetricName.MEAN.value: T.StructField(MetricName.MEAN.value, T.FloatType(), True),\n",
    "#     MetricName.DUPLICITY.value: T.StructField(MetricName.DUPLICITY.value, T.IntegerType(), True),\n",
    "# }"
   ]
  },
  {
   "cell_type": "code",
   "execution_count": 92,
   "metadata": {},
   "outputs": [
    {
     "name": "stdout",
     "output_type": "stream",
     "text": [
      "+------+----+---------+\n",
      "|COLUNA|mean|duplicity|\n",
      "+------+----+---------+\n",
      "+------+----+---------+\n",
      "\n"
     ]
    }
   ],
   "source": [
    "# spark.createDataFrame([], schema=T.StructType(list(metrics_schema.values()))).createOrReplaceTempView(\"tb_metrics\")\n",
    "# spark.table(\"tb_metrics\").show()"
   ]
  },
  {
   "cell_type": "markdown",
   "metadata": {},
   "source": [
    "## Config"
   ]
  },
  {
   "cell_type": "code",
   "execution_count": 260,
   "metadata": {},
   "outputs": [],
   "source": [
    "file_path = \"mrm.yaml\"\n",
    "\n",
    "with open(file_path) as f:\n",
    "    config = yaml.safe_load(f)"
   ]
  },
  {
   "cell_type": "code",
   "execution_count": 261,
   "metadata": {},
   "outputs": [
    {
     "data": {
      "text/plain": [
       "{'reference': {'database': 'workspace_db',\n",
       "  'table': 'tb_spec_dataset',\n",
       "  'train_data': {'start': 202001, 'end': 202212}},\n",
       " 'metrics': {'table': ['volumetry'],\n",
       "  'keys': {'names': ['id'],\n",
       "   '_keys': ['duplicity'],\n",
       "   'individual': {'id': ['missing']}},\n",
       "  'features': {'numerigcal': {'sepal_length': ['mean', 'missing'],\n",
       "    'sepal_width': ['mean'],\n",
       "    'petal_length': ['mean']},\n",
       "   'categorical': {'tipo': ['missing'], 'suit': ['missing']}},\n",
       "  'target': {'target': ['missing']}}}"
      ]
     },
     "execution_count": 261,
     "metadata": {},
     "output_type": "execute_result"
    }
   ],
   "source": [
    "config"
   ]
  },
  {
   "cell_type": "markdown",
   "metadata": {},
   "source": [
    "## Measures"
   ]
  },
  {
   "cell_type": "code",
   "execution_count": 247,
   "metadata": {},
   "outputs": [],
   "source": [
    "column_metrics = MetricBase.metrics_by_type(MetricType.COLUMN)\n",
    "table_metrics = MetricBase.metrics_by_type(MetricType.TABLE)"
   ]
  },
  {
   "cell_type": "code",
   "execution_count": 268,
   "metadata": {},
   "outputs": [],
   "source": [
    "def process_dict(config: dict, condition: Callable, output: dict | None = None):\n",
    "    if output is None:\n",
    "        output: dict[str, list] = {}\n",
    "    for key, value in config.items():\n",
    "        if condition(key):\n",
    "            if isinstance(value, dict):\n",
    "                process_dict(value, condition, output)\n",
    "            if isinstance(value, list):\n",
    "                for item in value:\n",
    "                    if key not in output:\n",
    "                        output[key] = []\n",
    "                    output[key].append(item)\n",
    "    return output\n",
    "\n",
    "\n",
    "def process_config_metrics(metric_config: dict, type: MetricType) -> dict:\n",
    "    if type == MetricType.COLUMN:\n",
    "        condition = lambda x: x not in {\"table\", \"names\"}\n",
    "    else:\n",
    "        condition = lambda x: x == \"table\"\n",
    "\n",
    "    metrics_output: dict[str, list[str]] = process_dict(metric_config, condition)\n",
    "    return {key: list(set(value)) for key, value in metrics_output.items()}"
   ]
  },
  {
   "cell_type": "code",
   "execution_count": 270,
   "metadata": {},
   "outputs": [
    {
     "data": {
      "text/plain": [
       "{'table': ['volumetry']}"
      ]
     },
     "execution_count": 270,
     "metadata": {},
     "output_type": "execute_result"
    }
   ],
   "source": [
    "process_config_metrics(config['metrics'], MetricType.TABLE)"
   ]
  },
  {
   "cell_type": "code",
   "execution_count": 139,
   "metadata": {},
   "outputs": [],
   "source": [
    "column_map = {item: [] for item in column_metrics}\n",
    "column_map = defaultdict(list, column_map)\n",
    "\n",
    "table_map = {item: [] for item in table_metrics}\n",
    "table_map = defaultdict(list, table_map)"
   ]
  },
  {
   "cell_type": "code",
   "execution_count": 217,
   "metadata": {},
   "outputs": [
    {
     "data": {
      "text/plain": [
       "['missing', 'duplicity', 'teste', 'mean']"
      ]
     },
     "execution_count": 217,
     "metadata": {},
     "output_type": "execute_result"
    }
   ],
   "source": [
    "column_metrics"
   ]
  },
  {
   "cell_type": "code",
   "execution_count": 218,
   "metadata": {},
   "outputs": [
    {
     "data": {
      "text/plain": [
       "defaultdict(list,\n",
       "            {'missing': ['id', 'tipo', 'suit', 'target'],\n",
       "             'duplicity': ['_pk'],\n",
       "             'teste': [],\n",
       "             'mean': ['sepal_length', 'sepal_width', 'petal_length']})"
      ]
     },
     "execution_count": 218,
     "metadata": {},
     "output_type": "execute_result"
    }
   ],
   "source": [
    "column_map"
   ]
  },
  {
   "cell_type": "code",
   "execution_count": 140,
   "metadata": {},
   "outputs": [],
   "source": [
    "# def process_dict(dict_value: dict, output: dict, condition: Callable):\n",
    "#     for key, value in dict_value.items():\n",
    "#         if condition(key):\n",
    "#             if isinstance(value, dict):\n",
    "#                 process_dict(value, output, condition)\n",
    "#             if isinstance(value, list):\n",
    "#                 for item in value:\n",
    "#                     if item not in output:\n",
    "#                         output[item] = []\n",
    "#                     output[item].append(key)\n",
    "#     return output\n",
    "\n",
    "\n",
    "# def process_config_metrics(metric_config: dict, metric_map: dict, type: MetricType) -> dict:\n",
    "#     if type == MetricType.COLUMN:\n",
    "#         condition = lambda x: x not in {\"table\", \"names\"}\n",
    "#     else:\n",
    "#         condition = lambda x: x == \"table\"\n",
    "\n",
    "#     metrics_output: dict[str, list[str]] = process_dict(metric_config, metric_map, condition)\n",
    "\n",
    "#     for key, value in metrics_output.items():\n",
    "#         if \"together\" in value:\n",
    "#             new_value = value.copy()\n",
    "#             new_value.remove(\"together\")\n",
    "#             new_value.append(\"_pk\")\n",
    "#             metrics_output[key] = new_value\n",
    "    \n",
    "#     return {key: list(set(value)) for key, value in metrics_output.items()}"
   ]
  },
  {
   "cell_type": "code",
   "execution_count": 141,
   "metadata": {},
   "outputs": [
    {
     "data": {
      "text/plain": [
       "{'missing': ['suit', 'id', 'tipo', 'target'],\n",
       " 'duplicity': ['_pk'],\n",
       " 'teste': [],\n",
       " 'mean': ['sepal_width', 'petal_length', 'sepal_length']}"
      ]
     },
     "execution_count": 141,
     "metadata": {},
     "output_type": "execute_result"
    }
   ],
   "source": [
    "metrics_column_map = process_config_metrics(config['metrics'], column_map, MetricType.COLUMN)\n",
    "metrics_column_map"
   ]
  },
  {
   "cell_type": "code",
   "execution_count": 142,
   "metadata": {},
   "outputs": [
    {
     "data": {
      "text/plain": [
       "{'volumetry': ['table']}"
      ]
     },
     "execution_count": 142,
     "metadata": {},
     "output_type": "execute_result"
    }
   ],
   "source": [
    "metrics_table_map = process_config_metrics(config['metrics'], table_map, MetricType.TABLE)\n",
    "metrics_table_map"
   ]
  },
  {
   "cell_type": "code",
   "execution_count": 143,
   "metadata": {},
   "outputs": [],
   "source": [
    "metrics_map = {\n",
    "    \"table\": metrics_table_map,\n",
    "    \"column\": metrics_column_map\n",
    "}"
   ]
  },
  {
   "cell_type": "code",
   "execution_count": 146,
   "metadata": {},
   "outputs": [
    {
     "name": "stdout",
     "output_type": "stream",
     "text": [
      "metric_name = 'missing'\n",
      "  col = 'suit'\n",
      "  real_value = 'suit'\n",
      "  col = 'id'\n",
      "  real_value = 'id'\n",
      "  col = 'tipo'\n",
      "  real_value = 'tipo'\n",
      "  col = 'target'\n",
      "  real_value = 'target'\n",
      "=======================\n",
      "metric_name = 'duplicity'\n",
      "  col = '_pk'\n",
      "  real_value = ['id']\n",
      "=======================\n",
      "metric_name = 'teste'\n",
      "=======================\n",
      "metric_name = 'mean'\n",
      "  col = 'sepal_width'\n",
      "  real_value = 'sepal_width'\n",
      "  col = 'petal_length'\n",
      "  real_value = 'petal_length'\n",
      "  col = 'sepal_length'\n",
      "  real_value = 'sepal_length'\n",
      "=======================\n"
     ]
    }
   ],
   "source": [
    "struct_columns_metrics = defaultdict(dict[str, str])\n",
    "\n",
    "for metric_name, columns in metrics_map['column'].items():\n",
    "    print(f\"{metric_name = }\")\n",
    "    for col in columns:\n",
    "        print(f\"  {col = }\")\n",
    "        # metric_id = MetricName.__getitem__(metric_name)\n",
    "        Metric = MetricBase.get_metric(metric_name)\n",
    "        real_value = col\n",
    "        if col == \"_pk\":\n",
    "            real_value = config['metrics']['keys']['names']\n",
    "        print(f\"  {real_value = }\")\n",
    "        measure = Metric(df, real_value)\n",
    "        struct_columns_metrics[col][metric_name] = measure\n",
    "    print(\"=======================\")"
   ]
  },
  {
   "cell_type": "code",
   "execution_count": 147,
   "metadata": {},
   "outputs": [
    {
     "data": {
      "text/plain": [
       "defaultdict(dict[str, str],\n",
       "            {'suit': {'missing': 2},\n",
       "             'id': {'missing': 0},\n",
       "             'tipo': {'missing': 0},\n",
       "             'target': {'missing': 0},\n",
       "             '_pk': {'duplicity': 1},\n",
       "             'sepal_width': {'mean': 3.0573333333333332},\n",
       "             'petal_length': {'mean': 3.7579999999999996},\n",
       "             'sepal_length': {'mean': 5.843333333333334}})"
      ]
     },
     "execution_count": 147,
     "metadata": {},
     "output_type": "execute_result"
    }
   ],
   "source": [
    "struct_columns_metrics"
   ]
  },
  {
   "cell_type": "code",
   "execution_count": 149,
   "metadata": {},
   "outputs": [],
   "source": [
    "template = {item: None for item in all_metrics}\n",
    "final = {}\n",
    "\n",
    "for key, value in struct_columns_metrics.items():\n",
    "    final[key] = template.copy() | value"
   ]
  },
  {
   "cell_type": "code",
   "execution_count": 150,
   "metadata": {},
   "outputs": [
    {
     "name": "stdout",
     "output_type": "stream",
     "text": [
      "{'_pk': {'duplicity': 1,\n",
      "         'mean': None,\n",
      "         'missing': None,\n",
      "         'teste': None,\n",
      "         'volumetry': None},\n",
      " 'id': {'duplicity': None,\n",
      "        'mean': None,\n",
      "        'missing': 0,\n",
      "        'teste': None,\n",
      "        'volumetry': None},\n",
      " 'petal_length': {'duplicity': None,\n",
      "                  'mean': 3.7579999999999996,\n",
      "                  'missing': None,\n",
      "                  'teste': None,\n",
      "                  'volumetry': None},\n",
      " 'sepal_length': {'duplicity': None,\n",
      "                  'mean': 5.843333333333334,\n",
      "                  'missing': None,\n",
      "                  'teste': None,\n",
      "                  'volumetry': None},\n",
      " 'sepal_width': {'duplicity': None,\n",
      "                 'mean': 3.0573333333333332,\n",
      "                 'missing': None,\n",
      "                 'teste': None,\n",
      "                 'volumetry': None},\n",
      " 'suit': {'duplicity': None,\n",
      "          'mean': None,\n",
      "          'missing': 2,\n",
      "          'teste': None,\n",
      "          'volumetry': None},\n",
      " 'target': {'duplicity': None,\n",
      "            'mean': None,\n",
      "            'missing': 0,\n",
      "            'teste': None,\n",
      "            'volumetry': None},\n",
      " 'tipo': {'duplicity': None,\n",
      "          'mean': None,\n",
      "          'missing': 0,\n",
      "          'teste': None,\n",
      "          'volumetry': None}}\n"
     ]
    }
   ],
   "source": [
    "pprint(final)"
   ]
  },
  {
   "cell_type": "code",
   "execution_count": 151,
   "metadata": {},
   "outputs": [],
   "source": [
    "dfp_final = pd.DataFrame.from_dict(final, orient=\"index\")\n",
    "dfp_final = dfp_final.reset_index()\n",
    "dfp_final = dfp_final.rename({\"index\": \"columns\"}, axis=1)"
   ]
  },
  {
   "cell_type": "code",
   "execution_count": 152,
   "metadata": {},
   "outputs": [
    {
     "data": {
      "text/html": [
       "<div>\n",
       "<style scoped>\n",
       "    .dataframe tbody tr th:only-of-type {\n",
       "        vertical-align: middle;\n",
       "    }\n",
       "\n",
       "    .dataframe tbody tr th {\n",
       "        vertical-align: top;\n",
       "    }\n",
       "\n",
       "    .dataframe thead th {\n",
       "        text-align: right;\n",
       "    }\n",
       "</style>\n",
       "<table border=\"1\" class=\"dataframe\">\n",
       "  <thead>\n",
       "    <tr style=\"text-align: right;\">\n",
       "      <th></th>\n",
       "      <th>columns</th>\n",
       "      <th>missing</th>\n",
       "      <th>volumetry</th>\n",
       "      <th>mean</th>\n",
       "      <th>duplicity</th>\n",
       "      <th>teste</th>\n",
       "    </tr>\n",
       "  </thead>\n",
       "  <tbody>\n",
       "    <tr>\n",
       "      <th>0</th>\n",
       "      <td>suit</td>\n",
       "      <td>2.0</td>\n",
       "      <td>None</td>\n",
       "      <td>NaN</td>\n",
       "      <td>NaN</td>\n",
       "      <td>None</td>\n",
       "    </tr>\n",
       "    <tr>\n",
       "      <th>1</th>\n",
       "      <td>id</td>\n",
       "      <td>0.0</td>\n",
       "      <td>None</td>\n",
       "      <td>NaN</td>\n",
       "      <td>NaN</td>\n",
       "      <td>None</td>\n",
       "    </tr>\n",
       "    <tr>\n",
       "      <th>2</th>\n",
       "      <td>tipo</td>\n",
       "      <td>0.0</td>\n",
       "      <td>None</td>\n",
       "      <td>NaN</td>\n",
       "      <td>NaN</td>\n",
       "      <td>None</td>\n",
       "    </tr>\n",
       "    <tr>\n",
       "      <th>3</th>\n",
       "      <td>target</td>\n",
       "      <td>0.0</td>\n",
       "      <td>None</td>\n",
       "      <td>NaN</td>\n",
       "      <td>NaN</td>\n",
       "      <td>None</td>\n",
       "    </tr>\n",
       "    <tr>\n",
       "      <th>4</th>\n",
       "      <td>_pk</td>\n",
       "      <td>NaN</td>\n",
       "      <td>None</td>\n",
       "      <td>NaN</td>\n",
       "      <td>1.0</td>\n",
       "      <td>None</td>\n",
       "    </tr>\n",
       "    <tr>\n",
       "      <th>5</th>\n",
       "      <td>sepal_width</td>\n",
       "      <td>NaN</td>\n",
       "      <td>None</td>\n",
       "      <td>3.057333</td>\n",
       "      <td>NaN</td>\n",
       "      <td>None</td>\n",
       "    </tr>\n",
       "    <tr>\n",
       "      <th>6</th>\n",
       "      <td>petal_length</td>\n",
       "      <td>NaN</td>\n",
       "      <td>None</td>\n",
       "      <td>3.758000</td>\n",
       "      <td>NaN</td>\n",
       "      <td>None</td>\n",
       "    </tr>\n",
       "    <tr>\n",
       "      <th>7</th>\n",
       "      <td>sepal_length</td>\n",
       "      <td>NaN</td>\n",
       "      <td>None</td>\n",
       "      <td>5.843333</td>\n",
       "      <td>NaN</td>\n",
       "      <td>None</td>\n",
       "    </tr>\n",
       "  </tbody>\n",
       "</table>\n",
       "</div>"
      ],
      "text/plain": [
       "        columns  missing volumetry      mean  duplicity teste\n",
       "0          suit      2.0      None       NaN        NaN  None\n",
       "1            id      0.0      None       NaN        NaN  None\n",
       "2          tipo      0.0      None       NaN        NaN  None\n",
       "3        target      0.0      None       NaN        NaN  None\n",
       "4           _pk      NaN      None       NaN        1.0  None\n",
       "5   sepal_width      NaN      None  3.057333        NaN  None\n",
       "6  petal_length      NaN      None  3.758000        NaN  None\n",
       "7  sepal_length      NaN      None  5.843333        NaN  None"
      ]
     },
     "execution_count": 152,
     "metadata": {},
     "output_type": "execute_result"
    }
   ],
   "source": [
    "dfp_final.head(10)"
   ]
  },
  {
   "cell_type": "code",
   "execution_count": 153,
   "metadata": {},
   "outputs": [],
   "source": [
    "df_final = spark.createDataFrame(dfp_final)"
   ]
  },
  {
   "cell_type": "code",
   "execution_count": 154,
   "metadata": {},
   "outputs": [
    {
     "name": "stdout",
     "output_type": "stream",
     "text": [
      "+------------+-------+---------+------------------+---------+-----+\n",
      "|     columns|missing|volumetry|              mean|duplicity|teste|\n",
      "+------------+-------+---------+------------------+---------+-----+\n",
      "|        suit|    2.0|     null|              null|     null| null|\n",
      "|          id|    0.0|     null|              null|     null| null|\n",
      "|        tipo|    0.0|     null|              null|     null| null|\n",
      "|      target|    0.0|     null|              null|     null| null|\n",
      "|         _pk|   null|     null|              null|      1.0| null|\n",
      "| sepal_width|   null|     null|3.0573333333333332|     null| null|\n",
      "|petal_length|   null|     null|3.7579999999999996|     null| null|\n",
      "|sepal_length|   null|     null| 5.843333333333334|     null| null|\n",
      "+------------+-------+---------+------------------+---------+-----+\n",
      "\n"
     ]
    }
   ],
   "source": [
    "df_final.show(10)"
   ]
  },
  {
   "cell_type": "code",
   "execution_count": 156,
   "metadata": {},
   "outputs": [
    {
     "data": {
      "text/plain": [
       "'duplicity'"
      ]
     },
     "execution_count": 156,
     "metadata": {},
     "output_type": "execute_result"
    }
   ],
   "source": [
    "ColumnDuplicity.name"
   ]
  },
  {
   "cell_type": "markdown",
   "metadata": {},
   "source": [
    "## Measures"
   ]
  },
  {
   "cell_type": "code",
   "execution_count": 157,
   "metadata": {},
   "outputs": [],
   "source": [
    "# class Descriptor:\n",
    "\n",
    "#     def __set_name__(self, owner,  name):\n",
    "#         self.name = name\n",
    "\n",
    "\n",
    "# class Measure:\n",
    "\n",
    "#     def __init__(self):\n",
    "#         for metric in MetricName.values():\n",
    "#             setattr(self, metric, None)\n",
    "\n",
    "#     def set_attribute(self, attr_name, value):\n",
    "#         if hasattr(self, attr_name):\n",
    "#             setattr(self, attr_name, value)\n",
    "#         else:\n",
    "#             raise AttributeError(f\"Attribute {attr_name} does not exist.\")\n",
    "\n",
    "\n",
    "# class TypedDescriptor:\n",
    "\n",
    "#     def __init__(self, name, data_type):\n",
    "#         self.name = name\n",
    "#         self.data_type = data_type\n",
    "\n",
    "#     def __get__(self, instance, owner):\n",
    "#         if instance is None:\n",
    "#             return self\n",
    "#         return instance.__dict__.get(self.name, None)\n",
    "\n",
    "#     def __set__(self, instance, value):\n",
    "#         if not isinstance(value, self.data_type) and value is not None:\n",
    "#             raise TypeError(f\"Expected {self.data_type.__name__} for {self.name}, got {type(value).__name__}\")\n",
    "#         instance.__dict__[self.name] = value\n",
    "\n",
    "\n",
    "# class DynamicClass:\n",
    "\n",
    "#     def __init__(self):\n",
    "#         for enum_member in MetricName:\n",
    "#             setattr(self.__class__, enum_member.value, TypedDescriptor(enum_member.value, MetricName))\n",
    "#             setattr(self, enum_member.value, None)"
   ]
  },
  {
   "cell_type": "code",
   "execution_count": null,
   "metadata": {},
   "outputs": [],
   "source": [
    "class Measure:\n",
    "\n",
    "    def __init__(self, name: str):\n",
    "        self._name = name\n",
    "        self._metrics: list[MetricBase] = []\n",
    "        for metric in MetricName.values():\n",
    "            setattr(self, metric, None)\n",
    "\n",
    "    def set_attribute(self, attr_name, value):\n",
    "        if hasattr(self, attr_name):\n",
    "            setattr(self, attr_name, value)\n",
    "        else:\n",
    "            raise AttributeError(f\"Attribute {attr_name} does not exist.\")\n",
    "\n",
    "    def add(self, metric: MetricBase):\n",
    "        self._metrics.append(metric)\n",
    "\n",
    "    def run(self, df: DataFrame):\n",
    "        results = [metric() for metric in self._metrics]\n",
    "        "
   ]
  },
  {
   "cell_type": "code",
   "execution_count": 210,
   "metadata": {},
   "outputs": [],
   "source": [
    "m1 = Measure()"
   ]
  },
  {
   "cell_type": "code",
   "execution_count": 214,
   "metadata": {},
   "outputs": [
    {
     "data": {
      "text/plain": [
       "{'missing': 2,\n",
       " 'volumetry': None,\n",
       " 'duplicity': None,\n",
       " 'mean': None,\n",
       " 'teste': None}"
      ]
     },
     "execution_count": 214,
     "metadata": {},
     "output_type": "execute_result"
    }
   ],
   "source": [
    "m1.__dict__"
   ]
  },
  {
   "cell_type": "code",
   "execution_count": 212,
   "metadata": {},
   "outputs": [],
   "source": [
    "# m1.missing = 1\n",
    "# m1.set_attribute(\"missing\", 2)"
   ]
  },
  {
   "cell_type": "code",
   "execution_count": 215,
   "metadata": {},
   "outputs": [
    {
     "data": {
      "text/plain": [
       "{'table': {'volumetry': ['table']},\n",
       " 'column': {'missing': ['suit', 'id', 'tipo', 'target'],\n",
       "  'duplicity': ['_pk'],\n",
       "  'teste': [],\n",
       "  'mean': ['sepal_width', 'petal_length', 'sepal_length']}}"
      ]
     },
     "execution_count": 215,
     "metadata": {},
     "output_type": "execute_result"
    }
   ],
   "source": [
    "metrics_map"
   ]
  },
  {
   "cell_type": "code",
   "execution_count": null,
   "metadata": {},
   "outputs": [],
   "source": [
    "struct_columns_metrics = defaultdict(dict[str, str])\n",
    "\n",
    "\n",
    "for metric_name, columns in metrics_map['column'].items():\n",
    "    for col in columns:\n",
    "        Metric = MetricBase.get_metric(metric_name)\n",
    "\n",
    "        real_value = col\n",
    "        if col == \"_pk\":\n",
    "            real_value = config['metrics']['keys']['names']\n",
    "\n",
    "        measure = Metric(df, real_value)\n",
    "\n",
    "\n",
    "        struct_columns_metrics[col][metric_name] = measure\n"
   ]
  },
  {
   "cell_type": "code",
   "execution_count": 204,
   "metadata": {},
   "outputs": [],
   "source": []
  },
  {
   "cell_type": "code",
   "execution_count": 205,
   "metadata": {},
   "outputs": [],
   "source": []
  },
  {
   "cell_type": "code",
   "execution_count": null,
   "metadata": {},
   "outputs": [],
   "source": []
  },
  {
   "cell_type": "code",
   "execution_count": null,
   "metadata": {},
   "outputs": [],
   "source": []
  },
  {
   "cell_type": "code",
   "execution_count": null,
   "metadata": {},
   "outputs": [],
   "source": []
  }
 ],
 "metadata": {
  "kernelspec": {
   "display_name": "itau",
   "language": "python",
   "name": "python3"
  },
  "language_info": {
   "codemirror_mode": {
    "name": "ipython",
    "version": 3
   },
   "file_extension": ".py",
   "mimetype": "text/x-python",
   "name": "python",
   "nbconvert_exporter": "python",
   "pygments_lexer": "ipython3",
   "version": "3.10.0"
  }
 },
 "nbformat": 4,
 "nbformat_minor": 2
}
