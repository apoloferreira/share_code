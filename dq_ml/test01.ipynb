{
 "cells": [
  {
   "cell_type": "code",
   "execution_count": 46,
   "metadata": {},
   "outputs": [],
   "source": [
    "import yaml\n",
    "import json\n",
    "from enum import Enum\n",
    "from pydantic import (\n",
    "    BaseModel,\n",
    "    ValidationError,\n",
    "    field_validator,\n",
    "    field_serializer,\n",
    "    model_validator,\n",
    "    computed_field,\n",
    "    ValidatorFunctionWrapHandler,\n",
    "    ValidationInfo,\n",
    "    Field,\n",
    "    ConfigDict,\n",
    ")"
   ]
  },
  {
   "cell_type": "code",
   "execution_count": 55,
   "metadata": {},
   "outputs": [],
   "source": [
    "file_path = \"mrm.yaml\""
   ]
  },
  {
   "cell_type": "code",
   "execution_count": 56,
   "metadata": {},
   "outputs": [],
   "source": [
    "with open(file_path) as f:\n",
    "    config = yaml.safe_load(f)"
   ]
  },
  {
   "cell_type": "code",
   "execution_count": 57,
   "metadata": {},
   "outputs": [
    {
     "data": {
      "text/plain": [
       "{'reference': {'database': 'workspace_db',\n",
       "  'table': 'tb_spec_dataset',\n",
       "  'train_data': {'start': 202001, 'end': 202212}},\n",
       " 'metrics': {'keys': {'names': ['pk_1', 'pk_2'],\n",
       "   'together': ['duplicidade'],\n",
       "   'individual': {'pk_1': ['ausencia'], 'pk_2': ['ausencia']}},\n",
       "  'features': {'numerigcal': {'col_a': ['media', 'moda', 'variancia'],\n",
       "    'col_b': ['media'],\n",
       "    'col_c': ['moda']},\n",
       "   'categorical': {'col_d': ['ausencia']}},\n",
       "  'target': 'target_name'}}"
      ]
     },
     "execution_count": 57,
     "metadata": {},
     "output_type": "execute_result"
    }
   ],
   "source": [
    "config"
   ]
  },
  {
   "cell_type": "code",
   "execution_count": 58,
   "metadata": {},
   "outputs": [],
   "source": [
    "class ColumnMetrics(Enum):\n",
    "    AUSENCIA = \"ausencia\"\n",
    "    MEDIA = \"media\"\n",
    "    MEDIANA = \"mediana\"\n",
    "    MODA = \"moda\"\n",
    "    VARIANCIA = \"variancia\"\n",
    "    DESVIO_PADRAO = \"desvio_padrao\""
   ]
  },
  {
   "cell_type": "code",
   "execution_count": 59,
   "metadata": {},
   "outputs": [],
   "source": [
    "class ReferenceTrainData(BaseModel):\n",
    "    start: int\n",
    "    end: int\n",
    "\n",
    "\n",
    "class SettingsReference(BaseModel):\n",
    "    database: str\n",
    "    table: str\n",
    "    train_data: ReferenceTrainData\n",
    "\n",
    "\n",
    "class MetricsKeys(BaseModel):\n",
    "    names: list\n",
    "    together: list\n",
    "    individual: dict[str, list]\n",
    "\n",
    "\n",
    "class MetricsFeature(BaseModel):\n",
    "    numerigcal: dict[str, list[ColumnMetrics]]\n",
    "    categorical: dict[str, list[ColumnMetrics]]\n",
    "\n",
    "\n",
    "class SettingsMetrics(BaseModel):\n",
    "    keys: MetricsKeys\n",
    "    features: MetricsFeature\n",
    "    target: str\n",
    "\n",
    "\n",
    "class Settings(BaseModel):\n",
    "    reference: SettingsReference\n",
    "    metrics: SettingsMetrics"
   ]
  },
  {
   "cell_type": "code",
   "execution_count": 60,
   "metadata": {},
   "outputs": [
    {
     "data": {
      "text/plain": [
       "Settings(reference=SettingsReference(database='workspace_db', table='tb_spec_dataset', train_data=ReferenceTrainData(start=202001, end=202212)), metrics=SettingsMetrics(keys=MetricsKeys(names=['pk_1', 'pk_2'], together=['duplicidade'], individual={'pk_1': ['ausencia'], 'pk_2': ['ausencia']}), features=MetricsFeature(numerigcal={'col_a': [<ColumnMetrics.MEDIA: 'media'>, <ColumnMetrics.MODA: 'moda'>, <ColumnMetrics.VARIANCIA: 'variancia'>], 'col_b': [<ColumnMetrics.MEDIA: 'media'>], 'col_c': [<ColumnMetrics.MODA: 'moda'>]}, categorical={'col_d': [<ColumnMetrics.AUSENCIA: 'ausencia'>]}), target='target_name'))"
      ]
     },
     "execution_count": 60,
     "metadata": {},
     "output_type": "execute_result"
    }
   ],
   "source": [
    "try:\n",
    "    settings = Settings.model_validate(config)\n",
    "except ValidationError as e:\n",
    "    settings = None\n",
    "    print(e)\n",
    "\n",
    "settings"
   ]
  },
  {
   "cell_type": "code",
   "execution_count": 61,
   "metadata": {},
   "outputs": [
    {
     "data": {
      "text/plain": [
       "202212"
      ]
     },
     "execution_count": 61,
     "metadata": {},
     "output_type": "execute_result"
    }
   ],
   "source": [
    "settings.reference.train_data.end"
   ]
  },
  {
   "cell_type": "code",
   "execution_count": 62,
   "metadata": {},
   "outputs": [
    {
     "data": {
      "text/plain": [
       "[<ColumnMetrics.MEDIA: 'media'>,\n",
       " <ColumnMetrics.MODA: 'moda'>,\n",
       " <ColumnMetrics.VARIANCIA: 'variancia'>]"
      ]
     },
     "execution_count": 62,
     "metadata": {},
     "output_type": "execute_result"
    }
   ],
   "source": [
    "settings.metrics.features.numerigcal['col_a']"
   ]
  },
  {
   "cell_type": "code",
   "execution_count": null,
   "metadata": {},
   "outputs": [],
   "source": []
  },
  {
   "cell_type": "code",
   "execution_count": null,
   "metadata": {},
   "outputs": [],
   "source": []
  },
  {
   "cell_type": "code",
   "execution_count": null,
   "metadata": {},
   "outputs": [],
   "source": []
  },
  {
   "cell_type": "code",
   "execution_count": null,
   "metadata": {},
   "outputs": [],
   "source": []
  }
 ],
 "metadata": {
  "kernelspec": {
   "display_name": "itau",
   "language": "python",
   "name": "python3"
  },
  "language_info": {
   "codemirror_mode": {
    "name": "ipython",
    "version": 3
   },
   "file_extension": ".py",
   "mimetype": "text/x-python",
   "name": "python",
   "nbconvert_exporter": "python",
   "pygments_lexer": "ipython3",
   "version": "3.10.14"
  }
 },
 "nbformat": 4,
 "nbformat_minor": 2
}
