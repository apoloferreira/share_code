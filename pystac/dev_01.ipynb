{
 "cells": [
  {
   "cell_type": "code",
   "execution_count": 1,
   "metadata": {},
   "outputs": [],
   "source": [
    "# geo libraries\n",
    "import geopandas as gpd\n",
    "import pandas as pd\n",
    "import pystac_client\n",
    "import shapely\n",
    "from shapely import geometry, wkt\n",
    "import leafmap\n",
    "import rasterio\n",
    "from rasterio.plot import show\n",
    "import rioxarray\n",
    "\n",
    "# other libraries\n",
    "import os\n",
    "import numpy as np\n",
    "import pandas as pd\n",
    "import matplotlib.pyplot as plt\n",
    "import warnings\n",
    "from IPython.display import JSON"
   ]
  },
  {
   "cell_type": "code",
   "execution_count": 2,
   "metadata": {},
   "outputs": [
    {
     "data": {
      "text/plain": [
       "'/home/apolo/anaconda3/envs/geospatial/lib/python3.11/site-packages/pyproj/proj_dir/share/proj'"
      ]
     },
     "execution_count": 2,
     "metadata": {},
     "output_type": "execute_result"
    }
   ],
   "source": [
    "import pyproj\n",
    "pyproj.datadir.get_data_dir()"
   ]
  },
  {
   "cell_type": "code",
   "execution_count": 3,
   "metadata": {},
   "outputs": [],
   "source": [
    "coords = [\n",
    "    [-102.00723310488662,40.596123257503024],\n",
    "    [-102.00723310488662,40.58168585757733],\n",
    "    [-101.9882214495914,40.58168585757733],\n",
    "    [-101.9882214495914,40.596123257503024],\n",
    "    [-102.00723310488662,40.596123257503024]\n",
    "]\n",
    "\n",
    "polgyon = shapely.Polygon(coords)"
   ]
  },
  {
   "cell_type": "code",
   "execution_count": 4,
   "metadata": {},
   "outputs": [],
   "source": [
    "aoi_gdf = gpd.GeoDataFrame(index=[0], crs='epsg:4326', geometry=[polgyon])"
   ]
  },
  {
   "cell_type": "code",
   "execution_count": 29,
   "metadata": {},
   "outputs": [],
   "source": [
    "Map = leafmap.Map(center=[40.596123257503024, -102.00723310488662], zoom=13)\n",
    "Map.add_basemap(\"USGS NAIP Imagery\")\n",
    "Map.add_gdf(aoi_gdf, layer_name=\"test\", style={\"color\": \"yellow\", \"fillOpacity\": 0.1, \"clickable\": True})"
   ]
  },
  {
   "cell_type": "code",
   "execution_count": 30,
   "metadata": {},
   "outputs": [
    {
     "data": {
      "application/vnd.jupyter.widget-view+json": {
       "model_id": "c948c122f2af4ffaa5da7d8cc55a5881",
       "version_major": 2,
       "version_minor": 0
      },
      "text/plain": [
       "Map(center=[40.596123257503024, -102.00723310488662], controls=(ZoomControl(options=['position', 'zoom_in_text…"
      ]
     },
     "execution_count": 30,
     "metadata": {},
     "output_type": "execute_result"
    }
   ],
   "source": [
    "Map"
   ]
  },
  {
   "cell_type": "code",
   "execution_count": 6,
   "metadata": {},
   "outputs": [],
   "source": [
    "def search_sentinel2_collection(start_date, end_date, aoi_geometry, max_cloud=100):\n",
    "    \"\"\"\n",
    "    Search Sentinel 2 data collection for target_date\n",
    "    and collect results including meta data in a dictionary.\n",
    "    This function uses the PySTAC client\n",
    "    \"\"\"\n",
    "    client = pystac_client.Client.open(\"https://earth-search.aws.element84.com/v1\")\n",
    "    collection = \"sentinel-2-l2a\"\n",
    "    \n",
    "    search = client.search(\n",
    "        collections=[collection],\n",
    "        query = {\"eo:cloud_cover\": {\"lt\": max_cloud}},\n",
    "        intersects=aoi_geometry.to_crs(\"EPSG:4326\").geometry[0].__geo_interface__,\n",
    "        datetime=f\"{start_date}/{end_date}\"\n",
    "    )\n",
    "    \n",
    "    s2_items = []\n",
    "    for item in search.items_as_dicts():\n",
    "        s2_items.append(item)\n",
    "        \n",
    "    return s2_items"
   ]
  },
  {
   "cell_type": "code",
   "execution_count": 8,
   "metadata": {},
   "outputs": [],
   "source": [
    "# search parameters\n",
    "analysis_start_date=pd.to_datetime(\"2024-07-01T00:00:00Z\").date()\n",
    "analysis_end_date=pd.to_datetime(\"2024-07-31T00:00:00Z\").date()\n",
    "aoi_geometry = aoi_gdf.geometry\n",
    "max_cloud=5"
   ]
  },
  {
   "cell_type": "code",
   "execution_count": 31,
   "metadata": {},
   "outputs": [
    {
     "data": {
      "text/html": [
       "<div>\n",
       "<style scoped>\n",
       "    .dataframe tbody tr th:only-of-type {\n",
       "        vertical-align: middle;\n",
       "    }\n",
       "\n",
       "    .dataframe tbody tr th {\n",
       "        vertical-align: top;\n",
       "    }\n",
       "\n",
       "    .dataframe thead th {\n",
       "        text-align: right;\n",
       "    }\n",
       "</style>\n",
       "<table border=\"1\" class=\"dataframe\">\n",
       "  <thead>\n",
       "    <tr style=\"text-align: right;\">\n",
       "      <th></th>\n",
       "      <th>geometry</th>\n",
       "    </tr>\n",
       "  </thead>\n",
       "  <tbody>\n",
       "    <tr>\n",
       "      <th>0</th>\n",
       "      <td>POLYGON ((-102.00723 40.59612, -102.00723 40.5...</td>\n",
       "    </tr>\n",
       "  </tbody>\n",
       "</table>\n",
       "</div>"
      ],
      "text/plain": [
       "                                            geometry\n",
       "0  POLYGON ((-102.00723 40.59612, -102.00723 40.5..."
      ]
     },
     "execution_count": 31,
     "metadata": {},
     "output_type": "execute_result"
    }
   ],
   "source": [
    "aoi_gdf"
   ]
  },
  {
   "cell_type": "code",
   "execution_count": 35,
   "metadata": {},
   "outputs": [
    {
     "data": {
      "text/plain": [
       "0    POLYGON ((-102.00723 40.59612, -102.00723 40.5...\n",
       "Name: geometry, dtype: geometry"
      ]
     },
     "execution_count": 35,
     "metadata": {},
     "output_type": "execute_result"
    }
   ],
   "source": [
    "aoi_gdf.geometry.to_crs(\"EPSG:4326\").geometry"
   ]
  },
  {
   "cell_type": "code",
   "execution_count": 24,
   "metadata": {},
   "outputs": [
    {
     "data": {
      "text/plain": [
       "{'type': 'Polygon',\n",
       " 'coordinates': (((-102.00723310488662, 40.596123257503024),\n",
       "   (-102.00723310488662, 40.58168585757733),\n",
       "   (-101.9882214495914, 40.58168585757733),\n",
       "   (-101.9882214495914, 40.596123257503024),\n",
       "   (-102.00723310488662, 40.596123257503024)),)}"
      ]
     },
     "execution_count": 24,
     "metadata": {},
     "output_type": "execute_result"
    }
   ],
   "source": [
    "aoi_gdf.geometry.to_crs(\"EPSG:4326\").geometry[0].__geo_interface__"
   ]
  },
  {
   "cell_type": "code",
   "execution_count": 8,
   "metadata": {},
   "outputs": [],
   "source": [
    "sentinel2_items = search_sentinel2_collection(\n",
    "    start_date=analysis_start_date,\n",
    "    end_date=analysis_end_date,\n",
    "    aoi_geometry = aoi_geometry,\n",
    "    max_cloud=max_cloud\n",
    ")"
   ]
  },
  {
   "cell_type": "code",
   "execution_count": null,
   "metadata": {},
   "outputs": [],
   "source": [
    "JSON(sentinel2_items)"
   ]
  },
  {
   "cell_type": "code",
   "execution_count": null,
   "metadata": {},
   "outputs": [],
   "source": [
    "thumbnail_path = sentinel2_items[-1][\"assets\"][\"thumbnail\"][\"href\"]\n",
    "print(thumbnail_path)"
   ]
  },
  {
   "cell_type": "code",
   "execution_count": null,
   "metadata": {},
   "outputs": [],
   "source": [
    "with warnings.catch_warnings():\n",
    "    warnings.filterwarnings(\"ignore\", category=rasterio.errors.NotGeoreferencedWarning)\n",
    "    src_thumbnail = rasterio.open(thumbnail_path)\n",
    "\n",
    "\n",
    "fig = plt.figure(figsize=(5, 5))\n",
    "ax = fig.add_subplot(1, 1, 1)\n",
    "show(src_thumbnail, ax=ax)\n",
    "plt.show()"
   ]
  },
  {
   "cell_type": "code",
   "execution_count": null,
   "metadata": {},
   "outputs": [],
   "source": []
  },
  {
   "cell_type": "code",
   "execution_count": null,
   "metadata": {},
   "outputs": [],
   "source": []
  }
 ],
 "metadata": {
  "kernelspec": {
   "display_name": "geospatial",
   "language": "python",
   "name": "python3"
  },
  "language_info": {
   "codemirror_mode": {
    "name": "ipython",
    "version": 3
   },
   "file_extension": ".py",
   "mimetype": "text/x-python",
   "name": "python",
   "nbconvert_exporter": "python",
   "pygments_lexer": "ipython3",
   "version": "3.11.11"
  }
 },
 "nbformat": 4,
 "nbformat_minor": 2
}
