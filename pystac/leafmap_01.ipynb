{
 "cells": [
  {
   "cell_type": "code",
   "execution_count": 26,
   "metadata": {},
   "outputs": [],
   "source": [
    "import os\n",
    "import leafmap\n",
    "\n",
    "# import leafmap.foliumap as leafmap"
   ]
  },
  {
   "cell_type": "code",
   "execution_count": 3,
   "metadata": {},
   "outputs": [],
   "source": [
    "before = \"https://github.com/opengeos/datasets/releases/download/raster/Libya-2023-07-01.tif\"\n",
    "after = \"https://github.com/opengeos/datasets/releases/download/raster/Libya-2023-09-13.tif\""
   ]
  },
  {
   "cell_type": "code",
   "execution_count": 27,
   "metadata": {},
   "outputs": [],
   "source": [
    "m = leafmap.Map()"
   ]
  },
  {
   "cell_type": "code",
   "execution_count": 28,
   "metadata": {},
   "outputs": [
    {
     "data": {
      "text/plain": [
       "[22.599490732206565, 32.75052266794987, 22.65706605051743, 32.79916288270382]"
      ]
     },
     "execution_count": 28,
     "metadata": {},
     "output_type": "execute_result"
    }
   ],
   "source": [
    "leafmap.cog_bounds(before)"
   ]
  },
  {
   "cell_type": "code",
   "execution_count": 30,
   "metadata": {},
   "outputs": [],
   "source": [
    "m.add_cog_layer(before, name=\"Fire (pre-event)\")"
   ]
  },
  {
   "cell_type": "code",
   "execution_count": 31,
   "metadata": {},
   "outputs": [
    {
     "data": {
      "application/vnd.jupyter.widget-view+json": {
       "model_id": "549407e497ed442fa6d52baa5916815b",
       "version_major": 2,
       "version_minor": 0
      },
      "text/plain": [
       "Map(bottom=211756.0, center=[32.84267363195431, 22.5], controls=(ZoomControl(options=['position', 'zoom_in_tex…"
      ]
     },
     "execution_count": 31,
     "metadata": {},
     "output_type": "execute_result"
    }
   ],
   "source": [
    "m"
   ]
  },
  {
   "cell_type": "code",
   "execution_count": null,
   "metadata": {},
   "outputs": [],
   "source": []
  },
  {
   "cell_type": "code",
   "execution_count": 32,
   "metadata": {},
   "outputs": [
    {
     "data": {
      "application/vnd.jupyter.widget-view+json": {
       "model_id": "76bc22ba09924f31b656a66e7c5b86e4",
       "version_major": 2,
       "version_minor": 0
      },
      "text/plain": [
       "Map(center=[20, 0], controls=(ZoomControl(options=['position', 'zoom_in_text', 'zoom_in_title', 'zoom_out_text…"
      ]
     },
     "execution_count": 32,
     "metadata": {},
     "output_type": "execute_result"
    }
   ],
   "source": [
    "url = \"https://clarkcga-aquaculture.s3.amazonaws.com/data/el_salvador/cover/El_Salvador_Landcover_2022.tif\"\n",
    "custom_cmap = {\n",
    "    \"0\": \"#000000\",\n",
    "    \"1\": \"#008040\",\n",
    "    \"2\": \"#ff0000\",\n",
    "    \"3\": \"#ffff00\",\n",
    "    \"4\": \"#8000ff\",\n",
    "    \"5\": \"#8080ff\",\n",
    "    \"6\": \"#00ff00\",\n",
    "    \"7\": \"#c0c0c0\",\n",
    "    \"8\": \"#16002d\",\n",
    "    \"9\": \"#ff80ff\",\n",
    "    \"10\": \"#b3ffb3\",\n",
    "    \"11\": \"#ff8080\",\n",
    "    \"12\": \"#ffffbf\",\n",
    "    \"13\": \"#000080\",\n",
    "    \"14\": \"#808000\",\n",
    "    \"15\": \"#00ffff\",\n",
    "}\n",
    "m = leafmap.Map()\n",
    "m.add_cog_layer(url, colormap=custom_cmap, name=\"El_Salvador\")\n",
    "m"
   ]
  },
  {
   "cell_type": "code",
   "execution_count": null,
   "metadata": {},
   "outputs": [],
   "source": []
  }
 ],
 "metadata": {
  "kernelspec": {
   "display_name": "geospatial",
   "language": "python",
   "name": "python3"
  },
  "language_info": {
   "codemirror_mode": {
    "name": "ipython",
    "version": 3
   },
   "file_extension": ".py",
   "mimetype": "text/x-python",
   "name": "python",
   "nbconvert_exporter": "python",
   "pygments_lexer": "ipython3",
   "version": "3.11.10"
  }
 },
 "nbformat": 4,
 "nbformat_minor": 2
}
